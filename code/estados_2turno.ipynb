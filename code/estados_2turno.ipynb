{
  "nbformat": 4,
  "nbformat_minor": 0,
  "metadata": {
    "colab": {
      "provenance": []
    },
    "kernelspec": {
      "name": "python3",
      "display_name": "Python 3"
    },
    "language_info": {
      "name": "python"
    }
  },
  "cells": [
    {
      "cell_type": "markdown",
      "source": [
        "# Importação dos módulos e dataframe base"
      ],
      "metadata": {
        "id": "LxVJkfpNMN_k"
      }
    },
    {
      "cell_type": "code",
      "execution_count": null,
      "metadata": {
        "id": "NjvTZdlOMGwq"
      },
      "outputs": [],
      "source": [
        "import numpy as np\n",
        "import pandas as pd\n",
        "from google.colab import drive"
      ]
    },
    {
      "cell_type": "code",
      "execution_count": null,
      "metadata": {
        "colab": {
          "base_uri": "https://localhost:8080/"
        },
        "id": "BvGVZruFMaIm",
        "outputId": "0a9a193a-9a71-4c8c-e045-e08c3bb376fa"
      },
      "outputs": [
        {
          "output_type": "stream",
          "name": "stdout",
          "text": [
            "Mounted at /content/gdrive\n"
          ]
        }
      ],
      "source": [
        "drive.mount('/content/gdrive')"
      ]
    },
    {
      "cell_type": "code",
      "execution_count": null,
      "metadata": {
        "id": "qX06dGnBMae0"
      },
      "outputs": [],
      "source": [
        "df = pd.read_csv('/content/gdrive/MyDrive/TCC - Wallynson/perfil_comparecimento_abstencao_2020.csv', encoding = 'latin-1', sep = ';')"
      ]
    },
    {
      "cell_type": "code",
      "execution_count": null,
      "metadata": {
        "id": "_WoZa5Cl28T2"
      },
      "outputs": [],
      "source": [
        "# df_estados_2turno = pd.read_csv('/content/gdrive/MyDrive/TCC - Wallynson/df_estados_2turno_2020.csv')"
      ]
    },
    {
      "cell_type": "code",
      "execution_count": null,
      "metadata": {
        "id": "U65wEmtHn6NY",
        "colab": {
          "base_uri": "https://localhost:8080/"
        },
        "outputId": "64efdefd-1507-4235-8b5e-037b3d681e7b"
      },
      "outputs": [
        {
          "output_type": "execute_result",
          "data": {
            "text/plain": [
              "(4770970, 23)"
            ]
          },
          "metadata": {},
          "execution_count": 5
        }
      ],
      "source": [
        "df.shape"
      ]
    },
    {
      "cell_type": "code",
      "execution_count": null,
      "metadata": {
        "id": "Pp4bOCEkn-i1",
        "colab": {
          "base_uri": "https://localhost:8080/"
        },
        "outputId": "10db25ba-5b1d-4c00-b13a-387a81649ebc"
      },
      "outputs": [
        {
          "output_type": "execute_result",
          "data": {
            "text/plain": [
              "DT_GERACAO                       0.0\n",
              "HH_GERACAO                       0.0\n",
              "ANO_ELEICAO                      0.0\n",
              "NR_TURNO                         0.0\n",
              "SG_UF                            0.0\n",
              "CD_MUNICIPIO                     0.0\n",
              "NM_MUNICIPIO                     0.0\n",
              "NR_ZONA                          0.0\n",
              "CD_GENERO                        0.0\n",
              "DS_GENERO                        0.0\n",
              "CD_ESTADO_CIVIL                  0.0\n",
              "DS_ESTADO_CIVIL                  0.0\n",
              "CD_FAIXA_ETARIA                  0.0\n",
              "DS_FAIXA_ETARIA                  0.0\n",
              "CD_GRAU_ESCOLARIDADE             0.0\n",
              "DS_GRAU_ESCOLARIDADE             0.0\n",
              "QT_APTOS                         0.0\n",
              "QT_COMPARECIMENTO                0.0\n",
              "QT_ABSTENCAO                     0.0\n",
              "QT_COMPARECIMENTO_DEFICIENCIA    0.0\n",
              "QT_ABSTENCAO_DEFICIENCIA         0.0\n",
              "QT_COMPARECIMENTO_TTE            0.0\n",
              "QT_ABSTENCAO_TTE                 0.0\n",
              "dtype: float64"
            ]
          },
          "metadata": {},
          "execution_count": 6
        }
      ],
      "source": [
        "df.isnull().sum() / df.shape[0]"
      ]
    },
    {
      "cell_type": "code",
      "execution_count": null,
      "metadata": {
        "id": "tYxh8iUyoDYG",
        "colab": {
          "base_uri": "https://localhost:8080/",
          "height": 325
        },
        "outputId": "d0aaa456-f4e5-40d2-cb8e-9db770a597f5"
      },
      "outputs": [
        {
          "output_type": "execute_result",
          "data": {
            "text/plain": [
              "   DT_GERACAO HH_GERACAO  ANO_ELEICAO  NR_TURNO SG_UF  CD_MUNICIPIO  \\\n",
              "0  21/12/2020   14:48:46         2020         2    SP         71072   \n",
              "1  21/12/2020   14:48:46         2020         2    SP         71072   \n",
              "2  21/12/2020   14:48:46         2020         2    SP         71072   \n",
              "3  21/12/2020   14:48:46         2020         2    SP         71072   \n",
              "4  21/12/2020   14:48:46         2020         2    SP         71072   \n",
              "\n",
              "  NM_MUNICIPIO  NR_ZONA  CD_GENERO  DS_GENERO  ...  DS_FAIXA_ETARIA  \\\n",
              "0    SÃO PAULO      328          2  MASCULINO  ...     75 a 79 anos   \n",
              "1    SÃO PAULO      328          2  MASCULINO  ...     85 a 89 anos   \n",
              "2    SÃO PAULO      328          2  MASCULINO  ...     95 a 99 anos   \n",
              "3    SÃO PAULO      328          2  MASCULINO  ...     30 a 34 anos   \n",
              "4    SÃO PAULO      328          2  MASCULINO  ...     40 a 44 anos   \n",
              "\n",
              "  CD_GRAU_ESCOLARIDADE           DS_GRAU_ESCOLARIDADE QT_APTOS  \\\n",
              "0                    3  ENSINO FUNDAMENTAL INCOMPLETO      269   \n",
              "1                    3  ENSINO FUNDAMENTAL INCOMPLETO       78   \n",
              "2                    6          ENSINO MÉDIO COMPLETO        2   \n",
              "3                    1                     ANALFABETO        1   \n",
              "4                    5        ENSINO MÉDIO INCOMPLETO        2   \n",
              "\n",
              "   QT_COMPARECIMENTO QT_ABSTENCAO  QT_COMPARECIMENTO_DEFICIENCIA  \\\n",
              "0                 65          204                              3   \n",
              "1                  3           75                              0   \n",
              "2                  0            2                              0   \n",
              "3                  1            0                              0   \n",
              "4                  2            0                              0   \n",
              "\n",
              "   QT_ABSTENCAO_DEFICIENCIA  QT_COMPARECIMENTO_TTE  QT_ABSTENCAO_TTE  \n",
              "0                         6                      3                16  \n",
              "1                         0                      1                 5  \n",
              "2                         0                      0                 0  \n",
              "3                         0                      0                 0  \n",
              "4                         0                      0                 0  \n",
              "\n",
              "[5 rows x 23 columns]"
            ],
            "text/html": [
              "\n",
              "  <div id=\"df-6c361f3f-d7bb-4827-89e2-71c36b43cd7b\" class=\"colab-df-container\">\n",
              "    <div>\n",
              "<style scoped>\n",
              "    .dataframe tbody tr th:only-of-type {\n",
              "        vertical-align: middle;\n",
              "    }\n",
              "\n",
              "    .dataframe tbody tr th {\n",
              "        vertical-align: top;\n",
              "    }\n",
              "\n",
              "    .dataframe thead th {\n",
              "        text-align: right;\n",
              "    }\n",
              "</style>\n",
              "<table border=\"1\" class=\"dataframe\">\n",
              "  <thead>\n",
              "    <tr style=\"text-align: right;\">\n",
              "      <th></th>\n",
              "      <th>DT_GERACAO</th>\n",
              "      <th>HH_GERACAO</th>\n",
              "      <th>ANO_ELEICAO</th>\n",
              "      <th>NR_TURNO</th>\n",
              "      <th>SG_UF</th>\n",
              "      <th>CD_MUNICIPIO</th>\n",
              "      <th>NM_MUNICIPIO</th>\n",
              "      <th>NR_ZONA</th>\n",
              "      <th>CD_GENERO</th>\n",
              "      <th>DS_GENERO</th>\n",
              "      <th>...</th>\n",
              "      <th>DS_FAIXA_ETARIA</th>\n",
              "      <th>CD_GRAU_ESCOLARIDADE</th>\n",
              "      <th>DS_GRAU_ESCOLARIDADE</th>\n",
              "      <th>QT_APTOS</th>\n",
              "      <th>QT_COMPARECIMENTO</th>\n",
              "      <th>QT_ABSTENCAO</th>\n",
              "      <th>QT_COMPARECIMENTO_DEFICIENCIA</th>\n",
              "      <th>QT_ABSTENCAO_DEFICIENCIA</th>\n",
              "      <th>QT_COMPARECIMENTO_TTE</th>\n",
              "      <th>QT_ABSTENCAO_TTE</th>\n",
              "    </tr>\n",
              "  </thead>\n",
              "  <tbody>\n",
              "    <tr>\n",
              "      <th>0</th>\n",
              "      <td>21/12/2020</td>\n",
              "      <td>14:48:46</td>\n",
              "      <td>2020</td>\n",
              "      <td>2</td>\n",
              "      <td>SP</td>\n",
              "      <td>71072</td>\n",
              "      <td>SÃO PAULO</td>\n",
              "      <td>328</td>\n",
              "      <td>2</td>\n",
              "      <td>MASCULINO</td>\n",
              "      <td>...</td>\n",
              "      <td>75 a 79 anos</td>\n",
              "      <td>3</td>\n",
              "      <td>ENSINO FUNDAMENTAL INCOMPLETO</td>\n",
              "      <td>269</td>\n",
              "      <td>65</td>\n",
              "      <td>204</td>\n",
              "      <td>3</td>\n",
              "      <td>6</td>\n",
              "      <td>3</td>\n",
              "      <td>16</td>\n",
              "    </tr>\n",
              "    <tr>\n",
              "      <th>1</th>\n",
              "      <td>21/12/2020</td>\n",
              "      <td>14:48:46</td>\n",
              "      <td>2020</td>\n",
              "      <td>2</td>\n",
              "      <td>SP</td>\n",
              "      <td>71072</td>\n",
              "      <td>SÃO PAULO</td>\n",
              "      <td>328</td>\n",
              "      <td>2</td>\n",
              "      <td>MASCULINO</td>\n",
              "      <td>...</td>\n",
              "      <td>85 a 89 anos</td>\n",
              "      <td>3</td>\n",
              "      <td>ENSINO FUNDAMENTAL INCOMPLETO</td>\n",
              "      <td>78</td>\n",
              "      <td>3</td>\n",
              "      <td>75</td>\n",
              "      <td>0</td>\n",
              "      <td>0</td>\n",
              "      <td>1</td>\n",
              "      <td>5</td>\n",
              "    </tr>\n",
              "    <tr>\n",
              "      <th>2</th>\n",
              "      <td>21/12/2020</td>\n",
              "      <td>14:48:46</td>\n",
              "      <td>2020</td>\n",
              "      <td>2</td>\n",
              "      <td>SP</td>\n",
              "      <td>71072</td>\n",
              "      <td>SÃO PAULO</td>\n",
              "      <td>328</td>\n",
              "      <td>2</td>\n",
              "      <td>MASCULINO</td>\n",
              "      <td>...</td>\n",
              "      <td>95 a 99 anos</td>\n",
              "      <td>6</td>\n",
              "      <td>ENSINO MÉDIO COMPLETO</td>\n",
              "      <td>2</td>\n",
              "      <td>0</td>\n",
              "      <td>2</td>\n",
              "      <td>0</td>\n",
              "      <td>0</td>\n",
              "      <td>0</td>\n",
              "      <td>0</td>\n",
              "    </tr>\n",
              "    <tr>\n",
              "      <th>3</th>\n",
              "      <td>21/12/2020</td>\n",
              "      <td>14:48:46</td>\n",
              "      <td>2020</td>\n",
              "      <td>2</td>\n",
              "      <td>SP</td>\n",
              "      <td>71072</td>\n",
              "      <td>SÃO PAULO</td>\n",
              "      <td>328</td>\n",
              "      <td>2</td>\n",
              "      <td>MASCULINO</td>\n",
              "      <td>...</td>\n",
              "      <td>30 a 34 anos</td>\n",
              "      <td>1</td>\n",
              "      <td>ANALFABETO</td>\n",
              "      <td>1</td>\n",
              "      <td>1</td>\n",
              "      <td>0</td>\n",
              "      <td>0</td>\n",
              "      <td>0</td>\n",
              "      <td>0</td>\n",
              "      <td>0</td>\n",
              "    </tr>\n",
              "    <tr>\n",
              "      <th>4</th>\n",
              "      <td>21/12/2020</td>\n",
              "      <td>14:48:46</td>\n",
              "      <td>2020</td>\n",
              "      <td>2</td>\n",
              "      <td>SP</td>\n",
              "      <td>71072</td>\n",
              "      <td>SÃO PAULO</td>\n",
              "      <td>328</td>\n",
              "      <td>2</td>\n",
              "      <td>MASCULINO</td>\n",
              "      <td>...</td>\n",
              "      <td>40 a 44 anos</td>\n",
              "      <td>5</td>\n",
              "      <td>ENSINO MÉDIO INCOMPLETO</td>\n",
              "      <td>2</td>\n",
              "      <td>2</td>\n",
              "      <td>0</td>\n",
              "      <td>0</td>\n",
              "      <td>0</td>\n",
              "      <td>0</td>\n",
              "      <td>0</td>\n",
              "    </tr>\n",
              "  </tbody>\n",
              "</table>\n",
              "<p>5 rows × 23 columns</p>\n",
              "</div>\n",
              "    <div class=\"colab-df-buttons\">\n",
              "\n",
              "  <div class=\"colab-df-container\">\n",
              "    <button class=\"colab-df-convert\" onclick=\"convertToInteractive('df-6c361f3f-d7bb-4827-89e2-71c36b43cd7b')\"\n",
              "            title=\"Convert this dataframe to an interactive table.\"\n",
              "            style=\"display:none;\">\n",
              "\n",
              "  <svg xmlns=\"http://www.w3.org/2000/svg\" height=\"24px\" viewBox=\"0 -960 960 960\">\n",
              "    <path d=\"M120-120v-720h720v720H120Zm60-500h600v-160H180v160Zm220 220h160v-160H400v160Zm0 220h160v-160H400v160ZM180-400h160v-160H180v160Zm440 0h160v-160H620v160ZM180-180h160v-160H180v160Zm440 0h160v-160H620v160Z\"/>\n",
              "  </svg>\n",
              "    </button>\n",
              "\n",
              "  <style>\n",
              "    .colab-df-container {\n",
              "      display:flex;\n",
              "      gap: 12px;\n",
              "    }\n",
              "\n",
              "    .colab-df-convert {\n",
              "      background-color: #E8F0FE;\n",
              "      border: none;\n",
              "      border-radius: 50%;\n",
              "      cursor: pointer;\n",
              "      display: none;\n",
              "      fill: #1967D2;\n",
              "      height: 32px;\n",
              "      padding: 0 0 0 0;\n",
              "      width: 32px;\n",
              "    }\n",
              "\n",
              "    .colab-df-convert:hover {\n",
              "      background-color: #E2EBFA;\n",
              "      box-shadow: 0px 1px 2px rgba(60, 64, 67, 0.3), 0px 1px 3px 1px rgba(60, 64, 67, 0.15);\n",
              "      fill: #174EA6;\n",
              "    }\n",
              "\n",
              "    .colab-df-buttons div {\n",
              "      margin-bottom: 4px;\n",
              "    }\n",
              "\n",
              "    [theme=dark] .colab-df-convert {\n",
              "      background-color: #3B4455;\n",
              "      fill: #D2E3FC;\n",
              "    }\n",
              "\n",
              "    [theme=dark] .colab-df-convert:hover {\n",
              "      background-color: #434B5C;\n",
              "      box-shadow: 0px 1px 3px 1px rgba(0, 0, 0, 0.15);\n",
              "      filter: drop-shadow(0px 1px 2px rgba(0, 0, 0, 0.3));\n",
              "      fill: #FFFFFF;\n",
              "    }\n",
              "  </style>\n",
              "\n",
              "    <script>\n",
              "      const buttonEl =\n",
              "        document.querySelector('#df-6c361f3f-d7bb-4827-89e2-71c36b43cd7b button.colab-df-convert');\n",
              "      buttonEl.style.display =\n",
              "        google.colab.kernel.accessAllowed ? 'block' : 'none';\n",
              "\n",
              "      async function convertToInteractive(key) {\n",
              "        const element = document.querySelector('#df-6c361f3f-d7bb-4827-89e2-71c36b43cd7b');\n",
              "        const dataTable =\n",
              "          await google.colab.kernel.invokeFunction('convertToInteractive',\n",
              "                                                    [key], {});\n",
              "        if (!dataTable) return;\n",
              "\n",
              "        const docLinkHtml = 'Like what you see? Visit the ' +\n",
              "          '<a target=\"_blank\" href=https://colab.research.google.com/notebooks/data_table.ipynb>data table notebook</a>'\n",
              "          + ' to learn more about interactive tables.';\n",
              "        element.innerHTML = '';\n",
              "        dataTable['output_type'] = 'display_data';\n",
              "        await google.colab.output.renderOutput(dataTable, element);\n",
              "        const docLink = document.createElement('div');\n",
              "        docLink.innerHTML = docLinkHtml;\n",
              "        element.appendChild(docLink);\n",
              "      }\n",
              "    </script>\n",
              "  </div>\n",
              "\n",
              "\n",
              "<div id=\"df-cb270598-fa3c-4b9b-9673-1a5c637d8ecf\">\n",
              "  <button class=\"colab-df-quickchart\" onclick=\"quickchart('df-cb270598-fa3c-4b9b-9673-1a5c637d8ecf')\"\n",
              "            title=\"Suggest charts.\"\n",
              "            style=\"display:none;\">\n",
              "\n",
              "<svg xmlns=\"http://www.w3.org/2000/svg\" height=\"24px\"viewBox=\"0 0 24 24\"\n",
              "     width=\"24px\">\n",
              "    <g>\n",
              "        <path d=\"M19 3H5c-1.1 0-2 .9-2 2v14c0 1.1.9 2 2 2h14c1.1 0 2-.9 2-2V5c0-1.1-.9-2-2-2zM9 17H7v-7h2v7zm4 0h-2V7h2v10zm4 0h-2v-4h2v4z\"/>\n",
              "    </g>\n",
              "</svg>\n",
              "  </button>\n",
              "\n",
              "<style>\n",
              "  .colab-df-quickchart {\n",
              "      --bg-color: #E8F0FE;\n",
              "      --fill-color: #1967D2;\n",
              "      --hover-bg-color: #E2EBFA;\n",
              "      --hover-fill-color: #174EA6;\n",
              "      --disabled-fill-color: #AAA;\n",
              "      --disabled-bg-color: #DDD;\n",
              "  }\n",
              "\n",
              "  [theme=dark] .colab-df-quickchart {\n",
              "      --bg-color: #3B4455;\n",
              "      --fill-color: #D2E3FC;\n",
              "      --hover-bg-color: #434B5C;\n",
              "      --hover-fill-color: #FFFFFF;\n",
              "      --disabled-bg-color: #3B4455;\n",
              "      --disabled-fill-color: #666;\n",
              "  }\n",
              "\n",
              "  .colab-df-quickchart {\n",
              "    background-color: var(--bg-color);\n",
              "    border: none;\n",
              "    border-radius: 50%;\n",
              "    cursor: pointer;\n",
              "    display: none;\n",
              "    fill: var(--fill-color);\n",
              "    height: 32px;\n",
              "    padding: 0;\n",
              "    width: 32px;\n",
              "  }\n",
              "\n",
              "  .colab-df-quickchart:hover {\n",
              "    background-color: var(--hover-bg-color);\n",
              "    box-shadow: 0 1px 2px rgba(60, 64, 67, 0.3), 0 1px 3px 1px rgba(60, 64, 67, 0.15);\n",
              "    fill: var(--button-hover-fill-color);\n",
              "  }\n",
              "\n",
              "  .colab-df-quickchart-complete:disabled,\n",
              "  .colab-df-quickchart-complete:disabled:hover {\n",
              "    background-color: var(--disabled-bg-color);\n",
              "    fill: var(--disabled-fill-color);\n",
              "    box-shadow: none;\n",
              "  }\n",
              "\n",
              "  .colab-df-spinner {\n",
              "    border: 2px solid var(--fill-color);\n",
              "    border-color: transparent;\n",
              "    border-bottom-color: var(--fill-color);\n",
              "    animation:\n",
              "      spin 1s steps(1) infinite;\n",
              "  }\n",
              "\n",
              "  @keyframes spin {\n",
              "    0% {\n",
              "      border-color: transparent;\n",
              "      border-bottom-color: var(--fill-color);\n",
              "      border-left-color: var(--fill-color);\n",
              "    }\n",
              "    20% {\n",
              "      border-color: transparent;\n",
              "      border-left-color: var(--fill-color);\n",
              "      border-top-color: var(--fill-color);\n",
              "    }\n",
              "    30% {\n",
              "      border-color: transparent;\n",
              "      border-left-color: var(--fill-color);\n",
              "      border-top-color: var(--fill-color);\n",
              "      border-right-color: var(--fill-color);\n",
              "    }\n",
              "    40% {\n",
              "      border-color: transparent;\n",
              "      border-right-color: var(--fill-color);\n",
              "      border-top-color: var(--fill-color);\n",
              "    }\n",
              "    60% {\n",
              "      border-color: transparent;\n",
              "      border-right-color: var(--fill-color);\n",
              "    }\n",
              "    80% {\n",
              "      border-color: transparent;\n",
              "      border-right-color: var(--fill-color);\n",
              "      border-bottom-color: var(--fill-color);\n",
              "    }\n",
              "    90% {\n",
              "      border-color: transparent;\n",
              "      border-bottom-color: var(--fill-color);\n",
              "    }\n",
              "  }\n",
              "</style>\n",
              "\n",
              "  <script>\n",
              "    async function quickchart(key) {\n",
              "      const quickchartButtonEl =\n",
              "        document.querySelector('#' + key + ' button');\n",
              "      quickchartButtonEl.disabled = true;  // To prevent multiple clicks.\n",
              "      quickchartButtonEl.classList.add('colab-df-spinner');\n",
              "      try {\n",
              "        const charts = await google.colab.kernel.invokeFunction(\n",
              "            'suggestCharts', [key], {});\n",
              "      } catch (error) {\n",
              "        console.error('Error during call to suggestCharts:', error);\n",
              "      }\n",
              "      quickchartButtonEl.classList.remove('colab-df-spinner');\n",
              "      quickchartButtonEl.classList.add('colab-df-quickchart-complete');\n",
              "    }\n",
              "    (() => {\n",
              "      let quickchartButtonEl =\n",
              "        document.querySelector('#df-cb270598-fa3c-4b9b-9673-1a5c637d8ecf button');\n",
              "      quickchartButtonEl.style.display =\n",
              "        google.colab.kernel.accessAllowed ? 'block' : 'none';\n",
              "    })();\n",
              "  </script>\n",
              "</div>\n",
              "    </div>\n",
              "  </div>\n"
            ]
          },
          "metadata": {},
          "execution_count": 7
        }
      ],
      "source": [
        "df.head()"
      ]
    },
    {
      "cell_type": "code",
      "execution_count": null,
      "metadata": {
        "id": "imb2FBM2XNmK",
        "colab": {
          "base_uri": "https://localhost:8080/"
        },
        "outputId": "d35ac13d-861e-40d3-b0d1-1fd8bc293161"
      },
      "outputs": [
        {
          "output_type": "execute_result",
          "data": {
            "text/plain": [
              "DT_GERACAO                       object\n",
              "HH_GERACAO                       object\n",
              "ANO_ELEICAO                       int64\n",
              "NR_TURNO                          int64\n",
              "SG_UF                            object\n",
              "CD_MUNICIPIO                      int64\n",
              "NM_MUNICIPIO                     object\n",
              "NR_ZONA                           int64\n",
              "CD_GENERO                         int64\n",
              "DS_GENERO                        object\n",
              "CD_ESTADO_CIVIL                   int64\n",
              "DS_ESTADO_CIVIL                  object\n",
              "CD_FAIXA_ETARIA                   int64\n",
              "DS_FAIXA_ETARIA                  object\n",
              "CD_GRAU_ESCOLARIDADE              int64\n",
              "DS_GRAU_ESCOLARIDADE             object\n",
              "QT_APTOS                          int64\n",
              "QT_COMPARECIMENTO                 int64\n",
              "QT_ABSTENCAO                      int64\n",
              "QT_COMPARECIMENTO_DEFICIENCIA     int64\n",
              "QT_ABSTENCAO_DEFICIENCIA          int64\n",
              "QT_COMPARECIMENTO_TTE             int64\n",
              "QT_ABSTENCAO_TTE                  int64\n",
              "dtype: object"
            ]
          },
          "metadata": {},
          "execution_count": 8
        }
      ],
      "source": [
        "df.dtypes"
      ]
    },
    {
      "cell_type": "code",
      "execution_count": null,
      "metadata": {
        "id": "U6pgb3YqoGkZ",
        "colab": {
          "base_uri": "https://localhost:8080/"
        },
        "outputId": "9aec7b10-a7df-4846-9d28-2c37d24e62b4"
      },
      "outputs": [
        {
          "output_type": "execute_result",
          "data": {
            "text/plain": [
              "Index(['DT_GERACAO', 'HH_GERACAO', 'ANO_ELEICAO', 'NR_TURNO', 'SG_UF',\n",
              "       'CD_MUNICIPIO', 'NM_MUNICIPIO', 'NR_ZONA', 'CD_GENERO', 'DS_GENERO',\n",
              "       'CD_ESTADO_CIVIL', 'DS_ESTADO_CIVIL', 'CD_FAIXA_ETARIA',\n",
              "       'DS_FAIXA_ETARIA', 'CD_GRAU_ESCOLARIDADE', 'DS_GRAU_ESCOLARIDADE',\n",
              "       'QT_APTOS', 'QT_COMPARECIMENTO', 'QT_ABSTENCAO',\n",
              "       'QT_COMPARECIMENTO_DEFICIENCIA', 'QT_ABSTENCAO_DEFICIENCIA',\n",
              "       'QT_COMPARECIMENTO_TTE', 'QT_ABSTENCAO_TTE'],\n",
              "      dtype='object')"
            ]
          },
          "metadata": {},
          "execution_count": 9
        }
      ],
      "source": [
        "df.columns"
      ]
    },
    {
      "cell_type": "code",
      "execution_count": null,
      "metadata": {
        "id": "1A-8XiH5CLC-"
      },
      "outputs": [],
      "source": [
        "df = df.drop(columns = ['DT_GERACAO', 'HH_GERACAO', 'CD_MUNICIPIO', 'CD_GENERO',\n",
        "       'CD_ESTADO_CIVIL',\n",
        "       'CD_FAIXA_ETARIA', 'CD_GRAU_ESCOLARIDADE'], axis = 1)"
      ]
    },
    {
      "cell_type": "markdown",
      "metadata": {
        "id": "9Ig-tTTFK8nw"
      },
      "source": [
        "# Criação do dataframe do 2º turno"
      ]
    },
    {
      "cell_type": "code",
      "execution_count": null,
      "metadata": {
        "id": "w3N8XlreLG0Q"
      },
      "outputs": [],
      "source": [
        "df_turno_2_2020 = df[(df['NR_TURNO'] == 2)]"
      ]
    },
    {
      "cell_type": "code",
      "execution_count": null,
      "metadata": {
        "id": "5a_mCPuVLH2S",
        "colab": {
          "base_uri": "https://localhost:8080/"
        },
        "outputId": "3286aa1f-8531-4fec-9015-9d3dfc88f141"
      },
      "outputs": [
        {
          "output_type": "execute_result",
          "data": {
            "text/plain": [
              "(393754, 16)"
            ]
          },
          "metadata": {},
          "execution_count": 12
        }
      ],
      "source": [
        "df_turno_2_2020.shape"
      ]
    },
    {
      "cell_type": "markdown",
      "source": [
        "## Verificação da coluna DS_GENERO\n"
      ],
      "metadata": {
        "id": "RPmxri5Bu8Hy"
      }
    },
    {
      "cell_type": "code",
      "execution_count": null,
      "metadata": {
        "id": "wSHJVyNKLPY5",
        "colab": {
          "base_uri": "https://localhost:8080/"
        },
        "outputId": "939fd849-617e-4b82-90a5-107dbfd5040f"
      },
      "outputs": [
        {
          "output_type": "execute_result",
          "data": {
            "text/plain": [
              "FEMININO         201593\n",
              "MASCULINO        184805\n",
              "NÃO INFORMADO      7356\n",
              "Name: DS_GENERO, dtype: int64"
            ]
          },
          "metadata": {},
          "execution_count": 13
        }
      ],
      "source": [
        "df_turno_2_2020.DS_GENERO.value_counts()"
      ]
    },
    {
      "cell_type": "code",
      "execution_count": null,
      "metadata": {
        "id": "tb5x_bvJLa3M",
        "colab": {
          "base_uri": "https://localhost:8080/"
        },
        "outputId": "1eef3781-e469-4707-dbff-64c8fcbbc9ea"
      },
      "outputs": [
        {
          "output_type": "stream",
          "name": "stdout",
          "text": [
            "Os valores 'NÃO INFORMADO' representam 0,0187% do conjunto\n"
          ]
        }
      ],
      "source": [
        "#verificação da quantidade percentual de valores 'NÃO INFORMADO' no conjunto\n",
        "print('Os valores \\'NÃO INFORMADO\\' representam {}% do conjunto'.format(round(df_turno_2_2020.DS_GENERO.value_counts()[2] / len(df_turno_2_2020), 4)).replace('.', ','))"
      ]
    },
    {
      "cell_type": "markdown",
      "metadata": {
        "id": "hWOT44uDLl9F"
      },
      "source": [
        "Como os valores 'NÃO INFORMADO' representam apenas 0,0187% do conjunto, vou excluí-los."
      ]
    },
    {
      "cell_type": "code",
      "execution_count": null,
      "metadata": {
        "id": "0eltGaXfLhap"
      },
      "outputs": [],
      "source": [
        "df_turno_2_2020 = df_turno_2_2020.drop(df_turno_2_2020.loc[df_turno_2_2020['DS_GENERO'] == 'NÃO INFORMADO'].index)"
      ]
    },
    {
      "cell_type": "markdown",
      "source": [
        "## Verificação da coluna DS_GRAU_ESCOLARIDADE"
      ],
      "metadata": {
        "id": "_wzmAndwvC0b"
      }
    },
    {
      "cell_type": "code",
      "execution_count": null,
      "metadata": {
        "id": "N6URmVG3MRa3",
        "colab": {
          "base_uri": "https://localhost:8080/"
        },
        "outputId": "2c6bb6d2-eb1b-4960-963d-635c8bd1251c"
      },
      "outputs": [
        {
          "output_type": "execute_result",
          "data": {
            "text/plain": [
              "ENSINO FUNDAMENTAL INCOMPLETO    56158\n",
              "ENSINO MÉDIO COMPLETO            55995\n",
              "ENSINO FUNDAMENTAL COMPLETO      51499\n",
              "ENSINO MÉDIO INCOMPLETO          49444\n",
              "SUPERIOR COMPLETO                46025\n",
              "LÊ E ESCREVE                     44202\n",
              "SUPERIOR INCOMPLETO              42153\n",
              "ANALFABETO                       37129\n",
              "NÃO INFORMADO                     3793\n",
              "Name: DS_GRAU_ESCOLARIDADE, dtype: int64"
            ]
          },
          "metadata": {},
          "execution_count": 16
        }
      ],
      "source": [
        "df_turno_2_2020.DS_GRAU_ESCOLARIDADE.value_counts()"
      ]
    },
    {
      "cell_type": "code",
      "execution_count": null,
      "metadata": {
        "id": "sRnHzFVyMV-h",
        "colab": {
          "base_uri": "https://localhost:8080/"
        },
        "outputId": "92249363-69fd-48fe-f204-8be20a39d286"
      },
      "outputs": [
        {
          "output_type": "stream",
          "name": "stdout",
          "text": [
            "Os valores 'NÃO INFORMADO' representam 0,0098% do conjunto\n"
          ]
        }
      ],
      "source": [
        "#verificação da quantidade percentual de valores 'NÃO INFORMADO' no conjunto\n",
        "print('Os valores \\'NÃO INFORMADO\\' representam {}% do conjunto'.format(round(df_turno_2_2020.DS_GRAU_ESCOLARIDADE.value_counts()[8] / len(df_turno_2_2020), 4)).replace('.', ','))"
      ]
    },
    {
      "cell_type": "markdown",
      "metadata": {
        "id": "ZEGg1mcfMlPY"
      },
      "source": [
        "Como os valores 'NÃO INFORMADO' representam apenas 0,1334% do conjunto, vou excluí-los."
      ]
    },
    {
      "cell_type": "markdown",
      "metadata": {
        "id": "AtTQQ58KMw9A"
      },
      "source": [
        "## Verificação da coluna DS_FAIXA_ETARIA"
      ]
    },
    {
      "cell_type": "code",
      "execution_count": null,
      "metadata": {
        "id": "WSNlb8fRMzek",
        "colab": {
          "base_uri": "https://localhost:8080/"
        },
        "outputId": "eb3a99ef-56d9-40da-efee-262953e2a124"
      },
      "outputs": [
        {
          "output_type": "execute_result",
          "data": {
            "text/plain": [
              "60 a 64 anos        28247\n",
              "65 a 69 anos        28018\n",
              "55 a 59 anos        27977\n",
              "50 a 54 anos        27281\n",
              "70 a 74 anos        27093\n",
              "45 a 49 anos        24978\n",
              "75 a 79 anos        24872\n",
              "40 a 44 anos        23677\n",
              "35 a 39 anos        21884\n",
              "80 a 84 anos        21609\n",
              "30 a 34 anos        19253\n",
              "85 a 89 anos        17439\n",
              "25 a 29 anos        16465\n",
              "90 a 94 anos        14455\n",
              "21 a 24 anos        13093\n",
              "95 a 99 anos         9945\n",
              "20 anos              8175\n",
              "19 anos              7463\n",
              "18 anos              6658\n",
              "17 anos              5926\n",
              "16 anos              4731\n",
              "Inválido             3850\n",
              "100 anos ou mais     3309\n",
              "Name: DS_FAIXA_ETARIA, dtype: int64"
            ]
          },
          "metadata": {},
          "execution_count": 18
        }
      ],
      "source": [
        "df_turno_2_2020.DS_FAIXA_ETARIA.value_counts()"
      ]
    },
    {
      "cell_type": "code",
      "execution_count": null,
      "metadata": {
        "id": "baouln7dM3fz",
        "colab": {
          "base_uri": "https://localhost:8080/"
        },
        "outputId": "7b02d2b2-ad86-47e1-c5c3-8f6adc59279b"
      },
      "outputs": [
        {
          "output_type": "stream",
          "name": "stdout",
          "text": [
            "Os valores 'Inválido' representam 0,0724% do conjunto\n"
          ]
        }
      ],
      "source": [
        "#verificação da quantidade percentual de valores 'NÃO INFORMADO' no conjunto\n",
        "print('Os valores \\'Inválido\\' representam {}% do conjunto'.format(round(df_turno_2_2020.DS_FAIXA_ETARIA.value_counts()[2] / len(df_turno_2_2020), 4)).replace('.', ','))"
      ]
    },
    {
      "cell_type": "markdown",
      "metadata": {
        "id": "atgxyGr5NAXZ"
      },
      "source": [
        "Como os valores 'Inválido' representam apenas 0,0732% do conjunto, vou excluí-los."
      ]
    },
    {
      "cell_type": "markdown",
      "metadata": {
        "id": "pXwP1lzDkDAk"
      },
      "source": [
        "## Verificação da coluna DS_ESTADO_CIVIL"
      ]
    },
    {
      "cell_type": "code",
      "execution_count": null,
      "metadata": {
        "id": "8EvQHeGokDAk",
        "colab": {
          "base_uri": "https://localhost:8080/"
        },
        "outputId": "4d58a8b0-009a-4ad5-cb3f-4c17024e08e6"
      },
      "outputs": [
        {
          "output_type": "execute_result",
          "data": {
            "text/plain": [
              "SOLTEIRO                  108844\n",
              "CASADO                     91958\n",
              "DIVORCIADO                 63081\n",
              "VIÚVO                      60315\n",
              "SEPARADO JUDICIALMENTE     53971\n",
              "NÃO INFORMADO               8229\n",
              "Name: DS_ESTADO_CIVIL, dtype: int64"
            ]
          },
          "metadata": {},
          "execution_count": 20
        }
      ],
      "source": [
        "df_turno_2_2020.DS_ESTADO_CIVIL.value_counts()"
      ]
    },
    {
      "cell_type": "code",
      "execution_count": null,
      "metadata": {
        "id": "kELtNQ4WkDAk",
        "colab": {
          "base_uri": "https://localhost:8080/"
        },
        "outputId": "ca90f744-c9e2-41b0-f5e2-26e1eee21492"
      },
      "outputs": [
        {
          "output_type": "stream",
          "name": "stdout",
          "text": [
            "Os valores 'NÃO INFORMADO' representam 0,0213% do conjunto\n"
          ]
        }
      ],
      "source": [
        "#verificação da quantidade percentual de valores 'NÃO INFORMADO' no conjunto\n",
        "print('Os valores \\'NÃO INFORMADO\\' representam {}% do conjunto'.format(round(df_turno_2_2020.DS_ESTADO_CIVIL.value_counts()[5] / len(df_turno_2_2020), 4)).replace('.', ','))"
      ]
    },
    {
      "cell_type": "markdown",
      "metadata": {
        "id": "e5kbmiM3kDAl"
      },
      "source": [
        "Como há 7912 (0,027% do conjunto) linhas em que o estado civil foi registrada como NÃO INFORMADO, optei por excluí-las."
      ]
    },
    {
      "cell_type": "markdown",
      "source": [
        "## Exclusão dos valores 'NÃO INFORMADO', 'Inválido' e 'ZZ' (que são os dados do exterior)."
      ],
      "metadata": {
        "id": "pJveBCHCr1U4"
      }
    },
    {
      "cell_type": "code",
      "execution_count": null,
      "metadata": {
        "id": "ejJsue_upYZE"
      },
      "outputs": [],
      "source": [
        "df_turno_2_2020 = df_turno_2_2020.drop(df_turno_2_2020.loc[df_turno_2_2020['DS_GENERO'] == 'NÃO INFORMADO'].index)"
      ]
    },
    {
      "cell_type": "code",
      "execution_count": null,
      "metadata": {
        "id": "G0_QiruWYcok"
      },
      "outputs": [],
      "source": [
        "df_turno_2_2020 = df_turno_2_2020.drop(df_turno_2_2020.loc[df_turno_2_2020['DS_GRAU_ESCOLARIDADE'] == 'NÃO INFORMADO'].index)"
      ]
    },
    {
      "cell_type": "code",
      "execution_count": null,
      "metadata": {
        "id": "bAf0849xY4_O"
      },
      "outputs": [],
      "source": [
        "df_turno_2_2020 = df_turno_2_2020.drop(df_turno_2_2020.loc[df_turno_2_2020['DS_FAIXA_ETARIA'] == 'Inválido'].index)"
      ]
    },
    {
      "cell_type": "code",
      "execution_count": null,
      "metadata": {
        "id": "9th7QyAbaoHV"
      },
      "outputs": [],
      "source": [
        "df_turno_2_2020 = df_turno_2_2020.drop(df_turno_2_2020.loc[df_turno_2_2020['DS_ESTADO_CIVIL'] == 'NÃO INFORMADO'].index)"
      ]
    },
    {
      "cell_type": "code",
      "execution_count": null,
      "metadata": {
        "id": "Fmwemc_Wpdtk"
      },
      "outputs": [],
      "source": [
        "df_turno_2_2020 = df_turno_2_2020.drop(df_turno_2_2020.loc[df_turno_2_2020['SG_UF'] == 'ZZ'].index)"
      ]
    },
    {
      "cell_type": "markdown",
      "source": [
        "## Reordenação do dataframe por estado e município"
      ],
      "metadata": {
        "id": "y4m7i0YbsH8L"
      }
    },
    {
      "cell_type": "code",
      "execution_count": null,
      "metadata": {
        "id": "jN3HZLMkNg0w"
      },
      "outputs": [],
      "source": [
        "df_turno_2_2020 = df_turno_2_2020.sort_values(by = ['SG_UF'], ascending = True)"
      ]
    },
    {
      "cell_type": "markdown",
      "metadata": {
        "id": "xOqGa9fxC3zh"
      },
      "source": [
        "# Criação do dataset por estado"
      ]
    },
    {
      "cell_type": "code",
      "execution_count": null,
      "metadata": {
        "id": "iNx1TnHmC8Gy"
      },
      "outputs": [],
      "source": [
        "data = {'SG_UF': df_turno_2_2020.SG_UF.unique()}\n",
        "df_estados_2turno = pd.DataFrame(data)"
      ]
    },
    {
      "cell_type": "markdown",
      "metadata": {
        "id": "NHOpXjqMp_KZ"
      },
      "source": [
        "## Eleitores aptos"
      ]
    },
    {
      "cell_type": "code",
      "source": [
        "df_estados_2turno = df_estados_2turno.merge(df_turno_2_2020.groupby(['SG_UF'])['QT_APTOS'].sum().reset_index(), on=['SG_UF'])\n",
        "df_estados_2turno = df_estados_2turno.rename(columns={'QT_APTOS': 'aptos'})"
      ],
      "metadata": {
        "id": "ObuNoTZx3DyV"
      },
      "execution_count": null,
      "outputs": []
    },
    {
      "cell_type": "markdown",
      "metadata": {
        "id": "q7h9DB8UN0sz"
      },
      "source": [
        "## Comparecimento do eleitorado"
      ]
    },
    {
      "cell_type": "code",
      "execution_count": null,
      "metadata": {
        "id": "NrlIZncXXu5f"
      },
      "outputs": [],
      "source": [
        "df_estados_2turno = df_estados_2turno.merge(df_turno_2_2020.groupby(['SG_UF'])['QT_COMPARECIMENTO'].sum().reset_index(), on=['SG_UF'])\n",
        "df_estados_2turno = df_estados_2turno.rename(columns={'QT_COMPARECIMENTO': 'comparecimento'})"
      ]
    },
    {
      "cell_type": "markdown",
      "source": [
        "### Comparecimento percentual do eleitorado"
      ],
      "metadata": {
        "id": "y10XzE61LVwq"
      }
    },
    {
      "cell_type": "code",
      "source": [
        "df_estados_2turno['comparecimento_percentual(%)'] = (df_estados_2turno['comparecimento'] / df_estados_2turno['aptos']) * 100\n",
        "df_estados_2turno['comparecimento_percentual(%)'] = df_estados_2turno['comparecimento_percentual(%)'].round(2)"
      ],
      "metadata": {
        "id": "XtDFqYYkK58m"
      },
      "execution_count": null,
      "outputs": []
    },
    {
      "cell_type": "markdown",
      "metadata": {
        "id": "LxUaJC5qAzBU"
      },
      "source": [
        "## Abstenção do eleitorado"
      ]
    },
    {
      "cell_type": "code",
      "source": [
        "df_estados_2turno = df_estados_2turno.merge(df_turno_2_2020.groupby(['SG_UF'])['QT_ABSTENCAO'].sum().reset_index(), on=['SG_UF'])\n",
        "df_estados_2turno = df_estados_2turno.rename(columns={'QT_ABSTENCAO': 'abstencao'})"
      ],
      "metadata": {
        "id": "1mao123bAzBV"
      },
      "execution_count": null,
      "outputs": []
    },
    {
      "cell_type": "markdown",
      "source": [
        "### Abstencao percentual do eleitorado"
      ],
      "metadata": {
        "id": "AA6tB92RAzBV"
      }
    },
    {
      "cell_type": "code",
      "source": [
        "df_estados_2turno['abstencao_percentual(%)'] = (df_estados_2turno['abstencao'] / df_estados_2turno['aptos']) * 100\n",
        "df_estados_2turno['abstencao_percentual(%)'] = df_estados_2turno['abstencao_percentual(%)'].round(2)"
      ],
      "metadata": {
        "id": "JWl1t1k6AzBV"
      },
      "execution_count": null,
      "outputs": []
    },
    {
      "cell_type": "markdown",
      "metadata": {
        "id": "rujdNwKxOzY5"
      },
      "source": [
        "## Eleitorado com deficiência"
      ]
    },
    {
      "cell_type": "code",
      "source": [
        "df_estados_2turno = df_estados_2turno.merge(df_turno_2_2020.groupby(['SG_UF'])['QT_COMPARECIMENTO_DEFICIENCIA'].sum().reset_index(), on=['SG_UF'])\n",
        "df_estados_2turno = df_estados_2turno.rename(columns={'QT_COMPARECIMENTO_DEFICIENCIA': 'comparecimento_deficiencia'})\n",
        "\n",
        "df_estados_2turno = df_estados_2turno.merge(df_turno_2_2020.groupby(['SG_UF'])['QT_ABSTENCAO_DEFICIENCIA'].sum().reset_index(), on=['SG_UF'])\n",
        "df_estados_2turno = df_estados_2turno.rename(columns={'QT_ABSTENCAO_DEFICIENCIA': 'abstencao_deficiencia'})\n",
        "\n",
        "df_estados_2turno['eleitores_deficiencia'] = df_estados_2turno['comparecimento_deficiencia'] + df_estados_2turno['abstencao_deficiencia']"
      ],
      "metadata": {
        "id": "315EemOSL7Fw"
      },
      "execution_count": null,
      "outputs": []
    },
    {
      "cell_type": "markdown",
      "source": [
        "### Eleitorado percentual com deficiência"
      ],
      "metadata": {
        "id": "tMV6IPDvMrVj"
      }
    },
    {
      "cell_type": "code",
      "source": [
        "df_estados_2turno['eleitores_deficiencia_percentual(%)'] = (df_estados_2turno['eleitores_deficiencia'] / df_estados_2turno['aptos']) * 100\n",
        "df_estados_2turno['eleitores_deficiencia_percentual(%)'] = df_estados_2turno['eleitores_deficiencia_percentual(%)'].round(2)"
      ],
      "metadata": {
        "id": "jLA11DW-MqwR"
      },
      "execution_count": null,
      "outputs": []
    },
    {
      "cell_type": "markdown",
      "metadata": {
        "id": "cxu8xsS0DqdE"
      },
      "source": [
        "## Eleitorado feminino"
      ]
    },
    {
      "cell_type": "code",
      "source": [
        "eleitorado_feminino = df_turno_2_2020[df_turno_2_2020['DS_GENERO'] == 'FEMININO'].groupby(['SG_UF'])['QT_APTOS'].sum().reset_index()\n",
        "\n",
        "df_estados_2turno = df_estados_2turno.merge(eleitorado_feminino, on=['SG_UF'], how='left')\n",
        "df_estados_2turno['eleitorado_feminino'] = df_estados_2turno['QT_APTOS'].fillna(0).astype(int)\n",
        "df_estados_2turno = df_estados_2turno.drop(columns=['QT_APTOS'])\n",
        "\n",
        "del eleitorado_feminino"
      ],
      "metadata": {
        "id": "l_tlSQO7DqdW"
      },
      "execution_count": null,
      "outputs": []
    },
    {
      "cell_type": "markdown",
      "source": [
        "### Eleitorado percentual feminino"
      ],
      "metadata": {
        "id": "jIWeR8z5DqdX"
      }
    },
    {
      "cell_type": "code",
      "execution_count": null,
      "metadata": {
        "id": "y21nEI91DqdX"
      },
      "outputs": [],
      "source": [
        "df_estados_2turno['eleitorado_feminino_percentual(%)'] = ((df_estados_2turno['eleitorado_feminino'] / df_estados_2turno['aptos']) * 100)\n",
        "df_estados_2turno['eleitorado_feminino_percentual(%)'] = df_estados_2turno['eleitorado_feminino_percentual(%)'].round(2)"
      ]
    },
    {
      "cell_type": "markdown",
      "metadata": {
        "id": "WN_9C6KuTwgj"
      },
      "source": [
        "## Eleitorado masculino"
      ]
    },
    {
      "cell_type": "code",
      "source": [
        "eleitorado_masculino = df_turno_2_2020[df_turno_2_2020['DS_GENERO'] == 'MASCULINO'].groupby(['SG_UF'])['QT_APTOS'].sum().reset_index()\n",
        "\n",
        "df_estados_2turno = df_estados_2turno.merge(eleitorado_masculino, on=['SG_UF'], how='left')\n",
        "df_estados_2turno['eleitorado_masculino'] = df_estados_2turno['QT_APTOS'].fillna(0).astype(int)\n",
        "df_estados_2turno = df_estados_2turno.drop(columns=['QT_APTOS'])\n",
        "\n",
        "del eleitorado_masculino"
      ],
      "metadata": {
        "id": "ltJvwhAJP5jr"
      },
      "execution_count": null,
      "outputs": []
    },
    {
      "cell_type": "markdown",
      "source": [
        "### Eleitorado percentual masculino"
      ],
      "metadata": {
        "id": "aekAAFniXvgW"
      }
    },
    {
      "cell_type": "code",
      "execution_count": null,
      "metadata": {
        "id": "OHAM0-DdP5jx"
      },
      "outputs": [],
      "source": [
        "df_estados_2turno['eleitorado_masculino_percentual(%)'] = ((df_estados_2turno['eleitorado_masculino'] / df_estados_2turno['aptos']) * 100)\n",
        "df_estados_2turno['eleitorado_masculino_percentual(%)'] = df_estados_2turno['eleitorado_masculino_percentual(%)'].round(2)"
      ]
    },
    {
      "cell_type": "markdown",
      "metadata": {
        "id": "GB9pvQI1UNsC"
      },
      "source": [
        "## Escolaridade do eleitorado\n"
      ]
    },
    {
      "cell_type": "code",
      "source": [
        "escolaridade_pivot = df_turno_2_2020.pivot_table(index=['SG_UF'], columns='DS_GRAU_ESCOLARIDADE', values='QT_APTOS', aggfunc='sum', fill_value=0)\n",
        "\n",
        "# Combina a tabela pivot com o DataFrame df_estados_2turno\n",
        "df_estados_2turno = pd.merge(df_estados_2turno, escolaridade_pivot, on=['SG_UF'])\n",
        "\n",
        "# Remove os prefixos dos nomes das colunas gerados pela tabela pivot\n",
        "df_estados_2turno.columns = df_estados_2turno.columns.str.replace('DS_GRAU_ESCOLARIDADE_', '')\n",
        "df_estados_2turno = df_estados_2turno.rename(columns={'ANALFABETO':'analfabeto', 'ENSINO FUNDAMENTAL COMPLETO':'fundamental_completo',\n",
        "  'ENSINO FUNDAMENTAL INCOMPLETO':'fundamental_incompleto', 'ENSINO MÉDIO COMPLETO':'medio_completo', 'ENSINO MÉDIO INCOMPLETO':'medio_incompleto',\n",
        "  'LÊ E ESCREVE':'le_escreve', 'SUPERIOR COMPLETO':'superior_completo', 'SUPERIOR INCOMPLETO':'superior_incompleto'})\n",
        "\n",
        "del escolaridade_pivot"
      ],
      "metadata": {
        "id": "9Vy65Ci_t_hQ"
      },
      "execution_count": null,
      "outputs": []
    },
    {
      "cell_type": "code",
      "source": [
        "df_estados_2turno = df_estados_2turno[['SG_UF', 'aptos', 'comparecimento',\n",
        "       'comparecimento_percentual(%)', 'abstencao', 'abstencao_percentual(%)',\n",
        "       'comparecimento_deficiencia', 'abstencao_deficiencia',\n",
        "       'eleitores_deficiencia', 'eleitores_deficiencia_percentual(%)',\n",
        "       'eleitorado_feminino', 'eleitorado_feminino_percentual(%)',\n",
        "       'eleitorado_masculino', 'eleitorado_masculino_percentual(%)',\n",
        "       'analfabeto', 'le_escreve', 'fundamental_incompleto', 'fundamental_completo',\n",
        "       'medio_incompleto', 'medio_completo', 'superior_incompleto','superior_completo',]]"
      ],
      "metadata": {
        "id": "hluz740uwSnl"
      },
      "execution_count": null,
      "outputs": []
    },
    {
      "cell_type": "markdown",
      "source": [
        "### Escolaridade percentual do eleitorado"
      ],
      "metadata": {
        "id": "jvQYEhNoX41f"
      }
    },
    {
      "cell_type": "code",
      "execution_count": null,
      "metadata": {
        "id": "Ea4xdAA3OkZU"
      },
      "outputs": [],
      "source": [
        "def define_escolaridade_percentual(row, coluna):\n",
        "    percentual = (row[coluna] / row['aptos']) * 100\n",
        "    return round(percentual, 2)"
      ]
    },
    {
      "cell_type": "code",
      "source": [
        "# Lista das colunas de escolaridade\n",
        "colunas_escolaridade = ['analfabeto', 'le_escreve', 'fundamental_incompleto', 'fundamental_completo',\n",
        "                        'medio_incompleto', 'medio_completo', 'superior_incompleto', 'superior_completo']\n",
        "\n",
        "# Aplica a função define_escolaridade_percentual() em todas as colunas relevantes\n",
        "for coluna in colunas_escolaridade:\n",
        "    df_estados_2turno[coluna + '_percentual(%)'] = df_estados_2turno.apply(\n",
        "        lambda row: define_escolaridade_percentual(row, coluna), axis=1)\n",
        "\n",
        "del colunas_escolaridade"
      ],
      "metadata": {
        "id": "6BnziXdCur9Y"
      },
      "execution_count": null,
      "outputs": []
    },
    {
      "cell_type": "markdown",
      "metadata": {
        "id": "8wdH3i24Ur2m"
      },
      "source": [
        "### Escolaridade do eleitorado masculino"
      ]
    },
    {
      "cell_type": "code",
      "source": [
        "# Filtra os dados apenas para o gênero masculino\n",
        "df_turno_2_2020_masculino = df_turno_2_2020[df_turno_2_2020['DS_GENERO'] == 'MASCULINO']\n",
        "\n",
        "# Realiza a agregação dos dados por município e grau de escolaridade\n",
        "agregado_masculino = df_turno_2_2020_masculino.groupby(['SG_UF', 'DS_GRAU_ESCOLARIDADE'])['QT_APTOS'].sum().reset_index()\n",
        "\n",
        "# Realiza o pivot para transformar as colunas de grau de escolaridade em colunas do dataframe\n",
        "pivot_masculino = agregado_masculino.pivot_table(index=['SG_UF'], columns='DS_GRAU_ESCOLARIDADE', values='QT_APTOS').reset_index()\n",
        "\n",
        "# Junta os dados no dataframe df_estados_2turno\n",
        "df_estados_2turno = df_estados_2turno.merge(pivot_masculino, on=['SG_UF'], how='left')\n",
        "df_estados_2turno = df_estados_2turno.rename(columns={'ANALFABETO':'analfabeto_masculino',\n",
        "  'ENSINO FUNDAMENTAL COMPLETO':'fundamental_completo_masculino', 'ENSINO FUNDAMENTAL INCOMPLETO':'fundamental_incompleto_masculino',\n",
        "  'ENSINO MÉDIO COMPLETO':'medio_completo_masculino', 'ENSINO MÉDIO INCOMPLETO':'medio_incompleto_masculino',\n",
        "  'LÊ E ESCREVE':'le_escreve_masculino', 'SUPERIOR COMPLETO':'superior_completo_masculino',\n",
        "  'SUPERIOR INCOMPLETO':'superior_incompleto_masculino'})\n",
        "\n",
        "del df_turno_2_2020_masculino, agregado_masculino, pivot_masculino"
      ],
      "metadata": {
        "id": "AvrS2SjsyVSs"
      },
      "execution_count": null,
      "outputs": []
    },
    {
      "cell_type": "code",
      "source": [
        "colunas_escolaridade_masculina = ['analfabeto_masculino', 'le_escreve_masculino', 'fundamental_incompleto_masculino',\n",
        "                                 'fundamental_completo_masculino', 'medio_incompleto_masculino',\n",
        "                                 'medio_completo_masculino', 'superior_incompleto_masculino',\n",
        "                                 'superior_completo_masculino']\n",
        "for coluna in colunas_escolaridade_masculina:\n",
        "  df_estados_2turno[coluna] = df_estados_2turno[coluna].fillna(0)\n",
        "  df_estados_2turno[coluna] = df_estados_2turno[coluna].astype(int)\n",
        "\n",
        "del colunas_escolaridade_masculina"
      ],
      "metadata": {
        "id": "zYgMot9y_BUM"
      },
      "execution_count": null,
      "outputs": []
    },
    {
      "cell_type": "code",
      "source": [
        "df_estados_2turno = df_estados_2turno[['SG_UF', 'aptos', 'comparecimento',\n",
        "       'comparecimento_percentual(%)', 'abstencao', 'abstencao_percentual(%)',\n",
        "       'comparecimento_deficiencia', 'abstencao_deficiencia',\n",
        "       'eleitores_deficiencia', 'eleitores_deficiencia_percentual(%)',\n",
        "       'eleitorado_feminino', 'eleitorado_feminino_percentual(%)',\n",
        "       'eleitorado_masculino', 'eleitorado_masculino_percentual(%)',\n",
        "       'analfabeto', 'le_escreve', 'fundamental_incompleto',\n",
        "       'fundamental_completo', 'medio_incompleto', 'medio_completo',\n",
        "       'superior_incompleto', 'superior_completo', 'analfabeto_percentual(%)',\n",
        "       'le_escreve_percentual(%)', 'fundamental_incompleto_percentual(%)',\n",
        "       'fundamental_completo_percentual(%)', 'medio_incompleto_percentual(%)',\n",
        "       'medio_completo_percentual(%)', 'superior_incompleto_percentual(%)',\n",
        "       'superior_completo_percentual(%)', 'analfabeto_masculino',\n",
        "       'le_escreve_masculino', 'fundamental_incompleto_masculino',\n",
        "       'fundamental_completo_masculino', 'medio_incompleto_masculino',\n",
        "       'medio_completo_masculino', 'superior_incompleto_masculino',\n",
        "       'superior_completo_masculino']]"
      ],
      "metadata": {
        "id": "nuIclhm1zyFF"
      },
      "execution_count": null,
      "outputs": []
    },
    {
      "cell_type": "markdown",
      "source": [
        "#### Escolaridade percentual do eleitorado masculino"
      ],
      "metadata": {
        "id": "1Bb6czIb3y9L"
      }
    },
    {
      "cell_type": "code",
      "source": [
        "def define_escolaridade_percentual_masculina(row, coluna):\n",
        "    if row[coluna.replace('_masculino', '')] != 0:\n",
        "        return round((row[coluna] / row[coluna.replace('_masculino', '')]) * 100, 2)\n",
        "    return 0.0"
      ],
      "metadata": {
        "id": "EObDPX2o18f7"
      },
      "execution_count": null,
      "outputs": []
    },
    {
      "cell_type": "code",
      "source": [
        "colunas_escolaridade_masculina = ['analfabeto_masculino', 'le_escreve_masculino', 'fundamental_incompleto_masculino',\n",
        "                                 'fundamental_completo_masculino', 'medio_incompleto_masculino',\n",
        "                                 'medio_completo_masculino', 'superior_incompleto_masculino',\n",
        "                                 'superior_completo_masculino']\n",
        "\n",
        "for coluna in colunas_escolaridade_masculina:\n",
        "    coluna_percentual = coluna + '_percentual(%)'\n",
        "    df_estados_2turno[coluna_percentual] = df_estados_2turno.apply(define_escolaridade_percentual_masculina,\n",
        "                                                                         args=(coluna,),\n",
        "                                                                         axis=1)\n",
        "\n",
        "del colunas_escolaridade_masculina"
      ],
      "metadata": {
        "id": "IGytQbc217PU",
        "colab": {
          "base_uri": "https://localhost:8080/"
        },
        "outputId": "93a9ad66-d60e-4807-95bf-ae4f19efd59f"
      },
      "execution_count": null,
      "outputs": [
        {
          "output_type": "stream",
          "name": "stderr",
          "text": [
            "<ipython-input-50-8a389d4e60cb>:8: SettingWithCopyWarning: \n",
            "A value is trying to be set on a copy of a slice from a DataFrame.\n",
            "Try using .loc[row_indexer,col_indexer] = value instead\n",
            "\n",
            "See the caveats in the documentation: https://pandas.pydata.org/pandas-docs/stable/user_guide/indexing.html#returning-a-view-versus-a-copy\n",
            "  df_estados_2turno[coluna_percentual] = df_estados_2turno.apply(define_escolaridade_percentual_masculina,\n",
            "<ipython-input-50-8a389d4e60cb>:8: SettingWithCopyWarning: \n",
            "A value is trying to be set on a copy of a slice from a DataFrame.\n",
            "Try using .loc[row_indexer,col_indexer] = value instead\n",
            "\n",
            "See the caveats in the documentation: https://pandas.pydata.org/pandas-docs/stable/user_guide/indexing.html#returning-a-view-versus-a-copy\n",
            "  df_estados_2turno[coluna_percentual] = df_estados_2turno.apply(define_escolaridade_percentual_masculina,\n",
            "<ipython-input-50-8a389d4e60cb>:8: SettingWithCopyWarning: \n",
            "A value is trying to be set on a copy of a slice from a DataFrame.\n",
            "Try using .loc[row_indexer,col_indexer] = value instead\n",
            "\n",
            "See the caveats in the documentation: https://pandas.pydata.org/pandas-docs/stable/user_guide/indexing.html#returning-a-view-versus-a-copy\n",
            "  df_estados_2turno[coluna_percentual] = df_estados_2turno.apply(define_escolaridade_percentual_masculina,\n",
            "<ipython-input-50-8a389d4e60cb>:8: SettingWithCopyWarning: \n",
            "A value is trying to be set on a copy of a slice from a DataFrame.\n",
            "Try using .loc[row_indexer,col_indexer] = value instead\n",
            "\n",
            "See the caveats in the documentation: https://pandas.pydata.org/pandas-docs/stable/user_guide/indexing.html#returning-a-view-versus-a-copy\n",
            "  df_estados_2turno[coluna_percentual] = df_estados_2turno.apply(define_escolaridade_percentual_masculina,\n",
            "<ipython-input-50-8a389d4e60cb>:8: SettingWithCopyWarning: \n",
            "A value is trying to be set on a copy of a slice from a DataFrame.\n",
            "Try using .loc[row_indexer,col_indexer] = value instead\n",
            "\n",
            "See the caveats in the documentation: https://pandas.pydata.org/pandas-docs/stable/user_guide/indexing.html#returning-a-view-versus-a-copy\n",
            "  df_estados_2turno[coluna_percentual] = df_estados_2turno.apply(define_escolaridade_percentual_masculina,\n",
            "<ipython-input-50-8a389d4e60cb>:8: SettingWithCopyWarning: \n",
            "A value is trying to be set on a copy of a slice from a DataFrame.\n",
            "Try using .loc[row_indexer,col_indexer] = value instead\n",
            "\n",
            "See the caveats in the documentation: https://pandas.pydata.org/pandas-docs/stable/user_guide/indexing.html#returning-a-view-versus-a-copy\n",
            "  df_estados_2turno[coluna_percentual] = df_estados_2turno.apply(define_escolaridade_percentual_masculina,\n",
            "<ipython-input-50-8a389d4e60cb>:8: SettingWithCopyWarning: \n",
            "A value is trying to be set on a copy of a slice from a DataFrame.\n",
            "Try using .loc[row_indexer,col_indexer] = value instead\n",
            "\n",
            "See the caveats in the documentation: https://pandas.pydata.org/pandas-docs/stable/user_guide/indexing.html#returning-a-view-versus-a-copy\n",
            "  df_estados_2turno[coluna_percentual] = df_estados_2turno.apply(define_escolaridade_percentual_masculina,\n"
          ]
        }
      ]
    },
    {
      "cell_type": "markdown",
      "metadata": {
        "id": "834OBSeRNe34"
      },
      "source": [
        "### Escolaridade do eleitorado feminino"
      ]
    },
    {
      "cell_type": "code",
      "source": [
        "# Filtra os dados apenas para o gênero feminino\n",
        "df_turno_2_2020_feminino = df_turno_2_2020[df_turno_2_2020['DS_GENERO'] == 'FEMININO']\n",
        "\n",
        "# Realiza a agregação dos dados por município e grau de escolaridade\n",
        "agregado_feminino = df_turno_2_2020_feminino.groupby(['SG_UF', 'DS_GRAU_ESCOLARIDADE'])['QT_APTOS'].sum().reset_index()\n",
        "\n",
        "# Realiza o pivot para transformar as colunas de grau de escolaridade em colunas do dataframe\n",
        "pivot_feminino = agregado_feminino.pivot_table(index=['SG_UF'], columns='DS_GRAU_ESCOLARIDADE', values='QT_APTOS').reset_index()\n",
        "\n",
        "# Junta os dados no dataframe df_estados_2turno\n",
        "df_estados_2turno = df_estados_2turno.merge(pivot_feminino, on=['SG_UF'], how='left')\n",
        "df_estados_2turno = df_estados_2turno.rename(columns={'ANALFABETO':'analfabeto_feminino',\n",
        "  'ENSINO FUNDAMENTAL COMPLETO':'fundamental_completo_feminino', 'ENSINO FUNDAMENTAL INCOMPLETO':'fundamental_incompleto_feminino',\n",
        "  'ENSINO MÉDIO COMPLETO':'medio_completo_feminino', 'ENSINO MÉDIO INCOMPLETO':'medio_incompleto_feminino',\n",
        "  'LÊ E ESCREVE':'le_escreve_feminino', 'SUPERIOR COMPLETO':'superior_completo_feminino',\n",
        "  'SUPERIOR INCOMPLETO':'superior_incompleto_feminino'})\n",
        "\n",
        "del df_turno_2_2020_feminino, agregado_feminino, pivot_feminino"
      ],
      "metadata": {
        "id": "pK2wz7u54Wkd"
      },
      "execution_count": null,
      "outputs": []
    },
    {
      "cell_type": "code",
      "source": [
        "colunas_escolaridade_feminina = ['analfabeto_feminino', 'le_escreve_feminino', 'fundamental_incompleto_feminino',\n",
        "                                 'fundamental_completo_feminino', 'medio_incompleto_feminino',\n",
        "                                 'medio_completo_feminino', 'superior_incompleto_feminino',\n",
        "                                 'superior_completo_feminino']\n",
        "for coluna in colunas_escolaridade_feminina:\n",
        "  df_estados_2turno[coluna] = df_estados_2turno[coluna].fillna(0)\n",
        "  df_estados_2turno[coluna] = df_estados_2turno[coluna].astype(int)"
      ],
      "metadata": {
        "id": "4DetJIXlAF9J"
      },
      "execution_count": null,
      "outputs": []
    },
    {
      "cell_type": "code",
      "source": [
        "df_estados_2turno = df_estados_2turno[['SG_UF', 'aptos', 'comparecimento',\n",
        "       'comparecimento_percentual(%)', 'abstencao', 'abstencao_percentual(%)',\n",
        "       'comparecimento_deficiencia', 'abstencao_deficiencia',\n",
        "       'eleitores_deficiencia', 'eleitores_deficiencia_percentual(%)',\n",
        "       'eleitorado_feminino', 'eleitorado_feminino_percentual(%)',\n",
        "       'eleitorado_masculino', 'eleitorado_masculino_percentual(%)',\n",
        "       'analfabeto', 'le_escreve', 'fundamental_incompleto',\n",
        "       'fundamental_completo', 'medio_incompleto', 'medio_completo',\n",
        "       'superior_incompleto', 'superior_completo', 'analfabeto_percentual(%)',\n",
        "       'le_escreve_percentual(%)', 'fundamental_incompleto_percentual(%)',\n",
        "       'fundamental_completo_percentual(%)', 'medio_incompleto_percentual(%)',\n",
        "       'medio_completo_percentual(%)', 'superior_incompleto_percentual(%)',\n",
        "       'superior_completo_percentual(%)', 'analfabeto_masculino',\n",
        "       'le_escreve_masculino', 'fundamental_incompleto_masculino',\n",
        "       'fundamental_completo_masculino', 'medio_incompleto_masculino',\n",
        "       'medio_completo_masculino', 'superior_incompleto_masculino',\n",
        "       'superior_completo_masculino', 'analfabeto_masculino_percentual(%)',\n",
        "       'le_escreve_masculino_percentual(%)',\n",
        "       'fundamental_incompleto_masculino_percentual(%)',\n",
        "       'fundamental_completo_masculino_percentual(%)',\n",
        "       'medio_incompleto_masculino_percentual(%)',\n",
        "       'medio_completo_masculino_percentual(%)',\n",
        "       'superior_incompleto_masculino_percentual(%)',\n",
        "       'superior_completo_masculino_percentual(%)', 'analfabeto_feminino',\n",
        "       'le_escreve_feminino', 'fundamental_incompleto_feminino',\n",
        "       'fundamental_completo_feminino', 'medio_incompleto_feminino',\n",
        "       'medio_completo_feminino', 'superior_incompleto_feminino',\n",
        "       'superior_completo_feminino']]"
      ],
      "metadata": {
        "id": "-RyYAuDV4Wkd"
      },
      "execution_count": null,
      "outputs": []
    },
    {
      "cell_type": "markdown",
      "source": [
        "#### Escolaridade percentual do eleitorado feminino"
      ],
      "metadata": {
        "id": "24bIC6rV7pUG"
      }
    },
    {
      "cell_type": "code",
      "source": [
        "def define_escolaridade_percentual_feminina(row, coluna):\n",
        "    if row[coluna.replace('_feminino', '')] != 0:\n",
        "        return round((row[coluna] / row[coluna.replace('_feminino', '')]) * 100, 2)\n",
        "    return 0.0"
      ],
      "metadata": {
        "id": "7kiwrXKa7tAV"
      },
      "execution_count": null,
      "outputs": []
    },
    {
      "cell_type": "code",
      "source": [
        "colunas_escolaridade_feminina = ['analfabeto_feminino', 'le_escreve_feminino', 'fundamental_incompleto_feminino',\n",
        "                                 'fundamental_completo_feminino', 'medio_incompleto_feminino',\n",
        "                                 'medio_completo_feminino', 'superior_incompleto_feminino',\n",
        "                                 'superior_completo_feminino']\n",
        "\n",
        "for coluna in colunas_escolaridade_feminina:\n",
        "    coluna_percentual = coluna + '_percentual(%)'\n",
        "    df_estados_2turno[coluna_percentual] = df_estados_2turno.apply(define_escolaridade_percentual_feminina,\n",
        "                                                                         args=(coluna,),\n",
        "                                                                         axis=1)"
      ],
      "metadata": {
        "id": "kjG2j3Tn7tAd",
        "colab": {
          "base_uri": "https://localhost:8080/"
        },
        "outputId": "d2e7cf83-2c61-495a-8a99-d370af01400e"
      },
      "execution_count": null,
      "outputs": [
        {
          "output_type": "stream",
          "name": "stderr",
          "text": [
            "<ipython-input-55-0da2c194b2f8>:8: SettingWithCopyWarning: \n",
            "A value is trying to be set on a copy of a slice from a DataFrame.\n",
            "Try using .loc[row_indexer,col_indexer] = value instead\n",
            "\n",
            "See the caveats in the documentation: https://pandas.pydata.org/pandas-docs/stable/user_guide/indexing.html#returning-a-view-versus-a-copy\n",
            "  df_estados_2turno[coluna_percentual] = df_estados_2turno.apply(define_escolaridade_percentual_feminina,\n",
            "<ipython-input-55-0da2c194b2f8>:8: SettingWithCopyWarning: \n",
            "A value is trying to be set on a copy of a slice from a DataFrame.\n",
            "Try using .loc[row_indexer,col_indexer] = value instead\n",
            "\n",
            "See the caveats in the documentation: https://pandas.pydata.org/pandas-docs/stable/user_guide/indexing.html#returning-a-view-versus-a-copy\n",
            "  df_estados_2turno[coluna_percentual] = df_estados_2turno.apply(define_escolaridade_percentual_feminina,\n",
            "<ipython-input-55-0da2c194b2f8>:8: SettingWithCopyWarning: \n",
            "A value is trying to be set on a copy of a slice from a DataFrame.\n",
            "Try using .loc[row_indexer,col_indexer] = value instead\n",
            "\n",
            "See the caveats in the documentation: https://pandas.pydata.org/pandas-docs/stable/user_guide/indexing.html#returning-a-view-versus-a-copy\n",
            "  df_estados_2turno[coluna_percentual] = df_estados_2turno.apply(define_escolaridade_percentual_feminina,\n",
            "<ipython-input-55-0da2c194b2f8>:8: SettingWithCopyWarning: \n",
            "A value is trying to be set on a copy of a slice from a DataFrame.\n",
            "Try using .loc[row_indexer,col_indexer] = value instead\n",
            "\n",
            "See the caveats in the documentation: https://pandas.pydata.org/pandas-docs/stable/user_guide/indexing.html#returning-a-view-versus-a-copy\n",
            "  df_estados_2turno[coluna_percentual] = df_estados_2turno.apply(define_escolaridade_percentual_feminina,\n",
            "<ipython-input-55-0da2c194b2f8>:8: SettingWithCopyWarning: \n",
            "A value is trying to be set on a copy of a slice from a DataFrame.\n",
            "Try using .loc[row_indexer,col_indexer] = value instead\n",
            "\n",
            "See the caveats in the documentation: https://pandas.pydata.org/pandas-docs/stable/user_guide/indexing.html#returning-a-view-versus-a-copy\n",
            "  df_estados_2turno[coluna_percentual] = df_estados_2turno.apply(define_escolaridade_percentual_feminina,\n",
            "<ipython-input-55-0da2c194b2f8>:8: SettingWithCopyWarning: \n",
            "A value is trying to be set on a copy of a slice from a DataFrame.\n",
            "Try using .loc[row_indexer,col_indexer] = value instead\n",
            "\n",
            "See the caveats in the documentation: https://pandas.pydata.org/pandas-docs/stable/user_guide/indexing.html#returning-a-view-versus-a-copy\n",
            "  df_estados_2turno[coluna_percentual] = df_estados_2turno.apply(define_escolaridade_percentual_feminina,\n",
            "<ipython-input-55-0da2c194b2f8>:8: SettingWithCopyWarning: \n",
            "A value is trying to be set on a copy of a slice from a DataFrame.\n",
            "Try using .loc[row_indexer,col_indexer] = value instead\n",
            "\n",
            "See the caveats in the documentation: https://pandas.pydata.org/pandas-docs/stable/user_guide/indexing.html#returning-a-view-versus-a-copy\n",
            "  df_estados_2turno[coluna_percentual] = df_estados_2turno.apply(define_escolaridade_percentual_feminina,\n",
            "<ipython-input-55-0da2c194b2f8>:8: SettingWithCopyWarning: \n",
            "A value is trying to be set on a copy of a slice from a DataFrame.\n",
            "Try using .loc[row_indexer,col_indexer] = value instead\n",
            "\n",
            "See the caveats in the documentation: https://pandas.pydata.org/pandas-docs/stable/user_guide/indexing.html#returning-a-view-versus-a-copy\n",
            "  df_estados_2turno[coluna_percentual] = df_estados_2turno.apply(define_escolaridade_percentual_feminina,\n"
          ]
        }
      ]
    },
    {
      "cell_type": "markdown",
      "metadata": {
        "id": "m1vFCH4XNe35"
      },
      "source": [
        "## Faixa etária do eleitorado"
      ]
    },
    {
      "cell_type": "code",
      "source": [
        "# Calcular as somas das faixas etárias por município\n",
        "faixa_etaria_sum = df_turno_2_2020.groupby(['SG_UF', 'DS_FAIXA_ETARIA'])['QT_APTOS'].sum().reset_index()\n",
        "\n",
        "# Pivotar a tabela para obter as colunas desejadas\n",
        "df_pivot = faixa_etaria_sum.pivot_table(index=['SG_UF'], columns='DS_FAIXA_ETARIA', values='QT_APTOS', fill_value=0).reset_index()\n",
        "\n",
        "# Juntar os resultados ao DataFrame df_estados_2turno\n",
        "df_estados_2turno = df_estados_2turno.merge(df_pivot, how='left', left_on=['SG_UF'], right_on=['SG_UF'])"
      ],
      "metadata": {
        "id": "Tm6Hf5jKBUoT"
      },
      "execution_count": null,
      "outputs": []
    },
    {
      "cell_type": "code",
      "source": [
        "df_estados_2turno = df_estados_2turno[['SG_UF', 'aptos', 'comparecimento', 'comparecimento_percentual(%)',\n",
        "       'abstencao', 'abstencao_percentual(%)', 'comparecimento_deficiencia',\n",
        "       'abstencao_deficiencia', 'eleitores_deficiencia',\n",
        "       'eleitores_deficiencia_percentual(%)', 'eleitorado_feminino',\n",
        "       'eleitorado_feminino_percentual(%)', 'eleitorado_masculino',\n",
        "       'eleitorado_masculino_percentual(%)', 'analfabeto', 'le_escreve',\n",
        "       'fundamental_incompleto', 'fundamental_completo', 'medio_incompleto',\n",
        "       'medio_completo', 'superior_incompleto', 'superior_completo',\n",
        "       'analfabeto_percentual(%)', 'le_escreve_percentual(%)',\n",
        "       'fundamental_incompleto_percentual(%)',\n",
        "       'fundamental_completo_percentual(%)', 'medio_incompleto_percentual(%)',\n",
        "       'medio_completo_percentual(%)', 'superior_incompleto_percentual(%)',\n",
        "       'superior_completo_percentual(%)', 'analfabeto_masculino',\n",
        "       'le_escreve_masculino', 'fundamental_incompleto_masculino',\n",
        "       'fundamental_completo_masculino', 'medio_incompleto_masculino',\n",
        "       'medio_completo_masculino', 'superior_incompleto_masculino',\n",
        "       'superior_completo_masculino', 'analfabeto_masculino_percentual(%)',\n",
        "       'le_escreve_masculino_percentual(%)',\n",
        "       'fundamental_incompleto_masculino_percentual(%)',\n",
        "       'fundamental_completo_masculino_percentual(%)',\n",
        "       'medio_incompleto_masculino_percentual(%)',\n",
        "       'medio_completo_masculino_percentual(%)',\n",
        "       'superior_incompleto_masculino_percentual(%)',\n",
        "       'superior_completo_masculino_percentual(%)', 'analfabeto_feminino',\n",
        "       'le_escreve_feminino', 'fundamental_incompleto_feminino',\n",
        "       'fundamental_completo_feminino', 'medio_incompleto_feminino',\n",
        "       'medio_completo_feminino', 'superior_incompleto_feminino',\n",
        "       'superior_completo_feminino', 'analfabeto_feminino_percentual(%)',\n",
        "       'le_escreve_feminino_percentual(%)',\n",
        "       'fundamental_incompleto_feminino_percentual(%)',\n",
        "       'fundamental_completo_feminino_percentual(%)',\n",
        "       'medio_incompleto_feminino_percentual(%)',\n",
        "       'medio_completo_feminino_percentual(%)',\n",
        "       'superior_incompleto_feminino_percentual(%)',\n",
        "       'superior_completo_feminino_percentual(%)',\n",
        "       '16 anos', '17 anos', '18 anos', '19 anos', '20 anos', '21 a 24 anos',\n",
        "       '25 a 29 anos', '30 a 34 anos', '35 a 39 anos', '40 a 44 anos',\n",
        "       '45 a 49 anos', '50 a 54 anos', '55 a 59 anos', '60 a 64 anos',\n",
        "       '65 a 69 anos', '70 a 74 anos', '75 a 79 anos', '80 a 84 anos',\n",
        "       '85 a 89 anos', '90 a 94 anos', '95 a 99 anos', '100 anos ou mais']]"
      ],
      "metadata": {
        "id": "ADS7pNNuI-78"
      },
      "execution_count": null,
      "outputs": []
    },
    {
      "cell_type": "code",
      "source": [
        "df_estados_2turno = df_estados_2turno.rename(columns={'100 anos ou mais':'100_anos',\n",
        "       '16 anos':'16_anos', '17 anos':'17_anos', '18 anos':'18_anos',\n",
        "       '19 anos':'19_anos', '20 anos':'20_anos', '21 a 24 anos':'21_24_anos',\n",
        "       '25 a 29 anos':'25_29_anos', '30 a 34 anos':'30_34_anos', '35 a 39 anos':'35_39_anos',\n",
        "       '40 a 44 anos':'40_44_anos', '45 a 49 anos':'45_49_anos',\n",
        "       '50 a 54 anos':'50_54_anos', '55 a 59 anos':'55_59_anos',\n",
        "       '60 a 64 anos':'60_64_anos', '65 a 69 anos':'65_69_anos',\n",
        "       '70 a 74 anos':'70_74_anos', '75 a 79 anos':'75_79_anos',\n",
        "       '80 a 84 anos':'80_84_anos', '85 a 89 anos':'85_89_anos',\n",
        "       '90 a 94 anos':'90_94_anos', '95 a 99 anos':'95_99_anos'})"
      ],
      "metadata": {
        "id": "qmu8uwPEEHk4"
      },
      "execution_count": null,
      "outputs": []
    },
    {
      "cell_type": "markdown",
      "source": [
        "### Faixa etária percentual do eleitorado"
      ],
      "metadata": {
        "id": "ZtG13LkdIRUw"
      }
    },
    {
      "cell_type": "code",
      "source": [
        "faixa_etaria_colunas = {\n",
        "    '16_anos': '16_anos_percentual(%)',\n",
        "    '17_anos': '17_anos_percentual(%)',\n",
        "    '18_anos': '18_anos_percentual(%)',\n",
        "    '19_anos': '19_anos_percentual(%)',\n",
        "    '20_anos': '20_anos_percentual(%)',\n",
        "    '21_24_anos': '21_24_anos_percentual(%)',\n",
        "    '25_29_anos': '25_29_anos_percentual(%)',\n",
        "    '30_34_anos': '30_34_anos_percentual(%)',\n",
        "    '35_39_anos': '35_39_anos_percentual(%)',\n",
        "    '40_44_anos': '40_44_anos_percentual(%)',\n",
        "    '45_49_anos': '45_49_anos_percentual(%)',\n",
        "    '50_54_anos': '50_54_anos_percentual(%)',\n",
        "    '55_59_anos': '55_59_anos_percentual(%)',\n",
        "    '60_64_anos': '60_64_anos_percentual(%)',\n",
        "    '65_69_anos': '65_69_anos_percentual(%)',\n",
        "    '70_74_anos': '70_74_anos_percentual(%)',\n",
        "    '75_79_anos': '75_79_anos_percentual(%)',\n",
        "    '80_84_anos': '80_84_anos_percentual(%)',\n",
        "    '85_89_anos': '85_89_anos_percentual(%)',\n",
        "    '90_94_anos': '90_94_anos_percentual(%)',\n",
        "    '95_99_anos': '95_99_anos_percentual(%)',\n",
        "    '100_anos': '100_anos_percentual(%)'\n",
        "}\n",
        "\n",
        "for faixa_etaria, coluna_percentual in faixa_etaria_colunas.items():\n",
        "  df_estados_2turno[coluna_percentual] = (df_estados_2turno[faixa_etaria] / df_estados_2turno['aptos'] * 100).round(2)\n"
      ],
      "metadata": {
        "id": "l1vTFngEH66t"
      },
      "execution_count": null,
      "outputs": []
    },
    {
      "cell_type": "markdown",
      "metadata": {
        "id": "Q0EnCSeTNe36"
      },
      "source": [
        "### Faixa etária do eleitorado masculino"
      ]
    },
    {
      "cell_type": "code",
      "source": [
        "faixa_etaria_masculino = df_turno_2_2020[df_turno_2_2020['DS_GENERO'] == 'MASCULINO'].groupby(['SG_UF', 'DS_FAIXA_ETARIA'])['QT_APTOS'].sum().reset_index()\n",
        "# Pivotar a tabela para obter as colunas desejadas\n",
        "df_pivot = faixa_etaria_masculino.pivot_table(index=['SG_UF'], columns='DS_FAIXA_ETARIA', values='QT_APTOS', fill_value=0).reset_index()\n",
        "\n",
        "# Juntar os resultados ao DataFrame df_estados_2turno\n",
        "df_estados_2turno = df_estados_2turno.merge(df_pivot, how='left', left_on=['SG_UF'], right_on=['SG_UF'])\n",
        "# df_estados_2turno = df_estados_2turno.sort_values(by=['SG_UF'])\n"
      ],
      "metadata": {
        "id": "geZXmtkUQ0zo"
      },
      "execution_count": null,
      "outputs": []
    },
    {
      "cell_type": "code",
      "source": [
        "df_estados_2turno = df_estados_2turno.rename(columns={\n",
        "       '16 anos':'16_anos_masculino', '17 anos':'17_anos_masculino', '18 anos':'18_anos_masculino',\n",
        "       '19 anos':'19_anos_masculino', '20 anos':'20_anos_masculino', '21 a 24 anos':'21_24_anos_masculino',\n",
        "       '25 a 29 anos':'25_29_anos_masculino', '30 a 34 anos':'30_34_anos_masculino', '35 a 39 anos':'35_39_anos_masculino',\n",
        "       '40 a 44 anos':'40_44_anos_masculino', '45 a 49 anos':'45_49_anos_masculino',\n",
        "       '50 a 54 anos':'50_54_anos_masculino', '55 a 59 anos':'55_59_anos_masculino',\n",
        "       '60 a 64 anos':'60_64_anos_masculino', '65 a 69 anos':'65_69_anos_masculino',\n",
        "       '70 a 74 anos':'70_74_anos_masculino', '75 a 79 anos':'75_79_anos_masculino',\n",
        "       '80 a 84 anos':'80_84_anos_masculino', '85 a 89 anos':'85_89_anos_masculino',\n",
        "       '90 a 94 anos':'90_94_anos_masculino', '95 a 99 anos':'95_99_anos_masculino',\n",
        "       '100 anos ou mais':'100_anos_masculino',})"
      ],
      "metadata": {
        "id": "YzcLgncQbyuy"
      },
      "execution_count": null,
      "outputs": []
    },
    {
      "cell_type": "code",
      "source": [
        "faixa_etaria_masculina_colunas = {\n",
        "    '16_anos_masculino_percentual(%)': ['16_anos_masculino', '16_anos'],\n",
        "    '17_anos_masculino_percentual(%)': ['17_anos_masculino', '17_anos'],\n",
        "    '18_anos_masculino_percentual(%)': ['18_anos_masculino', '18_anos'],\n",
        "    '19_anos_masculino_percentual(%)': ['19_anos_masculino', '19_anos'],\n",
        "    '20_anos_masculino_percentual(%)': ['20_anos_masculino', '20_anos'],\n",
        "    '21_24_anos_masculino_percentual(%)': ['21_24_anos_masculino', '21_24_anos'],\n",
        "    '25_29_anos_masculino_percentual(%)': ['25_29_anos_masculino', '25_29_anos'],\n",
        "    '30_34_anos_masculino_percentual(%)': ['30_34_anos_masculino', '30_34_anos'],\n",
        "    '35_39_anos_masculino_percentual(%)': ['35_39_anos_masculino', '35_39_anos'],\n",
        "    '40_44_anos_masculino_percentual(%)': ['40_44_anos_masculino', '40_44_anos'],\n",
        "    '45_49_anos_masculino_percentual(%)': ['45_49_anos_masculino', '45_49_anos'],\n",
        "    '50_54_anos_masculino_percentual(%)': ['50_54_anos_masculino', '50_54_anos'],\n",
        "    '55_59_anos_masculino_percentual(%)': ['55_59_anos_masculino', '55_59_anos'],\n",
        "    '60_64_anos_masculino_percentual(%)': ['60_64_anos_masculino', '60_64_anos'],\n",
        "    '65_69_anos_masculino_percentual(%)': ['65_69_anos_masculino', '65_69_anos'],\n",
        "    '70_74_anos_masculino_percentual(%)': ['70_74_anos_masculino', '70_74_anos'],\n",
        "    '75_79_anos_masculino_percentual(%)': ['75_79_anos_masculino', '75_79_anos'],\n",
        "    '80_84_anos_masculino_percentual(%)': ['80_84_anos_masculino', '80_84_anos'],\n",
        "    '85_89_anos_masculino_percentual(%)': ['85_89_anos_masculino', '85_89_anos'],\n",
        "    '90_94_anos_masculino_percentual(%)': ['90_94_anos_masculino', '90_94_anos'],\n",
        "    '95_99_anos_masculino_percentual(%)': ['95_99_anos_masculino', '95_99_anos'],\n",
        "    '100_anos_masculino_percentual(%)'  : ['100_anos_masculino', '100_anos']\n",
        "}\n",
        "\n",
        "for coluna_percentual, faixa_etaria in faixa_etaria_masculina_colunas.items():\n",
        "  df_estados_2turno[coluna_percentual] = (df_estados_2turno[faixa_etaria[0]] / df_estados_2turno[faixa_etaria[1]] * 100).round(2)"
      ],
      "metadata": {
        "id": "KdUftAxXZFyc"
      },
      "execution_count": null,
      "outputs": []
    },
    {
      "cell_type": "markdown",
      "metadata": {
        "id": "qgStRayINe37"
      },
      "source": [
        "### Faixa etária do eleitorado feminino"
      ]
    },
    {
      "cell_type": "code",
      "execution_count": null,
      "metadata": {
        "id": "szrFj3zlNe38"
      },
      "outputs": [],
      "source": [
        "faixa_etaria_feminino = df_turno_2_2020[df_turno_2_2020['DS_GENERO'] == 'FEMININO'].groupby(['SG_UF', 'DS_FAIXA_ETARIA'])['QT_APTOS'].sum().reset_index()\n",
        "# Pivotar a tabela para obter as colunas desejadas\n",
        "df_pivot = faixa_etaria_masculino.pivot_table(index=['SG_UF'], columns='DS_FAIXA_ETARIA', values='QT_APTOS', fill_value=0).reset_index()\n",
        "\n",
        "# Juntar os resultados ao DataFrame df_estados_2turno\n",
        "df_estados_2turno = df_estados_2turno.merge(df_pivot, how='left', left_on=['SG_UF'], right_on=['SG_UF'])\n",
        "# df_estados_2turno = df_estados_2turno.sort_values(by=['SG_UF'])"
      ]
    },
    {
      "cell_type": "code",
      "execution_count": null,
      "metadata": {
        "id": "J2BFD7TMNe38"
      },
      "outputs": [],
      "source": [
        "df_estados_2turno = df_estados_2turno.rename(columns={\n",
        "       '16 anos':'16_anos_feminino', '17 anos':'17_anos_feminino', '18 anos':'18_anos_feminino',\n",
        "       '19 anos':'19_anos_feminino', '20 anos':'20_anos_feminino', '21 a 24 anos':'21_24_anos_feminino',\n",
        "       '25 a 29 anos':'25_29_anos_feminino', '30 a 34 anos':'30_34_anos_feminino', '35 a 39 anos':'35_39_anos_feminino',\n",
        "       '40 a 44 anos':'40_44_anos_feminino', '45 a 49 anos':'45_49_anos_feminino',\n",
        "       '50 a 54 anos':'50_54_anos_feminino', '55 a 59 anos':'55_59_anos_feminino',\n",
        "       '60 a 64 anos':'60_64_anos_feminino', '65 a 69 anos':'65_69_anos_feminino',\n",
        "       '70 a 74 anos':'70_74_anos_feminino', '75 a 79 anos':'75_79_anos_feminino',\n",
        "       '80 a 84 anos':'80_84_anos_feminino', '85 a 89 anos':'85_89_anos_feminino',\n",
        "       '90 a 94 anos':'90_94_anos_feminino', '95 a 99 anos':'95_99_anos_feminino',\n",
        "       '100 anos ou mais':'100_anos_feminino',})"
      ]
    },
    {
      "cell_type": "code",
      "execution_count": null,
      "metadata": {
        "id": "PT2bxc-LNe38"
      },
      "outputs": [],
      "source": [
        "faixa_etaria_feminina_colunas = {\n",
        "    '16_anos_feminino_percentual(%)': ['16_anos_feminino', '16_anos'],\n",
        "    '17_anos_feminino_percentual(%)': ['17_anos_feminino', '17_anos'],\n",
        "    '18_anos_feminino_percentual(%)': ['18_anos_feminino', '18_anos'],\n",
        "    '19_anos_feminino_percentual(%)': ['19_anos_feminino', '19_anos'],\n",
        "    '20_anos_feminino_percentual(%)': ['20_anos_feminino', '20_anos'],\n",
        "    '21_24_anos_feminino_percentual(%)': ['21_24_anos_feminino', '21_24_anos'],\n",
        "    '25_29_anos_feminino_percentual(%)': ['25_29_anos_feminino', '25_29_anos'],\n",
        "    '30_34_anos_feminino_percentual(%)': ['30_34_anos_feminino', '30_34_anos'],\n",
        "    '35_39_anos_feminino_percentual(%)': ['35_39_anos_feminino', '35_39_anos'],\n",
        "    '40_44_anos_feminino_percentual(%)': ['40_44_anos_feminino', '40_44_anos'],\n",
        "    '45_49_anos_feminino_percentual(%)': ['45_49_anos_feminino', '45_49_anos'],\n",
        "    '50_54_anos_feminino_percentual(%)': ['50_54_anos_feminino', '50_54_anos'],\n",
        "    '55_59_anos_feminino_percentual(%)': ['55_59_anos_feminino', '55_59_anos'],\n",
        "    '60_64_anos_feminino_percentual(%)': ['60_64_anos_feminino', '60_64_anos'],\n",
        "    '65_69_anos_feminino_percentual(%)': ['65_69_anos_feminino', '65_69_anos'],\n",
        "    '70_74_anos_feminino_percentual(%)': ['70_74_anos_feminino', '70_74_anos'],\n",
        "    '75_79_anos_feminino_percentual(%)': ['75_79_anos_feminino', '75_79_anos'],\n",
        "    '80_84_anos_feminino_percentual(%)': ['80_84_anos_feminino', '80_84_anos'],\n",
        "    '85_89_anos_feminino_percentual(%)': ['85_89_anos_feminino', '85_89_anos'],\n",
        "    '90_94_anos_feminino_percentual(%)': ['90_94_anos_feminino', '90_94_anos'],\n",
        "    '95_99_anos_feminino_percentual(%)': ['95_99_anos_feminino', '95_99_anos'],\n",
        "    '100_anos_feminino_percentual(%)'  : ['100_anos_feminino', '100_anos']\n",
        "}\n",
        "\n",
        "for coluna_percentual, faixa_etaria in faixa_etaria_feminina_colunas.items():\n",
        "  df_estados_2turno[coluna_percentual] = (df_estados_2turno[faixa_etaria[0]] / df_estados_2turno[faixa_etaria[1]] * 100).round(2)"
      ]
    },
    {
      "cell_type": "markdown",
      "metadata": {
        "id": "XppApg5KNe39"
      },
      "source": [
        "## Eleitorado facultativo"
      ]
    },
    {
      "cell_type": "code",
      "execution_count": null,
      "metadata": {
        "id": "5O3EG7DzZyi9"
      },
      "outputs": [],
      "source": [
        "def eleitorado_facultativo_estados_1turno():\n",
        "  return int(df_estados_2turno['16_anos'].values[i]\n",
        "  + df_estados_2turno['17_anos'].values[i]\n",
        "  + df_estados_2turno['65_69_anos'].values[i]\n",
        "  + df_estados_2turno['70_74_anos'].values[i]\n",
        "  + df_estados_2turno['75_79_anos'].values[i]\n",
        "  + df_estados_2turno['80_84_anos'].values[i]\n",
        "  + df_estados_2turno['85_89_anos'].values[i]\n",
        "  + df_estados_2turno['90_94_anos'].values[i]\n",
        "  + df_estados_2turno['95_99_anos'].values[i]\n",
        "  + df_estados_2turno['100_anos'].values[i])"
      ]
    },
    {
      "cell_type": "code",
      "execution_count": null,
      "metadata": {
        "id": "KD3AllTFZyi-",
        "colab": {
          "base_uri": "https://localhost:8080/"
        },
        "outputId": "79d94ee5-3a31-4bef-9e28-bb1c96e191a9"
      },
      "outputs": [
        {
          "output_type": "stream",
          "name": "stderr",
          "text": [
            "<ipython-input-67-ed8f2b840a7f>:4: SettingWithCopyWarning: \n",
            "A value is trying to be set on a copy of a slice from a DataFrame\n",
            "\n",
            "See the caveats in the documentation: https://pandas.pydata.org/pandas-docs/stable/user_guide/indexing.html#returning-a-view-versus-a-copy\n",
            "  df_estados_2turno['eleitorado_facultativo'][i] = eleitorado_facultativo_estados_1turno()\n"
          ]
        }
      ],
      "source": [
        "df_estados_2turno['eleitorado_facultativo'] = 0\n",
        "\n",
        "for i in range(len(df_estados_2turno['SG_UF'])):\n",
        "  df_estados_2turno['eleitorado_facultativo'][i] = eleitorado_facultativo_estados_1turno()"
      ]
    },
    {
      "cell_type": "code",
      "execution_count": null,
      "metadata": {
        "id": "9HFmmeA4Zyi_"
      },
      "outputs": [],
      "source": [
        "def eleitorado_facultativo_estados_1turno_percentual():\n",
        "  return round(((df_estados_2turno['eleitorado_facultativo'][i] / df_estados_2turno['aptos'][i]) * 100), 2)"
      ]
    },
    {
      "cell_type": "code",
      "execution_count": null,
      "metadata": {
        "id": "RuZCM-E1ZyjB",
        "colab": {
          "base_uri": "https://localhost:8080/"
        },
        "outputId": "f3b23627-c7b5-4271-a536-6436fa57a78f"
      },
      "outputs": [
        {
          "output_type": "stream",
          "name": "stderr",
          "text": [
            "<ipython-input-69-1738c168ae91>:4: SettingWithCopyWarning: \n",
            "A value is trying to be set on a copy of a slice from a DataFrame\n",
            "\n",
            "See the caveats in the documentation: https://pandas.pydata.org/pandas-docs/stable/user_guide/indexing.html#returning-a-view-versus-a-copy\n",
            "  df_estados_2turno['eleitorado_facultativo_percentual(%)'][i] = eleitorado_facultativo_estados_1turno_percentual()\n"
          ]
        }
      ],
      "source": [
        "df_estados_2turno['eleitorado_facultativo_percentual(%)'] = 0.0\n",
        "\n",
        "for i in range(len(df_estados_2turno['SG_UF'])):\n",
        "  df_estados_2turno['eleitorado_facultativo_percentual(%)'][i] = eleitorado_facultativo_estados_1turno_percentual()"
      ]
    },
    {
      "cell_type": "markdown",
      "metadata": {
        "id": "Wmtgwlh8Ne3-"
      },
      "source": [
        "### Eleitorado facultativo masculino"
      ]
    },
    {
      "cell_type": "code",
      "execution_count": null,
      "metadata": {
        "id": "buC71DsSNe3-"
      },
      "outputs": [],
      "source": [
        "def eleitorado_facultativo_masculino_estados_1turno():\n",
        "  return int(df_estados_2turno['16_anos_masculino'].values[i]\n",
        "  + df_estados_2turno['17_anos_masculino'].values[i]\n",
        "  + df_estados_2turno['65_69_anos_masculino'].values[i]\n",
        "  + df_estados_2turno['70_74_anos_masculino'].values[i]\n",
        "  + df_estados_2turno['75_79_anos_masculino'].values[i]\n",
        "  + df_estados_2turno['80_84_anos_masculino'].values[i]\n",
        "  + df_estados_2turno['85_89_anos_masculino'].values[i]\n",
        "  + df_estados_2turno['90_94_anos_masculino'].values[i]\n",
        "  + df_estados_2turno['95_99_anos_masculino'].values[i]\n",
        "  + df_estados_2turno['100_anos_masculino'].values[i])"
      ]
    },
    {
      "cell_type": "code",
      "execution_count": null,
      "metadata": {
        "id": "8v14HWubNe3-",
        "colab": {
          "base_uri": "https://localhost:8080/"
        },
        "outputId": "22c9c234-a118-4a87-8484-bb4faa14ce55"
      },
      "outputs": [
        {
          "output_type": "stream",
          "name": "stderr",
          "text": [
            "<ipython-input-71-8c6d247c9181>:4: SettingWithCopyWarning: \n",
            "A value is trying to be set on a copy of a slice from a DataFrame\n",
            "\n",
            "See the caveats in the documentation: https://pandas.pydata.org/pandas-docs/stable/user_guide/indexing.html#returning-a-view-versus-a-copy\n",
            "  df_estados_2turno['eleitorado_facultativo_masculino'][i] = eleitorado_facultativo_masculino_estados_1turno()\n"
          ]
        }
      ],
      "source": [
        "df_estados_2turno['eleitorado_facultativo_masculino'] = 0\n",
        "\n",
        "for i in range(len(df_estados_2turno['SG_UF'])):\n",
        "  df_estados_2turno['eleitorado_facultativo_masculino'][i] = eleitorado_facultativo_masculino_estados_1turno()"
      ]
    },
    {
      "cell_type": "code",
      "execution_count": null,
      "metadata": {
        "id": "Qu7sqd0qNe3-"
      },
      "outputs": [],
      "source": [
        "def eleitorado_facultativo_masculino_estados_1turno_percentual():\n",
        "  return round(((df_estados_2turno['eleitorado_facultativo_masculino'][i] / df_estados_2turno['aptos'][i]) * 100), 2)"
      ]
    },
    {
      "cell_type": "code",
      "execution_count": null,
      "metadata": {
        "id": "k2sTMMd2Ne3-",
        "colab": {
          "base_uri": "https://localhost:8080/"
        },
        "outputId": "2950513f-7ba6-4d6d-b319-d402b82370b8"
      },
      "outputs": [
        {
          "output_type": "stream",
          "name": "stderr",
          "text": [
            "<ipython-input-73-d8facbeac98a>:4: SettingWithCopyWarning: \n",
            "A value is trying to be set on a copy of a slice from a DataFrame\n",
            "\n",
            "See the caveats in the documentation: https://pandas.pydata.org/pandas-docs/stable/user_guide/indexing.html#returning-a-view-versus-a-copy\n",
            "  df_estados_2turno['eleitorado_facultativo_masculino_percentual(%)'][i] = eleitorado_facultativo_masculino_estados_1turno_percentual()\n"
          ]
        }
      ],
      "source": [
        "df_estados_2turno['eleitorado_facultativo_masculino_percentual(%)'] = 0.0\n",
        "\n",
        "for i in range(len(df_estados_2turno['SG_UF'])):\n",
        "  df_estados_2turno['eleitorado_facultativo_masculino_percentual(%)'][i] = eleitorado_facultativo_masculino_estados_1turno_percentual()"
      ]
    },
    {
      "cell_type": "markdown",
      "metadata": {
        "id": "HO0x6ZXdNe3_"
      },
      "source": [
        "### Eleitorado facultativo feminino"
      ]
    },
    {
      "cell_type": "code",
      "execution_count": null,
      "metadata": {
        "id": "E_pr5k9ONe3_"
      },
      "outputs": [],
      "source": [
        "def eleitorado_facultativo_feminino_estados_1turno():\n",
        "  return df_estados_2turno['eleitorado_facultativo'][i] - df_estados_2turno['eleitorado_facultativo_masculino'][i]"
      ]
    },
    {
      "cell_type": "code",
      "execution_count": null,
      "metadata": {
        "id": "X3uclfi4Ne3_",
        "colab": {
          "base_uri": "https://localhost:8080/"
        },
        "outputId": "c9804aff-64d4-46c1-c2f9-f810c0df7232"
      },
      "outputs": [
        {
          "output_type": "stream",
          "name": "stderr",
          "text": [
            "<ipython-input-75-e105adca4fd3>:4: SettingWithCopyWarning: \n",
            "A value is trying to be set on a copy of a slice from a DataFrame\n",
            "\n",
            "See the caveats in the documentation: https://pandas.pydata.org/pandas-docs/stable/user_guide/indexing.html#returning-a-view-versus-a-copy\n",
            "  df_estados_2turno['eleitorado_facultativo_feminino'][i] = eleitorado_facultativo_feminino_estados_1turno()\n"
          ]
        }
      ],
      "source": [
        "df_estados_2turno['eleitorado_facultativo_feminino'] = 0\n",
        "\n",
        "for i in range(len(df_estados_2turno['SG_UF'])):\n",
        "  df_estados_2turno['eleitorado_facultativo_feminino'][i] = eleitorado_facultativo_feminino_estados_1turno()"
      ]
    },
    {
      "cell_type": "code",
      "execution_count": null,
      "metadata": {
        "id": "H1rdr5MRNe3_"
      },
      "outputs": [],
      "source": [
        "def eleitorado_facultativo_feminino_estados_1turno_percentual():\n",
        "  return round(((df_estados_2turno['eleitorado_facultativo_feminino'][i] / df_estados_2turno['aptos'][i]) * 100), 2)"
      ]
    },
    {
      "cell_type": "code",
      "execution_count": null,
      "metadata": {
        "id": "iyyilvf3Ne3_",
        "colab": {
          "base_uri": "https://localhost:8080/"
        },
        "outputId": "d4a27bbf-9710-44a4-fd6c-5eb0766a0f77"
      },
      "outputs": [
        {
          "output_type": "stream",
          "name": "stderr",
          "text": [
            "<ipython-input-77-96f277d9bef4>:4: SettingWithCopyWarning: \n",
            "A value is trying to be set on a copy of a slice from a DataFrame\n",
            "\n",
            "See the caveats in the documentation: https://pandas.pydata.org/pandas-docs/stable/user_guide/indexing.html#returning-a-view-versus-a-copy\n",
            "  df_estados_2turno['eleitorado_facultativo_feminino_percentual(%)'][i] = eleitorado_facultativo_feminino_estados_1turno_percentual()\n"
          ]
        }
      ],
      "source": [
        "df_estados_2turno['eleitorado_facultativo_feminino_percentual(%)'] = 0.0\n",
        "\n",
        "for i in range(len(df_estados_2turno['SG_UF'])):\n",
        "  df_estados_2turno['eleitorado_facultativo_feminino_percentual(%)'][i] = eleitorado_facultativo_feminino_estados_1turno_percentual()"
      ]
    },
    {
      "cell_type": "markdown",
      "metadata": {
        "id": "k5l0atwsNe3_"
      },
      "source": [
        "## Estado civil do eleitorado"
      ]
    },
    {
      "cell_type": "code",
      "source": [
        "estado_civil = df_turno_2_2020.groupby(['SG_UF', 'DS_ESTADO_CIVIL'])['QT_APTOS'].sum().reset_index()\n",
        "df_pivot = estado_civil.pivot_table(index=['SG_UF'], columns='DS_ESTADO_CIVIL', values='QT_APTOS', fill_value=0).reset_index()\n",
        "df_pivot = df_pivot.rename(columns={\n",
        "       'SOLTEIRO':'solteiro', 'CASADO':'casado', 'DIVORCIADO':'divorciado',\n",
        "       'VIÚVO':'viuvo', 'SEPARADO JUDICIALMENTE':'separado_judicialmente'})\n",
        "df_pivot = df_pivot[['SG_UF', 'solteiro', 'casado',\n",
        "      'divorciado', 'viuvo', 'separado_judicialmente']]\n",
        "df_estados_2turno = df_estados_2turno.merge(df_pivot, how='left', left_on=['SG_UF'], right_on=['SG_UF'])\n",
        "del estado_civil, df_pivot"
      ],
      "metadata": {
        "id": "N6LO_HYrZuuh"
      },
      "execution_count": null,
      "outputs": []
    },
    {
      "cell_type": "markdown",
      "source": [
        "### Estado civil percentual do eleitorado"
      ],
      "metadata": {
        "id": "Ddh8FPi_fB96"
      }
    },
    {
      "cell_type": "code",
      "source": [
        "estados_civil = {\n",
        "    'solteiro_percentual(%)': 'solteiro',\n",
        "    'casado_percentual(%)': 'casado',\n",
        "    'divorciado_percentual(%)': 'divorciado',\n",
        "    'viuvo_percentual(%)': 'viuvo',\n",
        "    'separado_judicialmente_percentual(%)': 'separado_judicialmente'\n",
        "}\n",
        "\n",
        "for estado_percentual, ec in estados_civil.items():\n",
        "  df_estados_2turno[coluna_percentual] = (df_estados_2turno[ec] / df_estados_2turno['aptos'] * 100).round(2)"
      ],
      "metadata": {
        "id": "IGI2mScLdcjP"
      },
      "execution_count": null,
      "outputs": []
    },
    {
      "cell_type": "markdown",
      "metadata": {
        "id": "auPtneS8Ne4A"
      },
      "source": [
        "### Estado civil do eleitorado masculino"
      ]
    },
    {
      "cell_type": "code",
      "execution_count": null,
      "metadata": {
        "id": "DeBjQKFkNe4A"
      },
      "outputs": [],
      "source": [
        "# Filtra os dados apenas para o gênero masculino\n",
        "df_turno_2_2020_masculino = df_turno_2_2020[df_turno_2_2020['DS_GENERO'] == 'MASCULINO']\n",
        "\n",
        "# Realiza a agregação dos dados por município e grau de escolaridade\n",
        "agregado_masculino = df_turno_2_2020_masculino.groupby(['SG_UF', 'DS_ESTADO_CIVIL'])['QT_APTOS'].sum().reset_index()\n",
        "\n",
        "# Realiza o pivot para transformar as colunas de grau de escolaridade em colunas do dataframe\n",
        "pivot_masculino = agregado_masculino.pivot_table(index=['SG_UF'], columns='DS_ESTADO_CIVIL', values='QT_APTOS').reset_index()\n",
        "pivot_masculino = pivot_masculino.rename(columns={\n",
        "       'SOLTEIRO':'solteiro_masculino', 'CASADO':'casado_masculino', 'DIVORCIADO':'divorciado_masculino',\n",
        "       'VIÚVO':'viuvo_masculino', 'SEPARADO JUDICIALMENTE':'separado_judicialmente_masculino'})\n",
        "pivot_masculino = pivot_masculino[['SG_UF', 'solteiro_masculino', 'casado_masculino',\n",
        "      'divorciado_masculino', 'viuvo_masculino', 'separado_judicialmente_masculino']]\n",
        "\n",
        "pivot_masculino = pivot_masculino.fillna(0)\n",
        "\n",
        "for coluna in pivot_masculino:\n",
        "  if (coluna != 'SG_UF'):\n",
        "    pivot_masculino[coluna] = pivot_masculino[coluna].astype(int)\n",
        "# Junta os dados no dataframe df_estados_2turno\n",
        "df_estados_2turno = df_estados_2turno.merge(pivot_masculino, on=['SG_UF'], how='left')"
      ]
    },
    {
      "cell_type": "code",
      "source": [
        "estados_civil_percentual_masculino = {\n",
        "    'solteiro_masculino_percentual(%)': ['solteiro_masculino', 'solteiro'],\n",
        "    'casado_masculino_percentual(%)': ['casado_masculino', 'casado'],\n",
        "    'divorciado_masculino_percentual(%)': ['divorciado_masculino', 'divorciado'],\n",
        "    'viuvo_masculino_percentual(%)': ['viuvo_masculino', 'viuvo'],\n",
        "    'separado_judicialmente_masculino_percentual(%)': ['separado_judicialmente_masculino', 'separado_judicialmente']\n",
        "}\n",
        "\n",
        "for estado_percentual, ec in estados_civil_percentual_masculino.items():\n",
        "  df_estados_2turno[estado_percentual] = (df_estados_2turno[ec[0]] / df_estados_2turno[ec[1]] * 100).round(2)"
      ],
      "metadata": {
        "id": "Hofy5lbjmfc0"
      },
      "execution_count": null,
      "outputs": []
    },
    {
      "cell_type": "markdown",
      "metadata": {
        "id": "-c1rXOw6Ne4B"
      },
      "source": [
        "### Estado civil do eleitorado feminino"
      ]
    },
    {
      "cell_type": "code",
      "execution_count": null,
      "metadata": {
        "id": "DbsDjC30Ne4B"
      },
      "outputs": [],
      "source": [
        "# Filtra os dados apenas para o gênero masculino\n",
        "df_turno_2_2020_feminino = df_turno_2_2020[df_turno_2_2020['DS_GENERO'] == 'FEMININO']\n",
        "\n",
        "# Realiza a agregação dos dados por município e grau de escolaridade\n",
        "agregado_feminino = df_turno_2_2020_feminino.groupby(['SG_UF', 'DS_ESTADO_CIVIL'])['QT_APTOS'].sum().reset_index()\n",
        "\n",
        "# Realiza o pivot para transformar as colunas de grau de escolaridade em colunas do dataframe\n",
        "pivot_feminino = agregado_feminino.pivot_table(index=['SG_UF'], columns='DS_ESTADO_CIVIL', values='QT_APTOS').reset_index()\n",
        "pivot_feminino = pivot_feminino.rename(columns={\n",
        "       'SOLTEIRO':'solteiro_feminino', 'CASADO':'casado_feminino', 'DIVORCIADO':'divorciado_feminino',\n",
        "       'VIÚVO':'viuvo_feminino', 'SEPARADO JUDICIALMENTE':'separado_judicialmente_feminino'})\n",
        "pivot_feminino = pivot_feminino[['SG_UF', 'solteiro_feminino', 'casado_feminino',\n",
        "      'divorciado_feminino', 'viuvo_feminino', 'separado_judicialmente_feminino']]\n",
        "# Junta os dados no dataframe df_estados_2turno\n",
        "df_estados_2turno = df_estados_2turno.merge(pivot_feminino, on=['SG_UF'], how='left')"
      ]
    },
    {
      "cell_type": "code",
      "execution_count": null,
      "metadata": {
        "id": "Wj4naIyjNe4C"
      },
      "outputs": [],
      "source": [
        "estados_civil_percentual_feminino = {\n",
        "    'solteiro_feminino_percentual(%)': ['solteiro_feminino', 'solteiro'],\n",
        "    'casado_feminino_percentual(%)': ['casado_feminino', 'casado'],\n",
        "    'divorciado_feminino_percentual(%)': ['divorciado_feminino', 'divorciado'],\n",
        "    'viuvo_feminino_percentual(%)': ['viuvo_feminino', 'viuvo'],\n",
        "    'separado_judicialmente_feminino_percentual(%)': ['separado_judicialmente_feminino', 'separado_judicialmente']\n",
        "}\n",
        "\n",
        "for estado_percentual, ec in estados_civil_percentual_feminino.items():\n",
        "  df_estados_2turno[estado_percentual] = (df_estados_2turno[ec[0]] / df_estados_2turno[ec[1]] * 100).round(2)"
      ]
    },
    {
      "cell_type": "markdown",
      "metadata": {
        "id": "ck25QUrONe4C"
      },
      "source": [
        "## Eleitorado masculino solteiro por faixa etária"
      ]
    },
    {
      "cell_type": "code",
      "source": [
        "# Filtra os dados apenas para o gênero masculino e solteiro\n",
        "df_turno_2_2020_masculino = df_turno_2_2020[(df_turno_2_2020['DS_GENERO'] == 'MASCULINO') & (df_turno_2_2020['DS_ESTADO_CIVIL'] == 'SOLTEIRO')].groupby(['SG_UF', 'DS_FAIXA_ETARIA',])['QT_APTOS'].sum().reset_index()\n",
        "\n",
        "# Realiza o pivot para transformar as colunas de grau de escolaridade em colunas do dataframe\n",
        "pivot_masculino = df_turno_2_2020_masculino.pivot_table(index=['SG_UF'], columns='DS_FAIXA_ETARIA', values='QT_APTOS').reset_index()\n",
        "pivot_masculino = pivot_masculino.fillna(0)\n",
        "pivot_masculino = pivot_masculino.rename(columns={\n",
        "       '16 anos':'16_anos_solteiro_masculino', '17 anos':'17_anos_solteiro_masculino', '18 anos':'18_anos_solteiro_masculino',\n",
        "       '19 anos':'19_anos_solteiro_masculino', '20 anos':'20_anos_solteiro_masculino', '21 a 24 anos':'21_24_anos_solteiro_masculino',\n",
        "       '25 a 29 anos':'25_29_anos_solteiro_masculino', '30 a 34 anos':'30_34_anos_solteiro_masculino', '35 a 39 anos':'35_39_anos_solteiro_masculino',\n",
        "       '40 a 44 anos':'40_44_anos_solteiro_masculino', '45 a 49 anos':'45_49_anos_solteiro_masculino',\n",
        "       '50 a 54 anos':'50_54_anos_solteiro_masculino', '55 a 59 anos':'55_59_anos_solteiro_masculino',\n",
        "       '60 a 64 anos':'60_64_anos_solteiro_masculino', '65 a 69 anos':'65_69_anos_solteiro_masculino',\n",
        "       '70 a 74 anos':'70_74_anos_solteiro_masculino', '75 a 79 anos':'75_79_anos_solteiro_masculino',\n",
        "       '80 a 84 anos':'80_84_anos_solteiro_masculino', '85 a 89 anos':'85_89_anos_solteiro_masculino',\n",
        "       '90 a 94 anos':'90_94_anos_solteiro_masculino', '95 a 99 anos':'95_99_anos_solteiro_masculino',\n",
        "       '100 anos ou mais':'100_anos_solteiro_masculino',})\n",
        "\n",
        "pivot_masculino = pivot_masculino[['SG_UF',\n",
        "       '16_anos_solteiro_masculino', '17_anos_solteiro_masculino',\n",
        "       '18_anos_solteiro_masculino', '19_anos_solteiro_masculino',\n",
        "       '20_anos_solteiro_masculino', '21_24_anos_solteiro_masculino',\n",
        "       '25_29_anos_solteiro_masculino', '30_34_anos_solteiro_masculino',\n",
        "       '35_39_anos_solteiro_masculino', '40_44_anos_solteiro_masculino',\n",
        "       '45_49_anos_solteiro_masculino', '50_54_anos_solteiro_masculino',\n",
        "       '55_59_anos_solteiro_masculino', '60_64_anos_solteiro_masculino',\n",
        "       '65_69_anos_solteiro_masculino', '70_74_anos_solteiro_masculino',\n",
        "       '75_79_anos_solteiro_masculino', '80_84_anos_solteiro_masculino',\n",
        "       '85_89_anos_solteiro_masculino', '90_94_anos_solteiro_masculino',\n",
        "       '95_99_anos_solteiro_masculino', '100_anos_solteiro_masculino',]]\n",
        "\n",
        "for i in pivot_masculino.columns:\n",
        "  if ((i != 'SG_UF')):\n",
        "    pivot_masculino[i] = pivot_masculino[i].astype(int)\n",
        "\n",
        "df_estados_2turno = df_estados_2turno.merge(pivot_masculino, on=['SG_UF'], how='left')"
      ],
      "metadata": {
        "id": "Tm7TG3E8tREa"
      },
      "execution_count": null,
      "outputs": []
    },
    {
      "cell_type": "code",
      "source": [
        "estados_civil_percentual_masculino = {\n",
        "    '16_anos_solteiro_masculino_percentual(%)':['16_anos_solteiro_masculino','16_anos'],\n",
        "    '17_anos_solteiro_masculino_percentual(%)':['17_anos_solteiro_masculino','17_anos'],\n",
        "    '18_anos_solteiro_masculino_percentual(%)':['18_anos_solteiro_masculino','18_anos'],\n",
        "    '19_anos_solteiro_masculino_percentual(%)':['19_anos_solteiro_masculino','19_anos'],\n",
        "    '20_anos_solteiro_masculino_percentual(%)':['20_anos_solteiro_masculino','20_anos'],\n",
        "    '21_24_anos_solteiro_masculino_percentual(%)':['21_24_anos_solteiro_masculino','21_24_anos'],\n",
        "    '25_29_anos_solteiro_masculino_percentual(%)':['25_29_anos_solteiro_masculino','25_29_anos'],\n",
        "    '30_34_anos_solteiro_masculino_percentual(%)':['30_34_anos_solteiro_masculino','30_34_anos'],\n",
        "    '35_39_anos_solteiro_masculino_percentual(%)':['35_39_anos_solteiro_masculino','35_39_anos'],\n",
        "    '40_44_anos_solteiro_masculino_percentual(%)':['40_44_anos_solteiro_masculino','40_44_anos'],\n",
        "    '45_49_anos_solteiro_masculino_percentual(%)':['45_49_anos_solteiro_masculino','45_49_anos'],\n",
        "    '50_54_anos_solteiro_masculino_percentual(%)':['50_54_anos_solteiro_masculino','50_54_anos'],\n",
        "    '55_59_anos_solteiro_masculino_percentual(%)':['55_59_anos_solteiro_masculino','55_59_anos'],\n",
        "    '60_64_anos_solteiro_masculino_percentual(%)':['60_64_anos_solteiro_masculino','60_64_anos'],\n",
        "    '65_69_anos_solteiro_masculino_percentual(%)':['65_69_anos_solteiro_masculino','65_69_anos'],\n",
        "    '70_74_anos_solteiro_masculino_percentual(%)':['70_74_anos_solteiro_masculino','70_74_anos'],\n",
        "    '75_79_anos_solteiro_masculino_percentual(%)':['75_79_anos_solteiro_masculino','75_79_anos'],\n",
        "    '80_84_anos_solteiro_masculino_percentual(%)':['80_84_anos_solteiro_masculino','80_84_anos'],\n",
        "    '85_89_anos_solteiro_masculino_percentual(%)':['85_89_anos_solteiro_masculino','85_89_anos'],\n",
        "    '90_94_anos_solteiro_masculino_percentual(%)':['90_94_anos_solteiro_masculino','90_94_anos'],\n",
        "    '95_99_anos_solteiro_masculino_percentual(%)':['95_99_anos_solteiro_masculino','95_99_anos'],\n",
        "    '100_anos_solteiro_masculino_percentual(%)':['100_anos_solteiro_masculino','100_anos'],\n",
        "}\n",
        "\n",
        "for estado_percentual, ec in estados_civil_percentual_masculino.items():\n",
        "  df_estados_2turno[estado_percentual] = (df_estados_2turno[ec[0]] / df_estados_2turno[ec[1]] * 100).round(2)\n",
        "\n",
        "del estados_civil_percentual_masculino"
      ],
      "metadata": {
        "id": "LVRSiJ6vFm2G"
      },
      "execution_count": null,
      "outputs": []
    },
    {
      "cell_type": "markdown",
      "metadata": {
        "id": "EJ7JESX-Ne4D"
      },
      "source": [
        "## Eleitorado masculino casado por faixa etária"
      ]
    },
    {
      "cell_type": "code",
      "execution_count": null,
      "metadata": {
        "id": "bObs5PDENe4E"
      },
      "outputs": [],
      "source": [
        "# Filtra os dados apenas para o gênero masculino e casado\n",
        "df_turno_2_2020_masculino = df_turno_2_2020[(df_turno_2_2020['DS_GENERO'] == 'MASCULINO') & (df_turno_2_2020['DS_ESTADO_CIVIL'] == 'CASADO')].groupby(['SG_UF', 'DS_FAIXA_ETARIA',])['QT_APTOS'].sum().reset_index()\n",
        "\n",
        "# Realiza o pivot para transformar as colunas de grau de escolaridade em colunas do dataframe\n",
        "pivot_masculino = df_turno_2_2020_masculino.pivot_table(index=['SG_UF'], columns='DS_FAIXA_ETARIA', values='QT_APTOS').reset_index()\n",
        "pivot_masculino = pivot_masculino.fillna(0)\n",
        "pivot_masculino = pivot_masculino.rename(columns={\n",
        "       '16 anos':'16_anos_casado_masculino', '17 anos':'17_anos_casado_masculino', '18 anos':'18_anos_casado_masculino',\n",
        "       '19 anos':'19_anos_casado_masculino', '20 anos':'20_anos_casado_masculino', '21 a 24 anos':'21_24_anos_casado_masculino',\n",
        "       '25 a 29 anos':'25_29_anos_casado_masculino', '30 a 34 anos':'30_34_anos_casado_masculino', '35 a 39 anos':'35_39_anos_casado_masculino',\n",
        "       '40 a 44 anos':'40_44_anos_casado_masculino', '45 a 49 anos':'45_49_anos_casado_masculino',\n",
        "       '50 a 54 anos':'50_54_anos_casado_masculino', '55 a 59 anos':'55_59_anos_casado_masculino',\n",
        "       '60 a 64 anos':'60_64_anos_casado_masculino', '65 a 69 anos':'65_69_anos_casado_masculino',\n",
        "       '70 a 74 anos':'70_74_anos_casado_masculino', '75 a 79 anos':'75_79_anos_casado_masculino',\n",
        "       '80 a 84 anos':'80_84_anos_casado_masculino', '85 a 89 anos':'85_89_anos_casado_masculino',\n",
        "       '90 a 94 anos':'90_94_anos_casado_masculino', '95 a 99 anos':'95_99_anos_casado_masculino',\n",
        "       '100 anos ou mais':'100_anos_casado_masculino',})\n",
        "\n",
        "pivot_masculino = pivot_masculino[['SG_UF',\n",
        "       '16_anos_casado_masculino', '17_anos_casado_masculino',\n",
        "       '18_anos_casado_masculino', '19_anos_casado_masculino',\n",
        "       '20_anos_casado_masculino', '21_24_anos_casado_masculino',\n",
        "       '25_29_anos_casado_masculino', '30_34_anos_casado_masculino',\n",
        "       '35_39_anos_casado_masculino', '40_44_anos_casado_masculino',\n",
        "       '45_49_anos_casado_masculino', '50_54_anos_casado_masculino',\n",
        "       '55_59_anos_casado_masculino', '60_64_anos_casado_masculino',\n",
        "       '65_69_anos_casado_masculino', '70_74_anos_casado_masculino',\n",
        "       '75_79_anos_casado_masculino', '80_84_anos_casado_masculino',\n",
        "       '85_89_anos_casado_masculino', '90_94_anos_casado_masculino',\n",
        "       '95_99_anos_casado_masculino', '100_anos_casado_masculino',]]\n",
        "\n",
        "for i in pivot_masculino.columns:\n",
        "  if ((i != 'SG_UF')):\n",
        "    pivot_masculino[i] = pivot_masculino[i].astype(int)\n",
        "\n",
        "df_estados_2turno = df_estados_2turno.merge(pivot_masculino, on=['SG_UF'], how='left')"
      ]
    },
    {
      "cell_type": "code",
      "execution_count": null,
      "metadata": {
        "id": "OJUyoLrrNe4E",
        "colab": {
          "base_uri": "https://localhost:8080/"
        },
        "outputId": "86561bc3-c5d8-4404-f7f0-994229223455"
      },
      "outputs": [
        {
          "output_type": "stream",
          "name": "stderr",
          "text": [
            "<ipython-input-87-78956b5fed87>:27: PerformanceWarning: DataFrame is highly fragmented.  This is usually the result of calling `frame.insert` many times, which has poor performance.  Consider joining all columns at once using pd.concat(axis=1) instead. To get a de-fragmented frame, use `newframe = frame.copy()`\n",
            "  df_estados_2turno[estado_percentual] = (df_estados_2turno[ec[0]] / df_estados_2turno[ec[1]] * 100).round(2)\n",
            "<ipython-input-87-78956b5fed87>:27: PerformanceWarning: DataFrame is highly fragmented.  This is usually the result of calling `frame.insert` many times, which has poor performance.  Consider joining all columns at once using pd.concat(axis=1) instead. To get a de-fragmented frame, use `newframe = frame.copy()`\n",
            "  df_estados_2turno[estado_percentual] = (df_estados_2turno[ec[0]] / df_estados_2turno[ec[1]] * 100).round(2)\n",
            "<ipython-input-87-78956b5fed87>:27: PerformanceWarning: DataFrame is highly fragmented.  This is usually the result of calling `frame.insert` many times, which has poor performance.  Consider joining all columns at once using pd.concat(axis=1) instead. To get a de-fragmented frame, use `newframe = frame.copy()`\n",
            "  df_estados_2turno[estado_percentual] = (df_estados_2turno[ec[0]] / df_estados_2turno[ec[1]] * 100).round(2)\n",
            "<ipython-input-87-78956b5fed87>:27: PerformanceWarning: DataFrame is highly fragmented.  This is usually the result of calling `frame.insert` many times, which has poor performance.  Consider joining all columns at once using pd.concat(axis=1) instead. To get a de-fragmented frame, use `newframe = frame.copy()`\n",
            "  df_estados_2turno[estado_percentual] = (df_estados_2turno[ec[0]] / df_estados_2turno[ec[1]] * 100).round(2)\n",
            "<ipython-input-87-78956b5fed87>:27: PerformanceWarning: DataFrame is highly fragmented.  This is usually the result of calling `frame.insert` many times, which has poor performance.  Consider joining all columns at once using pd.concat(axis=1) instead. To get a de-fragmented frame, use `newframe = frame.copy()`\n",
            "  df_estados_2turno[estado_percentual] = (df_estados_2turno[ec[0]] / df_estados_2turno[ec[1]] * 100).round(2)\n",
            "<ipython-input-87-78956b5fed87>:27: PerformanceWarning: DataFrame is highly fragmented.  This is usually the result of calling `frame.insert` many times, which has poor performance.  Consider joining all columns at once using pd.concat(axis=1) instead. To get a de-fragmented frame, use `newframe = frame.copy()`\n",
            "  df_estados_2turno[estado_percentual] = (df_estados_2turno[ec[0]] / df_estados_2turno[ec[1]] * 100).round(2)\n",
            "<ipython-input-87-78956b5fed87>:27: PerformanceWarning: DataFrame is highly fragmented.  This is usually the result of calling `frame.insert` many times, which has poor performance.  Consider joining all columns at once using pd.concat(axis=1) instead. To get a de-fragmented frame, use `newframe = frame.copy()`\n",
            "  df_estados_2turno[estado_percentual] = (df_estados_2turno[ec[0]] / df_estados_2turno[ec[1]] * 100).round(2)\n",
            "<ipython-input-87-78956b5fed87>:27: PerformanceWarning: DataFrame is highly fragmented.  This is usually the result of calling `frame.insert` many times, which has poor performance.  Consider joining all columns at once using pd.concat(axis=1) instead. To get a de-fragmented frame, use `newframe = frame.copy()`\n",
            "  df_estados_2turno[estado_percentual] = (df_estados_2turno[ec[0]] / df_estados_2turno[ec[1]] * 100).round(2)\n",
            "<ipython-input-87-78956b5fed87>:27: PerformanceWarning: DataFrame is highly fragmented.  This is usually the result of calling `frame.insert` many times, which has poor performance.  Consider joining all columns at once using pd.concat(axis=1) instead. To get a de-fragmented frame, use `newframe = frame.copy()`\n",
            "  df_estados_2turno[estado_percentual] = (df_estados_2turno[ec[0]] / df_estados_2turno[ec[1]] * 100).round(2)\n"
          ]
        }
      ],
      "source": [
        "estados_civil_percentual_masculino = {\n",
        "    '16_anos_casado_masculino_percentual(%)':['16_anos_casado_masculino','16_anos'],\n",
        "    '17_anos_casado_masculino_percentual(%)':['17_anos_casado_masculino','17_anos'],\n",
        "    '18_anos_casado_masculino_percentual(%)':['18_anos_casado_masculino','18_anos'],\n",
        "    '19_anos_casado_masculino_percentual(%)':['19_anos_casado_masculino','19_anos'],\n",
        "    '20_anos_casado_masculino_percentual(%)':['20_anos_casado_masculino','20_anos'],\n",
        "    '21_24_anos_casado_masculino_percentual(%)':['21_24_anos_casado_masculino','21_24_anos'],\n",
        "    '25_29_anos_casado_masculino_percentual(%)':['25_29_anos_casado_masculino','25_29_anos'],\n",
        "    '30_34_anos_casado_masculino_percentual(%)':['30_34_anos_casado_masculino','30_34_anos'],\n",
        "    '35_39_anos_casado_masculino_percentual(%)':['35_39_anos_casado_masculino','35_39_anos'],\n",
        "    '40_44_anos_casado_masculino_percentual(%)':['40_44_anos_casado_masculino','40_44_anos'],\n",
        "    '45_49_anos_casado_masculino_percentual(%)':['45_49_anos_casado_masculino','45_49_anos'],\n",
        "    '50_54_anos_casado_masculino_percentual(%)':['50_54_anos_casado_masculino','50_54_anos'],\n",
        "    '55_59_anos_casado_masculino_percentual(%)':['55_59_anos_casado_masculino','55_59_anos'],\n",
        "    '60_64_anos_casado_masculino_percentual(%)':['60_64_anos_casado_masculino','60_64_anos'],\n",
        "    '65_69_anos_casado_masculino_percentual(%)':['65_69_anos_casado_masculino','65_69_anos'],\n",
        "    '70_74_anos_casado_masculino_percentual(%)':['70_74_anos_casado_masculino','70_74_anos'],\n",
        "    '75_79_anos_casado_masculino_percentual(%)':['75_79_anos_casado_masculino','75_79_anos'],\n",
        "    '80_84_anos_casado_masculino_percentual(%)':['80_84_anos_casado_masculino','80_84_anos'],\n",
        "    '85_89_anos_casado_masculino_percentual(%)':['85_89_anos_casado_masculino','85_89_anos'],\n",
        "    '90_94_anos_casado_masculino_percentual(%)':['90_94_anos_casado_masculino','90_94_anos'],\n",
        "    '95_99_anos_casado_masculino_percentual(%)':['95_99_anos_casado_masculino','95_99_anos'],\n",
        "    '100_anos_casado_masculino_percentual(%)':['100_anos_casado_masculino','100_anos'],\n",
        "}\n",
        "\n",
        "for estado_percentual, ec in estados_civil_percentual_masculino.items():\n",
        "  df_estados_2turno[estado_percentual] = (df_estados_2turno[ec[0]] / df_estados_2turno[ec[1]] * 100).round(2)"
      ]
    },
    {
      "cell_type": "markdown",
      "metadata": {
        "id": "Ii3jYVKgNe4F"
      },
      "source": [
        "## Eleitorado masculino divorciado por faixa etária"
      ]
    },
    {
      "cell_type": "code",
      "source": [
        "# Filtra os dados apenas para o gênero masculino e casado\n",
        "df_turno_2_2020_masculino = df_turno_2_2020[(df_turno_2_2020['DS_GENERO'] == 'MASCULINO') & (df_turno_2_2020['DS_ESTADO_CIVIL'] == 'DIVORCIADO')].groupby(['SG_UF', 'DS_FAIXA_ETARIA',])['QT_APTOS'].sum().reset_index()\n",
        "\n",
        "# Realiza o pivot para transformar as colunas de grau de escolaridade em colunas do dataframe\n",
        "pivot_masculino = df_turno_2_2020_masculino.pivot_table(index=['SG_UF'], columns='DS_FAIXA_ETARIA', values='QT_APTOS').reset_index()\n",
        "pivot_masculino = pivot_masculino.fillna(0)\n",
        "pivot_masculino = pivot_masculino.rename(columns={\n",
        "       '16 anos':'16_anos_divorciado_masculino', '17 anos':'17_anos_divorciado_masculino', '18 anos':'18_anos_divorciado_masculino',\n",
        "       '19 anos':'19_anos_divorciado_masculino', '20 anos':'20_anos_divorciado_masculino', '21 a 24 anos':'21_24_anos_divorciado_masculino',\n",
        "       '25 a 29 anos':'25_29_anos_divorciado_masculino', '30 a 34 anos':'30_34_anos_divorciado_masculino', '35 a 39 anos':'35_39_anos_divorciado_masculino',\n",
        "       '40 a 44 anos':'40_44_anos_divorciado_masculino', '45 a 49 anos':'45_49_anos_divorciado_masculino',\n",
        "       '50 a 54 anos':'50_54_anos_divorciado_masculino', '55 a 59 anos':'55_59_anos_divorciado_masculino',\n",
        "       '60 a 64 anos':'60_64_anos_divorciado_masculino', '65 a 69 anos':'65_69_anos_divorciado_masculino',\n",
        "       '70 a 74 anos':'70_74_anos_divorciado_masculino', '75 a 79 anos':'75_79_anos_divorciado_masculino',\n",
        "       '80 a 84 anos':'80_84_anos_divorciado_masculino', '85 a 89 anos':'85_89_anos_divorciado_masculino',\n",
        "       '90 a 94 anos':'90_94_anos_divorciado_masculino', '95 a 99 anos':'95_99_anos_divorciado_masculino',\n",
        "       '100 anos ou mais':'100_anos_divorciado_masculino',})\n",
        "\n",
        "pivot_masculino = pivot_masculino[['SG_UF',\n",
        "       '16_anos_divorciado_masculino', '17_anos_divorciado_masculino',\n",
        "       '18_anos_divorciado_masculino', '19_anos_divorciado_masculino',\n",
        "       '20_anos_divorciado_masculino', '21_24_anos_divorciado_masculino',\n",
        "       '25_29_anos_divorciado_masculino', '30_34_anos_divorciado_masculino',\n",
        "       '35_39_anos_divorciado_masculino', '40_44_anos_divorciado_masculino',\n",
        "       '45_49_anos_divorciado_masculino', '50_54_anos_divorciado_masculino',\n",
        "       '55_59_anos_divorciado_masculino', '60_64_anos_divorciado_masculino',\n",
        "       '65_69_anos_divorciado_masculino', '70_74_anos_divorciado_masculino',\n",
        "       '75_79_anos_divorciado_masculino', '80_84_anos_divorciado_masculino',\n",
        "       '85_89_anos_divorciado_masculino', '90_94_anos_divorciado_masculino',\n",
        "       '95_99_anos_divorciado_masculino', '100_anos_divorciado_masculino',]]\n",
        "\n",
        "for i in pivot_masculino.columns:\n",
        "  if ((i != 'SG_UF')):\n",
        "    pivot_masculino[i] = pivot_masculino[i].astype(int)\n",
        "\n",
        "df_estados_2turno = df_estados_2turno.merge(pivot_masculino, on=['SG_UF'], how='left')"
      ],
      "metadata": {
        "id": "k_Vz48b2LSmQ"
      },
      "execution_count": null,
      "outputs": []
    },
    {
      "cell_type": "code",
      "execution_count": null,
      "metadata": {
        "id": "LDwl6TheNe4F",
        "colab": {
          "base_uri": "https://localhost:8080/"
        },
        "outputId": "0321b16a-3d0e-4234-dff1-e86aae381047"
      },
      "outputs": [
        {
          "output_type": "stream",
          "name": "stderr",
          "text": [
            "<ipython-input-89-a05bfc9b7dd7>:27: PerformanceWarning: DataFrame is highly fragmented.  This is usually the result of calling `frame.insert` many times, which has poor performance.  Consider joining all columns at once using pd.concat(axis=1) instead. To get a de-fragmented frame, use `newframe = frame.copy()`\n",
            "  df_estados_2turno[estado_percentual] = (df_estados_2turno[ec[0]] / df_estados_2turno[ec[1]] * 100).round(2)\n",
            "<ipython-input-89-a05bfc9b7dd7>:27: PerformanceWarning: DataFrame is highly fragmented.  This is usually the result of calling `frame.insert` many times, which has poor performance.  Consider joining all columns at once using pd.concat(axis=1) instead. To get a de-fragmented frame, use `newframe = frame.copy()`\n",
            "  df_estados_2turno[estado_percentual] = (df_estados_2turno[ec[0]] / df_estados_2turno[ec[1]] * 100).round(2)\n",
            "<ipython-input-89-a05bfc9b7dd7>:27: PerformanceWarning: DataFrame is highly fragmented.  This is usually the result of calling `frame.insert` many times, which has poor performance.  Consider joining all columns at once using pd.concat(axis=1) instead. To get a de-fragmented frame, use `newframe = frame.copy()`\n",
            "  df_estados_2turno[estado_percentual] = (df_estados_2turno[ec[0]] / df_estados_2turno[ec[1]] * 100).round(2)\n",
            "<ipython-input-89-a05bfc9b7dd7>:27: PerformanceWarning: DataFrame is highly fragmented.  This is usually the result of calling `frame.insert` many times, which has poor performance.  Consider joining all columns at once using pd.concat(axis=1) instead. To get a de-fragmented frame, use `newframe = frame.copy()`\n",
            "  df_estados_2turno[estado_percentual] = (df_estados_2turno[ec[0]] / df_estados_2turno[ec[1]] * 100).round(2)\n",
            "<ipython-input-89-a05bfc9b7dd7>:27: PerformanceWarning: DataFrame is highly fragmented.  This is usually the result of calling `frame.insert` many times, which has poor performance.  Consider joining all columns at once using pd.concat(axis=1) instead. To get a de-fragmented frame, use `newframe = frame.copy()`\n",
            "  df_estados_2turno[estado_percentual] = (df_estados_2turno[ec[0]] / df_estados_2turno[ec[1]] * 100).round(2)\n",
            "<ipython-input-89-a05bfc9b7dd7>:27: PerformanceWarning: DataFrame is highly fragmented.  This is usually the result of calling `frame.insert` many times, which has poor performance.  Consider joining all columns at once using pd.concat(axis=1) instead. To get a de-fragmented frame, use `newframe = frame.copy()`\n",
            "  df_estados_2turno[estado_percentual] = (df_estados_2turno[ec[0]] / df_estados_2turno[ec[1]] * 100).round(2)\n",
            "<ipython-input-89-a05bfc9b7dd7>:27: PerformanceWarning: DataFrame is highly fragmented.  This is usually the result of calling `frame.insert` many times, which has poor performance.  Consider joining all columns at once using pd.concat(axis=1) instead. To get a de-fragmented frame, use `newframe = frame.copy()`\n",
            "  df_estados_2turno[estado_percentual] = (df_estados_2turno[ec[0]] / df_estados_2turno[ec[1]] * 100).round(2)\n",
            "<ipython-input-89-a05bfc9b7dd7>:27: PerformanceWarning: DataFrame is highly fragmented.  This is usually the result of calling `frame.insert` many times, which has poor performance.  Consider joining all columns at once using pd.concat(axis=1) instead. To get a de-fragmented frame, use `newframe = frame.copy()`\n",
            "  df_estados_2turno[estado_percentual] = (df_estados_2turno[ec[0]] / df_estados_2turno[ec[1]] * 100).round(2)\n",
            "<ipython-input-89-a05bfc9b7dd7>:27: PerformanceWarning: DataFrame is highly fragmented.  This is usually the result of calling `frame.insert` many times, which has poor performance.  Consider joining all columns at once using pd.concat(axis=1) instead. To get a de-fragmented frame, use `newframe = frame.copy()`\n",
            "  df_estados_2turno[estado_percentual] = (df_estados_2turno[ec[0]] / df_estados_2turno[ec[1]] * 100).round(2)\n",
            "<ipython-input-89-a05bfc9b7dd7>:27: PerformanceWarning: DataFrame is highly fragmented.  This is usually the result of calling `frame.insert` many times, which has poor performance.  Consider joining all columns at once using pd.concat(axis=1) instead. To get a de-fragmented frame, use `newframe = frame.copy()`\n",
            "  df_estados_2turno[estado_percentual] = (df_estados_2turno[ec[0]] / df_estados_2turno[ec[1]] * 100).round(2)\n",
            "<ipython-input-89-a05bfc9b7dd7>:27: PerformanceWarning: DataFrame is highly fragmented.  This is usually the result of calling `frame.insert` many times, which has poor performance.  Consider joining all columns at once using pd.concat(axis=1) instead. To get a de-fragmented frame, use `newframe = frame.copy()`\n",
            "  df_estados_2turno[estado_percentual] = (df_estados_2turno[ec[0]] / df_estados_2turno[ec[1]] * 100).round(2)\n",
            "<ipython-input-89-a05bfc9b7dd7>:27: PerformanceWarning: DataFrame is highly fragmented.  This is usually the result of calling `frame.insert` many times, which has poor performance.  Consider joining all columns at once using pd.concat(axis=1) instead. To get a de-fragmented frame, use `newframe = frame.copy()`\n",
            "  df_estados_2turno[estado_percentual] = (df_estados_2turno[ec[0]] / df_estados_2turno[ec[1]] * 100).round(2)\n",
            "<ipython-input-89-a05bfc9b7dd7>:27: PerformanceWarning: DataFrame is highly fragmented.  This is usually the result of calling `frame.insert` many times, which has poor performance.  Consider joining all columns at once using pd.concat(axis=1) instead. To get a de-fragmented frame, use `newframe = frame.copy()`\n",
            "  df_estados_2turno[estado_percentual] = (df_estados_2turno[ec[0]] / df_estados_2turno[ec[1]] * 100).round(2)\n",
            "<ipython-input-89-a05bfc9b7dd7>:27: PerformanceWarning: DataFrame is highly fragmented.  This is usually the result of calling `frame.insert` many times, which has poor performance.  Consider joining all columns at once using pd.concat(axis=1) instead. To get a de-fragmented frame, use `newframe = frame.copy()`\n",
            "  df_estados_2turno[estado_percentual] = (df_estados_2turno[ec[0]] / df_estados_2turno[ec[1]] * 100).round(2)\n",
            "<ipython-input-89-a05bfc9b7dd7>:27: PerformanceWarning: DataFrame is highly fragmented.  This is usually the result of calling `frame.insert` many times, which has poor performance.  Consider joining all columns at once using pd.concat(axis=1) instead. To get a de-fragmented frame, use `newframe = frame.copy()`\n",
            "  df_estados_2turno[estado_percentual] = (df_estados_2turno[ec[0]] / df_estados_2turno[ec[1]] * 100).round(2)\n",
            "<ipython-input-89-a05bfc9b7dd7>:27: PerformanceWarning: DataFrame is highly fragmented.  This is usually the result of calling `frame.insert` many times, which has poor performance.  Consider joining all columns at once using pd.concat(axis=1) instead. To get a de-fragmented frame, use `newframe = frame.copy()`\n",
            "  df_estados_2turno[estado_percentual] = (df_estados_2turno[ec[0]] / df_estados_2turno[ec[1]] * 100).round(2)\n",
            "<ipython-input-89-a05bfc9b7dd7>:27: PerformanceWarning: DataFrame is highly fragmented.  This is usually the result of calling `frame.insert` many times, which has poor performance.  Consider joining all columns at once using pd.concat(axis=1) instead. To get a de-fragmented frame, use `newframe = frame.copy()`\n",
            "  df_estados_2turno[estado_percentual] = (df_estados_2turno[ec[0]] / df_estados_2turno[ec[1]] * 100).round(2)\n",
            "<ipython-input-89-a05bfc9b7dd7>:27: PerformanceWarning: DataFrame is highly fragmented.  This is usually the result of calling `frame.insert` many times, which has poor performance.  Consider joining all columns at once using pd.concat(axis=1) instead. To get a de-fragmented frame, use `newframe = frame.copy()`\n",
            "  df_estados_2turno[estado_percentual] = (df_estados_2turno[ec[0]] / df_estados_2turno[ec[1]] * 100).round(2)\n",
            "<ipython-input-89-a05bfc9b7dd7>:27: PerformanceWarning: DataFrame is highly fragmented.  This is usually the result of calling `frame.insert` many times, which has poor performance.  Consider joining all columns at once using pd.concat(axis=1) instead. To get a de-fragmented frame, use `newframe = frame.copy()`\n",
            "  df_estados_2turno[estado_percentual] = (df_estados_2turno[ec[0]] / df_estados_2turno[ec[1]] * 100).round(2)\n",
            "<ipython-input-89-a05bfc9b7dd7>:27: PerformanceWarning: DataFrame is highly fragmented.  This is usually the result of calling `frame.insert` many times, which has poor performance.  Consider joining all columns at once using pd.concat(axis=1) instead. To get a de-fragmented frame, use `newframe = frame.copy()`\n",
            "  df_estados_2turno[estado_percentual] = (df_estados_2turno[ec[0]] / df_estados_2turno[ec[1]] * 100).round(2)\n",
            "<ipython-input-89-a05bfc9b7dd7>:27: PerformanceWarning: DataFrame is highly fragmented.  This is usually the result of calling `frame.insert` many times, which has poor performance.  Consider joining all columns at once using pd.concat(axis=1) instead. To get a de-fragmented frame, use `newframe = frame.copy()`\n",
            "  df_estados_2turno[estado_percentual] = (df_estados_2turno[ec[0]] / df_estados_2turno[ec[1]] * 100).round(2)\n",
            "<ipython-input-89-a05bfc9b7dd7>:27: PerformanceWarning: DataFrame is highly fragmented.  This is usually the result of calling `frame.insert` many times, which has poor performance.  Consider joining all columns at once using pd.concat(axis=1) instead. To get a de-fragmented frame, use `newframe = frame.copy()`\n",
            "  df_estados_2turno[estado_percentual] = (df_estados_2turno[ec[0]] / df_estados_2turno[ec[1]] * 100).round(2)\n"
          ]
        }
      ],
      "source": [
        "estados_civil_percentual_masculino = {\n",
        "    '16_anos_divorciado_masculino_percentual(%)':['16_anos_divorciado_masculino','16_anos'],\n",
        "    '17_anos_divorciado_masculino_percentual(%)':['17_anos_divorciado_masculino','17_anos'],\n",
        "    '18_anos_divorciado_masculino_percentual(%)':['18_anos_divorciado_masculino','18_anos'],\n",
        "    '19_anos_divorciado_masculino_percentual(%)':['19_anos_divorciado_masculino','19_anos'],\n",
        "    '20_anos_divorciado_masculino_percentual(%)':['20_anos_divorciado_masculino','20_anos'],\n",
        "    '21_24_anos_divorciado_masculino_percentual(%)':['21_24_anos_divorciado_masculino','21_24_anos'],\n",
        "    '25_29_anos_divorciado_masculino_percentual(%)':['25_29_anos_divorciado_masculino','25_29_anos'],\n",
        "    '30_34_anos_divorciado_masculino_percentual(%)':['30_34_anos_divorciado_masculino','30_34_anos'],\n",
        "    '35_39_anos_divorciado_masculino_percentual(%)':['35_39_anos_divorciado_masculino','35_39_anos'],\n",
        "    '40_44_anos_divorciado_masculino_percentual(%)':['40_44_anos_divorciado_masculino','40_44_anos'],\n",
        "    '45_49_anos_divorciado_masculino_percentual(%)':['45_49_anos_divorciado_masculino','45_49_anos'],\n",
        "    '50_54_anos_divorciado_masculino_percentual(%)':['50_54_anos_divorciado_masculino','50_54_anos'],\n",
        "    '55_59_anos_divorciado_masculino_percentual(%)':['55_59_anos_divorciado_masculino','55_59_anos'],\n",
        "    '60_64_anos_divorciado_masculino_percentual(%)':['60_64_anos_divorciado_masculino','60_64_anos'],\n",
        "    '65_69_anos_divorciado_masculino_percentual(%)':['65_69_anos_divorciado_masculino','65_69_anos'],\n",
        "    '70_74_anos_divorciado_masculino_percentual(%)':['70_74_anos_divorciado_masculino','70_74_anos'],\n",
        "    '75_79_anos_divorciado_masculino_percentual(%)':['75_79_anos_divorciado_masculino','75_79_anos'],\n",
        "    '80_84_anos_divorciado_masculino_percentual(%)':['80_84_anos_divorciado_masculino','80_84_anos'],\n",
        "    '85_89_anos_divorciado_masculino_percentual(%)':['85_89_anos_divorciado_masculino','85_89_anos'],\n",
        "    '90_94_anos_divorciado_masculino_percentual(%)':['90_94_anos_divorciado_masculino','90_94_anos'],\n",
        "    '95_99_anos_divorciado_masculino_percentual(%)':['95_99_anos_divorciado_masculino','95_99_anos'],\n",
        "    '100_anos_divorciado_masculino_percentual(%)':['100_anos_divorciado_masculino','100_anos'],\n",
        "}\n",
        "\n",
        "for estado_percentual, ec in estados_civil_percentual_masculino.items():\n",
        "  df_estados_2turno[estado_percentual] = (df_estados_2turno[ec[0]] / df_estados_2turno[ec[1]] * 100).round(2)"
      ]
    },
    {
      "cell_type": "markdown",
      "metadata": {
        "id": "6ci5Iw59Ne4H"
      },
      "source": [
        "## Eleitorado masculino viúvo por faixa etária"
      ]
    },
    {
      "cell_type": "code",
      "execution_count": null,
      "metadata": {
        "id": "OwkSRR2CNe4H"
      },
      "outputs": [],
      "source": [
        "# Filtra os dados apenas para o gênero masculino e casado\n",
        "df_turno_2_2020_masculino = df_turno_2_2020[(df_turno_2_2020['DS_GENERO'] == 'MASCULINO') & (df_turno_2_2020['DS_ESTADO_CIVIL'] == 'VIÚVO')].groupby(['SG_UF', 'DS_FAIXA_ETARIA',])['QT_APTOS'].sum().reset_index()\n",
        "\n",
        "# Realiza o pivot para transformar as colunas de grau de escolaridade em colunas do dataframe\n",
        "pivot_masculino = df_turno_2_2020_masculino.pivot_table(index=['SG_UF'], columns='DS_FAIXA_ETARIA', values='QT_APTOS').reset_index()\n",
        "pivot_masculino = pivot_masculino.fillna(0)\n",
        "pivot_masculino = pivot_masculino.rename(columns={\n",
        "       '16 anos':'16_anos_viuvo_masculino', '17 anos':'17_anos_viuvo_masculino', '18 anos':'18_anos_viuvo_masculino',\n",
        "       '19 anos':'19_anos_viuvo_masculino', '20 anos':'20_anos_viuvo_masculino', '21 a 24 anos':'21_24_anos_viuvo_masculino',\n",
        "       '25 a 29 anos':'25_29_anos_viuvo_masculino', '30 a 34 anos':'30_34_anos_viuvo_masculino', '35 a 39 anos':'35_39_anos_viuvo_masculino',\n",
        "       '40 a 44 anos':'40_44_anos_viuvo_masculino', '45 a 49 anos':'45_49_anos_viuvo_masculino',\n",
        "       '50 a 54 anos':'50_54_anos_viuvo_masculino', '55 a 59 anos':'55_59_anos_viuvo_masculino',\n",
        "       '60 a 64 anos':'60_64_anos_viuvo_masculino', '65 a 69 anos':'65_69_anos_viuvo_masculino',\n",
        "       '70 a 74 anos':'70_74_anos_viuvo_masculino', '75 a 79 anos':'75_79_anos_viuvo_masculino',\n",
        "       '80 a 84 anos':'80_84_anos_viuvo_masculino', '85 a 89 anos':'85_89_anos_viuvo_masculino',\n",
        "       '90 a 94 anos':'90_94_anos_viuvo_masculino', '95 a 99 anos':'95_99_anos_viuvo_masculino',\n",
        "       '100 anos ou mais':'100_anos_viuvo_masculino',})\n",
        "\n",
        "pivot_masculino = pivot_masculino[['SG_UF',\n",
        "       '16_anos_viuvo_masculino', '17_anos_viuvo_masculino',\n",
        "       '18_anos_viuvo_masculino', '19_anos_viuvo_masculino',\n",
        "       '20_anos_viuvo_masculino', '21_24_anos_viuvo_masculino',\n",
        "       '25_29_anos_viuvo_masculino', '30_34_anos_viuvo_masculino',\n",
        "       '35_39_anos_viuvo_masculino', '40_44_anos_viuvo_masculino',\n",
        "       '45_49_anos_viuvo_masculino', '50_54_anos_viuvo_masculino',\n",
        "       '55_59_anos_viuvo_masculino', '60_64_anos_viuvo_masculino',\n",
        "       '65_69_anos_viuvo_masculino', '70_74_anos_viuvo_masculino',\n",
        "       '75_79_anos_viuvo_masculino', '80_84_anos_viuvo_masculino',\n",
        "       '85_89_anos_viuvo_masculino', '90_94_anos_viuvo_masculino',\n",
        "       '95_99_anos_viuvo_masculino', '100_anos_viuvo_masculino',]]\n",
        "\n",
        "for i in pivot_masculino.columns:\n",
        "  if ((i != 'SG_UF')):\n",
        "    pivot_masculino[i] = pivot_masculino[i].astype(int)\n",
        "\n",
        "df_estados_2turno = df_estados_2turno.merge(pivot_masculino, on=['SG_UF'], how='left')"
      ]
    },
    {
      "cell_type": "code",
      "execution_count": null,
      "metadata": {
        "id": "XjUB8cIGNe4H",
        "colab": {
          "base_uri": "https://localhost:8080/"
        },
        "outputId": "d75e41b7-4858-4889-96f4-cd82582549d9"
      },
      "outputs": [
        {
          "output_type": "stream",
          "name": "stderr",
          "text": [
            "<ipython-input-91-c07f0ee32746>:27: PerformanceWarning: DataFrame is highly fragmented.  This is usually the result of calling `frame.insert` many times, which has poor performance.  Consider joining all columns at once using pd.concat(axis=1) instead. To get a de-fragmented frame, use `newframe = frame.copy()`\n",
            "  df_estados_2turno[estado_percentual] = (df_estados_2turno[ec[0]] / df_estados_2turno[ec[1]] * 100).round(2)\n",
            "<ipython-input-91-c07f0ee32746>:27: PerformanceWarning: DataFrame is highly fragmented.  This is usually the result of calling `frame.insert` many times, which has poor performance.  Consider joining all columns at once using pd.concat(axis=1) instead. To get a de-fragmented frame, use `newframe = frame.copy()`\n",
            "  df_estados_2turno[estado_percentual] = (df_estados_2turno[ec[0]] / df_estados_2turno[ec[1]] * 100).round(2)\n",
            "<ipython-input-91-c07f0ee32746>:27: PerformanceWarning: DataFrame is highly fragmented.  This is usually the result of calling `frame.insert` many times, which has poor performance.  Consider joining all columns at once using pd.concat(axis=1) instead. To get a de-fragmented frame, use `newframe = frame.copy()`\n",
            "  df_estados_2turno[estado_percentual] = (df_estados_2turno[ec[0]] / df_estados_2turno[ec[1]] * 100).round(2)\n",
            "<ipython-input-91-c07f0ee32746>:27: PerformanceWarning: DataFrame is highly fragmented.  This is usually the result of calling `frame.insert` many times, which has poor performance.  Consider joining all columns at once using pd.concat(axis=1) instead. To get a de-fragmented frame, use `newframe = frame.copy()`\n",
            "  df_estados_2turno[estado_percentual] = (df_estados_2turno[ec[0]] / df_estados_2turno[ec[1]] * 100).round(2)\n",
            "<ipython-input-91-c07f0ee32746>:27: PerformanceWarning: DataFrame is highly fragmented.  This is usually the result of calling `frame.insert` many times, which has poor performance.  Consider joining all columns at once using pd.concat(axis=1) instead. To get a de-fragmented frame, use `newframe = frame.copy()`\n",
            "  df_estados_2turno[estado_percentual] = (df_estados_2turno[ec[0]] / df_estados_2turno[ec[1]] * 100).round(2)\n",
            "<ipython-input-91-c07f0ee32746>:27: PerformanceWarning: DataFrame is highly fragmented.  This is usually the result of calling `frame.insert` many times, which has poor performance.  Consider joining all columns at once using pd.concat(axis=1) instead. To get a de-fragmented frame, use `newframe = frame.copy()`\n",
            "  df_estados_2turno[estado_percentual] = (df_estados_2turno[ec[0]] / df_estados_2turno[ec[1]] * 100).round(2)\n",
            "<ipython-input-91-c07f0ee32746>:27: PerformanceWarning: DataFrame is highly fragmented.  This is usually the result of calling `frame.insert` many times, which has poor performance.  Consider joining all columns at once using pd.concat(axis=1) instead. To get a de-fragmented frame, use `newframe = frame.copy()`\n",
            "  df_estados_2turno[estado_percentual] = (df_estados_2turno[ec[0]] / df_estados_2turno[ec[1]] * 100).round(2)\n",
            "<ipython-input-91-c07f0ee32746>:27: PerformanceWarning: DataFrame is highly fragmented.  This is usually the result of calling `frame.insert` many times, which has poor performance.  Consider joining all columns at once using pd.concat(axis=1) instead. To get a de-fragmented frame, use `newframe = frame.copy()`\n",
            "  df_estados_2turno[estado_percentual] = (df_estados_2turno[ec[0]] / df_estados_2turno[ec[1]] * 100).round(2)\n",
            "<ipython-input-91-c07f0ee32746>:27: PerformanceWarning: DataFrame is highly fragmented.  This is usually the result of calling `frame.insert` many times, which has poor performance.  Consider joining all columns at once using pd.concat(axis=1) instead. To get a de-fragmented frame, use `newframe = frame.copy()`\n",
            "  df_estados_2turno[estado_percentual] = (df_estados_2turno[ec[0]] / df_estados_2turno[ec[1]] * 100).round(2)\n",
            "<ipython-input-91-c07f0ee32746>:27: PerformanceWarning: DataFrame is highly fragmented.  This is usually the result of calling `frame.insert` many times, which has poor performance.  Consider joining all columns at once using pd.concat(axis=1) instead. To get a de-fragmented frame, use `newframe = frame.copy()`\n",
            "  df_estados_2turno[estado_percentual] = (df_estados_2turno[ec[0]] / df_estados_2turno[ec[1]] * 100).round(2)\n",
            "<ipython-input-91-c07f0ee32746>:27: PerformanceWarning: DataFrame is highly fragmented.  This is usually the result of calling `frame.insert` many times, which has poor performance.  Consider joining all columns at once using pd.concat(axis=1) instead. To get a de-fragmented frame, use `newframe = frame.copy()`\n",
            "  df_estados_2turno[estado_percentual] = (df_estados_2turno[ec[0]] / df_estados_2turno[ec[1]] * 100).round(2)\n",
            "<ipython-input-91-c07f0ee32746>:27: PerformanceWarning: DataFrame is highly fragmented.  This is usually the result of calling `frame.insert` many times, which has poor performance.  Consider joining all columns at once using pd.concat(axis=1) instead. To get a de-fragmented frame, use `newframe = frame.copy()`\n",
            "  df_estados_2turno[estado_percentual] = (df_estados_2turno[ec[0]] / df_estados_2turno[ec[1]] * 100).round(2)\n",
            "<ipython-input-91-c07f0ee32746>:27: PerformanceWarning: DataFrame is highly fragmented.  This is usually the result of calling `frame.insert` many times, which has poor performance.  Consider joining all columns at once using pd.concat(axis=1) instead. To get a de-fragmented frame, use `newframe = frame.copy()`\n",
            "  df_estados_2turno[estado_percentual] = (df_estados_2turno[ec[0]] / df_estados_2turno[ec[1]] * 100).round(2)\n",
            "<ipython-input-91-c07f0ee32746>:27: PerformanceWarning: DataFrame is highly fragmented.  This is usually the result of calling `frame.insert` many times, which has poor performance.  Consider joining all columns at once using pd.concat(axis=1) instead. To get a de-fragmented frame, use `newframe = frame.copy()`\n",
            "  df_estados_2turno[estado_percentual] = (df_estados_2turno[ec[0]] / df_estados_2turno[ec[1]] * 100).round(2)\n",
            "<ipython-input-91-c07f0ee32746>:27: PerformanceWarning: DataFrame is highly fragmented.  This is usually the result of calling `frame.insert` many times, which has poor performance.  Consider joining all columns at once using pd.concat(axis=1) instead. To get a de-fragmented frame, use `newframe = frame.copy()`\n",
            "  df_estados_2turno[estado_percentual] = (df_estados_2turno[ec[0]] / df_estados_2turno[ec[1]] * 100).round(2)\n",
            "<ipython-input-91-c07f0ee32746>:27: PerformanceWarning: DataFrame is highly fragmented.  This is usually the result of calling `frame.insert` many times, which has poor performance.  Consider joining all columns at once using pd.concat(axis=1) instead. To get a de-fragmented frame, use `newframe = frame.copy()`\n",
            "  df_estados_2turno[estado_percentual] = (df_estados_2turno[ec[0]] / df_estados_2turno[ec[1]] * 100).round(2)\n",
            "<ipython-input-91-c07f0ee32746>:27: PerformanceWarning: DataFrame is highly fragmented.  This is usually the result of calling `frame.insert` many times, which has poor performance.  Consider joining all columns at once using pd.concat(axis=1) instead. To get a de-fragmented frame, use `newframe = frame.copy()`\n",
            "  df_estados_2turno[estado_percentual] = (df_estados_2turno[ec[0]] / df_estados_2turno[ec[1]] * 100).round(2)\n",
            "<ipython-input-91-c07f0ee32746>:27: PerformanceWarning: DataFrame is highly fragmented.  This is usually the result of calling `frame.insert` many times, which has poor performance.  Consider joining all columns at once using pd.concat(axis=1) instead. To get a de-fragmented frame, use `newframe = frame.copy()`\n",
            "  df_estados_2turno[estado_percentual] = (df_estados_2turno[ec[0]] / df_estados_2turno[ec[1]] * 100).round(2)\n",
            "<ipython-input-91-c07f0ee32746>:27: PerformanceWarning: DataFrame is highly fragmented.  This is usually the result of calling `frame.insert` many times, which has poor performance.  Consider joining all columns at once using pd.concat(axis=1) instead. To get a de-fragmented frame, use `newframe = frame.copy()`\n",
            "  df_estados_2turno[estado_percentual] = (df_estados_2turno[ec[0]] / df_estados_2turno[ec[1]] * 100).round(2)\n",
            "<ipython-input-91-c07f0ee32746>:27: PerformanceWarning: DataFrame is highly fragmented.  This is usually the result of calling `frame.insert` many times, which has poor performance.  Consider joining all columns at once using pd.concat(axis=1) instead. To get a de-fragmented frame, use `newframe = frame.copy()`\n",
            "  df_estados_2turno[estado_percentual] = (df_estados_2turno[ec[0]] / df_estados_2turno[ec[1]] * 100).round(2)\n",
            "<ipython-input-91-c07f0ee32746>:27: PerformanceWarning: DataFrame is highly fragmented.  This is usually the result of calling `frame.insert` many times, which has poor performance.  Consider joining all columns at once using pd.concat(axis=1) instead. To get a de-fragmented frame, use `newframe = frame.copy()`\n",
            "  df_estados_2turno[estado_percentual] = (df_estados_2turno[ec[0]] / df_estados_2turno[ec[1]] * 100).round(2)\n",
            "<ipython-input-91-c07f0ee32746>:27: PerformanceWarning: DataFrame is highly fragmented.  This is usually the result of calling `frame.insert` many times, which has poor performance.  Consider joining all columns at once using pd.concat(axis=1) instead. To get a de-fragmented frame, use `newframe = frame.copy()`\n",
            "  df_estados_2turno[estado_percentual] = (df_estados_2turno[ec[0]] / df_estados_2turno[ec[1]] * 100).round(2)\n"
          ]
        }
      ],
      "source": [
        "estados_civil_percentual_masculino = {\n",
        "    '16_anos_viuvo_masculino_percentual(%)':['16_anos_viuvo_masculino','16_anos'],\n",
        "    '17_anos_viuvo_masculino_percentual(%)':['17_anos_viuvo_masculino','17_anos'],\n",
        "    '18_anos_viuvo_masculino_percentual(%)':['18_anos_viuvo_masculino','18_anos'],\n",
        "    '19_anos_viuvo_masculino_percentual(%)':['19_anos_viuvo_masculino','19_anos'],\n",
        "    '20_anos_viuvo_masculino_percentual(%)':['20_anos_viuvo_masculino','20_anos'],\n",
        "    '21_24_anos_viuvo_masculino_percentual(%)':['21_24_anos_viuvo_masculino','21_24_anos'],\n",
        "    '25_29_anos_viuvo_masculino_percentual(%)':['25_29_anos_viuvo_masculino','25_29_anos'],\n",
        "    '30_34_anos_viuvo_masculino_percentual(%)':['30_34_anos_viuvo_masculino','30_34_anos'],\n",
        "    '35_39_anos_viuvo_masculino_percentual(%)':['35_39_anos_viuvo_masculino','35_39_anos'],\n",
        "    '40_44_anos_viuvo_masculino_percentual(%)':['40_44_anos_viuvo_masculino','40_44_anos'],\n",
        "    '45_49_anos_viuvo_masculino_percentual(%)':['45_49_anos_viuvo_masculino','45_49_anos'],\n",
        "    '50_54_anos_viuvo_masculino_percentual(%)':['50_54_anos_viuvo_masculino','50_54_anos'],\n",
        "    '55_59_anos_viuvo_masculino_percentual(%)':['55_59_anos_viuvo_masculino','55_59_anos'],\n",
        "    '60_64_anos_viuvo_masculino_percentual(%)':['60_64_anos_viuvo_masculino','60_64_anos'],\n",
        "    '65_69_anos_viuvo_masculino_percentual(%)':['65_69_anos_viuvo_masculino','65_69_anos'],\n",
        "    '70_74_anos_viuvo_masculino_percentual(%)':['70_74_anos_viuvo_masculino','70_74_anos'],\n",
        "    '75_79_anos_viuvo_masculino_percentual(%)':['75_79_anos_viuvo_masculino','75_79_anos'],\n",
        "    '80_84_anos_viuvo_masculino_percentual(%)':['80_84_anos_viuvo_masculino','80_84_anos'],\n",
        "    '85_89_anos_viuvo_masculino_percentual(%)':['85_89_anos_viuvo_masculino','85_89_anos'],\n",
        "    '90_94_anos_viuvo_masculino_percentual(%)':['90_94_anos_viuvo_masculino','90_94_anos'],\n",
        "    '95_99_anos_viuvo_masculino_percentual(%)':['95_99_anos_viuvo_masculino','95_99_anos'],\n",
        "    '100_anos_viuvo_masculino_percentual(%)':['100_anos_viuvo_masculino','100_anos'],\n",
        "}\n",
        "\n",
        "for estado_percentual, ec in estados_civil_percentual_masculino.items():\n",
        "  df_estados_2turno[estado_percentual] = (df_estados_2turno[ec[0]] / df_estados_2turno[ec[1]] * 100).round(2)"
      ]
    },
    {
      "cell_type": "markdown",
      "metadata": {
        "id": "uh7CR4h_Ne4I"
      },
      "source": [
        "## Eleitorado masculino separado judicialmente por faixa etária"
      ]
    },
    {
      "cell_type": "code",
      "execution_count": null,
      "metadata": {
        "id": "aYyEUG3dNe4J"
      },
      "outputs": [],
      "source": [
        "# Filtra os dados apenas para o gênero masculino e casado\n",
        "df_turno_2_2020_masculino = df_turno_2_2020[(df_turno_2_2020['DS_GENERO'] == 'MASCULINO') & (df_turno_2_2020['DS_ESTADO_CIVIL'] == 'SEPARADO JUDICIALMENTE')].groupby(['SG_UF', 'DS_FAIXA_ETARIA',])['QT_APTOS'].sum().reset_index()\n",
        "\n",
        "# Realiza o pivot para transformar as colunas de grau de escolaridade em colunas do dataframe\n",
        "pivot_masculino = df_turno_2_2020_masculino.pivot_table(index=['SG_UF'], columns='DS_FAIXA_ETARIA', values='QT_APTOS').reset_index()\n",
        "pivot_masculino = pivot_masculino.fillna(0)\n",
        "pivot_masculino = pivot_masculino.rename(columns={\n",
        "       '16 anos':'16_anos_separado_judicialmente_masculino', '17 anos':'17_anos_separado_judicialmente_masculino', '18 anos':'18_anos_separado_judicialmente_masculino',\n",
        "       '19 anos':'19_anos_separado_judicialmente_masculino', '20 anos':'20_anos_separado_judicialmente_masculino', '21 a 24 anos':'21_24_anos_separado_judicialmente_masculino',\n",
        "       '25 a 29 anos':'25_29_anos_separado_judicialmente_masculino', '30 a 34 anos':'30_34_anos_separado_judicialmente_masculino', '35 a 39 anos':'35_39_anos_separado_judicialmente_masculino',\n",
        "       '40 a 44 anos':'40_44_anos_separado_judicialmente_masculino', '45 a 49 anos':'45_49_anos_separado_judicialmente_masculino',\n",
        "       '50 a 54 anos':'50_54_anos_separado_judicialmente_masculino', '55 a 59 anos':'55_59_anos_separado_judicialmente_masculino',\n",
        "       '60 a 64 anos':'60_64_anos_separado_judicialmente_masculino', '65 a 69 anos':'65_69_anos_separado_judicialmente_masculino',\n",
        "       '70 a 74 anos':'70_74_anos_separado_judicialmente_masculino', '75 a 79 anos':'75_79_anos_separado_judicialmente_masculino',\n",
        "       '80 a 84 anos':'80_84_anos_separado_judicialmente_masculino', '85 a 89 anos':'85_89_anos_separado_judicialmente_masculino',\n",
        "       '90 a 94 anos':'90_94_anos_separado_judicialmente_masculino', '95 a 99 anos':'95_99_anos_separado_judicialmente_masculino',\n",
        "       '100 anos ou mais':'100_anos_separado_judicialmente_masculino',})\n",
        "\n",
        "pivot_masculino = pivot_masculino[['SG_UF',\n",
        "       '16_anos_separado_judicialmente_masculino', '17_anos_separado_judicialmente_masculino',\n",
        "       '18_anos_separado_judicialmente_masculino', '19_anos_separado_judicialmente_masculino',\n",
        "       '20_anos_separado_judicialmente_masculino', '21_24_anos_separado_judicialmente_masculino',\n",
        "       '25_29_anos_separado_judicialmente_masculino', '30_34_anos_separado_judicialmente_masculino',\n",
        "       '35_39_anos_separado_judicialmente_masculino', '40_44_anos_separado_judicialmente_masculino',\n",
        "       '45_49_anos_separado_judicialmente_masculino', '50_54_anos_separado_judicialmente_masculino',\n",
        "       '55_59_anos_separado_judicialmente_masculino', '60_64_anos_separado_judicialmente_masculino',\n",
        "       '65_69_anos_separado_judicialmente_masculino', '70_74_anos_separado_judicialmente_masculino',\n",
        "       '75_79_anos_separado_judicialmente_masculino', '80_84_anos_separado_judicialmente_masculino',\n",
        "       '85_89_anos_separado_judicialmente_masculino', '90_94_anos_separado_judicialmente_masculino',\n",
        "       '95_99_anos_separado_judicialmente_masculino', '100_anos_separado_judicialmente_masculino',]]\n",
        "\n",
        "for i in pivot_masculino.columns:\n",
        "  if ((i != 'SG_UF')):\n",
        "    pivot_masculino[i] = pivot_masculino[i].astype(int)\n",
        "\n",
        "df_estados_2turno = df_estados_2turno.merge(pivot_masculino, on=['SG_UF'], how='left')"
      ]
    },
    {
      "cell_type": "code",
      "execution_count": null,
      "metadata": {
        "id": "WtTIAA8GNe4J",
        "colab": {
          "base_uri": "https://localhost:8080/"
        },
        "outputId": "b35f55bb-6099-413e-e974-9ba09b157f19"
      },
      "outputs": [
        {
          "output_type": "stream",
          "name": "stderr",
          "text": [
            "<ipython-input-93-ed3042fcaa9b>:27: PerformanceWarning: DataFrame is highly fragmented.  This is usually the result of calling `frame.insert` many times, which has poor performance.  Consider joining all columns at once using pd.concat(axis=1) instead. To get a de-fragmented frame, use `newframe = frame.copy()`\n",
            "  df_estados_2turno[estado_percentual] = (df_estados_2turno[ec[0]] / df_estados_2turno[ec[1]] * 100).round(2)\n",
            "<ipython-input-93-ed3042fcaa9b>:27: PerformanceWarning: DataFrame is highly fragmented.  This is usually the result of calling `frame.insert` many times, which has poor performance.  Consider joining all columns at once using pd.concat(axis=1) instead. To get a de-fragmented frame, use `newframe = frame.copy()`\n",
            "  df_estados_2turno[estado_percentual] = (df_estados_2turno[ec[0]] / df_estados_2turno[ec[1]] * 100).round(2)\n",
            "<ipython-input-93-ed3042fcaa9b>:27: PerformanceWarning: DataFrame is highly fragmented.  This is usually the result of calling `frame.insert` many times, which has poor performance.  Consider joining all columns at once using pd.concat(axis=1) instead. To get a de-fragmented frame, use `newframe = frame.copy()`\n",
            "  df_estados_2turno[estado_percentual] = (df_estados_2turno[ec[0]] / df_estados_2turno[ec[1]] * 100).round(2)\n",
            "<ipython-input-93-ed3042fcaa9b>:27: PerformanceWarning: DataFrame is highly fragmented.  This is usually the result of calling `frame.insert` many times, which has poor performance.  Consider joining all columns at once using pd.concat(axis=1) instead. To get a de-fragmented frame, use `newframe = frame.copy()`\n",
            "  df_estados_2turno[estado_percentual] = (df_estados_2turno[ec[0]] / df_estados_2turno[ec[1]] * 100).round(2)\n",
            "<ipython-input-93-ed3042fcaa9b>:27: PerformanceWarning: DataFrame is highly fragmented.  This is usually the result of calling `frame.insert` many times, which has poor performance.  Consider joining all columns at once using pd.concat(axis=1) instead. To get a de-fragmented frame, use `newframe = frame.copy()`\n",
            "  df_estados_2turno[estado_percentual] = (df_estados_2turno[ec[0]] / df_estados_2turno[ec[1]] * 100).round(2)\n",
            "<ipython-input-93-ed3042fcaa9b>:27: PerformanceWarning: DataFrame is highly fragmented.  This is usually the result of calling `frame.insert` many times, which has poor performance.  Consider joining all columns at once using pd.concat(axis=1) instead. To get a de-fragmented frame, use `newframe = frame.copy()`\n",
            "  df_estados_2turno[estado_percentual] = (df_estados_2turno[ec[0]] / df_estados_2turno[ec[1]] * 100).round(2)\n",
            "<ipython-input-93-ed3042fcaa9b>:27: PerformanceWarning: DataFrame is highly fragmented.  This is usually the result of calling `frame.insert` many times, which has poor performance.  Consider joining all columns at once using pd.concat(axis=1) instead. To get a de-fragmented frame, use `newframe = frame.copy()`\n",
            "  df_estados_2turno[estado_percentual] = (df_estados_2turno[ec[0]] / df_estados_2turno[ec[1]] * 100).round(2)\n",
            "<ipython-input-93-ed3042fcaa9b>:27: PerformanceWarning: DataFrame is highly fragmented.  This is usually the result of calling `frame.insert` many times, which has poor performance.  Consider joining all columns at once using pd.concat(axis=1) instead. To get a de-fragmented frame, use `newframe = frame.copy()`\n",
            "  df_estados_2turno[estado_percentual] = (df_estados_2turno[ec[0]] / df_estados_2turno[ec[1]] * 100).round(2)\n",
            "<ipython-input-93-ed3042fcaa9b>:27: PerformanceWarning: DataFrame is highly fragmented.  This is usually the result of calling `frame.insert` many times, which has poor performance.  Consider joining all columns at once using pd.concat(axis=1) instead. To get a de-fragmented frame, use `newframe = frame.copy()`\n",
            "  df_estados_2turno[estado_percentual] = (df_estados_2turno[ec[0]] / df_estados_2turno[ec[1]] * 100).round(2)\n",
            "<ipython-input-93-ed3042fcaa9b>:27: PerformanceWarning: DataFrame is highly fragmented.  This is usually the result of calling `frame.insert` many times, which has poor performance.  Consider joining all columns at once using pd.concat(axis=1) instead. To get a de-fragmented frame, use `newframe = frame.copy()`\n",
            "  df_estados_2turno[estado_percentual] = (df_estados_2turno[ec[0]] / df_estados_2turno[ec[1]] * 100).round(2)\n",
            "<ipython-input-93-ed3042fcaa9b>:27: PerformanceWarning: DataFrame is highly fragmented.  This is usually the result of calling `frame.insert` many times, which has poor performance.  Consider joining all columns at once using pd.concat(axis=1) instead. To get a de-fragmented frame, use `newframe = frame.copy()`\n",
            "  df_estados_2turno[estado_percentual] = (df_estados_2turno[ec[0]] / df_estados_2turno[ec[1]] * 100).round(2)\n",
            "<ipython-input-93-ed3042fcaa9b>:27: PerformanceWarning: DataFrame is highly fragmented.  This is usually the result of calling `frame.insert` many times, which has poor performance.  Consider joining all columns at once using pd.concat(axis=1) instead. To get a de-fragmented frame, use `newframe = frame.copy()`\n",
            "  df_estados_2turno[estado_percentual] = (df_estados_2turno[ec[0]] / df_estados_2turno[ec[1]] * 100).round(2)\n",
            "<ipython-input-93-ed3042fcaa9b>:27: PerformanceWarning: DataFrame is highly fragmented.  This is usually the result of calling `frame.insert` many times, which has poor performance.  Consider joining all columns at once using pd.concat(axis=1) instead. To get a de-fragmented frame, use `newframe = frame.copy()`\n",
            "  df_estados_2turno[estado_percentual] = (df_estados_2turno[ec[0]] / df_estados_2turno[ec[1]] * 100).round(2)\n",
            "<ipython-input-93-ed3042fcaa9b>:27: PerformanceWarning: DataFrame is highly fragmented.  This is usually the result of calling `frame.insert` many times, which has poor performance.  Consider joining all columns at once using pd.concat(axis=1) instead. To get a de-fragmented frame, use `newframe = frame.copy()`\n",
            "  df_estados_2turno[estado_percentual] = (df_estados_2turno[ec[0]] / df_estados_2turno[ec[1]] * 100).round(2)\n",
            "<ipython-input-93-ed3042fcaa9b>:27: PerformanceWarning: DataFrame is highly fragmented.  This is usually the result of calling `frame.insert` many times, which has poor performance.  Consider joining all columns at once using pd.concat(axis=1) instead. To get a de-fragmented frame, use `newframe = frame.copy()`\n",
            "  df_estados_2turno[estado_percentual] = (df_estados_2turno[ec[0]] / df_estados_2turno[ec[1]] * 100).round(2)\n",
            "<ipython-input-93-ed3042fcaa9b>:27: PerformanceWarning: DataFrame is highly fragmented.  This is usually the result of calling `frame.insert` many times, which has poor performance.  Consider joining all columns at once using pd.concat(axis=1) instead. To get a de-fragmented frame, use `newframe = frame.copy()`\n",
            "  df_estados_2turno[estado_percentual] = (df_estados_2turno[ec[0]] / df_estados_2turno[ec[1]] * 100).round(2)\n",
            "<ipython-input-93-ed3042fcaa9b>:27: PerformanceWarning: DataFrame is highly fragmented.  This is usually the result of calling `frame.insert` many times, which has poor performance.  Consider joining all columns at once using pd.concat(axis=1) instead. To get a de-fragmented frame, use `newframe = frame.copy()`\n",
            "  df_estados_2turno[estado_percentual] = (df_estados_2turno[ec[0]] / df_estados_2turno[ec[1]] * 100).round(2)\n",
            "<ipython-input-93-ed3042fcaa9b>:27: PerformanceWarning: DataFrame is highly fragmented.  This is usually the result of calling `frame.insert` many times, which has poor performance.  Consider joining all columns at once using pd.concat(axis=1) instead. To get a de-fragmented frame, use `newframe = frame.copy()`\n",
            "  df_estados_2turno[estado_percentual] = (df_estados_2turno[ec[0]] / df_estados_2turno[ec[1]] * 100).round(2)\n",
            "<ipython-input-93-ed3042fcaa9b>:27: PerformanceWarning: DataFrame is highly fragmented.  This is usually the result of calling `frame.insert` many times, which has poor performance.  Consider joining all columns at once using pd.concat(axis=1) instead. To get a de-fragmented frame, use `newframe = frame.copy()`\n",
            "  df_estados_2turno[estado_percentual] = (df_estados_2turno[ec[0]] / df_estados_2turno[ec[1]] * 100).round(2)\n",
            "<ipython-input-93-ed3042fcaa9b>:27: PerformanceWarning: DataFrame is highly fragmented.  This is usually the result of calling `frame.insert` many times, which has poor performance.  Consider joining all columns at once using pd.concat(axis=1) instead. To get a de-fragmented frame, use `newframe = frame.copy()`\n",
            "  df_estados_2turno[estado_percentual] = (df_estados_2turno[ec[0]] / df_estados_2turno[ec[1]] * 100).round(2)\n",
            "<ipython-input-93-ed3042fcaa9b>:27: PerformanceWarning: DataFrame is highly fragmented.  This is usually the result of calling `frame.insert` many times, which has poor performance.  Consider joining all columns at once using pd.concat(axis=1) instead. To get a de-fragmented frame, use `newframe = frame.copy()`\n",
            "  df_estados_2turno[estado_percentual] = (df_estados_2turno[ec[0]] / df_estados_2turno[ec[1]] * 100).round(2)\n",
            "<ipython-input-93-ed3042fcaa9b>:27: PerformanceWarning: DataFrame is highly fragmented.  This is usually the result of calling `frame.insert` many times, which has poor performance.  Consider joining all columns at once using pd.concat(axis=1) instead. To get a de-fragmented frame, use `newframe = frame.copy()`\n",
            "  df_estados_2turno[estado_percentual] = (df_estados_2turno[ec[0]] / df_estados_2turno[ec[1]] * 100).round(2)\n"
          ]
        }
      ],
      "source": [
        "estados_civil_percentual_masculino = {\n",
        "    '16_anos_separado_judicialmente_masculino_percentual(%)':['16_anos_separado_judicialmente_masculino','16_anos'],\n",
        "    '17_anos_separado_judicialmente_masculino_percentual(%)':['17_anos_separado_judicialmente_masculino','17_anos'],\n",
        "    '18_anos_separado_judicialmente_masculino_percentual(%)':['18_anos_separado_judicialmente_masculino','18_anos'],\n",
        "    '19_anos_separado_judicialmente_masculino_percentual(%)':['19_anos_separado_judicialmente_masculino','19_anos'],\n",
        "    '20_anos_separado_judicialmente_masculino_percentual(%)':['20_anos_separado_judicialmente_masculino','20_anos'],\n",
        "    '21_24_anos_separado_judicialmente_masculino_percentual(%)':['21_24_anos_separado_judicialmente_masculino','21_24_anos'],\n",
        "    '25_29_anos_separado_judicialmente_masculino_percentual(%)':['25_29_anos_separado_judicialmente_masculino','25_29_anos'],\n",
        "    '30_34_anos_separado_judicialmente_masculino_percentual(%)':['30_34_anos_separado_judicialmente_masculino','30_34_anos'],\n",
        "    '35_39_anos_separado_judicialmente_masculino_percentual(%)':['35_39_anos_separado_judicialmente_masculino','35_39_anos'],\n",
        "    '40_44_anos_separado_judicialmente_masculino_percentual(%)':['40_44_anos_separado_judicialmente_masculino','40_44_anos'],\n",
        "    '45_49_anos_separado_judicialmente_masculino_percentual(%)':['45_49_anos_separado_judicialmente_masculino','45_49_anos'],\n",
        "    '50_54_anos_separado_judicialmente_masculino_percentual(%)':['50_54_anos_separado_judicialmente_masculino','50_54_anos'],\n",
        "    '55_59_anos_separado_judicialmente_masculino_percentual(%)':['55_59_anos_separado_judicialmente_masculino','55_59_anos'],\n",
        "    '60_64_anos_separado_judicialmente_masculino_percentual(%)':['60_64_anos_separado_judicialmente_masculino','60_64_anos'],\n",
        "    '65_69_anos_separado_judicialmente_masculino_percentual(%)':['65_69_anos_separado_judicialmente_masculino','65_69_anos'],\n",
        "    '70_74_anos_separado_judicialmente_masculino_percentual(%)':['70_74_anos_separado_judicialmente_masculino','70_74_anos'],\n",
        "    '75_79_anos_separado_judicialmente_masculino_percentual(%)':['75_79_anos_separado_judicialmente_masculino','75_79_anos'],\n",
        "    '80_84_anos_separado_judicialmente_masculino_percentual(%)':['80_84_anos_separado_judicialmente_masculino','80_84_anos'],\n",
        "    '85_89_anos_separado_judicialmente_masculino_percentual(%)':['85_89_anos_separado_judicialmente_masculino','85_89_anos'],\n",
        "    '90_94_anos_separado_judicialmente_masculino_percentual(%)':['90_94_anos_separado_judicialmente_masculino','90_94_anos'],\n",
        "    '95_99_anos_separado_judicialmente_masculino_percentual(%)':['95_99_anos_separado_judicialmente_masculino','95_99_anos'],\n",
        "    '100_anos_separado_judicialmente_masculino_percentual(%)':['100_anos_separado_judicialmente_masculino','100_anos'],\n",
        "}\n",
        "\n",
        "for estado_percentual, ec in estados_civil_percentual_masculino.items():\n",
        "  df_estados_2turno[estado_percentual] = (df_estados_2turno[ec[0]] / df_estados_2turno[ec[1]] * 100).round(2)"
      ]
    },
    {
      "cell_type": "markdown",
      "metadata": {
        "id": "tMplohjTNe4K"
      },
      "source": [
        "## Eleitorado feminino solteiro por faixa etária"
      ]
    },
    {
      "cell_type": "code",
      "execution_count": null,
      "metadata": {
        "id": "-glAx_cUNe4K"
      },
      "outputs": [],
      "source": [
        "# Filtra os dados apenas para o gênero masculino e solteiro\n",
        "df_turno_2_2020_feminino = df_turno_2_2020[(df_turno_2_2020['DS_GENERO'] == 'FEMININO') & (df_turno_2_2020['DS_ESTADO_CIVIL'] == 'SOLTEIRO')].groupby(['SG_UF', 'DS_FAIXA_ETARIA',])['QT_APTOS'].sum().reset_index()\n",
        "\n",
        "# Realiza o pivot para transformar as colunas de grau de escolaridade em colunas do dataframe\n",
        "pivot_feminino = df_turno_2_2020_feminino.pivot_table(index=['SG_UF'], columns='DS_FAIXA_ETARIA', values='QT_APTOS').reset_index()\n",
        "pivot_feminino = pivot_feminino.fillna(0)\n",
        "pivot_feminino = pivot_feminino.rename(columns={\n",
        "       '16 anos':'16_anos_solteiro_feminino', '17 anos':'17_anos_solteiro_feminino', '18 anos':'18_anos_solteiro_feminino',\n",
        "       '19 anos':'19_anos_solteiro_feminino', '20 anos':'20_anos_solteiro_feminino', '21 a 24 anos':'21_24_anos_solteiro_feminino',\n",
        "       '25 a 29 anos':'25_29_anos_solteiro_feminino', '30 a 34 anos':'30_34_anos_solteiro_feminino', '35 a 39 anos':'35_39_anos_solteiro_feminino',\n",
        "       '40 a 44 anos':'40_44_anos_solteiro_feminino', '45 a 49 anos':'45_49_anos_solteiro_feminino',\n",
        "       '50 a 54 anos':'50_54_anos_solteiro_feminino', '55 a 59 anos':'55_59_anos_solteiro_feminino',\n",
        "       '60 a 64 anos':'60_64_anos_solteiro_feminino', '65 a 69 anos':'65_69_anos_solteiro_feminino',\n",
        "       '70 a 74 anos':'70_74_anos_solteiro_feminino', '75 a 79 anos':'75_79_anos_solteiro_feminino',\n",
        "       '80 a 84 anos':'80_84_anos_solteiro_feminino', '85 a 89 anos':'85_89_anos_solteiro_feminino',\n",
        "       '90 a 94 anos':'90_94_anos_solteiro_feminino', '95 a 99 anos':'95_99_anos_solteiro_feminino',\n",
        "       '100 anos ou mais':'100_anos_solteiro_feminino',})\n",
        "\n",
        "pivot_feminino = pivot_feminino[['SG_UF',\n",
        "       '16_anos_solteiro_feminino', '17_anos_solteiro_feminino',\n",
        "       '18_anos_solteiro_feminino', '19_anos_solteiro_feminino',\n",
        "       '20_anos_solteiro_feminino', '21_24_anos_solteiro_feminino',\n",
        "       '25_29_anos_solteiro_feminino', '30_34_anos_solteiro_feminino',\n",
        "       '35_39_anos_solteiro_feminino', '40_44_anos_solteiro_feminino',\n",
        "       '45_49_anos_solteiro_feminino', '50_54_anos_solteiro_feminino',\n",
        "       '55_59_anos_solteiro_feminino', '60_64_anos_solteiro_feminino',\n",
        "       '65_69_anos_solteiro_feminino', '70_74_anos_solteiro_feminino',\n",
        "       '75_79_anos_solteiro_feminino', '80_84_anos_solteiro_feminino',\n",
        "       '85_89_anos_solteiro_feminino', '90_94_anos_solteiro_feminino',\n",
        "       '95_99_anos_solteiro_feminino', '100_anos_solteiro_feminino',]]\n",
        "\n",
        "for i in pivot_feminino.columns:\n",
        "  if ((i != 'SG_UF')):\n",
        "    pivot_feminino[i] = pivot_feminino[i].astype(int)\n",
        "\n",
        "df_estados_2turno = df_estados_2turno.merge(pivot_feminino, on=['SG_UF'], how='left')"
      ]
    },
    {
      "cell_type": "code",
      "execution_count": null,
      "metadata": {
        "id": "Hhg5O22eNe4K",
        "colab": {
          "base_uri": "https://localhost:8080/"
        },
        "outputId": "f08243ff-3d49-4e59-f24f-911f3b06d7ce"
      },
      "outputs": [
        {
          "output_type": "stream",
          "name": "stderr",
          "text": [
            "<ipython-input-95-a2904218ed4e>:27: PerformanceWarning: DataFrame is highly fragmented.  This is usually the result of calling `frame.insert` many times, which has poor performance.  Consider joining all columns at once using pd.concat(axis=1) instead. To get a de-fragmented frame, use `newframe = frame.copy()`\n",
            "  df_estados_2turno[estado_percentual] = (df_estados_2turno[ec[0]] / df_estados_2turno[ec[1]] * 100).round(2)\n",
            "<ipython-input-95-a2904218ed4e>:27: PerformanceWarning: DataFrame is highly fragmented.  This is usually the result of calling `frame.insert` many times, which has poor performance.  Consider joining all columns at once using pd.concat(axis=1) instead. To get a de-fragmented frame, use `newframe = frame.copy()`\n",
            "  df_estados_2turno[estado_percentual] = (df_estados_2turno[ec[0]] / df_estados_2turno[ec[1]] * 100).round(2)\n",
            "<ipython-input-95-a2904218ed4e>:27: PerformanceWarning: DataFrame is highly fragmented.  This is usually the result of calling `frame.insert` many times, which has poor performance.  Consider joining all columns at once using pd.concat(axis=1) instead. To get a de-fragmented frame, use `newframe = frame.copy()`\n",
            "  df_estados_2turno[estado_percentual] = (df_estados_2turno[ec[0]] / df_estados_2turno[ec[1]] * 100).round(2)\n",
            "<ipython-input-95-a2904218ed4e>:27: PerformanceWarning: DataFrame is highly fragmented.  This is usually the result of calling `frame.insert` many times, which has poor performance.  Consider joining all columns at once using pd.concat(axis=1) instead. To get a de-fragmented frame, use `newframe = frame.copy()`\n",
            "  df_estados_2turno[estado_percentual] = (df_estados_2turno[ec[0]] / df_estados_2turno[ec[1]] * 100).round(2)\n",
            "<ipython-input-95-a2904218ed4e>:27: PerformanceWarning: DataFrame is highly fragmented.  This is usually the result of calling `frame.insert` many times, which has poor performance.  Consider joining all columns at once using pd.concat(axis=1) instead. To get a de-fragmented frame, use `newframe = frame.copy()`\n",
            "  df_estados_2turno[estado_percentual] = (df_estados_2turno[ec[0]] / df_estados_2turno[ec[1]] * 100).round(2)\n",
            "<ipython-input-95-a2904218ed4e>:27: PerformanceWarning: DataFrame is highly fragmented.  This is usually the result of calling `frame.insert` many times, which has poor performance.  Consider joining all columns at once using pd.concat(axis=1) instead. To get a de-fragmented frame, use `newframe = frame.copy()`\n",
            "  df_estados_2turno[estado_percentual] = (df_estados_2turno[ec[0]] / df_estados_2turno[ec[1]] * 100).round(2)\n",
            "<ipython-input-95-a2904218ed4e>:27: PerformanceWarning: DataFrame is highly fragmented.  This is usually the result of calling `frame.insert` many times, which has poor performance.  Consider joining all columns at once using pd.concat(axis=1) instead. To get a de-fragmented frame, use `newframe = frame.copy()`\n",
            "  df_estados_2turno[estado_percentual] = (df_estados_2turno[ec[0]] / df_estados_2turno[ec[1]] * 100).round(2)\n",
            "<ipython-input-95-a2904218ed4e>:27: PerformanceWarning: DataFrame is highly fragmented.  This is usually the result of calling `frame.insert` many times, which has poor performance.  Consider joining all columns at once using pd.concat(axis=1) instead. To get a de-fragmented frame, use `newframe = frame.copy()`\n",
            "  df_estados_2turno[estado_percentual] = (df_estados_2turno[ec[0]] / df_estados_2turno[ec[1]] * 100).round(2)\n",
            "<ipython-input-95-a2904218ed4e>:27: PerformanceWarning: DataFrame is highly fragmented.  This is usually the result of calling `frame.insert` many times, which has poor performance.  Consider joining all columns at once using pd.concat(axis=1) instead. To get a de-fragmented frame, use `newframe = frame.copy()`\n",
            "  df_estados_2turno[estado_percentual] = (df_estados_2turno[ec[0]] / df_estados_2turno[ec[1]] * 100).round(2)\n",
            "<ipython-input-95-a2904218ed4e>:27: PerformanceWarning: DataFrame is highly fragmented.  This is usually the result of calling `frame.insert` many times, which has poor performance.  Consider joining all columns at once using pd.concat(axis=1) instead. To get a de-fragmented frame, use `newframe = frame.copy()`\n",
            "  df_estados_2turno[estado_percentual] = (df_estados_2turno[ec[0]] / df_estados_2turno[ec[1]] * 100).round(2)\n",
            "<ipython-input-95-a2904218ed4e>:27: PerformanceWarning: DataFrame is highly fragmented.  This is usually the result of calling `frame.insert` many times, which has poor performance.  Consider joining all columns at once using pd.concat(axis=1) instead. To get a de-fragmented frame, use `newframe = frame.copy()`\n",
            "  df_estados_2turno[estado_percentual] = (df_estados_2turno[ec[0]] / df_estados_2turno[ec[1]] * 100).round(2)\n",
            "<ipython-input-95-a2904218ed4e>:27: PerformanceWarning: DataFrame is highly fragmented.  This is usually the result of calling `frame.insert` many times, which has poor performance.  Consider joining all columns at once using pd.concat(axis=1) instead. To get a de-fragmented frame, use `newframe = frame.copy()`\n",
            "  df_estados_2turno[estado_percentual] = (df_estados_2turno[ec[0]] / df_estados_2turno[ec[1]] * 100).round(2)\n",
            "<ipython-input-95-a2904218ed4e>:27: PerformanceWarning: DataFrame is highly fragmented.  This is usually the result of calling `frame.insert` many times, which has poor performance.  Consider joining all columns at once using pd.concat(axis=1) instead. To get a de-fragmented frame, use `newframe = frame.copy()`\n",
            "  df_estados_2turno[estado_percentual] = (df_estados_2turno[ec[0]] / df_estados_2turno[ec[1]] * 100).round(2)\n",
            "<ipython-input-95-a2904218ed4e>:27: PerformanceWarning: DataFrame is highly fragmented.  This is usually the result of calling `frame.insert` many times, which has poor performance.  Consider joining all columns at once using pd.concat(axis=1) instead. To get a de-fragmented frame, use `newframe = frame.copy()`\n",
            "  df_estados_2turno[estado_percentual] = (df_estados_2turno[ec[0]] / df_estados_2turno[ec[1]] * 100).round(2)\n",
            "<ipython-input-95-a2904218ed4e>:27: PerformanceWarning: DataFrame is highly fragmented.  This is usually the result of calling `frame.insert` many times, which has poor performance.  Consider joining all columns at once using pd.concat(axis=1) instead. To get a de-fragmented frame, use `newframe = frame.copy()`\n",
            "  df_estados_2turno[estado_percentual] = (df_estados_2turno[ec[0]] / df_estados_2turno[ec[1]] * 100).round(2)\n",
            "<ipython-input-95-a2904218ed4e>:27: PerformanceWarning: DataFrame is highly fragmented.  This is usually the result of calling `frame.insert` many times, which has poor performance.  Consider joining all columns at once using pd.concat(axis=1) instead. To get a de-fragmented frame, use `newframe = frame.copy()`\n",
            "  df_estados_2turno[estado_percentual] = (df_estados_2turno[ec[0]] / df_estados_2turno[ec[1]] * 100).round(2)\n",
            "<ipython-input-95-a2904218ed4e>:27: PerformanceWarning: DataFrame is highly fragmented.  This is usually the result of calling `frame.insert` many times, which has poor performance.  Consider joining all columns at once using pd.concat(axis=1) instead. To get a de-fragmented frame, use `newframe = frame.copy()`\n",
            "  df_estados_2turno[estado_percentual] = (df_estados_2turno[ec[0]] / df_estados_2turno[ec[1]] * 100).round(2)\n",
            "<ipython-input-95-a2904218ed4e>:27: PerformanceWarning: DataFrame is highly fragmented.  This is usually the result of calling `frame.insert` many times, which has poor performance.  Consider joining all columns at once using pd.concat(axis=1) instead. To get a de-fragmented frame, use `newframe = frame.copy()`\n",
            "  df_estados_2turno[estado_percentual] = (df_estados_2turno[ec[0]] / df_estados_2turno[ec[1]] * 100).round(2)\n",
            "<ipython-input-95-a2904218ed4e>:27: PerformanceWarning: DataFrame is highly fragmented.  This is usually the result of calling `frame.insert` many times, which has poor performance.  Consider joining all columns at once using pd.concat(axis=1) instead. To get a de-fragmented frame, use `newframe = frame.copy()`\n",
            "  df_estados_2turno[estado_percentual] = (df_estados_2turno[ec[0]] / df_estados_2turno[ec[1]] * 100).round(2)\n",
            "<ipython-input-95-a2904218ed4e>:27: PerformanceWarning: DataFrame is highly fragmented.  This is usually the result of calling `frame.insert` many times, which has poor performance.  Consider joining all columns at once using pd.concat(axis=1) instead. To get a de-fragmented frame, use `newframe = frame.copy()`\n",
            "  df_estados_2turno[estado_percentual] = (df_estados_2turno[ec[0]] / df_estados_2turno[ec[1]] * 100).round(2)\n",
            "<ipython-input-95-a2904218ed4e>:27: PerformanceWarning: DataFrame is highly fragmented.  This is usually the result of calling `frame.insert` many times, which has poor performance.  Consider joining all columns at once using pd.concat(axis=1) instead. To get a de-fragmented frame, use `newframe = frame.copy()`\n",
            "  df_estados_2turno[estado_percentual] = (df_estados_2turno[ec[0]] / df_estados_2turno[ec[1]] * 100).round(2)\n",
            "<ipython-input-95-a2904218ed4e>:27: PerformanceWarning: DataFrame is highly fragmented.  This is usually the result of calling `frame.insert` many times, which has poor performance.  Consider joining all columns at once using pd.concat(axis=1) instead. To get a de-fragmented frame, use `newframe = frame.copy()`\n",
            "  df_estados_2turno[estado_percentual] = (df_estados_2turno[ec[0]] / df_estados_2turno[ec[1]] * 100).round(2)\n"
          ]
        }
      ],
      "source": [
        "estados_civil_percentual_feminino = {\n",
        "    '16_anos_solteiro_feminino_percentual(%)':['16_anos_solteiro_feminino','16_anos'],\n",
        "    '17_anos_solteiro_feminino_percentual(%)':['17_anos_solteiro_feminino','17_anos'],\n",
        "    '18_anos_solteiro_feminino_percentual(%)':['18_anos_solteiro_feminino','18_anos'],\n",
        "    '19_anos_solteiro_feminino_percentual(%)':['19_anos_solteiro_feminino','19_anos'],\n",
        "    '20_anos_solteiro_feminino_percentual(%)':['20_anos_solteiro_feminino','20_anos'],\n",
        "    '21_24_anos_solteiro_feminino_percentual(%)':['21_24_anos_solteiro_feminino','21_24_anos'],\n",
        "    '25_29_anos_solteiro_feminino_percentual(%)':['25_29_anos_solteiro_feminino','25_29_anos'],\n",
        "    '30_34_anos_solteiro_feminino_percentual(%)':['30_34_anos_solteiro_feminino','30_34_anos'],\n",
        "    '35_39_anos_solteiro_feminino_percentual(%)':['35_39_anos_solteiro_feminino','35_39_anos'],\n",
        "    '40_44_anos_solteiro_feminino_percentual(%)':['40_44_anos_solteiro_feminino','40_44_anos'],\n",
        "    '45_49_anos_solteiro_feminino_percentual(%)':['45_49_anos_solteiro_feminino','45_49_anos'],\n",
        "    '50_54_anos_solteiro_feminino_percentual(%)':['50_54_anos_solteiro_feminino','50_54_anos'],\n",
        "    '55_59_anos_solteiro_feminino_percentual(%)':['55_59_anos_solteiro_feminino','55_59_anos'],\n",
        "    '60_64_anos_solteiro_feminino_percentual(%)':['60_64_anos_solteiro_feminino','60_64_anos'],\n",
        "    '65_69_anos_solteiro_feminino_percentual(%)':['65_69_anos_solteiro_feminino','65_69_anos'],\n",
        "    '70_74_anos_solteiro_feminino_percentual(%)':['70_74_anos_solteiro_feminino','70_74_anos'],\n",
        "    '75_79_anos_solteiro_feminino_percentual(%)':['75_79_anos_solteiro_feminino','75_79_anos'],\n",
        "    '80_84_anos_solteiro_feminino_percentual(%)':['80_84_anos_solteiro_feminino','80_84_anos'],\n",
        "    '85_89_anos_solteiro_feminino_percentual(%)':['85_89_anos_solteiro_feminino','85_89_anos'],\n",
        "    '90_94_anos_solteiro_feminino_percentual(%)':['90_94_anos_solteiro_feminino','90_94_anos'],\n",
        "    '95_99_anos_solteiro_feminino_percentual(%)':['95_99_anos_solteiro_feminino','95_99_anos'],\n",
        "    '100_anos_solteiro_feminino_percentual(%)':['100_anos_solteiro_feminino','100_anos'],\n",
        "}\n",
        "\n",
        "for estado_percentual, ec in estados_civil_percentual_feminino.items():\n",
        "  df_estados_2turno[estado_percentual] = (df_estados_2turno[ec[0]] / df_estados_2turno[ec[1]] * 100).round(2)\n",
        "\n",
        "del estados_civil_percentual_feminino"
      ]
    },
    {
      "cell_type": "markdown",
      "metadata": {
        "id": "uEx7Z05lNe4M"
      },
      "source": [
        "## Eleitorado feminino casado por faixa etária"
      ]
    },
    {
      "cell_type": "code",
      "execution_count": null,
      "metadata": {
        "id": "1d9sn1IINe4M"
      },
      "outputs": [],
      "source": [
        "# Filtra os dados apenas para o gênero masculino e solteiro\n",
        "df_turno_2_2020_feminino = df_turno_2_2020[(df_turno_2_2020['DS_GENERO'] == 'FEMININO') & (df_turno_2_2020['DS_ESTADO_CIVIL'] == 'CASADO')].groupby(['SG_UF', 'DS_FAIXA_ETARIA',])['QT_APTOS'].sum().reset_index()\n",
        "\n",
        "# Realiza o pivot para transformar as colunas de grau de escolaridade em colunas do dataframe\n",
        "pivot_feminino = df_turno_2_2020_feminino.pivot_table(index=['SG_UF'], columns='DS_FAIXA_ETARIA', values='QT_APTOS').reset_index()\n",
        "pivot_feminino = pivot_feminino.fillna(0)\n",
        "pivot_feminino = pivot_feminino.rename(columns={\n",
        "       '16 anos':'16_anos_casado_feminino', '17 anos':'17_anos_casado_feminino', '18 anos':'18_anos_casado_feminino',\n",
        "       '19 anos':'19_anos_casado_feminino', '20 anos':'20_anos_casado_feminino', '21 a 24 anos':'21_24_anos_casado_feminino',\n",
        "       '25 a 29 anos':'25_29_anos_casado_feminino', '30 a 34 anos':'30_34_anos_casado_feminino', '35 a 39 anos':'35_39_anos_casado_feminino',\n",
        "       '40 a 44 anos':'40_44_anos_casado_feminino', '45 a 49 anos':'45_49_anos_casado_feminino',\n",
        "       '50 a 54 anos':'50_54_anos_casado_feminino', '55 a 59 anos':'55_59_anos_casado_feminino',\n",
        "       '60 a 64 anos':'60_64_anos_casado_feminino', '65 a 69 anos':'65_69_anos_casado_feminino',\n",
        "       '70 a 74 anos':'70_74_anos_casado_feminino', '75 a 79 anos':'75_79_anos_casado_feminino',\n",
        "       '80 a 84 anos':'80_84_anos_casado_feminino', '85 a 89 anos':'85_89_anos_casado_feminino',\n",
        "       '90 a 94 anos':'90_94_anos_casado_feminino', '95 a 99 anos':'95_99_anos_casado_feminino',\n",
        "       '100 anos ou mais':'100_anos_casado_feminino',})\n",
        "\n",
        "pivot_feminino = pivot_feminino[['SG_UF',\n",
        "       '16_anos_casado_feminino', '17_anos_casado_feminino',\n",
        "       '18_anos_casado_feminino', '19_anos_casado_feminino',\n",
        "       '20_anos_casado_feminino', '21_24_anos_casado_feminino',\n",
        "       '25_29_anos_casado_feminino', '30_34_anos_casado_feminino',\n",
        "       '35_39_anos_casado_feminino', '40_44_anos_casado_feminino',\n",
        "       '45_49_anos_casado_feminino', '50_54_anos_casado_feminino',\n",
        "       '55_59_anos_casado_feminino', '60_64_anos_casado_feminino',\n",
        "       '65_69_anos_casado_feminino', '70_74_anos_casado_feminino',\n",
        "       '75_79_anos_casado_feminino', '80_84_anos_casado_feminino',\n",
        "       '85_89_anos_casado_feminino', '90_94_anos_casado_feminino',\n",
        "       '95_99_anos_casado_feminino', '100_anos_casado_feminino',]]\n",
        "\n",
        "for i in pivot_feminino.columns:\n",
        "  if ((i != 'SG_UF')):\n",
        "    pivot_feminino[i] = pivot_feminino[i].astype(int)\n",
        "\n",
        "df_estados_2turno = df_estados_2turno.merge(pivot_feminino, on=['SG_UF'], how='left')"
      ]
    },
    {
      "cell_type": "code",
      "execution_count": null,
      "metadata": {
        "id": "tGjJsTUBNe4M",
        "colab": {
          "base_uri": "https://localhost:8080/"
        },
        "outputId": "6695ac13-47e4-4764-a9f8-d083dabef8d3"
      },
      "outputs": [
        {
          "output_type": "stream",
          "name": "stderr",
          "text": [
            "<ipython-input-97-d4f1d476c2a8>:27: PerformanceWarning: DataFrame is highly fragmented.  This is usually the result of calling `frame.insert` many times, which has poor performance.  Consider joining all columns at once using pd.concat(axis=1) instead. To get a de-fragmented frame, use `newframe = frame.copy()`\n",
            "  df_estados_2turno[estado_percentual] = (df_estados_2turno[ec[0]] / df_estados_2turno[ec[1]] * 100).round(2)\n",
            "<ipython-input-97-d4f1d476c2a8>:27: PerformanceWarning: DataFrame is highly fragmented.  This is usually the result of calling `frame.insert` many times, which has poor performance.  Consider joining all columns at once using pd.concat(axis=1) instead. To get a de-fragmented frame, use `newframe = frame.copy()`\n",
            "  df_estados_2turno[estado_percentual] = (df_estados_2turno[ec[0]] / df_estados_2turno[ec[1]] * 100).round(2)\n",
            "<ipython-input-97-d4f1d476c2a8>:27: PerformanceWarning: DataFrame is highly fragmented.  This is usually the result of calling `frame.insert` many times, which has poor performance.  Consider joining all columns at once using pd.concat(axis=1) instead. To get a de-fragmented frame, use `newframe = frame.copy()`\n",
            "  df_estados_2turno[estado_percentual] = (df_estados_2turno[ec[0]] / df_estados_2turno[ec[1]] * 100).round(2)\n",
            "<ipython-input-97-d4f1d476c2a8>:27: PerformanceWarning: DataFrame is highly fragmented.  This is usually the result of calling `frame.insert` many times, which has poor performance.  Consider joining all columns at once using pd.concat(axis=1) instead. To get a de-fragmented frame, use `newframe = frame.copy()`\n",
            "  df_estados_2turno[estado_percentual] = (df_estados_2turno[ec[0]] / df_estados_2turno[ec[1]] * 100).round(2)\n",
            "<ipython-input-97-d4f1d476c2a8>:27: PerformanceWarning: DataFrame is highly fragmented.  This is usually the result of calling `frame.insert` many times, which has poor performance.  Consider joining all columns at once using pd.concat(axis=1) instead. To get a de-fragmented frame, use `newframe = frame.copy()`\n",
            "  df_estados_2turno[estado_percentual] = (df_estados_2turno[ec[0]] / df_estados_2turno[ec[1]] * 100).round(2)\n",
            "<ipython-input-97-d4f1d476c2a8>:27: PerformanceWarning: DataFrame is highly fragmented.  This is usually the result of calling `frame.insert` many times, which has poor performance.  Consider joining all columns at once using pd.concat(axis=1) instead. To get a de-fragmented frame, use `newframe = frame.copy()`\n",
            "  df_estados_2turno[estado_percentual] = (df_estados_2turno[ec[0]] / df_estados_2turno[ec[1]] * 100).round(2)\n",
            "<ipython-input-97-d4f1d476c2a8>:27: PerformanceWarning: DataFrame is highly fragmented.  This is usually the result of calling `frame.insert` many times, which has poor performance.  Consider joining all columns at once using pd.concat(axis=1) instead. To get a de-fragmented frame, use `newframe = frame.copy()`\n",
            "  df_estados_2turno[estado_percentual] = (df_estados_2turno[ec[0]] / df_estados_2turno[ec[1]] * 100).round(2)\n",
            "<ipython-input-97-d4f1d476c2a8>:27: PerformanceWarning: DataFrame is highly fragmented.  This is usually the result of calling `frame.insert` many times, which has poor performance.  Consider joining all columns at once using pd.concat(axis=1) instead. To get a de-fragmented frame, use `newframe = frame.copy()`\n",
            "  df_estados_2turno[estado_percentual] = (df_estados_2turno[ec[0]] / df_estados_2turno[ec[1]] * 100).round(2)\n",
            "<ipython-input-97-d4f1d476c2a8>:27: PerformanceWarning: DataFrame is highly fragmented.  This is usually the result of calling `frame.insert` many times, which has poor performance.  Consider joining all columns at once using pd.concat(axis=1) instead. To get a de-fragmented frame, use `newframe = frame.copy()`\n",
            "  df_estados_2turno[estado_percentual] = (df_estados_2turno[ec[0]] / df_estados_2turno[ec[1]] * 100).round(2)\n",
            "<ipython-input-97-d4f1d476c2a8>:27: PerformanceWarning: DataFrame is highly fragmented.  This is usually the result of calling `frame.insert` many times, which has poor performance.  Consider joining all columns at once using pd.concat(axis=1) instead. To get a de-fragmented frame, use `newframe = frame.copy()`\n",
            "  df_estados_2turno[estado_percentual] = (df_estados_2turno[ec[0]] / df_estados_2turno[ec[1]] * 100).round(2)\n",
            "<ipython-input-97-d4f1d476c2a8>:27: PerformanceWarning: DataFrame is highly fragmented.  This is usually the result of calling `frame.insert` many times, which has poor performance.  Consider joining all columns at once using pd.concat(axis=1) instead. To get a de-fragmented frame, use `newframe = frame.copy()`\n",
            "  df_estados_2turno[estado_percentual] = (df_estados_2turno[ec[0]] / df_estados_2turno[ec[1]] * 100).round(2)\n",
            "<ipython-input-97-d4f1d476c2a8>:27: PerformanceWarning: DataFrame is highly fragmented.  This is usually the result of calling `frame.insert` many times, which has poor performance.  Consider joining all columns at once using pd.concat(axis=1) instead. To get a de-fragmented frame, use `newframe = frame.copy()`\n",
            "  df_estados_2turno[estado_percentual] = (df_estados_2turno[ec[0]] / df_estados_2turno[ec[1]] * 100).round(2)\n",
            "<ipython-input-97-d4f1d476c2a8>:27: PerformanceWarning: DataFrame is highly fragmented.  This is usually the result of calling `frame.insert` many times, which has poor performance.  Consider joining all columns at once using pd.concat(axis=1) instead. To get a de-fragmented frame, use `newframe = frame.copy()`\n",
            "  df_estados_2turno[estado_percentual] = (df_estados_2turno[ec[0]] / df_estados_2turno[ec[1]] * 100).round(2)\n",
            "<ipython-input-97-d4f1d476c2a8>:27: PerformanceWarning: DataFrame is highly fragmented.  This is usually the result of calling `frame.insert` many times, which has poor performance.  Consider joining all columns at once using pd.concat(axis=1) instead. To get a de-fragmented frame, use `newframe = frame.copy()`\n",
            "  df_estados_2turno[estado_percentual] = (df_estados_2turno[ec[0]] / df_estados_2turno[ec[1]] * 100).round(2)\n",
            "<ipython-input-97-d4f1d476c2a8>:27: PerformanceWarning: DataFrame is highly fragmented.  This is usually the result of calling `frame.insert` many times, which has poor performance.  Consider joining all columns at once using pd.concat(axis=1) instead. To get a de-fragmented frame, use `newframe = frame.copy()`\n",
            "  df_estados_2turno[estado_percentual] = (df_estados_2turno[ec[0]] / df_estados_2turno[ec[1]] * 100).round(2)\n",
            "<ipython-input-97-d4f1d476c2a8>:27: PerformanceWarning: DataFrame is highly fragmented.  This is usually the result of calling `frame.insert` many times, which has poor performance.  Consider joining all columns at once using pd.concat(axis=1) instead. To get a de-fragmented frame, use `newframe = frame.copy()`\n",
            "  df_estados_2turno[estado_percentual] = (df_estados_2turno[ec[0]] / df_estados_2turno[ec[1]] * 100).round(2)\n",
            "<ipython-input-97-d4f1d476c2a8>:27: PerformanceWarning: DataFrame is highly fragmented.  This is usually the result of calling `frame.insert` many times, which has poor performance.  Consider joining all columns at once using pd.concat(axis=1) instead. To get a de-fragmented frame, use `newframe = frame.copy()`\n",
            "  df_estados_2turno[estado_percentual] = (df_estados_2turno[ec[0]] / df_estados_2turno[ec[1]] * 100).round(2)\n",
            "<ipython-input-97-d4f1d476c2a8>:27: PerformanceWarning: DataFrame is highly fragmented.  This is usually the result of calling `frame.insert` many times, which has poor performance.  Consider joining all columns at once using pd.concat(axis=1) instead. To get a de-fragmented frame, use `newframe = frame.copy()`\n",
            "  df_estados_2turno[estado_percentual] = (df_estados_2turno[ec[0]] / df_estados_2turno[ec[1]] * 100).round(2)\n",
            "<ipython-input-97-d4f1d476c2a8>:27: PerformanceWarning: DataFrame is highly fragmented.  This is usually the result of calling `frame.insert` many times, which has poor performance.  Consider joining all columns at once using pd.concat(axis=1) instead. To get a de-fragmented frame, use `newframe = frame.copy()`\n",
            "  df_estados_2turno[estado_percentual] = (df_estados_2turno[ec[0]] / df_estados_2turno[ec[1]] * 100).round(2)\n",
            "<ipython-input-97-d4f1d476c2a8>:27: PerformanceWarning: DataFrame is highly fragmented.  This is usually the result of calling `frame.insert` many times, which has poor performance.  Consider joining all columns at once using pd.concat(axis=1) instead. To get a de-fragmented frame, use `newframe = frame.copy()`\n",
            "  df_estados_2turno[estado_percentual] = (df_estados_2turno[ec[0]] / df_estados_2turno[ec[1]] * 100).round(2)\n",
            "<ipython-input-97-d4f1d476c2a8>:27: PerformanceWarning: DataFrame is highly fragmented.  This is usually the result of calling `frame.insert` many times, which has poor performance.  Consider joining all columns at once using pd.concat(axis=1) instead. To get a de-fragmented frame, use `newframe = frame.copy()`\n",
            "  df_estados_2turno[estado_percentual] = (df_estados_2turno[ec[0]] / df_estados_2turno[ec[1]] * 100).round(2)\n",
            "<ipython-input-97-d4f1d476c2a8>:27: PerformanceWarning: DataFrame is highly fragmented.  This is usually the result of calling `frame.insert` many times, which has poor performance.  Consider joining all columns at once using pd.concat(axis=1) instead. To get a de-fragmented frame, use `newframe = frame.copy()`\n",
            "  df_estados_2turno[estado_percentual] = (df_estados_2turno[ec[0]] / df_estados_2turno[ec[1]] * 100).round(2)\n"
          ]
        }
      ],
      "source": [
        "estados_civil_percentual_feminino = {\n",
        "    '16_anos_casado_feminino_percentual(%)':['16_anos_casado_feminino','16_anos'],\n",
        "    '17_anos_casado_feminino_percentual(%)':['17_anos_casado_feminino','17_anos'],\n",
        "    '18_anos_casado_feminino_percentual(%)':['18_anos_casado_feminino','18_anos'],\n",
        "    '19_anos_casado_feminino_percentual(%)':['19_anos_casado_feminino','19_anos'],\n",
        "    '20_anos_casado_feminino_percentual(%)':['20_anos_casado_feminino','20_anos'],\n",
        "    '21_24_anos_casado_feminino_percentual(%)':['21_24_anos_casado_feminino','21_24_anos'],\n",
        "    '25_29_anos_casado_feminino_percentual(%)':['25_29_anos_casado_feminino','25_29_anos'],\n",
        "    '30_34_anos_casado_feminino_percentual(%)':['30_34_anos_casado_feminino','30_34_anos'],\n",
        "    '35_39_anos_casado_feminino_percentual(%)':['35_39_anos_casado_feminino','35_39_anos'],\n",
        "    '40_44_anos_casado_feminino_percentual(%)':['40_44_anos_casado_feminino','40_44_anos'],\n",
        "    '45_49_anos_casado_feminino_percentual(%)':['45_49_anos_casado_feminino','45_49_anos'],\n",
        "    '50_54_anos_casado_feminino_percentual(%)':['50_54_anos_casado_feminino','50_54_anos'],\n",
        "    '55_59_anos_casado_feminino_percentual(%)':['55_59_anos_casado_feminino','55_59_anos'],\n",
        "    '60_64_anos_casado_feminino_percentual(%)':['60_64_anos_casado_feminino','60_64_anos'],\n",
        "    '65_69_anos_casado_feminino_percentual(%)':['65_69_anos_casado_feminino','65_69_anos'],\n",
        "    '70_74_anos_casado_feminino_percentual(%)':['70_74_anos_casado_feminino','70_74_anos'],\n",
        "    '75_79_anos_casado_feminino_percentual(%)':['75_79_anos_casado_feminino','75_79_anos'],\n",
        "    '80_84_anos_casado_feminino_percentual(%)':['80_84_anos_casado_feminino','80_84_anos'],\n",
        "    '85_89_anos_casado_feminino_percentual(%)':['85_89_anos_casado_feminino','85_89_anos'],\n",
        "    '90_94_anos_casado_feminino_percentual(%)':['90_94_anos_casado_feminino','90_94_anos'],\n",
        "    '95_99_anos_casado_feminino_percentual(%)':['95_99_anos_casado_feminino','95_99_anos'],\n",
        "    '100_anos_casado_feminino_percentual(%)':['100_anos_casado_feminino','100_anos'],\n",
        "}\n",
        "\n",
        "for estado_percentual, ec in estados_civil_percentual_feminino.items():\n",
        "  df_estados_2turno[estado_percentual] = (df_estados_2turno[ec[0]] / df_estados_2turno[ec[1]] * 100).round(2)\n",
        "\n",
        "del estados_civil_percentual_feminino"
      ]
    },
    {
      "cell_type": "markdown",
      "metadata": {
        "id": "rTxJ4aenNe4N"
      },
      "source": [
        "## Eleitorado feminino divorciado por faixa etária"
      ]
    },
    {
      "cell_type": "code",
      "execution_count": null,
      "metadata": {
        "id": "6ySUpeXqNe4N"
      },
      "outputs": [],
      "source": [
        "# Filtra os dados apenas para o gênero masculino e solteiro\n",
        "df_turno_2_2020_feminino = df_turno_2_2020[(df_turno_2_2020['DS_GENERO'] == 'FEMININO') & (df_turno_2_2020['DS_ESTADO_CIVIL'] == 'DIVORCIADO')].groupby(['SG_UF', 'DS_FAIXA_ETARIA',])['QT_APTOS'].sum().reset_index()\n",
        "\n",
        "# Realiza o pivot para transformar as colunas de grau de escolaridade em colunas do dataframe\n",
        "pivot_feminino = df_turno_2_2020_feminino.pivot_table(index=['SG_UF'], columns='DS_FAIXA_ETARIA', values='QT_APTOS').reset_index()\n",
        "pivot_feminino = pivot_feminino.fillna(0)\n",
        "pivot_feminino = pivot_feminino.rename(columns={\n",
        "       '16 anos':'16_anos_divorciado_feminino', '17 anos':'17_anos_divorciado_feminino', '18 anos':'18_anos_divorciado_feminino',\n",
        "       '19 anos':'19_anos_divorciado_feminino', '20 anos':'20_anos_divorciado_feminino', '21 a 24 anos':'21_24_anos_divorciado_feminino',\n",
        "       '25 a 29 anos':'25_29_anos_divorciado_feminino', '30 a 34 anos':'30_34_anos_divorciado_feminino', '35 a 39 anos':'35_39_anos_divorciado_feminino',\n",
        "       '40 a 44 anos':'40_44_anos_divorciado_feminino', '45 a 49 anos':'45_49_anos_divorciado_feminino',\n",
        "       '50 a 54 anos':'50_54_anos_divorciado_feminino', '55 a 59 anos':'55_59_anos_divorciado_feminino',\n",
        "       '60 a 64 anos':'60_64_anos_divorciado_feminino', '65 a 69 anos':'65_69_anos_divorciado_feminino',\n",
        "       '70 a 74 anos':'70_74_anos_divorciado_feminino', '75 a 79 anos':'75_79_anos_divorciado_feminino',\n",
        "       '80 a 84 anos':'80_84_anos_divorciado_feminino', '85 a 89 anos':'85_89_anos_divorciado_feminino',\n",
        "       '90 a 94 anos':'90_94_anos_divorciado_feminino', '95 a 99 anos':'95_99_anos_divorciado_feminino',\n",
        "       '100 anos ou mais':'100_anos_divorciado_feminino',})\n",
        "\n",
        "pivot_feminino = pivot_feminino[['SG_UF',\n",
        "       '16_anos_divorciado_feminino', '17_anos_divorciado_feminino',\n",
        "       '18_anos_divorciado_feminino', '19_anos_divorciado_feminino',\n",
        "       '20_anos_divorciado_feminino', '21_24_anos_divorciado_feminino',\n",
        "       '25_29_anos_divorciado_feminino', '30_34_anos_divorciado_feminino',\n",
        "       '35_39_anos_divorciado_feminino', '40_44_anos_divorciado_feminino',\n",
        "       '45_49_anos_divorciado_feminino', '50_54_anos_divorciado_feminino',\n",
        "       '55_59_anos_divorciado_feminino', '60_64_anos_divorciado_feminino',\n",
        "       '65_69_anos_divorciado_feminino', '70_74_anos_divorciado_feminino',\n",
        "       '75_79_anos_divorciado_feminino', '80_84_anos_divorciado_feminino',\n",
        "       '85_89_anos_divorciado_feminino', '90_94_anos_divorciado_feminino',\n",
        "       '95_99_anos_divorciado_feminino', '100_anos_divorciado_feminino',]]\n",
        "\n",
        "for i in pivot_feminino.columns:\n",
        "  if ((i != 'SG_UF')):\n",
        "    pivot_feminino[i] = pivot_feminino[i].astype(int)\n",
        "\n",
        "df_estados_2turno = df_estados_2turno.merge(pivot_feminino, on=['SG_UF'], how='left')"
      ]
    },
    {
      "cell_type": "code",
      "execution_count": null,
      "metadata": {
        "id": "Wvf3BLTENe4O",
        "colab": {
          "base_uri": "https://localhost:8080/"
        },
        "outputId": "d23176b8-b18a-4fee-86ae-07b657a1dcf1"
      },
      "outputs": [
        {
          "output_type": "stream",
          "name": "stderr",
          "text": [
            "<ipython-input-99-d0f60330bb3e>:27: PerformanceWarning: DataFrame is highly fragmented.  This is usually the result of calling `frame.insert` many times, which has poor performance.  Consider joining all columns at once using pd.concat(axis=1) instead. To get a de-fragmented frame, use `newframe = frame.copy()`\n",
            "  df_estados_2turno[estado_percentual] = (df_estados_2turno[ec[0]] / df_estados_2turno[ec[1]] * 100).round(2)\n",
            "<ipython-input-99-d0f60330bb3e>:27: PerformanceWarning: DataFrame is highly fragmented.  This is usually the result of calling `frame.insert` many times, which has poor performance.  Consider joining all columns at once using pd.concat(axis=1) instead. To get a de-fragmented frame, use `newframe = frame.copy()`\n",
            "  df_estados_2turno[estado_percentual] = (df_estados_2turno[ec[0]] / df_estados_2turno[ec[1]] * 100).round(2)\n",
            "<ipython-input-99-d0f60330bb3e>:27: PerformanceWarning: DataFrame is highly fragmented.  This is usually the result of calling `frame.insert` many times, which has poor performance.  Consider joining all columns at once using pd.concat(axis=1) instead. To get a de-fragmented frame, use `newframe = frame.copy()`\n",
            "  df_estados_2turno[estado_percentual] = (df_estados_2turno[ec[0]] / df_estados_2turno[ec[1]] * 100).round(2)\n",
            "<ipython-input-99-d0f60330bb3e>:27: PerformanceWarning: DataFrame is highly fragmented.  This is usually the result of calling `frame.insert` many times, which has poor performance.  Consider joining all columns at once using pd.concat(axis=1) instead. To get a de-fragmented frame, use `newframe = frame.copy()`\n",
            "  df_estados_2turno[estado_percentual] = (df_estados_2turno[ec[0]] / df_estados_2turno[ec[1]] * 100).round(2)\n",
            "<ipython-input-99-d0f60330bb3e>:27: PerformanceWarning: DataFrame is highly fragmented.  This is usually the result of calling `frame.insert` many times, which has poor performance.  Consider joining all columns at once using pd.concat(axis=1) instead. To get a de-fragmented frame, use `newframe = frame.copy()`\n",
            "  df_estados_2turno[estado_percentual] = (df_estados_2turno[ec[0]] / df_estados_2turno[ec[1]] * 100).round(2)\n",
            "<ipython-input-99-d0f60330bb3e>:27: PerformanceWarning: DataFrame is highly fragmented.  This is usually the result of calling `frame.insert` many times, which has poor performance.  Consider joining all columns at once using pd.concat(axis=1) instead. To get a de-fragmented frame, use `newframe = frame.copy()`\n",
            "  df_estados_2turno[estado_percentual] = (df_estados_2turno[ec[0]] / df_estados_2turno[ec[1]] * 100).round(2)\n",
            "<ipython-input-99-d0f60330bb3e>:27: PerformanceWarning: DataFrame is highly fragmented.  This is usually the result of calling `frame.insert` many times, which has poor performance.  Consider joining all columns at once using pd.concat(axis=1) instead. To get a de-fragmented frame, use `newframe = frame.copy()`\n",
            "  df_estados_2turno[estado_percentual] = (df_estados_2turno[ec[0]] / df_estados_2turno[ec[1]] * 100).round(2)\n",
            "<ipython-input-99-d0f60330bb3e>:27: PerformanceWarning: DataFrame is highly fragmented.  This is usually the result of calling `frame.insert` many times, which has poor performance.  Consider joining all columns at once using pd.concat(axis=1) instead. To get a de-fragmented frame, use `newframe = frame.copy()`\n",
            "  df_estados_2turno[estado_percentual] = (df_estados_2turno[ec[0]] / df_estados_2turno[ec[1]] * 100).round(2)\n",
            "<ipython-input-99-d0f60330bb3e>:27: PerformanceWarning: DataFrame is highly fragmented.  This is usually the result of calling `frame.insert` many times, which has poor performance.  Consider joining all columns at once using pd.concat(axis=1) instead. To get a de-fragmented frame, use `newframe = frame.copy()`\n",
            "  df_estados_2turno[estado_percentual] = (df_estados_2turno[ec[0]] / df_estados_2turno[ec[1]] * 100).round(2)\n",
            "<ipython-input-99-d0f60330bb3e>:27: PerformanceWarning: DataFrame is highly fragmented.  This is usually the result of calling `frame.insert` many times, which has poor performance.  Consider joining all columns at once using pd.concat(axis=1) instead. To get a de-fragmented frame, use `newframe = frame.copy()`\n",
            "  df_estados_2turno[estado_percentual] = (df_estados_2turno[ec[0]] / df_estados_2turno[ec[1]] * 100).round(2)\n",
            "<ipython-input-99-d0f60330bb3e>:27: PerformanceWarning: DataFrame is highly fragmented.  This is usually the result of calling `frame.insert` many times, which has poor performance.  Consider joining all columns at once using pd.concat(axis=1) instead. To get a de-fragmented frame, use `newframe = frame.copy()`\n",
            "  df_estados_2turno[estado_percentual] = (df_estados_2turno[ec[0]] / df_estados_2turno[ec[1]] * 100).round(2)\n",
            "<ipython-input-99-d0f60330bb3e>:27: PerformanceWarning: DataFrame is highly fragmented.  This is usually the result of calling `frame.insert` many times, which has poor performance.  Consider joining all columns at once using pd.concat(axis=1) instead. To get a de-fragmented frame, use `newframe = frame.copy()`\n",
            "  df_estados_2turno[estado_percentual] = (df_estados_2turno[ec[0]] / df_estados_2turno[ec[1]] * 100).round(2)\n",
            "<ipython-input-99-d0f60330bb3e>:27: PerformanceWarning: DataFrame is highly fragmented.  This is usually the result of calling `frame.insert` many times, which has poor performance.  Consider joining all columns at once using pd.concat(axis=1) instead. To get a de-fragmented frame, use `newframe = frame.copy()`\n",
            "  df_estados_2turno[estado_percentual] = (df_estados_2turno[ec[0]] / df_estados_2turno[ec[1]] * 100).round(2)\n",
            "<ipython-input-99-d0f60330bb3e>:27: PerformanceWarning: DataFrame is highly fragmented.  This is usually the result of calling `frame.insert` many times, which has poor performance.  Consider joining all columns at once using pd.concat(axis=1) instead. To get a de-fragmented frame, use `newframe = frame.copy()`\n",
            "  df_estados_2turno[estado_percentual] = (df_estados_2turno[ec[0]] / df_estados_2turno[ec[1]] * 100).round(2)\n",
            "<ipython-input-99-d0f60330bb3e>:27: PerformanceWarning: DataFrame is highly fragmented.  This is usually the result of calling `frame.insert` many times, which has poor performance.  Consider joining all columns at once using pd.concat(axis=1) instead. To get a de-fragmented frame, use `newframe = frame.copy()`\n",
            "  df_estados_2turno[estado_percentual] = (df_estados_2turno[ec[0]] / df_estados_2turno[ec[1]] * 100).round(2)\n",
            "<ipython-input-99-d0f60330bb3e>:27: PerformanceWarning: DataFrame is highly fragmented.  This is usually the result of calling `frame.insert` many times, which has poor performance.  Consider joining all columns at once using pd.concat(axis=1) instead. To get a de-fragmented frame, use `newframe = frame.copy()`\n",
            "  df_estados_2turno[estado_percentual] = (df_estados_2turno[ec[0]] / df_estados_2turno[ec[1]] * 100).round(2)\n",
            "<ipython-input-99-d0f60330bb3e>:27: PerformanceWarning: DataFrame is highly fragmented.  This is usually the result of calling `frame.insert` many times, which has poor performance.  Consider joining all columns at once using pd.concat(axis=1) instead. To get a de-fragmented frame, use `newframe = frame.copy()`\n",
            "  df_estados_2turno[estado_percentual] = (df_estados_2turno[ec[0]] / df_estados_2turno[ec[1]] * 100).round(2)\n",
            "<ipython-input-99-d0f60330bb3e>:27: PerformanceWarning: DataFrame is highly fragmented.  This is usually the result of calling `frame.insert` many times, which has poor performance.  Consider joining all columns at once using pd.concat(axis=1) instead. To get a de-fragmented frame, use `newframe = frame.copy()`\n",
            "  df_estados_2turno[estado_percentual] = (df_estados_2turno[ec[0]] / df_estados_2turno[ec[1]] * 100).round(2)\n",
            "<ipython-input-99-d0f60330bb3e>:27: PerformanceWarning: DataFrame is highly fragmented.  This is usually the result of calling `frame.insert` many times, which has poor performance.  Consider joining all columns at once using pd.concat(axis=1) instead. To get a de-fragmented frame, use `newframe = frame.copy()`\n",
            "  df_estados_2turno[estado_percentual] = (df_estados_2turno[ec[0]] / df_estados_2turno[ec[1]] * 100).round(2)\n",
            "<ipython-input-99-d0f60330bb3e>:27: PerformanceWarning: DataFrame is highly fragmented.  This is usually the result of calling `frame.insert` many times, which has poor performance.  Consider joining all columns at once using pd.concat(axis=1) instead. To get a de-fragmented frame, use `newframe = frame.copy()`\n",
            "  df_estados_2turno[estado_percentual] = (df_estados_2turno[ec[0]] / df_estados_2turno[ec[1]] * 100).round(2)\n",
            "<ipython-input-99-d0f60330bb3e>:27: PerformanceWarning: DataFrame is highly fragmented.  This is usually the result of calling `frame.insert` many times, which has poor performance.  Consider joining all columns at once using pd.concat(axis=1) instead. To get a de-fragmented frame, use `newframe = frame.copy()`\n",
            "  df_estados_2turno[estado_percentual] = (df_estados_2turno[ec[0]] / df_estados_2turno[ec[1]] * 100).round(2)\n",
            "<ipython-input-99-d0f60330bb3e>:27: PerformanceWarning: DataFrame is highly fragmented.  This is usually the result of calling `frame.insert` many times, which has poor performance.  Consider joining all columns at once using pd.concat(axis=1) instead. To get a de-fragmented frame, use `newframe = frame.copy()`\n",
            "  df_estados_2turno[estado_percentual] = (df_estados_2turno[ec[0]] / df_estados_2turno[ec[1]] * 100).round(2)\n"
          ]
        }
      ],
      "source": [
        "estados_civil_percentual_feminino = {\n",
        "    '16_anos_divorciado_feminino_percentual(%)':['16_anos_divorciado_feminino','16_anos'],\n",
        "    '17_anos_divorciado_feminino_percentual(%)':['17_anos_divorciado_feminino','17_anos'],\n",
        "    '18_anos_divorciado_feminino_percentual(%)':['18_anos_divorciado_feminino','18_anos'],\n",
        "    '19_anos_divorciado_feminino_percentual(%)':['19_anos_divorciado_feminino','19_anos'],\n",
        "    '20_anos_divorciado_feminino_percentual(%)':['20_anos_divorciado_feminino','20_anos'],\n",
        "    '21_24_anos_divorciado_feminino_percentual(%)':['21_24_anos_divorciado_feminino','21_24_anos'],\n",
        "    '25_29_anos_divorciado_feminino_percentual(%)':['25_29_anos_divorciado_feminino','25_29_anos'],\n",
        "    '30_34_anos_divorciado_feminino_percentual(%)':['30_34_anos_divorciado_feminino','30_34_anos'],\n",
        "    '35_39_anos_divorciado_feminino_percentual(%)':['35_39_anos_divorciado_feminino','35_39_anos'],\n",
        "    '40_44_anos_divorciado_feminino_percentual(%)':['40_44_anos_divorciado_feminino','40_44_anos'],\n",
        "    '45_49_anos_divorciado_feminino_percentual(%)':['45_49_anos_divorciado_feminino','45_49_anos'],\n",
        "    '50_54_anos_divorciado_feminino_percentual(%)':['50_54_anos_divorciado_feminino','50_54_anos'],\n",
        "    '55_59_anos_divorciado_feminino_percentual(%)':['55_59_anos_divorciado_feminino','55_59_anos'],\n",
        "    '60_64_anos_divorciado_feminino_percentual(%)':['60_64_anos_divorciado_feminino','60_64_anos'],\n",
        "    '65_69_anos_divorciado_feminino_percentual(%)':['65_69_anos_divorciado_feminino','65_69_anos'],\n",
        "    '70_74_anos_divorciado_feminino_percentual(%)':['70_74_anos_divorciado_feminino','70_74_anos'],\n",
        "    '75_79_anos_divorciado_feminino_percentual(%)':['75_79_anos_divorciado_feminino','75_79_anos'],\n",
        "    '80_84_anos_divorciado_feminino_percentual(%)':['80_84_anos_divorciado_feminino','80_84_anos'],\n",
        "    '85_89_anos_divorciado_feminino_percentual(%)':['85_89_anos_divorciado_feminino','85_89_anos'],\n",
        "    '90_94_anos_divorciado_feminino_percentual(%)':['90_94_anos_divorciado_feminino','90_94_anos'],\n",
        "    '95_99_anos_divorciado_feminino_percentual(%)':['95_99_anos_divorciado_feminino','95_99_anos'],\n",
        "    '100_anos_divorciado_feminino_percentual(%)':['100_anos_divorciado_feminino','100_anos'],\n",
        "}\n",
        "\n",
        "for estado_percentual, ec in estados_civil_percentual_feminino.items():\n",
        "  df_estados_2turno[estado_percentual] = (df_estados_2turno[ec[0]] / df_estados_2turno[ec[1]] * 100).round(2)\n",
        "\n",
        "del estados_civil_percentual_feminino"
      ]
    },
    {
      "cell_type": "markdown",
      "metadata": {
        "id": "sMEzuDICNe4P"
      },
      "source": [
        "## Eleitorado feminino viúvo por faixa etária"
      ]
    },
    {
      "cell_type": "code",
      "execution_count": null,
      "metadata": {
        "id": "ekB2eZwRNe4Q"
      },
      "outputs": [],
      "source": [
        "# Filtra os dados apenas para o gênero masculino e solteiro\n",
        "df_turno_2_2020_feminino = df_turno_2_2020[(df_turno_2_2020['DS_GENERO'] == 'FEMININO') & (df_turno_2_2020['DS_ESTADO_CIVIL'] == 'VIÚVO')].groupby(['SG_UF', 'DS_FAIXA_ETARIA',])['QT_APTOS'].sum().reset_index()\n",
        "\n",
        "# Realiza o pivot para transformar as colunas de grau de escolaridade em colunas do dataframe\n",
        "pivot_feminino = df_turno_2_2020_feminino.pivot_table(index=['SG_UF'], columns='DS_FAIXA_ETARIA', values='QT_APTOS').reset_index()\n",
        "pivot_feminino = pivot_feminino.fillna(0)\n",
        "pivot_feminino = pivot_feminino.rename(columns={\n",
        "       '16 anos':'16_anos_viuvo_feminino', '17 anos':'17_anos_viuvo_feminino', '18 anos':'18_anos_viuvo_feminino',\n",
        "       '19 anos':'19_anos_viuvo_feminino', '20 anos':'20_anos_viuvo_feminino', '21 a 24 anos':'21_24_anos_viuvo_feminino',\n",
        "       '25 a 29 anos':'25_29_anos_viuvo_feminino', '30 a 34 anos':'30_34_anos_viuvo_feminino', '35 a 39 anos':'35_39_anos_viuvo_feminino',\n",
        "       '40 a 44 anos':'40_44_anos_viuvo_feminino', '45 a 49 anos':'45_49_anos_viuvo_feminino',\n",
        "       '50 a 54 anos':'50_54_anos_viuvo_feminino', '55 a 59 anos':'55_59_anos_viuvo_feminino',\n",
        "       '60 a 64 anos':'60_64_anos_viuvo_feminino', '65 a 69 anos':'65_69_anos_viuvo_feminino',\n",
        "       '70 a 74 anos':'70_74_anos_viuvo_feminino', '75 a 79 anos':'75_79_anos_viuvo_feminino',\n",
        "       '80 a 84 anos':'80_84_anos_viuvo_feminino', '85 a 89 anos':'85_89_anos_viuvo_feminino',\n",
        "       '90 a 94 anos':'90_94_anos_viuvo_feminino', '95 a 99 anos':'95_99_anos_viuvo_feminino',\n",
        "       '100 anos ou mais':'100_anos_viuvo_feminino',})\n",
        "\n",
        "pivot_feminino = pivot_feminino[['SG_UF',\n",
        "       '16_anos_viuvo_feminino', '17_anos_viuvo_feminino',\n",
        "       '18_anos_viuvo_feminino', '19_anos_viuvo_feminino',\n",
        "       '20_anos_viuvo_feminino', '21_24_anos_viuvo_feminino',\n",
        "       '25_29_anos_viuvo_feminino', '30_34_anos_viuvo_feminino',\n",
        "       '35_39_anos_viuvo_feminino', '40_44_anos_viuvo_feminino',\n",
        "       '45_49_anos_viuvo_feminino', '50_54_anos_viuvo_feminino',\n",
        "       '55_59_anos_viuvo_feminino', '60_64_anos_viuvo_feminino',\n",
        "       '65_69_anos_viuvo_feminino', '70_74_anos_viuvo_feminino',\n",
        "       '75_79_anos_viuvo_feminino', '80_84_anos_viuvo_feminino',\n",
        "       '85_89_anos_viuvo_feminino', '90_94_anos_viuvo_feminino',\n",
        "       '95_99_anos_viuvo_feminino', '100_anos_viuvo_feminino',]]\n",
        "\n",
        "for i in pivot_feminino.columns:\n",
        "  if ((i != 'SG_UF')):\n",
        "    pivot_feminino[i] = pivot_feminino[i].astype(int)\n",
        "\n",
        "df_estados_2turno = df_estados_2turno.merge(pivot_feminino, on=['SG_UF'], how='left')"
      ]
    },
    {
      "cell_type": "code",
      "execution_count": null,
      "metadata": {
        "id": "NRGaLc7ONe4Q",
        "colab": {
          "base_uri": "https://localhost:8080/"
        },
        "outputId": "b3d51979-b63d-43b7-8334-30765d3b80e3"
      },
      "outputs": [
        {
          "output_type": "stream",
          "name": "stderr",
          "text": [
            "<ipython-input-101-d90b889401de>:27: PerformanceWarning: DataFrame is highly fragmented.  This is usually the result of calling `frame.insert` many times, which has poor performance.  Consider joining all columns at once using pd.concat(axis=1) instead. To get a de-fragmented frame, use `newframe = frame.copy()`\n",
            "  df_estados_2turno[estado_percentual] = (df_estados_2turno[ec[0]] / df_estados_2turno[ec[1]] * 100).round(2)\n",
            "<ipython-input-101-d90b889401de>:27: PerformanceWarning: DataFrame is highly fragmented.  This is usually the result of calling `frame.insert` many times, which has poor performance.  Consider joining all columns at once using pd.concat(axis=1) instead. To get a de-fragmented frame, use `newframe = frame.copy()`\n",
            "  df_estados_2turno[estado_percentual] = (df_estados_2turno[ec[0]] / df_estados_2turno[ec[1]] * 100).round(2)\n",
            "<ipython-input-101-d90b889401de>:27: PerformanceWarning: DataFrame is highly fragmented.  This is usually the result of calling `frame.insert` many times, which has poor performance.  Consider joining all columns at once using pd.concat(axis=1) instead. To get a de-fragmented frame, use `newframe = frame.copy()`\n",
            "  df_estados_2turno[estado_percentual] = (df_estados_2turno[ec[0]] / df_estados_2turno[ec[1]] * 100).round(2)\n",
            "<ipython-input-101-d90b889401de>:27: PerformanceWarning: DataFrame is highly fragmented.  This is usually the result of calling `frame.insert` many times, which has poor performance.  Consider joining all columns at once using pd.concat(axis=1) instead. To get a de-fragmented frame, use `newframe = frame.copy()`\n",
            "  df_estados_2turno[estado_percentual] = (df_estados_2turno[ec[0]] / df_estados_2turno[ec[1]] * 100).round(2)\n",
            "<ipython-input-101-d90b889401de>:27: PerformanceWarning: DataFrame is highly fragmented.  This is usually the result of calling `frame.insert` many times, which has poor performance.  Consider joining all columns at once using pd.concat(axis=1) instead. To get a de-fragmented frame, use `newframe = frame.copy()`\n",
            "  df_estados_2turno[estado_percentual] = (df_estados_2turno[ec[0]] / df_estados_2turno[ec[1]] * 100).round(2)\n",
            "<ipython-input-101-d90b889401de>:27: PerformanceWarning: DataFrame is highly fragmented.  This is usually the result of calling `frame.insert` many times, which has poor performance.  Consider joining all columns at once using pd.concat(axis=1) instead. To get a de-fragmented frame, use `newframe = frame.copy()`\n",
            "  df_estados_2turno[estado_percentual] = (df_estados_2turno[ec[0]] / df_estados_2turno[ec[1]] * 100).round(2)\n",
            "<ipython-input-101-d90b889401de>:27: PerformanceWarning: DataFrame is highly fragmented.  This is usually the result of calling `frame.insert` many times, which has poor performance.  Consider joining all columns at once using pd.concat(axis=1) instead. To get a de-fragmented frame, use `newframe = frame.copy()`\n",
            "  df_estados_2turno[estado_percentual] = (df_estados_2turno[ec[0]] / df_estados_2turno[ec[1]] * 100).round(2)\n",
            "<ipython-input-101-d90b889401de>:27: PerformanceWarning: DataFrame is highly fragmented.  This is usually the result of calling `frame.insert` many times, which has poor performance.  Consider joining all columns at once using pd.concat(axis=1) instead. To get a de-fragmented frame, use `newframe = frame.copy()`\n",
            "  df_estados_2turno[estado_percentual] = (df_estados_2turno[ec[0]] / df_estados_2turno[ec[1]] * 100).round(2)\n",
            "<ipython-input-101-d90b889401de>:27: PerformanceWarning: DataFrame is highly fragmented.  This is usually the result of calling `frame.insert` many times, which has poor performance.  Consider joining all columns at once using pd.concat(axis=1) instead. To get a de-fragmented frame, use `newframe = frame.copy()`\n",
            "  df_estados_2turno[estado_percentual] = (df_estados_2turno[ec[0]] / df_estados_2turno[ec[1]] * 100).round(2)\n",
            "<ipython-input-101-d90b889401de>:27: PerformanceWarning: DataFrame is highly fragmented.  This is usually the result of calling `frame.insert` many times, which has poor performance.  Consider joining all columns at once using pd.concat(axis=1) instead. To get a de-fragmented frame, use `newframe = frame.copy()`\n",
            "  df_estados_2turno[estado_percentual] = (df_estados_2turno[ec[0]] / df_estados_2turno[ec[1]] * 100).round(2)\n",
            "<ipython-input-101-d90b889401de>:27: PerformanceWarning: DataFrame is highly fragmented.  This is usually the result of calling `frame.insert` many times, which has poor performance.  Consider joining all columns at once using pd.concat(axis=1) instead. To get a de-fragmented frame, use `newframe = frame.copy()`\n",
            "  df_estados_2turno[estado_percentual] = (df_estados_2turno[ec[0]] / df_estados_2turno[ec[1]] * 100).round(2)\n",
            "<ipython-input-101-d90b889401de>:27: PerformanceWarning: DataFrame is highly fragmented.  This is usually the result of calling `frame.insert` many times, which has poor performance.  Consider joining all columns at once using pd.concat(axis=1) instead. To get a de-fragmented frame, use `newframe = frame.copy()`\n",
            "  df_estados_2turno[estado_percentual] = (df_estados_2turno[ec[0]] / df_estados_2turno[ec[1]] * 100).round(2)\n",
            "<ipython-input-101-d90b889401de>:27: PerformanceWarning: DataFrame is highly fragmented.  This is usually the result of calling `frame.insert` many times, which has poor performance.  Consider joining all columns at once using pd.concat(axis=1) instead. To get a de-fragmented frame, use `newframe = frame.copy()`\n",
            "  df_estados_2turno[estado_percentual] = (df_estados_2turno[ec[0]] / df_estados_2turno[ec[1]] * 100).round(2)\n",
            "<ipython-input-101-d90b889401de>:27: PerformanceWarning: DataFrame is highly fragmented.  This is usually the result of calling `frame.insert` many times, which has poor performance.  Consider joining all columns at once using pd.concat(axis=1) instead. To get a de-fragmented frame, use `newframe = frame.copy()`\n",
            "  df_estados_2turno[estado_percentual] = (df_estados_2turno[ec[0]] / df_estados_2turno[ec[1]] * 100).round(2)\n",
            "<ipython-input-101-d90b889401de>:27: PerformanceWarning: DataFrame is highly fragmented.  This is usually the result of calling `frame.insert` many times, which has poor performance.  Consider joining all columns at once using pd.concat(axis=1) instead. To get a de-fragmented frame, use `newframe = frame.copy()`\n",
            "  df_estados_2turno[estado_percentual] = (df_estados_2turno[ec[0]] / df_estados_2turno[ec[1]] * 100).round(2)\n",
            "<ipython-input-101-d90b889401de>:27: PerformanceWarning: DataFrame is highly fragmented.  This is usually the result of calling `frame.insert` many times, which has poor performance.  Consider joining all columns at once using pd.concat(axis=1) instead. To get a de-fragmented frame, use `newframe = frame.copy()`\n",
            "  df_estados_2turno[estado_percentual] = (df_estados_2turno[ec[0]] / df_estados_2turno[ec[1]] * 100).round(2)\n",
            "<ipython-input-101-d90b889401de>:27: PerformanceWarning: DataFrame is highly fragmented.  This is usually the result of calling `frame.insert` many times, which has poor performance.  Consider joining all columns at once using pd.concat(axis=1) instead. To get a de-fragmented frame, use `newframe = frame.copy()`\n",
            "  df_estados_2turno[estado_percentual] = (df_estados_2turno[ec[0]] / df_estados_2turno[ec[1]] * 100).round(2)\n",
            "<ipython-input-101-d90b889401de>:27: PerformanceWarning: DataFrame is highly fragmented.  This is usually the result of calling `frame.insert` many times, which has poor performance.  Consider joining all columns at once using pd.concat(axis=1) instead. To get a de-fragmented frame, use `newframe = frame.copy()`\n",
            "  df_estados_2turno[estado_percentual] = (df_estados_2turno[ec[0]] / df_estados_2turno[ec[1]] * 100).round(2)\n",
            "<ipython-input-101-d90b889401de>:27: PerformanceWarning: DataFrame is highly fragmented.  This is usually the result of calling `frame.insert` many times, which has poor performance.  Consider joining all columns at once using pd.concat(axis=1) instead. To get a de-fragmented frame, use `newframe = frame.copy()`\n",
            "  df_estados_2turno[estado_percentual] = (df_estados_2turno[ec[0]] / df_estados_2turno[ec[1]] * 100).round(2)\n",
            "<ipython-input-101-d90b889401de>:27: PerformanceWarning: DataFrame is highly fragmented.  This is usually the result of calling `frame.insert` many times, which has poor performance.  Consider joining all columns at once using pd.concat(axis=1) instead. To get a de-fragmented frame, use `newframe = frame.copy()`\n",
            "  df_estados_2turno[estado_percentual] = (df_estados_2turno[ec[0]] / df_estados_2turno[ec[1]] * 100).round(2)\n",
            "<ipython-input-101-d90b889401de>:27: PerformanceWarning: DataFrame is highly fragmented.  This is usually the result of calling `frame.insert` many times, which has poor performance.  Consider joining all columns at once using pd.concat(axis=1) instead. To get a de-fragmented frame, use `newframe = frame.copy()`\n",
            "  df_estados_2turno[estado_percentual] = (df_estados_2turno[ec[0]] / df_estados_2turno[ec[1]] * 100).round(2)\n",
            "<ipython-input-101-d90b889401de>:27: PerformanceWarning: DataFrame is highly fragmented.  This is usually the result of calling `frame.insert` many times, which has poor performance.  Consider joining all columns at once using pd.concat(axis=1) instead. To get a de-fragmented frame, use `newframe = frame.copy()`\n",
            "  df_estados_2turno[estado_percentual] = (df_estados_2turno[ec[0]] / df_estados_2turno[ec[1]] * 100).round(2)\n"
          ]
        }
      ],
      "source": [
        "estados_civil_percentual_feminino = {\n",
        "    '16_anos_viuvo_feminino_percentual(%)':['16_anos_viuvo_feminino','16_anos'],\n",
        "    '17_anos_viuvo_feminino_percentual(%)':['17_anos_viuvo_feminino','17_anos'],\n",
        "    '18_anos_viuvo_feminino_percentual(%)':['18_anos_viuvo_feminino','18_anos'],\n",
        "    '19_anos_viuvo_feminino_percentual(%)':['19_anos_viuvo_feminino','19_anos'],\n",
        "    '20_anos_viuvo_feminino_percentual(%)':['20_anos_viuvo_feminino','20_anos'],\n",
        "    '21_24_anos_viuvo_feminino_percentual(%)':['21_24_anos_viuvo_feminino','21_24_anos'],\n",
        "    '25_29_anos_viuvo_feminino_percentual(%)':['25_29_anos_viuvo_feminino','25_29_anos'],\n",
        "    '30_34_anos_viuvo_feminino_percentual(%)':['30_34_anos_viuvo_feminino','30_34_anos'],\n",
        "    '35_39_anos_viuvo_feminino_percentual(%)':['35_39_anos_viuvo_feminino','35_39_anos'],\n",
        "    '40_44_anos_viuvo_feminino_percentual(%)':['40_44_anos_viuvo_feminino','40_44_anos'],\n",
        "    '45_49_anos_viuvo_feminino_percentual(%)':['45_49_anos_viuvo_feminino','45_49_anos'],\n",
        "    '50_54_anos_viuvo_feminino_percentual(%)':['50_54_anos_viuvo_feminino','50_54_anos'],\n",
        "    '55_59_anos_viuvo_feminino_percentual(%)':['55_59_anos_viuvo_feminino','55_59_anos'],\n",
        "    '60_64_anos_viuvo_feminino_percentual(%)':['60_64_anos_viuvo_feminino','60_64_anos'],\n",
        "    '65_69_anos_viuvo_feminino_percentual(%)':['65_69_anos_viuvo_feminino','65_69_anos'],\n",
        "    '70_74_anos_viuvo_feminino_percentual(%)':['70_74_anos_viuvo_feminino','70_74_anos'],\n",
        "    '75_79_anos_viuvo_feminino_percentual(%)':['75_79_anos_viuvo_feminino','75_79_anos'],\n",
        "    '80_84_anos_viuvo_feminino_percentual(%)':['80_84_anos_viuvo_feminino','80_84_anos'],\n",
        "    '85_89_anos_viuvo_feminino_percentual(%)':['85_89_anos_viuvo_feminino','85_89_anos'],\n",
        "    '90_94_anos_viuvo_feminino_percentual(%)':['90_94_anos_viuvo_feminino','90_94_anos'],\n",
        "    '95_99_anos_viuvo_feminino_percentual(%)':['95_99_anos_viuvo_feminino','95_99_anos'],\n",
        "    '100_anos_viuvo_feminino_percentual(%)':['100_anos_viuvo_feminino','100_anos'],\n",
        "}\n",
        "\n",
        "for estado_percentual, ec in estados_civil_percentual_feminino.items():\n",
        "  df_estados_2turno[estado_percentual] = (df_estados_2turno[ec[0]] / df_estados_2turno[ec[1]] * 100).round(2)\n",
        "\n",
        "del estados_civil_percentual_feminino"
      ]
    },
    {
      "cell_type": "markdown",
      "metadata": {
        "id": "wc6_UbNFNe4U"
      },
      "source": [
        "## Eleitorado feminino separado judicialmente por faixa etária\n"
      ]
    },
    {
      "cell_type": "code",
      "source": [
        "# Filtra os dados apenas para o gênero masculino e solteiro\n",
        "df_turno_2_2020_feminino = df_turno_2_2020[(df_turno_2_2020['DS_GENERO'] == 'FEMININO') & (df_turno_2_2020['DS_ESTADO_CIVIL'] == 'SEPARADO JUDICIALMENTE')].groupby(['SG_UF', 'DS_FAIXA_ETARIA',])['QT_APTOS'].sum().reset_index()\n",
        "\n",
        "# Realiza o pivot para transformar as colunas de grau de escolaridade em colunas do dataframe\n",
        "pivot_feminino = df_turno_2_2020_feminino.pivot_table(index=['SG_UF'], columns='DS_FAIXA_ETARIA', values='QT_APTOS').reset_index()\n",
        "pivot_feminino = pivot_feminino.fillna(0)\n",
        "pivot_feminino = pivot_feminino.rename(columns={\n",
        "       '16 anos':'16_anos_separado_judicialmente_feminino', '17 anos':'17_anos_separado_judicialmente_feminino', '18 anos':'18_anos_separado_judicialmente_feminino',\n",
        "       '19 anos':'19_anos_separado_judicialmente_feminino', '20 anos':'20_anos_separado_judicialmente_feminino', '21 a 24 anos':'21_24_anos_separado_judicialmente_feminino',\n",
        "       '25 a 29 anos':'25_29_anos_separado_judicialmente_feminino', '30 a 34 anos':'30_34_anos_separado_judicialmente_feminino', '35 a 39 anos':'35_39_anos_separado_judicialmente_feminino',\n",
        "       '40 a 44 anos':'40_44_anos_separado_judicialmente_feminino', '45 a 49 anos':'45_49_anos_separado_judicialmente_feminino',\n",
        "       '50 a 54 anos':'50_54_anos_separado_judicialmente_feminino', '55 a 59 anos':'55_59_anos_separado_judicialmente_feminino',\n",
        "       '60 a 64 anos':'60_64_anos_separado_judicialmente_feminino', '65 a 69 anos':'65_69_anos_separado_judicialmente_feminino',\n",
        "       '70 a 74 anos':'70_74_anos_separado_judicialmente_feminino', '75 a 79 anos':'75_79_anos_separado_judicialmente_feminino',\n",
        "       '80 a 84 anos':'80_84_anos_separado_judicialmente_feminino', '85 a 89 anos':'85_89_anos_separado_judicialmente_feminino',\n",
        "       '90 a 94 anos':'90_94_anos_separado_judicialmente_feminino', '95 a 99 anos':'95_99_anos_separado_judicialmente_feminino',\n",
        "       '100 anos ou mais':'100_anos_separado_judicialmente_feminino',})\n",
        "\n",
        "pivot_feminino = pivot_feminino[['SG_UF',\n",
        "       '16_anos_separado_judicialmente_feminino', '17_anos_separado_judicialmente_feminino',\n",
        "       '18_anos_separado_judicialmente_feminino', '19_anos_separado_judicialmente_feminino',\n",
        "       '20_anos_separado_judicialmente_feminino', '21_24_anos_separado_judicialmente_feminino',\n",
        "       '25_29_anos_separado_judicialmente_feminino', '30_34_anos_separado_judicialmente_feminino',\n",
        "       '35_39_anos_separado_judicialmente_feminino', '40_44_anos_separado_judicialmente_feminino',\n",
        "       '45_49_anos_separado_judicialmente_feminino', '50_54_anos_separado_judicialmente_feminino',\n",
        "       '55_59_anos_separado_judicialmente_feminino', '60_64_anos_separado_judicialmente_feminino',\n",
        "       '65_69_anos_separado_judicialmente_feminino', '70_74_anos_separado_judicialmente_feminino',\n",
        "       '75_79_anos_separado_judicialmente_feminino', '80_84_anos_separado_judicialmente_feminino',\n",
        "       '85_89_anos_separado_judicialmente_feminino', '90_94_anos_separado_judicialmente_feminino',\n",
        "       '95_99_anos_separado_judicialmente_feminino', '100_anos_separado_judicialmente_feminino',]]\n",
        "\n",
        "for i in pivot_feminino.columns:\n",
        "  if ((i != 'SG_UF')):\n",
        "    pivot_feminino[i] = pivot_feminino[i].astype(int)\n",
        "\n",
        "df_estados_2turno = df_estados_2turno.merge(pivot_feminino, on=['SG_UF'], how='left')"
      ],
      "metadata": {
        "id": "NAiMG4ZrQKMP"
      },
      "execution_count": null,
      "outputs": []
    },
    {
      "cell_type": "code",
      "source": [
        "estados_civil_percentual_feminino = {\n",
        "    '16_anos_separado_judicialmente_feminino_percentual(%)':['16_anos_separado_judicialmente_feminino','16_anos'],\n",
        "    '17_anos_separado_judicialmente_feminino_percentual(%)':['17_anos_separado_judicialmente_feminino','17_anos'],\n",
        "    '18_anos_separado_judicialmente_feminino_percentual(%)':['18_anos_separado_judicialmente_feminino','18_anos'],\n",
        "    '19_anos_separado_judicialmente_feminino_percentual(%)':['19_anos_separado_judicialmente_feminino','19_anos'],\n",
        "    '20_anos_separado_judicialmente_feminino_percentual(%)':['20_anos_separado_judicialmente_feminino','20_anos'],\n",
        "    '21_24_anos_separado_judicialmente_feminino_percentual(%)':['21_24_anos_separado_judicialmente_feminino','21_24_anos'],\n",
        "    '25_29_anos_separado_judicialmente_feminino_percentual(%)':['25_29_anos_separado_judicialmente_feminino','25_29_anos'],\n",
        "    '30_34_anos_separado_judicialmente_feminino_percentual(%)':['30_34_anos_separado_judicialmente_feminino','30_34_anos'],\n",
        "    '35_39_anos_separado_judicialmente_feminino_percentual(%)':['35_39_anos_separado_judicialmente_feminino','35_39_anos'],\n",
        "    '40_44_anos_separado_judicialmente_feminino_percentual(%)':['40_44_anos_separado_judicialmente_feminino','40_44_anos'],\n",
        "    '45_49_anos_separado_judicialmente_feminino_percentual(%)':['45_49_anos_separado_judicialmente_feminino','45_49_anos'],\n",
        "    '50_54_anos_separado_judicialmente_feminino_percentual(%)':['50_54_anos_separado_judicialmente_feminino','50_54_anos'],\n",
        "    '55_59_anos_separado_judicialmente_feminino_percentual(%)':['55_59_anos_separado_judicialmente_feminino','55_59_anos'],\n",
        "    '60_64_anos_separado_judicialmente_feminino_percentual(%)':['60_64_anos_separado_judicialmente_feminino','60_64_anos'],\n",
        "    '65_69_anos_separado_judicialmente_feminino_percentual(%)':['65_69_anos_separado_judicialmente_feminino','65_69_anos'],\n",
        "    '70_74_anos_separado_judicialmente_feminino_percentual(%)':['70_74_anos_separado_judicialmente_feminino','70_74_anos'],\n",
        "    '75_79_anos_separado_judicialmente_feminino_percentual(%)':['75_79_anos_separado_judicialmente_feminino','75_79_anos'],\n",
        "    '80_84_anos_separado_judicialmente_feminino_percentual(%)':['80_84_anos_separado_judicialmente_feminino','80_84_anos'],\n",
        "    '85_89_anos_separado_judicialmente_feminino_percentual(%)':['85_89_anos_separado_judicialmente_feminino','85_89_anos'],\n",
        "    '90_94_anos_separado_judicialmente_feminino_percentual(%)':['90_94_anos_separado_judicialmente_feminino','90_94_anos'],\n",
        "    '95_99_anos_separado_judicialmente_feminino_percentual(%)':['95_99_anos_separado_judicialmente_feminino','95_99_anos'],\n",
        "    '100_anos_separado_judicialmente_feminino_percentual(%)':['100_anos_separado_judicialmente_feminino','100_anos'],\n",
        "}\n",
        "\n",
        "for estado_percentual, ec in estados_civil_percentual_feminino.items():\n",
        "  df_estados_2turno[estado_percentual] = (df_estados_2turno[ec[0]] / df_estados_2turno[ec[1]] * 100).round(2)\n",
        "\n",
        "del estados_civil_percentual_feminino"
      ],
      "metadata": {
        "id": "4IXjoOojQSWs",
        "colab": {
          "base_uri": "https://localhost:8080/"
        },
        "outputId": "33e871b7-450a-452f-b75c-14423c3abe3c"
      },
      "execution_count": null,
      "outputs": [
        {
          "output_type": "stream",
          "name": "stderr",
          "text": [
            "<ipython-input-103-2e8968b94130>:27: PerformanceWarning: DataFrame is highly fragmented.  This is usually the result of calling `frame.insert` many times, which has poor performance.  Consider joining all columns at once using pd.concat(axis=1) instead. To get a de-fragmented frame, use `newframe = frame.copy()`\n",
            "  df_estados_2turno[estado_percentual] = (df_estados_2turno[ec[0]] / df_estados_2turno[ec[1]] * 100).round(2)\n",
            "<ipython-input-103-2e8968b94130>:27: PerformanceWarning: DataFrame is highly fragmented.  This is usually the result of calling `frame.insert` many times, which has poor performance.  Consider joining all columns at once using pd.concat(axis=1) instead. To get a de-fragmented frame, use `newframe = frame.copy()`\n",
            "  df_estados_2turno[estado_percentual] = (df_estados_2turno[ec[0]] / df_estados_2turno[ec[1]] * 100).round(2)\n",
            "<ipython-input-103-2e8968b94130>:27: PerformanceWarning: DataFrame is highly fragmented.  This is usually the result of calling `frame.insert` many times, which has poor performance.  Consider joining all columns at once using pd.concat(axis=1) instead. To get a de-fragmented frame, use `newframe = frame.copy()`\n",
            "  df_estados_2turno[estado_percentual] = (df_estados_2turno[ec[0]] / df_estados_2turno[ec[1]] * 100).round(2)\n",
            "<ipython-input-103-2e8968b94130>:27: PerformanceWarning: DataFrame is highly fragmented.  This is usually the result of calling `frame.insert` many times, which has poor performance.  Consider joining all columns at once using pd.concat(axis=1) instead. To get a de-fragmented frame, use `newframe = frame.copy()`\n",
            "  df_estados_2turno[estado_percentual] = (df_estados_2turno[ec[0]] / df_estados_2turno[ec[1]] * 100).round(2)\n",
            "<ipython-input-103-2e8968b94130>:27: PerformanceWarning: DataFrame is highly fragmented.  This is usually the result of calling `frame.insert` many times, which has poor performance.  Consider joining all columns at once using pd.concat(axis=1) instead. To get a de-fragmented frame, use `newframe = frame.copy()`\n",
            "  df_estados_2turno[estado_percentual] = (df_estados_2turno[ec[0]] / df_estados_2turno[ec[1]] * 100).round(2)\n",
            "<ipython-input-103-2e8968b94130>:27: PerformanceWarning: DataFrame is highly fragmented.  This is usually the result of calling `frame.insert` many times, which has poor performance.  Consider joining all columns at once using pd.concat(axis=1) instead. To get a de-fragmented frame, use `newframe = frame.copy()`\n",
            "  df_estados_2turno[estado_percentual] = (df_estados_2turno[ec[0]] / df_estados_2turno[ec[1]] * 100).round(2)\n",
            "<ipython-input-103-2e8968b94130>:27: PerformanceWarning: DataFrame is highly fragmented.  This is usually the result of calling `frame.insert` many times, which has poor performance.  Consider joining all columns at once using pd.concat(axis=1) instead. To get a de-fragmented frame, use `newframe = frame.copy()`\n",
            "  df_estados_2turno[estado_percentual] = (df_estados_2turno[ec[0]] / df_estados_2turno[ec[1]] * 100).round(2)\n",
            "<ipython-input-103-2e8968b94130>:27: PerformanceWarning: DataFrame is highly fragmented.  This is usually the result of calling `frame.insert` many times, which has poor performance.  Consider joining all columns at once using pd.concat(axis=1) instead. To get a de-fragmented frame, use `newframe = frame.copy()`\n",
            "  df_estados_2turno[estado_percentual] = (df_estados_2turno[ec[0]] / df_estados_2turno[ec[1]] * 100).round(2)\n",
            "<ipython-input-103-2e8968b94130>:27: PerformanceWarning: DataFrame is highly fragmented.  This is usually the result of calling `frame.insert` many times, which has poor performance.  Consider joining all columns at once using pd.concat(axis=1) instead. To get a de-fragmented frame, use `newframe = frame.copy()`\n",
            "  df_estados_2turno[estado_percentual] = (df_estados_2turno[ec[0]] / df_estados_2turno[ec[1]] * 100).round(2)\n",
            "<ipython-input-103-2e8968b94130>:27: PerformanceWarning: DataFrame is highly fragmented.  This is usually the result of calling `frame.insert` many times, which has poor performance.  Consider joining all columns at once using pd.concat(axis=1) instead. To get a de-fragmented frame, use `newframe = frame.copy()`\n",
            "  df_estados_2turno[estado_percentual] = (df_estados_2turno[ec[0]] / df_estados_2turno[ec[1]] * 100).round(2)\n",
            "<ipython-input-103-2e8968b94130>:27: PerformanceWarning: DataFrame is highly fragmented.  This is usually the result of calling `frame.insert` many times, which has poor performance.  Consider joining all columns at once using pd.concat(axis=1) instead. To get a de-fragmented frame, use `newframe = frame.copy()`\n",
            "  df_estados_2turno[estado_percentual] = (df_estados_2turno[ec[0]] / df_estados_2turno[ec[1]] * 100).round(2)\n",
            "<ipython-input-103-2e8968b94130>:27: PerformanceWarning: DataFrame is highly fragmented.  This is usually the result of calling `frame.insert` many times, which has poor performance.  Consider joining all columns at once using pd.concat(axis=1) instead. To get a de-fragmented frame, use `newframe = frame.copy()`\n",
            "  df_estados_2turno[estado_percentual] = (df_estados_2turno[ec[0]] / df_estados_2turno[ec[1]] * 100).round(2)\n",
            "<ipython-input-103-2e8968b94130>:27: PerformanceWarning: DataFrame is highly fragmented.  This is usually the result of calling `frame.insert` many times, which has poor performance.  Consider joining all columns at once using pd.concat(axis=1) instead. To get a de-fragmented frame, use `newframe = frame.copy()`\n",
            "  df_estados_2turno[estado_percentual] = (df_estados_2turno[ec[0]] / df_estados_2turno[ec[1]] * 100).round(2)\n",
            "<ipython-input-103-2e8968b94130>:27: PerformanceWarning: DataFrame is highly fragmented.  This is usually the result of calling `frame.insert` many times, which has poor performance.  Consider joining all columns at once using pd.concat(axis=1) instead. To get a de-fragmented frame, use `newframe = frame.copy()`\n",
            "  df_estados_2turno[estado_percentual] = (df_estados_2turno[ec[0]] / df_estados_2turno[ec[1]] * 100).round(2)\n",
            "<ipython-input-103-2e8968b94130>:27: PerformanceWarning: DataFrame is highly fragmented.  This is usually the result of calling `frame.insert` many times, which has poor performance.  Consider joining all columns at once using pd.concat(axis=1) instead. To get a de-fragmented frame, use `newframe = frame.copy()`\n",
            "  df_estados_2turno[estado_percentual] = (df_estados_2turno[ec[0]] / df_estados_2turno[ec[1]] * 100).round(2)\n",
            "<ipython-input-103-2e8968b94130>:27: PerformanceWarning: DataFrame is highly fragmented.  This is usually the result of calling `frame.insert` many times, which has poor performance.  Consider joining all columns at once using pd.concat(axis=1) instead. To get a de-fragmented frame, use `newframe = frame.copy()`\n",
            "  df_estados_2turno[estado_percentual] = (df_estados_2turno[ec[0]] / df_estados_2turno[ec[1]] * 100).round(2)\n",
            "<ipython-input-103-2e8968b94130>:27: PerformanceWarning: DataFrame is highly fragmented.  This is usually the result of calling `frame.insert` many times, which has poor performance.  Consider joining all columns at once using pd.concat(axis=1) instead. To get a de-fragmented frame, use `newframe = frame.copy()`\n",
            "  df_estados_2turno[estado_percentual] = (df_estados_2turno[ec[0]] / df_estados_2turno[ec[1]] * 100).round(2)\n",
            "<ipython-input-103-2e8968b94130>:27: PerformanceWarning: DataFrame is highly fragmented.  This is usually the result of calling `frame.insert` many times, which has poor performance.  Consider joining all columns at once using pd.concat(axis=1) instead. To get a de-fragmented frame, use `newframe = frame.copy()`\n",
            "  df_estados_2turno[estado_percentual] = (df_estados_2turno[ec[0]] / df_estados_2turno[ec[1]] * 100).round(2)\n",
            "<ipython-input-103-2e8968b94130>:27: PerformanceWarning: DataFrame is highly fragmented.  This is usually the result of calling `frame.insert` many times, which has poor performance.  Consider joining all columns at once using pd.concat(axis=1) instead. To get a de-fragmented frame, use `newframe = frame.copy()`\n",
            "  df_estados_2turno[estado_percentual] = (df_estados_2turno[ec[0]] / df_estados_2turno[ec[1]] * 100).round(2)\n",
            "<ipython-input-103-2e8968b94130>:27: PerformanceWarning: DataFrame is highly fragmented.  This is usually the result of calling `frame.insert` many times, which has poor performance.  Consider joining all columns at once using pd.concat(axis=1) instead. To get a de-fragmented frame, use `newframe = frame.copy()`\n",
            "  df_estados_2turno[estado_percentual] = (df_estados_2turno[ec[0]] / df_estados_2turno[ec[1]] * 100).round(2)\n",
            "<ipython-input-103-2e8968b94130>:27: PerformanceWarning: DataFrame is highly fragmented.  This is usually the result of calling `frame.insert` many times, which has poor performance.  Consider joining all columns at once using pd.concat(axis=1) instead. To get a de-fragmented frame, use `newframe = frame.copy()`\n",
            "  df_estados_2turno[estado_percentual] = (df_estados_2turno[ec[0]] / df_estados_2turno[ec[1]] * 100).round(2)\n",
            "<ipython-input-103-2e8968b94130>:27: PerformanceWarning: DataFrame is highly fragmented.  This is usually the result of calling `frame.insert` many times, which has poor performance.  Consider joining all columns at once using pd.concat(axis=1) instead. To get a de-fragmented frame, use `newframe = frame.copy()`\n",
            "  df_estados_2turno[estado_percentual] = (df_estados_2turno[ec[0]] / df_estados_2turno[ec[1]] * 100).round(2)\n"
          ]
        }
      ]
    },
    {
      "cell_type": "markdown",
      "metadata": {
        "id": "92aA3zip_Hsd"
      },
      "source": [
        "## Salvamento do dataframe final"
      ]
    },
    {
      "cell_type": "code",
      "execution_count": null,
      "metadata": {
        "id": "ruySnt0DpQdd"
      },
      "outputs": [],
      "source": [
        "from google.colab import files\n",
        "df_estados_2turno = df_estados_2turno.rename(columns={'SG_UF':'estado'})\n",
        "df_estados_2turno = df_estados_2turno.sort_values(by = ['estado'], ascending = True)\n",
        "df_estados_2turno.to_csv('/content/gdrive/MyDrive/TCC - Wallynson/df_estados_2turno_2020.csv')"
      ]
    },
    {
      "cell_type": "code",
      "source": [
        "df_estados_2turno.to_csv('df.csv')"
      ],
      "metadata": {
        "id": "FIXgHWSEQw0-"
      },
      "execution_count": null,
      "outputs": []
    }
  ]
}