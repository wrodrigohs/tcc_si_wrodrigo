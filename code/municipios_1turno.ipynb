{
  "cells": [
    {
      "cell_type": "markdown",
      "metadata": {
        "id": "LxVJkfpNMN_k"
      },
      "source": [
        "# Importação dos módulos"
      ]
    },
    {
      "cell_type": "code",
      "execution_count": null,
      "metadata": {
        "id": "NjvTZdlOMGwq"
      },
      "outputs": [],
      "source": [
        "import numpy as np\n",
        "import pandas as pd\n",
        "from google.colab import drive\n",
        "\n",
        "import warnings\n",
        "warnings.simplefilter(action='ignore', category=FutureWarning)"
      ]
    },
    {
      "cell_type": "markdown",
      "metadata": {
        "id": "wWnimSJPvHrJ"
      },
      "source": [
        "# Acesso ao Drive"
      ]
    },
    {
      "cell_type": "code",
      "execution_count": null,
      "metadata": {
        "id": "BvGVZruFMaIm",
        "colab": {
          "base_uri": "https://localhost:8080/"
        },
        "outputId": "15a53053-d9f5-4e82-aaa2-d2aca10d0a96"
      },
      "outputs": [
        {
          "output_type": "stream",
          "name": "stdout",
          "text": [
            "Drive already mounted at /content/gdrive; to attempt to forcibly remount, call drive.mount(\"/content/gdrive\", force_remount=True).\n"
          ]
        }
      ],
      "source": [
        "drive.mount('/content/gdrive')"
      ]
    },
    {
      "cell_type": "markdown",
      "metadata": {
        "id": "gK8Um15jvO07"
      },
      "source": [
        "# Importação do csv original para um dataframe"
      ]
    },
    {
      "cell_type": "code",
      "execution_count": null,
      "metadata": {
        "id": "qX06dGnBMae0"
      },
      "outputs": [],
      "source": [
        "df = pd.read_csv('/content/gdrive/MyDrive/TCC - Wallynson/perfil_comparecimento_abstencao_2020.csv', encoding = 'latin-1', sep = ';')"
      ]
    },
    {
      "cell_type": "code",
      "execution_count": null,
      "metadata": {
        "id": "I0qKp106_pUn"
      },
      "outputs": [],
      "source": [
        "# df_municipios_1turno = pd.read_csv('/content/gdrive/MyDrive/TCC - Wallynson/df_municipios_1turno_2020.csv')\n",
        "# df_municipios_1turno.head()"
      ]
    },
    {
      "cell_type": "code",
      "execution_count": null,
      "metadata": {
        "id": "U65wEmtHn6NY",
        "colab": {
          "base_uri": "https://localhost:8080/"
        },
        "outputId": "bb01860b-9082-4311-87ed-cb4acdbe9bc5"
      },
      "outputs": [
        {
          "output_type": "execute_result",
          "data": {
            "text/plain": [
              "(4770970, 23)"
            ]
          },
          "metadata": {},
          "execution_count": 53
        }
      ],
      "source": [
        "df.shape"
      ]
    },
    {
      "cell_type": "code",
      "execution_count": null,
      "metadata": {
        "id": "Pp4bOCEkn-i1",
        "colab": {
          "base_uri": "https://localhost:8080/"
        },
        "outputId": "849178d0-9e49-47b7-94b3-3aa967c9aa79"
      },
      "outputs": [
        {
          "output_type": "execute_result",
          "data": {
            "text/plain": [
              "DT_GERACAO                       0.0\n",
              "HH_GERACAO                       0.0\n",
              "ANO_ELEICAO                      0.0\n",
              "NR_TURNO                         0.0\n",
              "SG_UF                            0.0\n",
              "CD_MUNICIPIO                     0.0\n",
              "NM_MUNICIPIO                     0.0\n",
              "NR_ZONA                          0.0\n",
              "CD_GENERO                        0.0\n",
              "DS_GENERO                        0.0\n",
              "CD_ESTADO_CIVIL                  0.0\n",
              "DS_ESTADO_CIVIL                  0.0\n",
              "CD_FAIXA_ETARIA                  0.0\n",
              "DS_FAIXA_ETARIA                  0.0\n",
              "CD_GRAU_ESCOLARIDADE             0.0\n",
              "DS_GRAU_ESCOLARIDADE             0.0\n",
              "QT_APTOS                         0.0\n",
              "QT_COMPARECIMENTO                0.0\n",
              "QT_ABSTENCAO                     0.0\n",
              "QT_COMPARECIMENTO_DEFICIENCIA    0.0\n",
              "QT_ABSTENCAO_DEFICIENCIA         0.0\n",
              "QT_COMPARECIMENTO_TTE            0.0\n",
              "QT_ABSTENCAO_TTE                 0.0\n",
              "dtype: float64"
            ]
          },
          "metadata": {},
          "execution_count": 54
        }
      ],
      "source": [
        "df.isnull().sum() / df.shape[0]"
      ]
    },
    {
      "cell_type": "code",
      "execution_count": null,
      "metadata": {
        "id": "tYxh8iUyoDYG",
        "colab": {
          "base_uri": "https://localhost:8080/",
          "height": 325
        },
        "outputId": "b0c6822d-ae05-4ca7-c822-17ff7efafe72"
      },
      "outputs": [
        {
          "output_type": "execute_result",
          "data": {
            "text/plain": [
              "   DT_GERACAO HH_GERACAO  ANO_ELEICAO  NR_TURNO SG_UF  CD_MUNICIPIO  \\\n",
              "0  21/12/2020   14:48:46         2020         2    SP         71072   \n",
              "1  21/12/2020   14:48:46         2020         2    SP         71072   \n",
              "2  21/12/2020   14:48:46         2020         2    SP         71072   \n",
              "3  21/12/2020   14:48:46         2020         2    SP         71072   \n",
              "4  21/12/2020   14:48:46         2020         2    SP         71072   \n",
              "\n",
              "  NM_MUNICIPIO  NR_ZONA  CD_GENERO  DS_GENERO  ...  DS_FAIXA_ETARIA  \\\n",
              "0    SÃO PAULO      328          2  MASCULINO  ...     75 a 79 anos   \n",
              "1    SÃO PAULO      328          2  MASCULINO  ...     85 a 89 anos   \n",
              "2    SÃO PAULO      328          2  MASCULINO  ...     95 a 99 anos   \n",
              "3    SÃO PAULO      328          2  MASCULINO  ...     30 a 34 anos   \n",
              "4    SÃO PAULO      328          2  MASCULINO  ...     40 a 44 anos   \n",
              "\n",
              "  CD_GRAU_ESCOLARIDADE           DS_GRAU_ESCOLARIDADE QT_APTOS  \\\n",
              "0                    3  ENSINO FUNDAMENTAL INCOMPLETO      269   \n",
              "1                    3  ENSINO FUNDAMENTAL INCOMPLETO       78   \n",
              "2                    6          ENSINO MÉDIO COMPLETO        2   \n",
              "3                    1                     ANALFABETO        1   \n",
              "4                    5        ENSINO MÉDIO INCOMPLETO        2   \n",
              "\n",
              "   QT_COMPARECIMENTO QT_ABSTENCAO  QT_COMPARECIMENTO_DEFICIENCIA  \\\n",
              "0                 65          204                              3   \n",
              "1                  3           75                              0   \n",
              "2                  0            2                              0   \n",
              "3                  1            0                              0   \n",
              "4                  2            0                              0   \n",
              "\n",
              "   QT_ABSTENCAO_DEFICIENCIA  QT_COMPARECIMENTO_TTE  QT_ABSTENCAO_TTE  \n",
              "0                         6                      3                16  \n",
              "1                         0                      1                 5  \n",
              "2                         0                      0                 0  \n",
              "3                         0                      0                 0  \n",
              "4                         0                      0                 0  \n",
              "\n",
              "[5 rows x 23 columns]"
            ],
            "text/html": [
              "\n",
              "  <div id=\"df-c20a3917-d9d8-48da-a3e7-53f701c2cac8\" class=\"colab-df-container\">\n",
              "    <div>\n",
              "<style scoped>\n",
              "    .dataframe tbody tr th:only-of-type {\n",
              "        vertical-align: middle;\n",
              "    }\n",
              "\n",
              "    .dataframe tbody tr th {\n",
              "        vertical-align: top;\n",
              "    }\n",
              "\n",
              "    .dataframe thead th {\n",
              "        text-align: right;\n",
              "    }\n",
              "</style>\n",
              "<table border=\"1\" class=\"dataframe\">\n",
              "  <thead>\n",
              "    <tr style=\"text-align: right;\">\n",
              "      <th></th>\n",
              "      <th>DT_GERACAO</th>\n",
              "      <th>HH_GERACAO</th>\n",
              "      <th>ANO_ELEICAO</th>\n",
              "      <th>NR_TURNO</th>\n",
              "      <th>SG_UF</th>\n",
              "      <th>CD_MUNICIPIO</th>\n",
              "      <th>NM_MUNICIPIO</th>\n",
              "      <th>NR_ZONA</th>\n",
              "      <th>CD_GENERO</th>\n",
              "      <th>DS_GENERO</th>\n",
              "      <th>...</th>\n",
              "      <th>DS_FAIXA_ETARIA</th>\n",
              "      <th>CD_GRAU_ESCOLARIDADE</th>\n",
              "      <th>DS_GRAU_ESCOLARIDADE</th>\n",
              "      <th>QT_APTOS</th>\n",
              "      <th>QT_COMPARECIMENTO</th>\n",
              "      <th>QT_ABSTENCAO</th>\n",
              "      <th>QT_COMPARECIMENTO_DEFICIENCIA</th>\n",
              "      <th>QT_ABSTENCAO_DEFICIENCIA</th>\n",
              "      <th>QT_COMPARECIMENTO_TTE</th>\n",
              "      <th>QT_ABSTENCAO_TTE</th>\n",
              "    </tr>\n",
              "  </thead>\n",
              "  <tbody>\n",
              "    <tr>\n",
              "      <th>0</th>\n",
              "      <td>21/12/2020</td>\n",
              "      <td>14:48:46</td>\n",
              "      <td>2020</td>\n",
              "      <td>2</td>\n",
              "      <td>SP</td>\n",
              "      <td>71072</td>\n",
              "      <td>SÃO PAULO</td>\n",
              "      <td>328</td>\n",
              "      <td>2</td>\n",
              "      <td>MASCULINO</td>\n",
              "      <td>...</td>\n",
              "      <td>75 a 79 anos</td>\n",
              "      <td>3</td>\n",
              "      <td>ENSINO FUNDAMENTAL INCOMPLETO</td>\n",
              "      <td>269</td>\n",
              "      <td>65</td>\n",
              "      <td>204</td>\n",
              "      <td>3</td>\n",
              "      <td>6</td>\n",
              "      <td>3</td>\n",
              "      <td>16</td>\n",
              "    </tr>\n",
              "    <tr>\n",
              "      <th>1</th>\n",
              "      <td>21/12/2020</td>\n",
              "      <td>14:48:46</td>\n",
              "      <td>2020</td>\n",
              "      <td>2</td>\n",
              "      <td>SP</td>\n",
              "      <td>71072</td>\n",
              "      <td>SÃO PAULO</td>\n",
              "      <td>328</td>\n",
              "      <td>2</td>\n",
              "      <td>MASCULINO</td>\n",
              "      <td>...</td>\n",
              "      <td>85 a 89 anos</td>\n",
              "      <td>3</td>\n",
              "      <td>ENSINO FUNDAMENTAL INCOMPLETO</td>\n",
              "      <td>78</td>\n",
              "      <td>3</td>\n",
              "      <td>75</td>\n",
              "      <td>0</td>\n",
              "      <td>0</td>\n",
              "      <td>1</td>\n",
              "      <td>5</td>\n",
              "    </tr>\n",
              "    <tr>\n",
              "      <th>2</th>\n",
              "      <td>21/12/2020</td>\n",
              "      <td>14:48:46</td>\n",
              "      <td>2020</td>\n",
              "      <td>2</td>\n",
              "      <td>SP</td>\n",
              "      <td>71072</td>\n",
              "      <td>SÃO PAULO</td>\n",
              "      <td>328</td>\n",
              "      <td>2</td>\n",
              "      <td>MASCULINO</td>\n",
              "      <td>...</td>\n",
              "      <td>95 a 99 anos</td>\n",
              "      <td>6</td>\n",
              "      <td>ENSINO MÉDIO COMPLETO</td>\n",
              "      <td>2</td>\n",
              "      <td>0</td>\n",
              "      <td>2</td>\n",
              "      <td>0</td>\n",
              "      <td>0</td>\n",
              "      <td>0</td>\n",
              "      <td>0</td>\n",
              "    </tr>\n",
              "    <tr>\n",
              "      <th>3</th>\n",
              "      <td>21/12/2020</td>\n",
              "      <td>14:48:46</td>\n",
              "      <td>2020</td>\n",
              "      <td>2</td>\n",
              "      <td>SP</td>\n",
              "      <td>71072</td>\n",
              "      <td>SÃO PAULO</td>\n",
              "      <td>328</td>\n",
              "      <td>2</td>\n",
              "      <td>MASCULINO</td>\n",
              "      <td>...</td>\n",
              "      <td>30 a 34 anos</td>\n",
              "      <td>1</td>\n",
              "      <td>ANALFABETO</td>\n",
              "      <td>1</td>\n",
              "      <td>1</td>\n",
              "      <td>0</td>\n",
              "      <td>0</td>\n",
              "      <td>0</td>\n",
              "      <td>0</td>\n",
              "      <td>0</td>\n",
              "    </tr>\n",
              "    <tr>\n",
              "      <th>4</th>\n",
              "      <td>21/12/2020</td>\n",
              "      <td>14:48:46</td>\n",
              "      <td>2020</td>\n",
              "      <td>2</td>\n",
              "      <td>SP</td>\n",
              "      <td>71072</td>\n",
              "      <td>SÃO PAULO</td>\n",
              "      <td>328</td>\n",
              "      <td>2</td>\n",
              "      <td>MASCULINO</td>\n",
              "      <td>...</td>\n",
              "      <td>40 a 44 anos</td>\n",
              "      <td>5</td>\n",
              "      <td>ENSINO MÉDIO INCOMPLETO</td>\n",
              "      <td>2</td>\n",
              "      <td>2</td>\n",
              "      <td>0</td>\n",
              "      <td>0</td>\n",
              "      <td>0</td>\n",
              "      <td>0</td>\n",
              "      <td>0</td>\n",
              "    </tr>\n",
              "  </tbody>\n",
              "</table>\n",
              "<p>5 rows × 23 columns</p>\n",
              "</div>\n",
              "    <div class=\"colab-df-buttons\">\n",
              "\n",
              "  <div class=\"colab-df-container\">\n",
              "    <button class=\"colab-df-convert\" onclick=\"convertToInteractive('df-c20a3917-d9d8-48da-a3e7-53f701c2cac8')\"\n",
              "            title=\"Convert this dataframe to an interactive table.\"\n",
              "            style=\"display:none;\">\n",
              "\n",
              "  <svg xmlns=\"http://www.w3.org/2000/svg\" height=\"24px\" viewBox=\"0 -960 960 960\">\n",
              "    <path d=\"M120-120v-720h720v720H120Zm60-500h600v-160H180v160Zm220 220h160v-160H400v160Zm0 220h160v-160H400v160ZM180-400h160v-160H180v160Zm440 0h160v-160H620v160ZM180-180h160v-160H180v160Zm440 0h160v-160H620v160Z\"/>\n",
              "  </svg>\n",
              "    </button>\n",
              "\n",
              "  <style>\n",
              "    .colab-df-container {\n",
              "      display:flex;\n",
              "      gap: 12px;\n",
              "    }\n",
              "\n",
              "    .colab-df-convert {\n",
              "      background-color: #E8F0FE;\n",
              "      border: none;\n",
              "      border-radius: 50%;\n",
              "      cursor: pointer;\n",
              "      display: none;\n",
              "      fill: #1967D2;\n",
              "      height: 32px;\n",
              "      padding: 0 0 0 0;\n",
              "      width: 32px;\n",
              "    }\n",
              "\n",
              "    .colab-df-convert:hover {\n",
              "      background-color: #E2EBFA;\n",
              "      box-shadow: 0px 1px 2px rgba(60, 64, 67, 0.3), 0px 1px 3px 1px rgba(60, 64, 67, 0.15);\n",
              "      fill: #174EA6;\n",
              "    }\n",
              "\n",
              "    .colab-df-buttons div {\n",
              "      margin-bottom: 4px;\n",
              "    }\n",
              "\n",
              "    [theme=dark] .colab-df-convert {\n",
              "      background-color: #3B4455;\n",
              "      fill: #D2E3FC;\n",
              "    }\n",
              "\n",
              "    [theme=dark] .colab-df-convert:hover {\n",
              "      background-color: #434B5C;\n",
              "      box-shadow: 0px 1px 3px 1px rgba(0, 0, 0, 0.15);\n",
              "      filter: drop-shadow(0px 1px 2px rgba(0, 0, 0, 0.3));\n",
              "      fill: #FFFFFF;\n",
              "    }\n",
              "  </style>\n",
              "\n",
              "    <script>\n",
              "      const buttonEl =\n",
              "        document.querySelector('#df-c20a3917-d9d8-48da-a3e7-53f701c2cac8 button.colab-df-convert');\n",
              "      buttonEl.style.display =\n",
              "        google.colab.kernel.accessAllowed ? 'block' : 'none';\n",
              "\n",
              "      async function convertToInteractive(key) {\n",
              "        const element = document.querySelector('#df-c20a3917-d9d8-48da-a3e7-53f701c2cac8');\n",
              "        const dataTable =\n",
              "          await google.colab.kernel.invokeFunction('convertToInteractive',\n",
              "                                                    [key], {});\n",
              "        if (!dataTable) return;\n",
              "\n",
              "        const docLinkHtml = 'Like what you see? Visit the ' +\n",
              "          '<a target=\"_blank\" href=https://colab.research.google.com/notebooks/data_table.ipynb>data table notebook</a>'\n",
              "          + ' to learn more about interactive tables.';\n",
              "        element.innerHTML = '';\n",
              "        dataTable['output_type'] = 'display_data';\n",
              "        await google.colab.output.renderOutput(dataTable, element);\n",
              "        const docLink = document.createElement('div');\n",
              "        docLink.innerHTML = docLinkHtml;\n",
              "        element.appendChild(docLink);\n",
              "      }\n",
              "    </script>\n",
              "  </div>\n",
              "\n",
              "\n",
              "<div id=\"df-5dbc5c9b-6ca4-421d-a16a-5732e164b547\">\n",
              "  <button class=\"colab-df-quickchart\" onclick=\"quickchart('df-5dbc5c9b-6ca4-421d-a16a-5732e164b547')\"\n",
              "            title=\"Suggest charts.\"\n",
              "            style=\"display:none;\">\n",
              "\n",
              "<svg xmlns=\"http://www.w3.org/2000/svg\" height=\"24px\"viewBox=\"0 0 24 24\"\n",
              "     width=\"24px\">\n",
              "    <g>\n",
              "        <path d=\"M19 3H5c-1.1 0-2 .9-2 2v14c0 1.1.9 2 2 2h14c1.1 0 2-.9 2-2V5c0-1.1-.9-2-2-2zM9 17H7v-7h2v7zm4 0h-2V7h2v10zm4 0h-2v-4h2v4z\"/>\n",
              "    </g>\n",
              "</svg>\n",
              "  </button>\n",
              "\n",
              "<style>\n",
              "  .colab-df-quickchart {\n",
              "    background-color: #E8F0FE;\n",
              "    border: none;\n",
              "    border-radius: 50%;\n",
              "    cursor: pointer;\n",
              "    display: none;\n",
              "    fill: #1967D2;\n",
              "    height: 32px;\n",
              "    padding: 0 0 0 0;\n",
              "    width: 32px;\n",
              "  }\n",
              "\n",
              "  .colab-df-quickchart:hover {\n",
              "    background-color: #E2EBFA;\n",
              "    box-shadow: 0px 1px 2px rgba(60, 64, 67, 0.3), 0px 1px 3px 1px rgba(60, 64, 67, 0.15);\n",
              "    fill: #174EA6;\n",
              "  }\n",
              "\n",
              "  [theme=dark] .colab-df-quickchart {\n",
              "    background-color: #3B4455;\n",
              "    fill: #D2E3FC;\n",
              "  }\n",
              "\n",
              "  [theme=dark] .colab-df-quickchart:hover {\n",
              "    background-color: #434B5C;\n",
              "    box-shadow: 0px 1px 3px 1px rgba(0, 0, 0, 0.15);\n",
              "    filter: drop-shadow(0px 1px 2px rgba(0, 0, 0, 0.3));\n",
              "    fill: #FFFFFF;\n",
              "  }\n",
              "</style>\n",
              "\n",
              "  <script>\n",
              "    async function quickchart(key) {\n",
              "      const charts = await google.colab.kernel.invokeFunction(\n",
              "          'suggestCharts', [key], {});\n",
              "    }\n",
              "    (() => {\n",
              "      let quickchartButtonEl =\n",
              "        document.querySelector('#df-5dbc5c9b-6ca4-421d-a16a-5732e164b547 button');\n",
              "      quickchartButtonEl.style.display =\n",
              "        google.colab.kernel.accessAllowed ? 'block' : 'none';\n",
              "    })();\n",
              "  </script>\n",
              "</div>\n",
              "    </div>\n",
              "  </div>\n"
            ]
          },
          "metadata": {},
          "execution_count": 55
        }
      ],
      "source": [
        "df.head()"
      ]
    },
    {
      "cell_type": "code",
      "execution_count": null,
      "metadata": {
        "id": "imb2FBM2XNmK",
        "colab": {
          "base_uri": "https://localhost:8080/"
        },
        "outputId": "6dc9fc64-17a6-4e28-b61f-9923843921ce"
      },
      "outputs": [
        {
          "output_type": "execute_result",
          "data": {
            "text/plain": [
              "DT_GERACAO                       object\n",
              "HH_GERACAO                       object\n",
              "ANO_ELEICAO                       int64\n",
              "NR_TURNO                          int64\n",
              "SG_UF                            object\n",
              "CD_MUNICIPIO                      int64\n",
              "NM_MUNICIPIO                     object\n",
              "NR_ZONA                           int64\n",
              "CD_GENERO                         int64\n",
              "DS_GENERO                        object\n",
              "CD_ESTADO_CIVIL                   int64\n",
              "DS_ESTADO_CIVIL                  object\n",
              "CD_FAIXA_ETARIA                   int64\n",
              "DS_FAIXA_ETARIA                  object\n",
              "CD_GRAU_ESCOLARIDADE              int64\n",
              "DS_GRAU_ESCOLARIDADE             object\n",
              "QT_APTOS                          int64\n",
              "QT_COMPARECIMENTO                 int64\n",
              "QT_ABSTENCAO                      int64\n",
              "QT_COMPARECIMENTO_DEFICIENCIA     int64\n",
              "QT_ABSTENCAO_DEFICIENCIA          int64\n",
              "QT_COMPARECIMENTO_TTE             int64\n",
              "QT_ABSTENCAO_TTE                  int64\n",
              "dtype: object"
            ]
          },
          "metadata": {},
          "execution_count": 56
        }
      ],
      "source": [
        "df.dtypes"
      ]
    },
    {
      "cell_type": "code",
      "execution_count": null,
      "metadata": {
        "id": "U6pgb3YqoGkZ",
        "colab": {
          "base_uri": "https://localhost:8080/"
        },
        "outputId": "81603668-b712-4452-b24b-8dfdd2d83045"
      },
      "outputs": [
        {
          "output_type": "execute_result",
          "data": {
            "text/plain": [
              "Index(['DT_GERACAO', 'HH_GERACAO', 'ANO_ELEICAO', 'NR_TURNO', 'SG_UF',\n",
              "       'CD_MUNICIPIO', 'NM_MUNICIPIO', 'NR_ZONA', 'CD_GENERO', 'DS_GENERO',\n",
              "       'CD_ESTADO_CIVIL', 'DS_ESTADO_CIVIL', 'CD_FAIXA_ETARIA',\n",
              "       'DS_FAIXA_ETARIA', 'CD_GRAU_ESCOLARIDADE', 'DS_GRAU_ESCOLARIDADE',\n",
              "       'QT_APTOS', 'QT_COMPARECIMENTO', 'QT_ABSTENCAO',\n",
              "       'QT_COMPARECIMENTO_DEFICIENCIA', 'QT_ABSTENCAO_DEFICIENCIA',\n",
              "       'QT_COMPARECIMENTO_TTE', 'QT_ABSTENCAO_TTE'],\n",
              "      dtype='object')"
            ]
          },
          "metadata": {},
          "execution_count": 57
        }
      ],
      "source": [
        "df.columns"
      ]
    },
    {
      "cell_type": "code",
      "execution_count": null,
      "metadata": {
        "id": "1A-8XiH5CLC-"
      },
      "outputs": [],
      "source": [
        "df = df.drop(columns = ['DT_GERACAO', 'HH_GERACAO', 'CD_MUNICIPIO', 'CD_GENERO',\n",
        "       'CD_ESTADO_CIVIL',\n",
        "       'CD_FAIXA_ETARIA', 'CD_GRAU_ESCOLARIDADE'], axis = 1)"
      ]
    },
    {
      "cell_type": "markdown",
      "metadata": {
        "id": "x5FKb-dpKw9D"
      },
      "source": [
        "# Criação do dataframe municipal do 1º turno"
      ]
    },
    {
      "cell_type": "code",
      "execution_count": null,
      "metadata": {
        "id": "_L9P2ETCoS0Y"
      },
      "outputs": [],
      "source": [
        "df_turno_1_2020 = df[(df['ANO_ELEICAO'] == 2020) & (df['NR_TURNO'] == 1)]"
      ]
    },
    {
      "cell_type": "code",
      "execution_count": null,
      "metadata": {
        "id": "FL8CgyCto-Vr",
        "colab": {
          "base_uri": "https://localhost:8080/"
        },
        "outputId": "fed7e9d9-d46d-4f7d-fb5d-82de89777277"
      },
      "outputs": [
        {
          "output_type": "execute_result",
          "data": {
            "text/plain": [
              "(4377216, 16)"
            ]
          },
          "metadata": {},
          "execution_count": 60
        }
      ],
      "source": [
        "df_turno_1_2020.shape"
      ]
    },
    {
      "cell_type": "markdown",
      "metadata": {
        "id": "V1h_JSQcMDSb"
      },
      "source": [
        "## Verificação da coluna DS_GENERO"
      ]
    },
    {
      "cell_type": "code",
      "execution_count": null,
      "metadata": {
        "id": "eB5hM3YhpBfs",
        "colab": {
          "base_uri": "https://localhost:8080/"
        },
        "outputId": "08f024b3-b59c-49c7-babb-a406c6a0fb01"
      },
      "outputs": [
        {
          "output_type": "execute_result",
          "data": {
            "text/plain": [
              "FEMININO         2301496\n",
              "MASCULINO        2053652\n",
              "NÃO INFORMADO      22068\n",
              "Name: DS_GENERO, dtype: int64"
            ]
          },
          "metadata": {},
          "execution_count": 61
        }
      ],
      "source": [
        "df_turno_1_2020.DS_GENERO.value_counts()"
      ]
    },
    {
      "cell_type": "code",
      "execution_count": null,
      "metadata": {
        "id": "Lx669yBMpFTa",
        "colab": {
          "base_uri": "https://localhost:8080/"
        },
        "outputId": "0fbbdbed-10af-4c56-e37c-88f412611f47"
      },
      "outputs": [
        {
          "output_type": "stream",
          "name": "stdout",
          "text": [
            "Os valores 'NÃO INFORMADO' representam 0,005% do conjunto\n"
          ]
        }
      ],
      "source": [
        "#verificação da quantidade percentual de valores 'NÃO INFORMADO' no conjunto\n",
        "print('Os valores \\'NÃO INFORMADO\\' representam {}% do conjunto'.format(round(df_turno_1_2020.DS_GENERO.value_counts()[2] / len(df_turno_1_2020), 4)).replace('.', ','))"
      ]
    },
    {
      "cell_type": "markdown",
      "metadata": {
        "id": "omyN_0u3pVnV"
      },
      "source": [
        "Como há 22068 (0,005% do conjunto) linhas em que o sexo foi registrado como NÃO INFORMADO, optei por excluí-las."
      ]
    },
    {
      "cell_type": "markdown",
      "metadata": {
        "id": "VIjxABu3MG6w"
      },
      "source": [
        "## Verificação da coluna DS_GRAU_ESCOLARIDADE"
      ]
    },
    {
      "cell_type": "code",
      "execution_count": null,
      "metadata": {
        "id": "U94Zw-N7XkCR",
        "colab": {
          "base_uri": "https://localhost:8080/"
        },
        "outputId": "c6b2f6bb-ceba-4e13-eb92-8481f99bf63b"
      },
      "outputs": [
        {
          "output_type": "execute_result",
          "data": {
            "text/plain": [
              "ENSINO FUNDAMENTAL INCOMPLETO    746279\n",
              "ENSINO MÉDIO COMPLETO            637756\n",
              "LÊ E ESCREVE                     591467\n",
              "ENSINO FUNDAMENTAL COMPLETO      541121\n",
              "ANALFABETO                       518789\n",
              "ENSINO MÉDIO INCOMPLETO          501742\n",
              "SUPERIOR COMPLETO                460908\n",
              "SUPERIOR INCOMPLETO              362715\n",
              "NÃO INFORMADO                     16439\n",
              "Name: DS_GRAU_ESCOLARIDADE, dtype: int64"
            ]
          },
          "metadata": {},
          "execution_count": 63
        }
      ],
      "source": [
        "df_turno_1_2020.DS_GRAU_ESCOLARIDADE.value_counts()"
      ]
    },
    {
      "cell_type": "code",
      "execution_count": null,
      "metadata": {
        "id": "c5UkglPiXxAq",
        "colab": {
          "base_uri": "https://localhost:8080/"
        },
        "outputId": "05aad741-7253-43f7-c0b4-ad55576a40b4"
      },
      "outputs": [
        {
          "output_type": "stream",
          "name": "stdout",
          "text": [
            "Os valores 'NÃO INFORMADO' representam 0,0038% do conjunto\n"
          ]
        }
      ],
      "source": [
        "#verificação da quantidade percentual de valores 'NÃO INFORMADO' no conjunto\n",
        "print('Os valores \\'NÃO INFORMADO\\' representam {}% do conjunto'.format(round(df_turno_1_2020.DS_GRAU_ESCOLARIDADE.value_counts()[8] / len(df_turno_1_2020), 4)).replace('.', ','))"
      ]
    },
    {
      "cell_type": "markdown",
      "metadata": {
        "id": "UReU8WyMYKwH"
      },
      "source": [
        "Como há 16439 (0,0038% do conjunto) linhas em que o grau de escolaridade foi registrado como NÃO INFORMADO, optei por excluí-las."
      ]
    },
    {
      "cell_type": "markdown",
      "metadata": {
        "id": "qJUNeVVuMroW"
      },
      "source": [
        "## Verificação da coluna DS_FAIXA_ETARIA"
      ]
    },
    {
      "cell_type": "code",
      "execution_count": null,
      "metadata": {
        "id": "h1_dfKcuXtuq",
        "colab": {
          "base_uri": "https://localhost:8080/"
        },
        "outputId": "7ffde2f5-9a6d-49d8-eff3-3f0392dd3ccd"
      },
      "outputs": [
        {
          "output_type": "execute_result",
          "data": {
            "text/plain": [
              "55 a 59 anos        355182\n",
              "50 a 54 anos        354200\n",
              "60 a 64 anos        341355\n",
              "45 a 49 anos        332794\n",
              "40 a 44 anos        315869\n",
              "65 a 69 anos        310670\n",
              "35 a 39 anos        293445\n",
              "70 a 74 anos        269250\n",
              "30 a 34 anos        257246\n",
              "75 a 79 anos        223261\n",
              "25 a 29 anos        218263\n",
              "80 a 84 anos        176350\n",
              "21 a 24 anos        172599\n",
              "85 a 89 anos        128639\n",
              "20 anos             102163\n",
              "19 anos              91615\n",
              "90 a 94 anos         90043\n",
              "18 anos              82889\n",
              "17 anos              74771\n",
              "16 anos              63178\n",
              "Inválido             52839\n",
              "95 a 99 anos         52187\n",
              "100 anos ou mais     18408\n",
              "Name: DS_FAIXA_ETARIA, dtype: int64"
            ]
          },
          "metadata": {},
          "execution_count": 65
        }
      ],
      "source": [
        "df_turno_1_2020.DS_FAIXA_ETARIA.value_counts()"
      ]
    },
    {
      "cell_type": "code",
      "execution_count": null,
      "metadata": {
        "id": "eyEPhvxKX7Mf",
        "colab": {
          "base_uri": "https://localhost:8080/"
        },
        "outputId": "5e46b9b3-3038-40b1-8dca-12c666515c32"
      },
      "outputs": [
        {
          "output_type": "stream",
          "name": "stdout",
          "text": [
            "Os valores 'Inválido' representam 0,0121% do conjunto\n"
          ]
        }
      ],
      "source": [
        "#verificação da quantidade percentual de valores 'NÃO INFORMADO' no conjunto\n",
        "print('Os valores \\'Inválido\\' representam {}% do conjunto'.format(round(df_turno_1_2020.DS_FAIXA_ETARIA.value_counts()[20] / len(df_turno_1_2020), 4)).replace('.', ','))"
      ]
    },
    {
      "cell_type": "markdown",
      "metadata": {
        "id": "7Bh4Wvr1YmOG"
      },
      "source": [
        "Como há 52838 (0,0121% do conjunto) linhas em que a faixa etária foi registrada como INVÁLIDO, optei por excluí-las."
      ]
    },
    {
      "cell_type": "markdown",
      "metadata": {
        "id": "j9gE6cWraYHg"
      },
      "source": [
        "## Verificação da coluna DS_ESTADO_CIVIL"
      ]
    },
    {
      "cell_type": "code",
      "execution_count": null,
      "metadata": {
        "id": "HLWUmqKNaoHV",
        "colab": {
          "base_uri": "https://localhost:8080/"
        },
        "outputId": "6cd0bbf6-ff99-4eab-94b7-ca2de43528cc"
      },
      "outputs": [
        {
          "output_type": "execute_result",
          "data": {
            "text/plain": [
              "SOLTEIRO                  1460649\n",
              "CASADO                    1270250\n",
              "DIVORCIADO                 640957\n",
              "VIÚVO                      571515\n",
              "SEPARADO JUDICIALMENTE     400065\n",
              "NÃO INFORMADO               33780\n",
              "Name: DS_ESTADO_CIVIL, dtype: int64"
            ]
          },
          "metadata": {},
          "execution_count": 67
        }
      ],
      "source": [
        "df_turno_1_2020.DS_ESTADO_CIVIL.value_counts()"
      ]
    },
    {
      "cell_type": "code",
      "execution_count": null,
      "metadata": {
        "id": "9nXgjiRWaoHV",
        "colab": {
          "base_uri": "https://localhost:8080/"
        },
        "outputId": "0d9e0634-0a7f-4bb7-a54a-47fb43b62383"
      },
      "outputs": [
        {
          "output_type": "stream",
          "name": "stdout",
          "text": [
            "Os valores 'NÃO INFORMADO' representam 0,0077% do conjunto\n"
          ]
        }
      ],
      "source": [
        "#verificação da quantidade percentual de valores 'NÃO INFORMADO' no conjunto\n",
        "print('Os valores \\'NÃO INFORMADO\\' representam {}% do conjunto'.format(round(df_turno_1_2020.DS_ESTADO_CIVIL.value_counts()[5] / len(df_turno_1_2020), 4)).replace('.', ','))"
      ]
    },
    {
      "cell_type": "markdown",
      "metadata": {
        "id": "IypgQh7Ra20h"
      },
      "source": [
        "Como há 24471 (0,0077% do conjunto) linhas em que o estado civil foi registrada como NÃO INFORMADO, optei por excluí-las."
      ]
    },
    {
      "cell_type": "markdown",
      "metadata": {
        "id": "HH7y7jdub0EQ"
      },
      "source": [
        "## Exclusão dos valores \"NÃO INFORMADO\", \"Inválido\" e do exterior"
      ]
    },
    {
      "cell_type": "code",
      "execution_count": null,
      "metadata": {
        "id": "ejJsue_upYZE"
      },
      "outputs": [],
      "source": [
        "df_turno_1_2020 = df_turno_1_2020.drop(df_turno_1_2020.loc[df_turno_1_2020['DS_GENERO'] == 'NÃO INFORMADO'].index)"
      ]
    },
    {
      "cell_type": "code",
      "execution_count": null,
      "metadata": {
        "id": "G0_QiruWYcok"
      },
      "outputs": [],
      "source": [
        "df_turno_1_2020 = df_turno_1_2020.drop(df_turno_1_2020.loc[df_turno_1_2020['DS_GRAU_ESCOLARIDADE'] == 'NÃO INFORMADO'].index)"
      ]
    },
    {
      "cell_type": "code",
      "execution_count": null,
      "metadata": {
        "id": "bAf0849xY4_O"
      },
      "outputs": [],
      "source": [
        "df_turno_1_2020 = df_turno_1_2020.drop(df_turno_1_2020.loc[df_turno_1_2020['DS_FAIXA_ETARIA'] == 'Inválido'].index)"
      ]
    },
    {
      "cell_type": "code",
      "execution_count": null,
      "metadata": {
        "id": "9th7QyAbaoHV"
      },
      "outputs": [],
      "source": [
        "df_turno_1_2020 = df_turno_1_2020.drop(df_turno_1_2020.loc[df_turno_1_2020['DS_ESTADO_CIVIL'] == 'NÃO INFORMADO'].index)"
      ]
    },
    {
      "cell_type": "code",
      "execution_count": null,
      "metadata": {
        "id": "Fmwemc_Wpdtk"
      },
      "outputs": [],
      "source": [
        "df_turno_1_2020 = df_turno_1_2020.drop(df_turno_1_2020.loc[df_turno_1_2020['SG_UF'] == 'ZZ'].index)"
      ]
    },
    {
      "cell_type": "markdown",
      "metadata": {
        "id": "4XhMfKoBcduc"
      },
      "source": [
        "## Ordenação do dataframe por estado e município"
      ]
    },
    {
      "cell_type": "code",
      "execution_count": null,
      "metadata": {
        "id": "IGr1tLECyDn6"
      },
      "outputs": [],
      "source": [
        "df_turno_1_2020 = df_turno_1_2020.sort_values(by = ['SG_UF', 'NM_MUNICIPIO'], ascending = True)"
      ]
    },
    {
      "cell_type": "markdown",
      "metadata": {
        "id": "2x6K-4wmBtvJ"
      },
      "source": [
        "# Criação do dataframe por município"
      ]
    },
    {
      "cell_type": "markdown",
      "metadata": {
        "id": "TaevhrqzZl28"
      },
      "source": [
        "Na célula abaixo, o dataframe é criado à partir das colunas SG_UF e NM_MUNICIPIO do dataframe original. Depois essas colunas são renomeadas, respectivamente, para estado e município. Em seguida faço o drop das linhas duplicadas, reseto o index e deleto a coluna index."
      ]
    },
    {
      "cell_type": "code",
      "execution_count": null,
      "metadata": {
        "id": "Pz5NJyL_bNEX"
      },
      "outputs": [],
      "source": [
        "df_municipios_1turno = df_turno_1_2020[['SG_UF', 'NM_MUNICIPIO']].sort_values(by = ['SG_UF', 'NM_MUNICIPIO'], ascending = True)\n",
        "df_municipios_1turno = df_municipios_1turno.drop_duplicates()\n",
        "df_municipios_1turno = df_municipios_1turno.reset_index()\n",
        "df_municipios_1turno = df_municipios_1turno.drop(columns=['index'])"
      ]
    },
    {
      "cell_type": "markdown",
      "metadata": {
        "id": "SS7BlGa5NwQ9"
      },
      "source": [
        "## Eleitores aptos"
      ]
    },
    {
      "cell_type": "code",
      "execution_count": null,
      "metadata": {
        "id": "uYzGStfuhr_I"
      },
      "outputs": [],
      "source": [
        "df_municipios_1turno = df_municipios_1turno.merge(df_turno_1_2020.groupby(['SG_UF', 'NM_MUNICIPIO'])['QT_APTOS'].sum().reset_index(), on=['SG_UF', 'NM_MUNICIPIO'])\n",
        "df_municipios_1turno = df_municipios_1turno.rename(columns={'QT_APTOS': 'aptos'})"
      ]
    },
    {
      "cell_type": "markdown",
      "metadata": {
        "id": "q7h9DB8UN0sz"
      },
      "source": [
        "## Comparecimento do eleitorado"
      ]
    },
    {
      "cell_type": "code",
      "execution_count": null,
      "metadata": {
        "id": "NrlIZncXXu5f"
      },
      "outputs": [],
      "source": [
        "df_municipios_1turno = df_municipios_1turno.merge(df_turno_1_2020.groupby(['SG_UF', 'NM_MUNICIPIO'])['QT_COMPARECIMENTO'].sum().reset_index(), on=['SG_UF', 'NM_MUNICIPIO'])\n",
        "df_municipios_1turno = df_municipios_1turno.rename(columns={'QT_COMPARECIMENTO': 'comparecimento'})"
      ]
    },
    {
      "cell_type": "markdown",
      "source": [
        "### Comparecimento percentual do eleitorado"
      ],
      "metadata": {
        "id": "y10XzE61LVwq"
      }
    },
    {
      "cell_type": "code",
      "source": [
        "df_municipios_1turno['comparecimento_percentual(%)'] = (df_municipios_1turno['comparecimento'] / df_municipios_1turno['aptos']) * 100\n",
        "df_municipios_1turno['comparecimento_percentual(%)'] = df_municipios_1turno['comparecimento_percentual(%)'].round(2)"
      ],
      "metadata": {
        "id": "XtDFqYYkK58m"
      },
      "execution_count": null,
      "outputs": []
    },
    {
      "cell_type": "markdown",
      "metadata": {
        "id": "Ysb6Pud8OXEN"
      },
      "source": [
        "## Abstenção do eleitorado"
      ]
    },
    {
      "cell_type": "code",
      "source": [
        "df_municipios_1turno = df_municipios_1turno.merge(df_turno_1_2020.groupby(['SG_UF', 'NM_MUNICIPIO'])['QT_ABSTENCAO'].sum().reset_index(), on=['SG_UF', 'NM_MUNICIPIO'])\n",
        "df_municipios_1turno = df_municipios_1turno.rename(columns={'QT_ABSTENCAO': 'abstencao'})"
      ],
      "metadata": {
        "id": "nghQtw0PLamS"
      },
      "execution_count": null,
      "outputs": []
    },
    {
      "cell_type": "markdown",
      "source": [
        "### Abstencao percentual do eleitorado"
      ],
      "metadata": {
        "id": "m-cMqWMcLqM6"
      }
    },
    {
      "cell_type": "code",
      "source": [
        "df_municipios_1turno['abstencao_percentual(%)'] = (df_municipios_1turno['abstencao'] / df_municipios_1turno['aptos']) * 100\n",
        "df_municipios_1turno['abstencao_percentual(%)'] = df_municipios_1turno['abstencao_percentual(%)'].round(2)"
      ],
      "metadata": {
        "id": "4dY92yBCLk7n"
      },
      "execution_count": null,
      "outputs": []
    },
    {
      "cell_type": "markdown",
      "metadata": {
        "id": "rujdNwKxOzY5"
      },
      "source": [
        "## Eleitorado com deficiência"
      ]
    },
    {
      "cell_type": "code",
      "source": [
        "df_municipios_1turno = df_municipios_1turno.merge(df_turno_1_2020.groupby(['SG_UF', 'NM_MUNICIPIO'])['QT_COMPARECIMENTO_DEFICIENCIA'].sum().reset_index(), on=['SG_UF', 'NM_MUNICIPIO'])\n",
        "df_municipios_1turno = df_municipios_1turno.rename(columns={'QT_COMPARECIMENTO_DEFICIENCIA': 'comparecimento_deficiencia'})\n",
        "\n",
        "df_municipios_1turno = df_municipios_1turno.merge(df_turno_1_2020.groupby(['SG_UF', 'NM_MUNICIPIO'])['QT_ABSTENCAO_DEFICIENCIA'].sum().reset_index(), on=['SG_UF', 'NM_MUNICIPIO'])\n",
        "df_municipios_1turno = df_municipios_1turno.rename(columns={'QT_ABSTENCAO_DEFICIENCIA': 'abstencao_deficiencia'})\n",
        "\n",
        "df_municipios_1turno['eleitores_deficiencia'] = df_municipios_1turno['comparecimento_deficiencia'] + df_municipios_1turno['abstencao_deficiencia']"
      ],
      "metadata": {
        "id": "315EemOSL7Fw"
      },
      "execution_count": null,
      "outputs": []
    },
    {
      "cell_type": "markdown",
      "source": [
        "### Eleitorado percentual com deficiência"
      ],
      "metadata": {
        "id": "tMV6IPDvMrVj"
      }
    },
    {
      "cell_type": "code",
      "source": [
        "df_municipios_1turno['eleitores_deficiencia_percentual(%)'] = (df_municipios_1turno['eleitores_deficiencia'] / df_municipios_1turno['aptos']) * 100\n",
        "df_municipios_1turno['eleitores_deficiencia_percentual(%)'] = df_municipios_1turno['eleitores_deficiencia_percentual(%)'].round(2)"
      ],
      "metadata": {
        "id": "jLA11DW-MqwR"
      },
      "execution_count": null,
      "outputs": []
    },
    {
      "cell_type": "markdown",
      "metadata": {
        "id": "vmuG3OuhSzje"
      },
      "source": [
        "## Eleitorado feminino"
      ]
    },
    {
      "cell_type": "code",
      "source": [
        "eleitorado_feminino = df_turno_1_2020[df_turno_1_2020['DS_GENERO'] == 'FEMININO'].groupby(['NM_MUNICIPIO', 'SG_UF'])['QT_APTOS'].sum().reset_index()\n",
        "\n",
        "df_municipios_1turno = df_municipios_1turno.merge(eleitorado_feminino, on=['NM_MUNICIPIO', 'SG_UF'], how='left')\n",
        "df_municipios_1turno['eleitorado_feminino'] = df_municipios_1turno['QT_APTOS'].fillna(0).astype(int)\n",
        "df_municipios_1turno = df_municipios_1turno.drop(columns=['QT_APTOS'])\n",
        "\n",
        "del eleitorado_feminino"
      ],
      "metadata": {
        "id": "jfbLJXt9Oj-R"
      },
      "execution_count": null,
      "outputs": []
    },
    {
      "cell_type": "markdown",
      "source": [
        "### Eleitorado percentual feminino"
      ],
      "metadata": {
        "id": "tEDMY1xzXqMS"
      }
    },
    {
      "cell_type": "code",
      "execution_count": null,
      "metadata": {
        "id": "1YUyUQxDMdDv"
      },
      "outputs": [],
      "source": [
        "df_municipios_1turno['eleitorado_feminino_percentual(%)'] = ((df_municipios_1turno['eleitorado_feminino'] / df_municipios_1turno['aptos']) * 100)\n",
        "df_municipios_1turno['eleitorado_feminino_percentual(%)'] = df_municipios_1turno['eleitorado_feminino_percentual(%)'].round(2)"
      ]
    },
    {
      "cell_type": "markdown",
      "metadata": {
        "id": "WN_9C6KuTwgj"
      },
      "source": [
        "## Eleitorado masculino"
      ]
    },
    {
      "cell_type": "code",
      "source": [
        "eleitorado_masculino = df_turno_1_2020[df_turno_1_2020['DS_GENERO'] == 'MASCULINO'].groupby(['NM_MUNICIPIO', 'SG_UF'])['QT_APTOS'].sum().reset_index()\n",
        "\n",
        "df_municipios_1turno = df_municipios_1turno.merge(eleitorado_masculino, on=['NM_MUNICIPIO', 'SG_UF'], how='left')\n",
        "df_municipios_1turno['eleitorado_masculino'] = df_municipios_1turno['QT_APTOS'].fillna(0).astype(int)\n",
        "df_municipios_1turno = df_municipios_1turno.drop(columns=['QT_APTOS'])\n",
        "\n",
        "del eleitorado_masculino"
      ],
      "metadata": {
        "id": "ltJvwhAJP5jr"
      },
      "execution_count": null,
      "outputs": []
    },
    {
      "cell_type": "markdown",
      "source": [
        "### Eleitorado percentual masculino"
      ],
      "metadata": {
        "id": "aekAAFniXvgW"
      }
    },
    {
      "cell_type": "code",
      "execution_count": null,
      "metadata": {
        "id": "OHAM0-DdP5jx"
      },
      "outputs": [],
      "source": [
        "df_municipios_1turno['eleitorado_masculino_percentual(%)'] = ((df_municipios_1turno['eleitorado_masculino'] / df_municipios_1turno['aptos']) * 100)\n",
        "df_municipios_1turno['eleitorado_masculino_percentual(%)'] = df_municipios_1turno['eleitorado_masculino_percentual(%)'].round(2)"
      ]
    },
    {
      "cell_type": "markdown",
      "metadata": {
        "id": "GB9pvQI1UNsC"
      },
      "source": [
        "## Escolaridade do eleitorado\n"
      ]
    },
    {
      "cell_type": "code",
      "source": [
        "escolaridade_pivot = df_turno_1_2020.pivot_table(index=['SG_UF', 'NM_MUNICIPIO'], columns='DS_GRAU_ESCOLARIDADE', values='QT_APTOS', aggfunc='sum', fill_value=0)\n",
        "\n",
        "# Combina a tabela pivot com o DataFrame df_municipios_1turno\n",
        "df_municipios_1turno = pd.merge(df_municipios_1turno, escolaridade_pivot, on=['SG_UF', 'NM_MUNICIPIO'])\n",
        "\n",
        "# Remove os prefixos dos nomes das colunas gerados pela tabela pivot\n",
        "df_municipios_1turno.columns = df_municipios_1turno.columns.str.replace('DS_GRAU_ESCOLARIDADE_', '')\n",
        "df_municipios_1turno = df_municipios_1turno.rename(columns={'ANALFABETO':'analfabeto', 'ENSINO FUNDAMENTAL COMPLETO':'fundamental_completo',\n",
        "  'ENSINO FUNDAMENTAL INCOMPLETO':'fundamental_incompleto', 'ENSINO MÉDIO COMPLETO':'medio_completo', 'ENSINO MÉDIO INCOMPLETO':'medio_incompleto',\n",
        "  'LÊ E ESCREVE':'le_escreve', 'SUPERIOR COMPLETO':'superior_completo', 'SUPERIOR INCOMPLETO':'superior_incompleto'})\n",
        "\n",
        "del escolaridade_pivot"
      ],
      "metadata": {
        "id": "9Vy65Ci_t_hQ"
      },
      "execution_count": null,
      "outputs": []
    },
    {
      "cell_type": "code",
      "source": [
        "df_municipios_1turno = df_municipios_1turno[['SG_UF', 'NM_MUNICIPIO', 'aptos', 'comparecimento',\n",
        "       'comparecimento_percentual(%)', 'abstencao', 'abstencao_percentual(%)',\n",
        "       'comparecimento_deficiencia', 'abstencao_deficiencia',\n",
        "       'eleitores_deficiencia', 'eleitores_deficiencia_percentual(%)',\n",
        "       'eleitorado_feminino', 'eleitorado_feminino_percentual(%)',\n",
        "       'eleitorado_masculino', 'eleitorado_masculino_percentual(%)',\n",
        "       'analfabeto', 'le_escreve', 'fundamental_incompleto', 'fundamental_completo',\n",
        "       'medio_incompleto', 'medio_completo', 'superior_incompleto','superior_completo',]]"
      ],
      "metadata": {
        "id": "hluz740uwSnl"
      },
      "execution_count": null,
      "outputs": []
    },
    {
      "cell_type": "markdown",
      "source": [
        "### Escolaridade percentual do eleitorado"
      ],
      "metadata": {
        "id": "jvQYEhNoX41f"
      }
    },
    {
      "cell_type": "code",
      "execution_count": null,
      "metadata": {
        "id": "Ea4xdAA3OkZU"
      },
      "outputs": [],
      "source": [
        "def define_escolaridade_percentual(row, coluna):\n",
        "    percentual = (row[coluna] / row['aptos']) * 100\n",
        "    return round(percentual, 2)"
      ]
    },
    {
      "cell_type": "code",
      "source": [
        "# Lista das colunas de escolaridade\n",
        "colunas_escolaridade = ['analfabeto', 'le_escreve', 'fundamental_incompleto', 'fundamental_completo',\n",
        "                        'medio_incompleto', 'medio_completo', 'superior_incompleto', 'superior_completo']\n",
        "\n",
        "# Aplica a função define_escolaridade_percentual() em todas as colunas relevantes\n",
        "for coluna in colunas_escolaridade:\n",
        "    df_municipios_1turno[coluna + '_percentual(%)'] = df_municipios_1turno.apply(\n",
        "        lambda row: define_escolaridade_percentual(row, coluna), axis=1)\n",
        "\n",
        "del colunas_escolaridade"
      ],
      "metadata": {
        "id": "6BnziXdCur9Y"
      },
      "execution_count": null,
      "outputs": []
    },
    {
      "cell_type": "markdown",
      "metadata": {
        "id": "8wdH3i24Ur2m"
      },
      "source": [
        "### Escolaridade do eleitorado masculino"
      ]
    },
    {
      "cell_type": "code",
      "source": [
        "# Filtra os dados apenas para o gênero masculino\n",
        "df_turno_1_2020_masculino = df_turno_1_2020[df_turno_1_2020['DS_GENERO'] == 'MASCULINO']\n",
        "\n",
        "# Realiza a agregação dos dados por município e grau de escolaridade\n",
        "agregado_masculino = df_turno_1_2020_masculino.groupby(['NM_MUNICIPIO', 'SG_UF', 'DS_GRAU_ESCOLARIDADE'])['QT_APTOS'].sum().reset_index()\n",
        "\n",
        "# Realiza o pivot para transformar as colunas de grau de escolaridade em colunas do dataframe\n",
        "pivot_masculino = agregado_masculino.pivot_table(index=['NM_MUNICIPIO', 'SG_UF'], columns='DS_GRAU_ESCOLARIDADE', values='QT_APTOS').reset_index()\n",
        "\n",
        "# Junta os dados no dataframe df_municipios_1turno\n",
        "df_municipios_1turno = df_municipios_1turno.merge(pivot_masculino, on=['NM_MUNICIPIO', 'SG_UF'], how='left')\n",
        "df_municipios_1turno = df_municipios_1turno.rename(columns={'ANALFABETO':'analfabeto_masculino',\n",
        "  'ENSINO FUNDAMENTAL COMPLETO':'fundamental_completo_masculino', 'ENSINO FUNDAMENTAL INCOMPLETO':'fundamental_incompleto_masculino',\n",
        "  'ENSINO MÉDIO COMPLETO':'medio_completo_masculino', 'ENSINO MÉDIO INCOMPLETO':'medio_incompleto_masculino',\n",
        "  'LÊ E ESCREVE':'le_escreve_masculino', 'SUPERIOR COMPLETO':'superior_completo_masculino',\n",
        "  'SUPERIOR INCOMPLETO':'superior_incompleto_masculino'})\n",
        "\n",
        "del df_turno_1_2020_masculino, agregado_masculino, pivot_masculino"
      ],
      "metadata": {
        "id": "AvrS2SjsyVSs"
      },
      "execution_count": null,
      "outputs": []
    },
    {
      "cell_type": "code",
      "source": [
        "colunas_escolaridade_masculina = ['analfabeto_masculino', 'le_escreve_masculino', 'fundamental_incompleto_masculino',\n",
        "                                 'fundamental_completo_masculino', 'medio_incompleto_masculino',\n",
        "                                 'medio_completo_masculino', 'superior_incompleto_masculino',\n",
        "                                 'superior_completo_masculino']\n",
        "for coluna in colunas_escolaridade_masculina:\n",
        "  df_municipios_1turno[coluna] = df_municipios_1turno[coluna].fillna(0)\n",
        "  df_municipios_1turno[coluna] = df_municipios_1turno[coluna].astype(int)\n",
        "\n",
        "del colunas_escolaridade_masculina"
      ],
      "metadata": {
        "id": "zYgMot9y_BUM"
      },
      "execution_count": null,
      "outputs": []
    },
    {
      "cell_type": "code",
      "source": [
        "df_municipios_1turno = df_municipios_1turno[['SG_UF', 'NM_MUNICIPIO', 'aptos', 'comparecimento',\n",
        "       'comparecimento_percentual(%)', 'abstencao', 'abstencao_percentual(%)',\n",
        "       'comparecimento_deficiencia', 'abstencao_deficiencia',\n",
        "       'eleitores_deficiencia', 'eleitores_deficiencia_percentual(%)',\n",
        "       'eleitorado_feminino', 'eleitorado_feminino_percentual(%)',\n",
        "       'eleitorado_masculino', 'eleitorado_masculino_percentual(%)',\n",
        "       'analfabeto', 'le_escreve', 'fundamental_incompleto',\n",
        "       'fundamental_completo', 'medio_incompleto', 'medio_completo',\n",
        "       'superior_incompleto', 'superior_completo', 'analfabeto_percentual(%)',\n",
        "       'le_escreve_percentual(%)', 'fundamental_incompleto_percentual(%)',\n",
        "       'fundamental_completo_percentual(%)', 'medio_incompleto_percentual(%)',\n",
        "       'medio_completo_percentual(%)', 'superior_incompleto_percentual(%)',\n",
        "       'superior_completo_percentual(%)', 'analfabeto_masculino',\n",
        "       'le_escreve_masculino', 'fundamental_incompleto_masculino',\n",
        "       'fundamental_completo_masculino', 'medio_incompleto_masculino',\n",
        "       'medio_completo_masculino', 'superior_incompleto_masculino',\n",
        "       'superior_completo_masculino']]"
      ],
      "metadata": {
        "id": "nuIclhm1zyFF"
      },
      "execution_count": null,
      "outputs": []
    },
    {
      "cell_type": "markdown",
      "source": [
        "#### Escolaridade percentual do eleitorado masculino"
      ],
      "metadata": {
        "id": "1Bb6czIb3y9L"
      }
    },
    {
      "cell_type": "code",
      "source": [
        "def define_escolaridade_percentual_masculina(row, coluna):\n",
        "    if row[coluna.replace('_masculino', '')] != 0:\n",
        "        return round((row[coluna] / row[coluna.replace('_masculino', '')]) * 100, 2)\n",
        "    return 0.0"
      ],
      "metadata": {
        "id": "EObDPX2o18f7"
      },
      "execution_count": null,
      "outputs": []
    },
    {
      "cell_type": "code",
      "source": [
        "colunas_escolaridade_masculina = ['analfabeto_masculino', 'le_escreve_masculino', 'fundamental_incompleto_masculino',\n",
        "                                 'fundamental_completo_masculino', 'medio_incompleto_masculino',\n",
        "                                 'medio_completo_masculino', 'superior_incompleto_masculino',\n",
        "                                 'superior_completo_masculino']\n",
        "\n",
        "for coluna in colunas_escolaridade_masculina:\n",
        "    coluna_percentual = coluna + '_percentual(%)'\n",
        "    df_municipios_1turno[coluna_percentual] = df_municipios_1turno.apply(define_escolaridade_percentual_masculina,\n",
        "                                                                         args=(coluna,),\n",
        "                                                                         axis=1)\n",
        "\n",
        "del colunas_escolaridade_masculina"
      ],
      "metadata": {
        "id": "IGytQbc217PU"
      },
      "execution_count": null,
      "outputs": []
    },
    {
      "cell_type": "markdown",
      "metadata": {
        "id": "834OBSeRNe34"
      },
      "source": [
        "### Escolaridade do eleitorado feminino"
      ]
    },
    {
      "cell_type": "code",
      "source": [
        "# Filtra os dados apenas para o gênero feminino\n",
        "df_turno_1_2020_feminino = df_turno_1_2020[df_turno_1_2020['DS_GENERO'] == 'FEMININO']\n",
        "\n",
        "# Realiza a agregação dos dados por município e grau de escolaridade\n",
        "agregado_feminino = df_turno_1_2020_feminino.groupby(['NM_MUNICIPIO', 'SG_UF', 'DS_GRAU_ESCOLARIDADE'])['QT_APTOS'].sum().reset_index()\n",
        "\n",
        "# Realiza o pivot para transformar as colunas de grau de escolaridade em colunas do dataframe\n",
        "pivot_feminino = agregado_feminino.pivot_table(index=['NM_MUNICIPIO', 'SG_UF'], columns='DS_GRAU_ESCOLARIDADE', values='QT_APTOS').reset_index()\n",
        "\n",
        "# Junta os dados no dataframe df_municipios_1turno\n",
        "df_municipios_1turno = df_municipios_1turno.merge(pivot_feminino, on=['NM_MUNICIPIO', 'SG_UF'], how='left')\n",
        "df_municipios_1turno = df_municipios_1turno.rename(columns={'ANALFABETO':'analfabeto_feminino',\n",
        "  'ENSINO FUNDAMENTAL COMPLETO':'fundamental_completo_feminino', 'ENSINO FUNDAMENTAL INCOMPLETO':'fundamental_incompleto_feminino',\n",
        "  'ENSINO MÉDIO COMPLETO':'medio_completo_feminino', 'ENSINO MÉDIO INCOMPLETO':'medio_incompleto_feminino',\n",
        "  'LÊ E ESCREVE':'le_escreve_feminino', 'SUPERIOR COMPLETO':'superior_completo_feminino',\n",
        "  'SUPERIOR INCOMPLETO':'superior_incompleto_feminino'})\n",
        "\n",
        "del df_turno_1_2020_feminino, agregado_feminino, pivot_feminino"
      ],
      "metadata": {
        "id": "pK2wz7u54Wkd"
      },
      "execution_count": null,
      "outputs": []
    },
    {
      "cell_type": "code",
      "source": [
        "colunas_escolaridade_feminina = ['analfabeto_feminino', 'le_escreve_feminino', 'fundamental_incompleto_feminino',\n",
        "                                 'fundamental_completo_feminino', 'medio_incompleto_feminino',\n",
        "                                 'medio_completo_feminino', 'superior_incompleto_feminino',\n",
        "                                 'superior_completo_feminino']\n",
        "for coluna in colunas_escolaridade_feminina:\n",
        "  df_municipios_1turno[coluna] = df_municipios_1turno[coluna].fillna(0)\n",
        "  df_municipios_1turno[coluna] = df_municipios_1turno[coluna].astype(int)"
      ],
      "metadata": {
        "id": "4DetJIXlAF9J"
      },
      "execution_count": null,
      "outputs": []
    },
    {
      "cell_type": "code",
      "source": [
        "df_municipios_1turno.columns"
      ],
      "metadata": {
        "id": "LWTfr9Lq4Wkd",
        "colab": {
          "base_uri": "https://localhost:8080/"
        },
        "outputId": "16edd15f-0d52-44bf-fb92-68b127793b97"
      },
      "execution_count": null,
      "outputs": [
        {
          "output_type": "execute_result",
          "data": {
            "text/plain": [
              "Index(['SG_UF', 'NM_MUNICIPIO', 'aptos', 'comparecimento',\n",
              "       'comparecimento_percentual(%)', 'abstencao', 'abstencao_percentual(%)',\n",
              "       'comparecimento_deficiencia', 'abstencao_deficiencia',\n",
              "       'eleitores_deficiencia', 'eleitores_deficiencia_percentual(%)',\n",
              "       'eleitorado_feminino', 'eleitorado_feminino_percentual(%)',\n",
              "       'eleitorado_masculino', 'eleitorado_masculino_percentual(%)',\n",
              "       'analfabeto', 'le_escreve', 'fundamental_incompleto',\n",
              "       'fundamental_completo', 'medio_incompleto', 'medio_completo',\n",
              "       'superior_incompleto', 'superior_completo', 'analfabeto_percentual(%)',\n",
              "       'le_escreve_percentual(%)', 'fundamental_incompleto_percentual(%)',\n",
              "       'fundamental_completo_percentual(%)', 'medio_incompleto_percentual(%)',\n",
              "       'medio_completo_percentual(%)', 'superior_incompleto_percentual(%)',\n",
              "       'superior_completo_percentual(%)', 'analfabeto_masculino',\n",
              "       'le_escreve_masculino', 'fundamental_incompleto_masculino',\n",
              "       'fundamental_completo_masculino', 'medio_incompleto_masculino',\n",
              "       'medio_completo_masculino', 'superior_incompleto_masculino',\n",
              "       'superior_completo_masculino', 'analfabeto_masculino_percentual(%)',\n",
              "       'le_escreve_masculino_percentual(%)',\n",
              "       'fundamental_incompleto_masculino_percentual(%)',\n",
              "       'fundamental_completo_masculino_percentual(%)',\n",
              "       'medio_incompleto_masculino_percentual(%)',\n",
              "       'medio_completo_masculino_percentual(%)',\n",
              "       'superior_incompleto_masculino_percentual(%)',\n",
              "       'superior_completo_masculino_percentual(%)', 'analfabeto_feminino',\n",
              "       'fundamental_completo_feminino', 'fundamental_incompleto_feminino',\n",
              "       'medio_completo_feminino', 'medio_incompleto_feminino',\n",
              "       'le_escreve_feminino', 'superior_completo_feminino',\n",
              "       'superior_incompleto_feminino'],\n",
              "      dtype='object')"
            ]
          },
          "metadata": {},
          "execution_count": 98
        }
      ]
    },
    {
      "cell_type": "code",
      "source": [
        "df_municipios_1turno = df_municipios_1turno[['SG_UF', 'NM_MUNICIPIO', 'aptos', 'comparecimento',\n",
        "       'comparecimento_percentual(%)', 'abstencao', 'abstencao_percentual(%)',\n",
        "       'comparecimento_deficiencia', 'abstencao_deficiencia',\n",
        "       'eleitores_deficiencia', 'eleitores_deficiencia_percentual(%)',\n",
        "       'eleitorado_feminino', 'eleitorado_feminino_percentual(%)',\n",
        "       'eleitorado_masculino', 'eleitorado_masculino_percentual(%)',\n",
        "       'analfabeto', 'le_escreve', 'fundamental_incompleto',\n",
        "       'fundamental_completo', 'medio_incompleto', 'medio_completo',\n",
        "       'superior_incompleto', 'superior_completo', 'analfabeto_percentual(%)',\n",
        "       'le_escreve_percentual(%)', 'fundamental_incompleto_percentual(%)',\n",
        "       'fundamental_completo_percentual(%)', 'medio_incompleto_percentual(%)',\n",
        "       'medio_completo_percentual(%)', 'superior_incompleto_percentual(%)',\n",
        "       'superior_completo_percentual(%)', 'analfabeto_masculino',\n",
        "       'le_escreve_masculino', 'fundamental_incompleto_masculino',\n",
        "       'fundamental_completo_masculino', 'medio_incompleto_masculino',\n",
        "       'medio_completo_masculino', 'superior_incompleto_masculino',\n",
        "       'superior_completo_masculino', 'analfabeto_masculino_percentual(%)',\n",
        "       'le_escreve_masculino_percentual(%)',\n",
        "       'fundamental_incompleto_masculino_percentual(%)',\n",
        "       'fundamental_completo_masculino_percentual(%)',\n",
        "       'medio_incompleto_masculino_percentual(%)',\n",
        "       'medio_completo_masculino_percentual(%)',\n",
        "       'superior_incompleto_masculino_percentual(%)',\n",
        "       'superior_completo_masculino_percentual(%)', 'analfabeto_feminino',\n",
        "       'le_escreve_feminino', 'fundamental_incompleto_feminino',\n",
        "       'fundamental_completo_feminino', 'medio_incompleto_feminino',\n",
        "       'medio_completo_feminino', 'superior_incompleto_feminino',\n",
        "       'superior_completo_feminino']]"
      ],
      "metadata": {
        "id": "-RyYAuDV4Wkd"
      },
      "execution_count": null,
      "outputs": []
    },
    {
      "cell_type": "markdown",
      "source": [
        "#### Escolaridade percentual do eleitorado feminino"
      ],
      "metadata": {
        "id": "24bIC6rV7pUG"
      }
    },
    {
      "cell_type": "code",
      "source": [
        "def define_escolaridade_percentual_feminina(row, coluna):\n",
        "    if row[coluna.replace('_feminino', '')] != 0:\n",
        "        return round((row[coluna] / row[coluna.replace('_feminino', '')]) * 100, 2)\n",
        "    return 0.0"
      ],
      "metadata": {
        "id": "7kiwrXKa7tAV"
      },
      "execution_count": null,
      "outputs": []
    },
    {
      "cell_type": "code",
      "source": [
        "colunas_escolaridade_feminina = ['analfabeto_feminino', 'le_escreve_feminino', 'fundamental_incompleto_feminino',\n",
        "                                 'fundamental_completo_feminino', 'medio_incompleto_feminino',\n",
        "                                 'medio_completo_feminino', 'superior_incompleto_feminino',\n",
        "                                 'superior_completo_feminino']\n",
        "\n",
        "for coluna in colunas_escolaridade_feminina:\n",
        "    coluna_percentual = coluna + '_percentual(%)'\n",
        "    df_municipios_1turno[coluna_percentual] = df_municipios_1turno.apply(define_escolaridade_percentual_feminina,\n",
        "                                                                         args=(coluna,),\n",
        "                                                                         axis=1)"
      ],
      "metadata": {
        "id": "kjG2j3Tn7tAd"
      },
      "execution_count": null,
      "outputs": []
    },
    {
      "cell_type": "markdown",
      "metadata": {
        "id": "m1vFCH4XNe35"
      },
      "source": [
        "## Faixa etária do eleitorado"
      ]
    },
    {
      "cell_type": "code",
      "source": [
        "# Calcular as somas das faixas etárias por município\n",
        "faixa_etaria_sum = df_turno_1_2020.groupby(['NM_MUNICIPIO', 'SG_UF', 'DS_FAIXA_ETARIA'])['QT_APTOS'].sum().reset_index()\n",
        "\n",
        "# Pivotar a tabela para obter as colunas desejadas\n",
        "df_pivot = faixa_etaria_sum.pivot_table(index=['NM_MUNICIPIO', 'SG_UF'], columns='DS_FAIXA_ETARIA', values='QT_APTOS', fill_value=0).reset_index()\n",
        "\n",
        "# Juntar os resultados ao DataFrame df_municipios_1turno\n",
        "df_municipios_1turno = df_municipios_1turno.merge(df_pivot, how='left', left_on=['NM_MUNICIPIO', 'SG_UF'], right_on=['NM_MUNICIPIO', 'SG_UF'])\n",
        "\n",
        "# Remover colunas desnecessárias\n",
        "# colunas_desnecessarias = ['NM_MUNICIPIO', 'SG_UF']\n",
        "# df_municipios_1turno.drop(colunas_desnecessarias, axis=1, inplace=True)\n"
      ],
      "metadata": {
        "id": "Tm6Hf5jKBUoT"
      },
      "execution_count": null,
      "outputs": []
    },
    {
      "cell_type": "code",
      "source": [
        "df_municipios_1turno.head()"
      ],
      "metadata": {
        "colab": {
          "base_uri": "https://localhost:8080/"
        },
        "id": "s6tDM-McQMe6",
        "outputId": "bf7cfae1-4774-4dca-9477-a3f2c185e874"
      },
      "execution_count": null,
      "outputs": [
        {
          "output_type": "execute_result",
          "data": {
            "text/plain": [
              "  SG_UF  NM_MUNICIPIO  aptos  comparecimento  comparecimento_percentual(%)  \\\n",
              "0    AC    ACRELÂNDIA   9055            7004                         77.35   \n",
              "1    AC  ASSIS BRASIL   5831            4844                         83.07   \n",
              "2    AC     BRASILÉIA  16667           13375                         80.25   \n",
              "3    AC        BUJARI   9458            7273                         76.90   \n",
              "4    AC      CAPIXABA   7410            5994                         80.89   \n",
              "\n",
              "   abstencao  abstencao_percentual(%)  comparecimento_deficiencia  \\\n",
              "0       2051                    22.65                          28   \n",
              "1        987                    16.93                          11   \n",
              "2       3292                    19.75                          70   \n",
              "3       2185                    23.10                          16   \n",
              "4       1416                    19.11                          61   \n",
              "\n",
              "   abstencao_deficiencia  eleitores_deficiencia  ...  50 a 54 anos  \\\n",
              "0                     10                     38  ...           621   \n",
              "1                      4                     15  ...           360   \n",
              "2                     55                    125  ...          1215   \n",
              "3                      9                     25  ...           649   \n",
              "4                     25                     86  ...           589   \n",
              "\n",
              "   55 a 59 anos  60 a 64 anos  65 a 69 anos  70 a 74 anos  75 a 79 anos  \\\n",
              "0           606           426           338           211           114   \n",
              "1           290           237           192           138            81   \n",
              "2           903           744           575           366           208   \n",
              "3           522           469           313           179           126   \n",
              "4           460           377           248           141            89   \n",
              "\n",
              "   80 a 84 anos  85 a 89 anos  90 a 94 anos  95 a 99 anos  \n",
              "0            68            20             6             1  \n",
              "1            43            22             9             4  \n",
              "2           111            51            11             4  \n",
              "3            45            18             9             1  \n",
              "4            27            13             4             2  \n",
              "\n",
              "[5 rows x 85 columns]"
            ],
            "text/html": [
              "\n",
              "  <div id=\"df-e322a4ac-65e3-4ce5-a10a-fc00b0e383a8\" class=\"colab-df-container\">\n",
              "    <div>\n",
              "<style scoped>\n",
              "    .dataframe tbody tr th:only-of-type {\n",
              "        vertical-align: middle;\n",
              "    }\n",
              "\n",
              "    .dataframe tbody tr th {\n",
              "        vertical-align: top;\n",
              "    }\n",
              "\n",
              "    .dataframe thead th {\n",
              "        text-align: right;\n",
              "    }\n",
              "</style>\n",
              "<table border=\"1\" class=\"dataframe\">\n",
              "  <thead>\n",
              "    <tr style=\"text-align: right;\">\n",
              "      <th></th>\n",
              "      <th>SG_UF</th>\n",
              "      <th>NM_MUNICIPIO</th>\n",
              "      <th>aptos</th>\n",
              "      <th>comparecimento</th>\n",
              "      <th>comparecimento_percentual(%)</th>\n",
              "      <th>abstencao</th>\n",
              "      <th>abstencao_percentual(%)</th>\n",
              "      <th>comparecimento_deficiencia</th>\n",
              "      <th>abstencao_deficiencia</th>\n",
              "      <th>eleitores_deficiencia</th>\n",
              "      <th>...</th>\n",
              "      <th>50 a 54 anos</th>\n",
              "      <th>55 a 59 anos</th>\n",
              "      <th>60 a 64 anos</th>\n",
              "      <th>65 a 69 anos</th>\n",
              "      <th>70 a 74 anos</th>\n",
              "      <th>75 a 79 anos</th>\n",
              "      <th>80 a 84 anos</th>\n",
              "      <th>85 a 89 anos</th>\n",
              "      <th>90 a 94 anos</th>\n",
              "      <th>95 a 99 anos</th>\n",
              "    </tr>\n",
              "  </thead>\n",
              "  <tbody>\n",
              "    <tr>\n",
              "      <th>0</th>\n",
              "      <td>AC</td>\n",
              "      <td>ACRELÂNDIA</td>\n",
              "      <td>9055</td>\n",
              "      <td>7004</td>\n",
              "      <td>77.35</td>\n",
              "      <td>2051</td>\n",
              "      <td>22.65</td>\n",
              "      <td>28</td>\n",
              "      <td>10</td>\n",
              "      <td>38</td>\n",
              "      <td>...</td>\n",
              "      <td>621</td>\n",
              "      <td>606</td>\n",
              "      <td>426</td>\n",
              "      <td>338</td>\n",
              "      <td>211</td>\n",
              "      <td>114</td>\n",
              "      <td>68</td>\n",
              "      <td>20</td>\n",
              "      <td>6</td>\n",
              "      <td>1</td>\n",
              "    </tr>\n",
              "    <tr>\n",
              "      <th>1</th>\n",
              "      <td>AC</td>\n",
              "      <td>ASSIS BRASIL</td>\n",
              "      <td>5831</td>\n",
              "      <td>4844</td>\n",
              "      <td>83.07</td>\n",
              "      <td>987</td>\n",
              "      <td>16.93</td>\n",
              "      <td>11</td>\n",
              "      <td>4</td>\n",
              "      <td>15</td>\n",
              "      <td>...</td>\n",
              "      <td>360</td>\n",
              "      <td>290</td>\n",
              "      <td>237</td>\n",
              "      <td>192</td>\n",
              "      <td>138</td>\n",
              "      <td>81</td>\n",
              "      <td>43</td>\n",
              "      <td>22</td>\n",
              "      <td>9</td>\n",
              "      <td>4</td>\n",
              "    </tr>\n",
              "    <tr>\n",
              "      <th>2</th>\n",
              "      <td>AC</td>\n",
              "      <td>BRASILÉIA</td>\n",
              "      <td>16667</td>\n",
              "      <td>13375</td>\n",
              "      <td>80.25</td>\n",
              "      <td>3292</td>\n",
              "      <td>19.75</td>\n",
              "      <td>70</td>\n",
              "      <td>55</td>\n",
              "      <td>125</td>\n",
              "      <td>...</td>\n",
              "      <td>1215</td>\n",
              "      <td>903</td>\n",
              "      <td>744</td>\n",
              "      <td>575</td>\n",
              "      <td>366</td>\n",
              "      <td>208</td>\n",
              "      <td>111</td>\n",
              "      <td>51</td>\n",
              "      <td>11</td>\n",
              "      <td>4</td>\n",
              "    </tr>\n",
              "    <tr>\n",
              "      <th>3</th>\n",
              "      <td>AC</td>\n",
              "      <td>BUJARI</td>\n",
              "      <td>9458</td>\n",
              "      <td>7273</td>\n",
              "      <td>76.90</td>\n",
              "      <td>2185</td>\n",
              "      <td>23.10</td>\n",
              "      <td>16</td>\n",
              "      <td>9</td>\n",
              "      <td>25</td>\n",
              "      <td>...</td>\n",
              "      <td>649</td>\n",
              "      <td>522</td>\n",
              "      <td>469</td>\n",
              "      <td>313</td>\n",
              "      <td>179</td>\n",
              "      <td>126</td>\n",
              "      <td>45</td>\n",
              "      <td>18</td>\n",
              "      <td>9</td>\n",
              "      <td>1</td>\n",
              "    </tr>\n",
              "    <tr>\n",
              "      <th>4</th>\n",
              "      <td>AC</td>\n",
              "      <td>CAPIXABA</td>\n",
              "      <td>7410</td>\n",
              "      <td>5994</td>\n",
              "      <td>80.89</td>\n",
              "      <td>1416</td>\n",
              "      <td>19.11</td>\n",
              "      <td>61</td>\n",
              "      <td>25</td>\n",
              "      <td>86</td>\n",
              "      <td>...</td>\n",
              "      <td>589</td>\n",
              "      <td>460</td>\n",
              "      <td>377</td>\n",
              "      <td>248</td>\n",
              "      <td>141</td>\n",
              "      <td>89</td>\n",
              "      <td>27</td>\n",
              "      <td>13</td>\n",
              "      <td>4</td>\n",
              "      <td>2</td>\n",
              "    </tr>\n",
              "  </tbody>\n",
              "</table>\n",
              "<p>5 rows × 85 columns</p>\n",
              "</div>\n",
              "    <div class=\"colab-df-buttons\">\n",
              "\n",
              "  <div class=\"colab-df-container\">\n",
              "    <button class=\"colab-df-convert\" onclick=\"convertToInteractive('df-e322a4ac-65e3-4ce5-a10a-fc00b0e383a8')\"\n",
              "            title=\"Convert this dataframe to an interactive table.\"\n",
              "            style=\"display:none;\">\n",
              "\n",
              "  <svg xmlns=\"http://www.w3.org/2000/svg\" height=\"24px\" viewBox=\"0 -960 960 960\">\n",
              "    <path d=\"M120-120v-720h720v720H120Zm60-500h600v-160H180v160Zm220 220h160v-160H400v160Zm0 220h160v-160H400v160ZM180-400h160v-160H180v160Zm440 0h160v-160H620v160ZM180-180h160v-160H180v160Zm440 0h160v-160H620v160Z\"/>\n",
              "  </svg>\n",
              "    </button>\n",
              "\n",
              "  <style>\n",
              "    .colab-df-container {\n",
              "      display:flex;\n",
              "      gap: 12px;\n",
              "    }\n",
              "\n",
              "    .colab-df-convert {\n",
              "      background-color: #E8F0FE;\n",
              "      border: none;\n",
              "      border-radius: 50%;\n",
              "      cursor: pointer;\n",
              "      display: none;\n",
              "      fill: #1967D2;\n",
              "      height: 32px;\n",
              "      padding: 0 0 0 0;\n",
              "      width: 32px;\n",
              "    }\n",
              "\n",
              "    .colab-df-convert:hover {\n",
              "      background-color: #E2EBFA;\n",
              "      box-shadow: 0px 1px 2px rgba(60, 64, 67, 0.3), 0px 1px 3px 1px rgba(60, 64, 67, 0.15);\n",
              "      fill: #174EA6;\n",
              "    }\n",
              "\n",
              "    .colab-df-buttons div {\n",
              "      margin-bottom: 4px;\n",
              "    }\n",
              "\n",
              "    [theme=dark] .colab-df-convert {\n",
              "      background-color: #3B4455;\n",
              "      fill: #D2E3FC;\n",
              "    }\n",
              "\n",
              "    [theme=dark] .colab-df-convert:hover {\n",
              "      background-color: #434B5C;\n",
              "      box-shadow: 0px 1px 3px 1px rgba(0, 0, 0, 0.15);\n",
              "      filter: drop-shadow(0px 1px 2px rgba(0, 0, 0, 0.3));\n",
              "      fill: #FFFFFF;\n",
              "    }\n",
              "  </style>\n",
              "\n",
              "    <script>\n",
              "      const buttonEl =\n",
              "        document.querySelector('#df-e322a4ac-65e3-4ce5-a10a-fc00b0e383a8 button.colab-df-convert');\n",
              "      buttonEl.style.display =\n",
              "        google.colab.kernel.accessAllowed ? 'block' : 'none';\n",
              "\n",
              "      async function convertToInteractive(key) {\n",
              "        const element = document.querySelector('#df-e322a4ac-65e3-4ce5-a10a-fc00b0e383a8');\n",
              "        const dataTable =\n",
              "          await google.colab.kernel.invokeFunction('convertToInteractive',\n",
              "                                                    [key], {});\n",
              "        if (!dataTable) return;\n",
              "\n",
              "        const docLinkHtml = 'Like what you see? Visit the ' +\n",
              "          '<a target=\"_blank\" href=https://colab.research.google.com/notebooks/data_table.ipynb>data table notebook</a>'\n",
              "          + ' to learn more about interactive tables.';\n",
              "        element.innerHTML = '';\n",
              "        dataTable['output_type'] = 'display_data';\n",
              "        await google.colab.output.renderOutput(dataTable, element);\n",
              "        const docLink = document.createElement('div');\n",
              "        docLink.innerHTML = docLinkHtml;\n",
              "        element.appendChild(docLink);\n",
              "      }\n",
              "    </script>\n",
              "  </div>\n",
              "\n",
              "\n",
              "<div id=\"df-f4a99ac0-5c81-44bd-a1db-b4fe7878c709\">\n",
              "  <button class=\"colab-df-quickchart\" onclick=\"quickchart('df-f4a99ac0-5c81-44bd-a1db-b4fe7878c709')\"\n",
              "            title=\"Suggest charts.\"\n",
              "            style=\"display:none;\">\n",
              "\n",
              "<svg xmlns=\"http://www.w3.org/2000/svg\" height=\"24px\"viewBox=\"0 0 24 24\"\n",
              "     width=\"24px\">\n",
              "    <g>\n",
              "        <path d=\"M19 3H5c-1.1 0-2 .9-2 2v14c0 1.1.9 2 2 2h14c1.1 0 2-.9 2-2V5c0-1.1-.9-2-2-2zM9 17H7v-7h2v7zm4 0h-2V7h2v10zm4 0h-2v-4h2v4z\"/>\n",
              "    </g>\n",
              "</svg>\n",
              "  </button>\n",
              "\n",
              "<style>\n",
              "  .colab-df-quickchart {\n",
              "    background-color: #E8F0FE;\n",
              "    border: none;\n",
              "    border-radius: 50%;\n",
              "    cursor: pointer;\n",
              "    display: none;\n",
              "    fill: #1967D2;\n",
              "    height: 32px;\n",
              "    padding: 0 0 0 0;\n",
              "    width: 32px;\n",
              "  }\n",
              "\n",
              "  .colab-df-quickchart:hover {\n",
              "    background-color: #E2EBFA;\n",
              "    box-shadow: 0px 1px 2px rgba(60, 64, 67, 0.3), 0px 1px 3px 1px rgba(60, 64, 67, 0.15);\n",
              "    fill: #174EA6;\n",
              "  }\n",
              "\n",
              "  [theme=dark] .colab-df-quickchart {\n",
              "    background-color: #3B4455;\n",
              "    fill: #D2E3FC;\n",
              "  }\n",
              "\n",
              "  [theme=dark] .colab-df-quickchart:hover {\n",
              "    background-color: #434B5C;\n",
              "    box-shadow: 0px 1px 3px 1px rgba(0, 0, 0, 0.15);\n",
              "    filter: drop-shadow(0px 1px 2px rgba(0, 0, 0, 0.3));\n",
              "    fill: #FFFFFF;\n",
              "  }\n",
              "</style>\n",
              "\n",
              "  <script>\n",
              "    async function quickchart(key) {\n",
              "      const charts = await google.colab.kernel.invokeFunction(\n",
              "          'suggestCharts', [key], {});\n",
              "    }\n",
              "    (() => {\n",
              "      let quickchartButtonEl =\n",
              "        document.querySelector('#df-f4a99ac0-5c81-44bd-a1db-b4fe7878c709 button');\n",
              "      quickchartButtonEl.style.display =\n",
              "        google.colab.kernel.accessAllowed ? 'block' : 'none';\n",
              "    })();\n",
              "  </script>\n",
              "</div>\n",
              "    </div>\n",
              "  </div>\n"
            ]
          },
          "metadata": {},
          "execution_count": 103
        }
      ]
    },
    {
      "cell_type": "code",
      "source": [
        "df_municipios_1turno = df_municipios_1turno.rename(columns={'100 anos ou mais':'100_anos',\n",
        "       '16 anos':'16_anos', '17 anos':'17_anos', '18 anos':'18_anos',\n",
        "       '19 anos':'19_anos', '20 anos':'20_anos', '21 a 24 anos':'21_24_anos',\n",
        "       '25 a 29 anos':'25_29_anos', '30 a 34 anos':'30_34_anos', '35 a 39 anos':'35_39_anos',\n",
        "       '40 a 44 anos':'40_44_anos', '45 a 49 anos':'45_49_anos',\n",
        "       '50 a 54 anos':'50_54_anos', '55 a 59 anos':'55_59_anos',\n",
        "       '60 a 64 anos':'60_64_anos', '65 a 69 anos':'65_69_anos',\n",
        "       '70 a 74 anos':'70_74_anos', '75 a 79 anos':'75_79_anos',\n",
        "       '80 a 84 anos':'80_84_anos', '85 a 89 anos':'85_89_anos',\n",
        "       '90 a 94 anos':'90_94_anos', '95 a 99 anos':'95_99_anos'})"
      ],
      "metadata": {
        "id": "qmu8uwPEEHk4"
      },
      "execution_count": null,
      "outputs": []
    },
    {
      "cell_type": "markdown",
      "source": [
        "### Faixa etária percentual do eleitorado"
      ],
      "metadata": {
        "id": "ZtG13LkdIRUw"
      }
    },
    {
      "cell_type": "code",
      "source": [
        "faixa_etaria_colunas = {\n",
        "    '16_anos': '16_anos_percentual(%)',\n",
        "    '17_anos': '17_anos_percentual(%)',\n",
        "    '18_anos': '18_anos_percentual(%)',\n",
        "    '19_anos': '19_anos_percentual(%)',\n",
        "    '20_anos': '20_anos_percentual(%)',\n",
        "    '21_24_anos': '21_24_anos_percentual(%)',\n",
        "    '25_29_anos': '25_29_anos_percentual(%)',\n",
        "    '30_34_anos': '30_34_anos_percentual(%)',\n",
        "    '35_39_anos': '35_39_anos_percentual(%)',\n",
        "    '40_44_anos': '40_44_anos_percentual(%)',\n",
        "    '45_49_anos': '45_49_anos_percentual(%)',\n",
        "    '50_54_anos': '50_54_anos_percentual(%)',\n",
        "    '55_59_anos': '55_59_anos_percentual(%)',\n",
        "    '60_64_anos': '60_64_anos_percentual(%)',\n",
        "    '65_69_anos': '65_69_anos_percentual(%)',\n",
        "    '70_74_anos': '70_74_anos_percentual(%)',\n",
        "    '75_79_anos': '75_79_anos_percentual(%)',\n",
        "    '80_84_anos': '80_84_anos_percentual(%)',\n",
        "    '85_89_anos': '85_89_anos_percentual(%)',\n",
        "    '90_94_anos': '90_94_anos_percentual(%)',\n",
        "    '95_99_anos': '95_99_anos_percentual(%)',\n",
        "    '100_anos': '100_anos_percentual(%)'\n",
        "}\n",
        "\n",
        "for faixa_etaria, coluna_percentual in faixa_etaria_colunas.items():\n",
        "  df_municipios_1turno[coluna_percentual] = (df_municipios_1turno[faixa_etaria] / df_municipios_1turno['aptos'] * 100).round(2)\n"
      ],
      "metadata": {
        "id": "l1vTFngEH66t"
      },
      "execution_count": null,
      "outputs": []
    },
    {
      "cell_type": "markdown",
      "metadata": {
        "id": "Q0EnCSeTNe36"
      },
      "source": [
        "### Faixa etária do eleitorado masculino"
      ]
    },
    {
      "cell_type": "code",
      "source": [
        "faixa_etaria_masculino = df_turno_1_2020[df_turno_1_2020['DS_GENERO'] == 'MASCULINO'].groupby(['NM_MUNICIPIO', 'SG_UF', 'DS_FAIXA_ETARIA'])['QT_APTOS'].sum().reset_index()\n",
        "# Pivotar a tabela para obter as colunas desejadas\n",
        "df_pivot = faixa_etaria_masculino.pivot_table(index=['NM_MUNICIPIO', 'SG_UF'], columns='DS_FAIXA_ETARIA', values='QT_APTOS', fill_value=0).reset_index()\n",
        "\n",
        "# Juntar os resultados ao DataFrame df_municipios_1turno\n",
        "df_municipios_1turno = df_municipios_1turno.merge(df_pivot, how='left', left_on=['NM_MUNICIPIO', 'SG_UF'], right_on=['NM_MUNICIPIO', 'SG_UF'])\n",
        "# df_municipios_1turno = df_municipios_1turno.sort_values(by=['SG_UF', 'NM_MUNICIPIO'])\n"
      ],
      "metadata": {
        "id": "geZXmtkUQ0zo"
      },
      "execution_count": null,
      "outputs": []
    },
    {
      "cell_type": "code",
      "source": [
        "df_municipios_1turno = df_municipios_1turno.rename(columns={\n",
        "       '16 anos':'16_anos_masculino', '17 anos':'17_anos_masculino', '18 anos':'18_anos_masculino',\n",
        "       '19 anos':'19_anos_masculino', '20 anos':'20_anos_masculino', '21 a 24 anos':'21_24_anos_masculino',\n",
        "       '25 a 29 anos':'25_29_anos_masculino', '30 a 34 anos':'30_34_anos_masculino', '35 a 39 anos':'35_39_anos_masculino',\n",
        "       '40 a 44 anos':'40_44_anos_masculino', '45 a 49 anos':'45_49_anos_masculino',\n",
        "       '50 a 54 anos':'50_54_anos_masculino', '55 a 59 anos':'55_59_anos_masculino',\n",
        "       '60 a 64 anos':'60_64_anos_masculino', '65 a 69 anos':'65_69_anos_masculino',\n",
        "       '70 a 74 anos':'70_74_anos_masculino', '75 a 79 anos':'75_79_anos_masculino',\n",
        "       '80 a 84 anos':'80_84_anos_masculino', '85 a 89 anos':'85_89_anos_masculino',\n",
        "       '90 a 94 anos':'90_94_anos_masculino', '95 a 99 anos':'95_99_anos_masculino',\n",
        "       '100 anos ou mais':'100_anos_masculino',})"
      ],
      "metadata": {
        "id": "YzcLgncQbyuy"
      },
      "execution_count": null,
      "outputs": []
    },
    {
      "cell_type": "code",
      "source": [
        "faixa_etaria_masculina_colunas = {\n",
        "    '16_anos_masculino_percentual(%)': ['16_anos_masculino', '16_anos'],\n",
        "    '17_anos_masculino_percentual(%)': ['17_anos_masculino', '17_anos'],\n",
        "    '18_anos_masculino_percentual(%)': ['18_anos_masculino', '18_anos'],\n",
        "    '19_anos_masculino_percentual(%)': ['19_anos_masculino', '19_anos'],\n",
        "    '20_anos_masculino_percentual(%)': ['20_anos_masculino', '20_anos'],\n",
        "    '21_24_anos_masculino_percentual(%)': ['21_24_anos_masculino', '21_24_anos'],\n",
        "    '25_29_anos_masculino_percentual(%)': ['25_29_anos_masculino', '25_29_anos'],\n",
        "    '30_34_anos_masculino_percentual(%)': ['30_34_anos_masculino', '30_34_anos'],\n",
        "    '35_39_anos_masculino_percentual(%)': ['35_39_anos_masculino', '35_39_anos'],\n",
        "    '40_44_anos_masculino_percentual(%)': ['40_44_anos_masculino', '40_44_anos'],\n",
        "    '45_49_anos_masculino_percentual(%)': ['45_49_anos_masculino', '45_49_anos'],\n",
        "    '50_54_anos_masculino_percentual(%)': ['50_54_anos_masculino', '50_54_anos'],\n",
        "    '55_59_anos_masculino_percentual(%)': ['55_59_anos_masculino', '55_59_anos'],\n",
        "    '60_64_anos_masculino_percentual(%)': ['60_64_anos_masculino', '60_64_anos'],\n",
        "    '65_69_anos_masculino_percentual(%)': ['65_69_anos_masculino', '65_69_anos'],\n",
        "    '70_74_anos_masculino_percentual(%)': ['70_74_anos_masculino', '70_74_anos'],\n",
        "    '75_79_anos_masculino_percentual(%)': ['75_79_anos_masculino', '75_79_anos'],\n",
        "    '80_84_anos_masculino_percentual(%)': ['80_84_anos_masculino', '80_84_anos'],\n",
        "    '85_89_anos_masculino_percentual(%)': ['85_89_anos_masculino', '85_89_anos'],\n",
        "    '90_94_anos_masculino_percentual(%)': ['90_94_anos_masculino', '90_94_anos'],\n",
        "    '95_99_anos_masculino_percentual(%)': ['95_99_anos_masculino', '95_99_anos'],\n",
        "    '100_anos_masculino_percentual(%)'  : ['100_anos_masculino', '100_anos']\n",
        "}\n",
        "\n",
        "for coluna_percentual, faixa_etaria in faixa_etaria_masculina_colunas.items():\n",
        "  df_municipios_1turno[coluna_percentual] = (df_municipios_1turno[faixa_etaria[0]] / df_municipios_1turno[faixa_etaria[1]] * 100).round(2)"
      ],
      "metadata": {
        "id": "KdUftAxXZFyc"
      },
      "execution_count": null,
      "outputs": []
    },
    {
      "cell_type": "markdown",
      "metadata": {
        "id": "qgStRayINe37"
      },
      "source": [
        "### Faixa etária do eleitorado feminino"
      ]
    },
    {
      "cell_type": "code",
      "execution_count": null,
      "metadata": {
        "id": "szrFj3zlNe38"
      },
      "outputs": [],
      "source": [
        "faixa_etaria_feminino = df_turno_1_2020[df_turno_1_2020['DS_GENERO'] == 'FEMININO'].groupby(['NM_MUNICIPIO', 'SG_UF', 'DS_FAIXA_ETARIA'])['QT_APTOS'].sum().reset_index()\n",
        "# Pivotar a tabela para obter as colunas desejadas\n",
        "df_pivot = faixa_etaria_masculino.pivot_table(index=['NM_MUNICIPIO', 'SG_UF'], columns='DS_FAIXA_ETARIA', values='QT_APTOS', fill_value=0).reset_index()\n",
        "\n",
        "# Juntar os resultados ao DataFrame df_municipios_1turno\n",
        "df_municipios_1turno = df_municipios_1turno.merge(df_pivot, how='left', left_on=['NM_MUNICIPIO', 'SG_UF'], right_on=['NM_MUNICIPIO', 'SG_UF'])\n",
        "# df_municipios_1turno = df_municipios_1turno.sort_values(by=['SG_UF', 'NM_MUNICIPIO'])"
      ]
    },
    {
      "cell_type": "code",
      "execution_count": null,
      "metadata": {
        "id": "J2BFD7TMNe38"
      },
      "outputs": [],
      "source": [
        "df_municipios_1turno = df_municipios_1turno.rename(columns={\n",
        "       '16 anos':'16_anos_feminino', '17 anos':'17_anos_feminino', '18 anos':'18_anos_feminino',\n",
        "       '19 anos':'19_anos_feminino', '20 anos':'20_anos_feminino', '21 a 24 anos':'21_24_anos_feminino',\n",
        "       '25 a 29 anos':'25_29_anos_feminino', '30 a 34 anos':'30_34_anos_feminino', '35 a 39 anos':'35_39_anos_feminino',\n",
        "       '40 a 44 anos':'40_44_anos_feminino', '45 a 49 anos':'45_49_anos_feminino',\n",
        "       '50 a 54 anos':'50_54_anos_feminino', '55 a 59 anos':'55_59_anos_feminino',\n",
        "       '60 a 64 anos':'60_64_anos_feminino', '65 a 69 anos':'65_69_anos_feminino',\n",
        "       '70 a 74 anos':'70_74_anos_feminino', '75 a 79 anos':'75_79_anos_feminino',\n",
        "       '80 a 84 anos':'80_84_anos_feminino', '85 a 89 anos':'85_89_anos_feminino',\n",
        "       '90 a 94 anos':'90_94_anos_feminino', '95 a 99 anos':'95_99_anos_feminino',\n",
        "       '100 anos ou mais':'100_anos_feminino',})"
      ]
    },
    {
      "cell_type": "code",
      "execution_count": null,
      "metadata": {
        "id": "PT2bxc-LNe38"
      },
      "outputs": [],
      "source": [
        "faixa_etaria_feminina_colunas = {\n",
        "    '16_anos_feminino_percentual(%)': ['16_anos_feminino', '16_anos'],\n",
        "    '17_anos_feminino_percentual(%)': ['17_anos_feminino', '17_anos'],\n",
        "    '18_anos_feminino_percentual(%)': ['18_anos_feminino', '18_anos'],\n",
        "    '19_anos_feminino_percentual(%)': ['19_anos_feminino', '19_anos'],\n",
        "    '20_anos_feminino_percentual(%)': ['20_anos_feminino', '20_anos'],\n",
        "    '21_24_anos_feminino_percentual(%)': ['21_24_anos_feminino', '21_24_anos'],\n",
        "    '25_29_anos_feminino_percentual(%)': ['25_29_anos_feminino', '25_29_anos'],\n",
        "    '30_34_anos_feminino_percentual(%)': ['30_34_anos_feminino', '30_34_anos'],\n",
        "    '35_39_anos_feminino_percentual(%)': ['35_39_anos_feminino', '35_39_anos'],\n",
        "    '40_44_anos_feminino_percentual(%)': ['40_44_anos_feminino', '40_44_anos'],\n",
        "    '45_49_anos_feminino_percentual(%)': ['45_49_anos_feminino', '45_49_anos'],\n",
        "    '50_54_anos_feminino_percentual(%)': ['50_54_anos_feminino', '50_54_anos'],\n",
        "    '55_59_anos_feminino_percentual(%)': ['55_59_anos_feminino', '55_59_anos'],\n",
        "    '60_64_anos_feminino_percentual(%)': ['60_64_anos_feminino', '60_64_anos'],\n",
        "    '65_69_anos_feminino_percentual(%)': ['65_69_anos_feminino', '65_69_anos'],\n",
        "    '70_74_anos_feminino_percentual(%)': ['70_74_anos_feminino', '70_74_anos'],\n",
        "    '75_79_anos_feminino_percentual(%)': ['75_79_anos_feminino', '75_79_anos'],\n",
        "    '80_84_anos_feminino_percentual(%)': ['80_84_anos_feminino', '80_84_anos'],\n",
        "    '85_89_anos_feminino_percentual(%)': ['85_89_anos_feminino', '85_89_anos'],\n",
        "    '90_94_anos_feminino_percentual(%)': ['90_94_anos_feminino', '90_94_anos'],\n",
        "    '95_99_anos_feminino_percentual(%)': ['95_99_anos_feminino', '95_99_anos'],\n",
        "    '100_anos_feminino_percentual(%)'  : ['100_anos_feminino', '100_anos']\n",
        "}\n",
        "\n",
        "for coluna_percentual, faixa_etaria in faixa_etaria_feminina_colunas.items():\n",
        "  df_municipios_1turno[coluna_percentual] = (df_municipios_1turno[faixa_etaria[0]] / df_municipios_1turno[faixa_etaria[1]] * 100).round(2)"
      ]
    },
    {
      "cell_type": "markdown",
      "metadata": {
        "id": "XppApg5KNe39"
      },
      "source": [
        "## Eleitorado facultativo"
      ]
    },
    {
      "cell_type": "code",
      "execution_count": null,
      "metadata": {
        "id": "5O3EG7DzZyi9"
      },
      "outputs": [],
      "source": [
        "def eleitorado_facultativo_municipios_1turno():\n",
        "  return int(df_municipios_1turno['16_anos'].values[i]\n",
        "  + df_municipios_1turno['17_anos'].values[i]\n",
        "  + df_municipios_1turno['65_69_anos'].values[i]\n",
        "  + df_municipios_1turno['70_74_anos'].values[i]\n",
        "  + df_municipios_1turno['75_79_anos'].values[i]\n",
        "  + df_municipios_1turno['80_84_anos'].values[i]\n",
        "  + df_municipios_1turno['85_89_anos'].values[i]\n",
        "  + df_municipios_1turno['90_94_anos'].values[i]\n",
        "  + df_municipios_1turno['95_99_anos'].values[i]\n",
        "  + df_municipios_1turno['100_anos'].values[i])"
      ]
    },
    {
      "cell_type": "code",
      "execution_count": null,
      "metadata": {
        "id": "KD3AllTFZyi-",
        "colab": {
          "base_uri": "https://localhost:8080/"
        },
        "outputId": "864dcbb2-384f-4e8c-bfa4-574ca805392b"
      },
      "outputs": [
        {
          "output_type": "stream",
          "name": "stderr",
          "text": [
            "<ipython-input-113-4a495e150343>:4: SettingWithCopyWarning: \n",
            "A value is trying to be set on a copy of a slice from a DataFrame\n",
            "\n",
            "See the caveats in the documentation: https://pandas.pydata.org/pandas-docs/stable/user_guide/indexing.html#returning-a-view-versus-a-copy\n",
            "  df_municipios_1turno['eleitorado_facultativo'][i] = eleitorado_facultativo_municipios_1turno()\n"
          ]
        }
      ],
      "source": [
        "df_municipios_1turno['eleitorado_facultativo'] = 0\n",
        "\n",
        "for i in range(len(df_municipios_1turno['NM_MUNICIPIO'])):\n",
        "  df_municipios_1turno['eleitorado_facultativo'][i] = eleitorado_facultativo_municipios_1turno()"
      ]
    },
    {
      "cell_type": "code",
      "execution_count": null,
      "metadata": {
        "id": "9HFmmeA4Zyi_"
      },
      "outputs": [],
      "source": [
        "def eleitorado_facultativo_municipios_1turno_percentual():\n",
        "  return round(((df_municipios_1turno['eleitorado_facultativo'][i] / df_municipios_1turno['aptos'][i]) * 100), 2)"
      ]
    },
    {
      "cell_type": "code",
      "execution_count": null,
      "metadata": {
        "id": "RuZCM-E1ZyjB",
        "colab": {
          "base_uri": "https://localhost:8080/"
        },
        "outputId": "98ddd147-bf99-411a-fa20-00957e2afef5"
      },
      "outputs": [
        {
          "output_type": "stream",
          "name": "stderr",
          "text": [
            "<ipython-input-115-b52bb057f29b>:4: SettingWithCopyWarning: \n",
            "A value is trying to be set on a copy of a slice from a DataFrame\n",
            "\n",
            "See the caveats in the documentation: https://pandas.pydata.org/pandas-docs/stable/user_guide/indexing.html#returning-a-view-versus-a-copy\n",
            "  df_municipios_1turno['eleitorado_facultativo_percentual(%)'][i] = eleitorado_facultativo_municipios_1turno_percentual()\n"
          ]
        }
      ],
      "source": [
        "df_municipios_1turno['eleitorado_facultativo_percentual(%)'] = 0.0\n",
        "\n",
        "for i in range(len(df_municipios_1turno['NM_MUNICIPIO'])):\n",
        "  df_municipios_1turno['eleitorado_facultativo_percentual(%)'][i] = eleitorado_facultativo_municipios_1turno_percentual()"
      ]
    },
    {
      "cell_type": "markdown",
      "metadata": {
        "id": "Wmtgwlh8Ne3-"
      },
      "source": [
        "### Eleitorado facultativo masculino"
      ]
    },
    {
      "cell_type": "code",
      "execution_count": null,
      "metadata": {
        "id": "buC71DsSNe3-"
      },
      "outputs": [],
      "source": [
        "def eleitorado_facultativo_masculino_municipios_1turno():\n",
        "  return int(df_municipios_1turno['16_anos_masculino'].values[i]\n",
        "  + df_municipios_1turno['17_anos_masculino'].values[i]\n",
        "  + df_municipios_1turno['65_69_anos_masculino'].values[i]\n",
        "  + df_municipios_1turno['70_74_anos_masculino'].values[i]\n",
        "  + df_municipios_1turno['75_79_anos_masculino'].values[i]\n",
        "  + df_municipios_1turno['80_84_anos_masculino'].values[i]\n",
        "  + df_municipios_1turno['85_89_anos_masculino'].values[i]\n",
        "  + df_municipios_1turno['90_94_anos_masculino'].values[i]\n",
        "  + df_municipios_1turno['95_99_anos_masculino'].values[i]\n",
        "  + df_municipios_1turno['100_anos_masculino'].values[i])"
      ]
    },
    {
      "cell_type": "code",
      "execution_count": null,
      "metadata": {
        "id": "8v14HWubNe3-",
        "colab": {
          "base_uri": "https://localhost:8080/"
        },
        "outputId": "b6d06bb3-5df1-408a-e041-19bde19dd741"
      },
      "outputs": [
        {
          "output_type": "stream",
          "name": "stderr",
          "text": [
            "<ipython-input-117-1a1bbe0ad70a>:4: SettingWithCopyWarning: \n",
            "A value is trying to be set on a copy of a slice from a DataFrame\n",
            "\n",
            "See the caveats in the documentation: https://pandas.pydata.org/pandas-docs/stable/user_guide/indexing.html#returning-a-view-versus-a-copy\n",
            "  df_municipios_1turno['eleitorado_facultativo_masculino'][i] = eleitorado_facultativo_masculino_municipios_1turno()\n"
          ]
        }
      ],
      "source": [
        "df_municipios_1turno['eleitorado_facultativo_masculino'] = 0\n",
        "\n",
        "for i in range(len(df_municipios_1turno['NM_MUNICIPIO'])):\n",
        "  df_municipios_1turno['eleitorado_facultativo_masculino'][i] = eleitorado_facultativo_masculino_municipios_1turno()"
      ]
    },
    {
      "cell_type": "code",
      "execution_count": null,
      "metadata": {
        "id": "Qu7sqd0qNe3-"
      },
      "outputs": [],
      "source": [
        "def eleitorado_facultativo_masculino_municipios_1turno_percentual():\n",
        "  return round(((df_municipios_1turno['eleitorado_facultativo_masculino'][i] / df_municipios_1turno['aptos'][i]) * 100), 2)"
      ]
    },
    {
      "cell_type": "code",
      "execution_count": null,
      "metadata": {
        "id": "k2sTMMd2Ne3-",
        "colab": {
          "base_uri": "https://localhost:8080/"
        },
        "outputId": "602bd7ae-6a3d-40fa-a5e6-093a70d83c9e"
      },
      "outputs": [
        {
          "output_type": "stream",
          "name": "stderr",
          "text": [
            "<ipython-input-119-df2c8ee67cbc>:4: SettingWithCopyWarning: \n",
            "A value is trying to be set on a copy of a slice from a DataFrame\n",
            "\n",
            "See the caveats in the documentation: https://pandas.pydata.org/pandas-docs/stable/user_guide/indexing.html#returning-a-view-versus-a-copy\n",
            "  df_municipios_1turno['eleitorado_facultativo_masculino_percentual(%)'][i] = eleitorado_facultativo_masculino_municipios_1turno_percentual()\n"
          ]
        }
      ],
      "source": [
        "df_municipios_1turno['eleitorado_facultativo_masculino_percentual(%)'] = 0.0\n",
        "\n",
        "for i in range(len(df_municipios_1turno['NM_MUNICIPIO'])):\n",
        "  df_municipios_1turno['eleitorado_facultativo_masculino_percentual(%)'][i] = eleitorado_facultativo_masculino_municipios_1turno_percentual()"
      ]
    },
    {
      "cell_type": "markdown",
      "metadata": {
        "id": "HO0x6ZXdNe3_"
      },
      "source": [
        "### Eleitorado facultativo feminino"
      ]
    },
    {
      "cell_type": "code",
      "execution_count": null,
      "metadata": {
        "id": "E_pr5k9ONe3_"
      },
      "outputs": [],
      "source": [
        "def eleitorado_facultativo_feminino_municipios_1turno():\n",
        "  return df_municipios_1turno['eleitorado_facultativo'][i] - df_municipios_1turno['eleitorado_facultativo_masculino'][i]"
      ]
    },
    {
      "cell_type": "code",
      "execution_count": null,
      "metadata": {
        "id": "X3uclfi4Ne3_",
        "colab": {
          "base_uri": "https://localhost:8080/"
        },
        "outputId": "1b5d0945-6504-4422-e173-3ab849db8016"
      },
      "outputs": [
        {
          "output_type": "stream",
          "name": "stderr",
          "text": [
            "<ipython-input-121-f9483fa51cbe>:4: SettingWithCopyWarning: \n",
            "A value is trying to be set on a copy of a slice from a DataFrame\n",
            "\n",
            "See the caveats in the documentation: https://pandas.pydata.org/pandas-docs/stable/user_guide/indexing.html#returning-a-view-versus-a-copy\n",
            "  df_municipios_1turno['eleitorado_facultativo_feminino'][i] = eleitorado_facultativo_feminino_municipios_1turno()\n"
          ]
        }
      ],
      "source": [
        "df_municipios_1turno['eleitorado_facultativo_feminino'] = 0\n",
        "\n",
        "for i in range(len(df_municipios_1turno['NM_MUNICIPIO'])):\n",
        "  df_municipios_1turno['eleitorado_facultativo_feminino'][i] = eleitorado_facultativo_feminino_municipios_1turno()"
      ]
    },
    {
      "cell_type": "code",
      "execution_count": null,
      "metadata": {
        "id": "H1rdr5MRNe3_"
      },
      "outputs": [],
      "source": [
        "def eleitorado_facultativo_feminino_municipios_1turno_percentual():\n",
        "  return round(((df_municipios_1turno['eleitorado_facultativo_feminino'][i] / df_municipios_1turno['aptos'][i]) * 100), 2)"
      ]
    },
    {
      "cell_type": "code",
      "execution_count": null,
      "metadata": {
        "id": "iyyilvf3Ne3_",
        "colab": {
          "base_uri": "https://localhost:8080/"
        },
        "outputId": "b63f5079-16a5-419e-eeab-9f564e3758a8"
      },
      "outputs": [
        {
          "output_type": "stream",
          "name": "stderr",
          "text": [
            "<ipython-input-123-f8a4c66f5d76>:4: SettingWithCopyWarning: \n",
            "A value is trying to be set on a copy of a slice from a DataFrame\n",
            "\n",
            "See the caveats in the documentation: https://pandas.pydata.org/pandas-docs/stable/user_guide/indexing.html#returning-a-view-versus-a-copy\n",
            "  df_municipios_1turno['eleitorado_facultativo_feminino_percentual(%)'][i] = eleitorado_facultativo_feminino_municipios_1turno_percentual()\n"
          ]
        }
      ],
      "source": [
        "df_municipios_1turno['eleitorado_facultativo_feminino_percentual(%)'] = 0.0\n",
        "\n",
        "for i in range(len(df_municipios_1turno['NM_MUNICIPIO'])):\n",
        "  df_municipios_1turno['eleitorado_facultativo_feminino_percentual(%)'][i] = eleitorado_facultativo_feminino_municipios_1turno_percentual()"
      ]
    },
    {
      "cell_type": "markdown",
      "metadata": {
        "id": "k5l0atwsNe3_"
      },
      "source": [
        "## Estado civil do eleitorado"
      ]
    },
    {
      "cell_type": "code",
      "source": [
        "estado_civil = df_turno_1_2020.groupby(['SG_UF', 'NM_MUNICIPIO', 'DS_ESTADO_CIVIL'])['QT_APTOS'].sum().reset_index()\n",
        "df_pivot = estado_civil.pivot_table(index=['SG_UF', 'NM_MUNICIPIO'], columns='DS_ESTADO_CIVIL', values='QT_APTOS', fill_value=0).reset_index()\n",
        "df_pivot = df_pivot.rename(columns={\n",
        "       'SOLTEIRO':'solteiro', 'CASADO':'casado', 'DIVORCIADO':'divorciado',\n",
        "       'VIÚVO':'viuvo', 'SEPARADO JUDICIALMENTE':'separado_judicialmente'})\n",
        "df_pivot = df_pivot[['NM_MUNICIPIO', 'SG_UF', 'solteiro', 'casado',\n",
        "      'divorciado', 'viuvo', 'separado_judicialmente']]\n",
        "df_municipios_1turno = df_municipios_1turno.merge(df_pivot, how='left', left_on=['SG_UF', 'NM_MUNICIPIO'], right_on=['SG_UF', 'NM_MUNICIPIO'])\n",
        "del estado_civil, df_pivot"
      ],
      "metadata": {
        "id": "N6LO_HYrZuuh"
      },
      "execution_count": null,
      "outputs": []
    },
    {
      "cell_type": "markdown",
      "source": [
        "### Estado civil percentual do eleitorado"
      ],
      "metadata": {
        "id": "Ddh8FPi_fB96"
      }
    },
    {
      "cell_type": "code",
      "source": [
        "estados_civil = {\n",
        "    'solteiro_percentual(%)': 'solteiro',\n",
        "    'casado_percentual(%)': 'casado',\n",
        "    'divorciado_percentual(%)': 'divorciado',\n",
        "    'viuvo_percentual(%)': 'viuvo',\n",
        "    'separado_judicialmente_percentual(%)': 'separado_judicialmente'\n",
        "}\n",
        "\n",
        "for estado_percentual, ec in estados_civil.items():\n",
        "  df_municipios_1turno[coluna_percentual] = (df_municipios_1turno[ec] / df_municipios_1turno['aptos'] * 100).round(2)"
      ],
      "metadata": {
        "id": "IGI2mScLdcjP"
      },
      "execution_count": null,
      "outputs": []
    },
    {
      "cell_type": "markdown",
      "metadata": {
        "id": "auPtneS8Ne4A"
      },
      "source": [
        "### Estado civil do eleitorado masculino"
      ]
    },
    {
      "cell_type": "code",
      "execution_count": null,
      "metadata": {
        "id": "DeBjQKFkNe4A"
      },
      "outputs": [],
      "source": [
        "# Filtra os dados apenas para o gênero masculino\n",
        "df_turno_1_2020_masculino = df_turno_1_2020[df_turno_1_2020['DS_GENERO'] == 'MASCULINO']\n",
        "\n",
        "# Realiza a agregação dos dados por município e grau de escolaridade\n",
        "agregado_masculino = df_turno_1_2020_masculino.groupby(['NM_MUNICIPIO', 'SG_UF', 'DS_ESTADO_CIVIL'])['QT_APTOS'].sum().reset_index()\n",
        "\n",
        "# Realiza o pivot para transformar as colunas de grau de escolaridade em colunas do dataframe\n",
        "pivot_masculino = agregado_masculino.pivot_table(index=['SG_UF', 'NM_MUNICIPIO'], columns='DS_ESTADO_CIVIL', values='QT_APTOS').reset_index()\n",
        "pivot_masculino = pivot_masculino.rename(columns={\n",
        "       'SOLTEIRO':'solteiro_masculino', 'CASADO':'casado_masculino', 'DIVORCIADO':'divorciado_masculino',\n",
        "       'VIÚVO':'viuvo_masculino', 'SEPARADO JUDICIALMENTE':'separado_judicialmente_masculino'})\n",
        "pivot_masculino = pivot_masculino[['NM_MUNICIPIO', 'SG_UF', 'solteiro_masculino', 'casado_masculino',\n",
        "      'divorciado_masculino', 'viuvo_masculino', 'separado_judicialmente_masculino']]\n",
        "\n",
        "pivot_masculino = pivot_masculino.fillna(0)\n",
        "\n",
        "for coluna in pivot_masculino:\n",
        "  if ((coluna != 'SG_UF') & (coluna != 'NM_MUNICIPIO')):\n",
        "    pivot_masculino[coluna] = pivot_masculino[coluna].astype(int)\n",
        "# Junta os dados no dataframe df_municipios_1turno\n",
        "df_municipios_1turno = df_municipios_1turno.merge(pivot_masculino, on=['SG_UF', 'NM_MUNICIPIO'], how='left')"
      ]
    },
    {
      "cell_type": "code",
      "source": [
        "df_municipios_1turno.head()"
      ],
      "metadata": {
        "id": "W7Iq_ggcj6Qf",
        "colab": {
          "base_uri": "https://localhost:8080/"
        },
        "outputId": "584a7d4d-ac0d-4a04-bf22-4a943af19627"
      },
      "execution_count": null,
      "outputs": [
        {
          "output_type": "execute_result",
          "data": {
            "text/plain": [
              "  SG_UF  NM_MUNICIPIO  aptos  comparecimento  comparecimento_percentual(%)  \\\n",
              "0    AC    ACRELÂNDIA   9055            7004                         77.35   \n",
              "1    AC  ASSIS BRASIL   5831            4844                         83.07   \n",
              "2    AC     BRASILÉIA  16667           13375                         80.25   \n",
              "3    AC        BUJARI   9458            7273                         76.90   \n",
              "4    AC      CAPIXABA   7410            5994                         80.89   \n",
              "\n",
              "   abstencao  abstencao_percentual(%)  comparecimento_deficiencia  \\\n",
              "0       2051                    22.65                          28   \n",
              "1        987                    16.93                          11   \n",
              "2       3292                    19.75                          70   \n",
              "3       2185                    23.10                          16   \n",
              "4       1416                    19.11                          61   \n",
              "\n",
              "   abstencao_deficiencia  eleitores_deficiencia  ...  solteiro  casado  \\\n",
              "0                     10                     38  ...      5015    3271   \n",
              "1                      4                     15  ...      4513    1152   \n",
              "2                     55                    125  ...     11527    4048   \n",
              "3                      9                     25  ...      6675    2322   \n",
              "4                     25                     86  ...      4774    2114   \n",
              "\n",
              "   divorciado  viuvo  separado_judicialmente  solteiro_masculino  \\\n",
              "0         458    270                      41                2708   \n",
              "1          89     75                       2                2260   \n",
              "2         594    424                      74                5767   \n",
              "3         279    154                      28                3509   \n",
              "4         345    166                      11                2539   \n",
              "\n",
              "   casado_masculino  divorciado_masculino  viuvo_masculino  \\\n",
              "0              1614                   209               64   \n",
              "1               561                    41               15   \n",
              "2              1967                   248               92   \n",
              "3              1106                   116               36   \n",
              "4              1030                   160               34   \n",
              "\n",
              "   separado_judicialmente_masculino  \n",
              "0                                22  \n",
              "1                                 2  \n",
              "2                                36  \n",
              "3                                19  \n",
              "4                                 6  \n",
              "\n",
              "[5 rows x 211 columns]"
            ],
            "text/html": [
              "\n",
              "  <div id=\"df-560ae785-5615-4ba5-93f2-a6a235a641e0\" class=\"colab-df-container\">\n",
              "    <div>\n",
              "<style scoped>\n",
              "    .dataframe tbody tr th:only-of-type {\n",
              "        vertical-align: middle;\n",
              "    }\n",
              "\n",
              "    .dataframe tbody tr th {\n",
              "        vertical-align: top;\n",
              "    }\n",
              "\n",
              "    .dataframe thead th {\n",
              "        text-align: right;\n",
              "    }\n",
              "</style>\n",
              "<table border=\"1\" class=\"dataframe\">\n",
              "  <thead>\n",
              "    <tr style=\"text-align: right;\">\n",
              "      <th></th>\n",
              "      <th>SG_UF</th>\n",
              "      <th>NM_MUNICIPIO</th>\n",
              "      <th>aptos</th>\n",
              "      <th>comparecimento</th>\n",
              "      <th>comparecimento_percentual(%)</th>\n",
              "      <th>abstencao</th>\n",
              "      <th>abstencao_percentual(%)</th>\n",
              "      <th>comparecimento_deficiencia</th>\n",
              "      <th>abstencao_deficiencia</th>\n",
              "      <th>eleitores_deficiencia</th>\n",
              "      <th>...</th>\n",
              "      <th>solteiro</th>\n",
              "      <th>casado</th>\n",
              "      <th>divorciado</th>\n",
              "      <th>viuvo</th>\n",
              "      <th>separado_judicialmente</th>\n",
              "      <th>solteiro_masculino</th>\n",
              "      <th>casado_masculino</th>\n",
              "      <th>divorciado_masculino</th>\n",
              "      <th>viuvo_masculino</th>\n",
              "      <th>separado_judicialmente_masculino</th>\n",
              "    </tr>\n",
              "  </thead>\n",
              "  <tbody>\n",
              "    <tr>\n",
              "      <th>0</th>\n",
              "      <td>AC</td>\n",
              "      <td>ACRELÂNDIA</td>\n",
              "      <td>9055</td>\n",
              "      <td>7004</td>\n",
              "      <td>77.35</td>\n",
              "      <td>2051</td>\n",
              "      <td>22.65</td>\n",
              "      <td>28</td>\n",
              "      <td>10</td>\n",
              "      <td>38</td>\n",
              "      <td>...</td>\n",
              "      <td>5015</td>\n",
              "      <td>3271</td>\n",
              "      <td>458</td>\n",
              "      <td>270</td>\n",
              "      <td>41</td>\n",
              "      <td>2708</td>\n",
              "      <td>1614</td>\n",
              "      <td>209</td>\n",
              "      <td>64</td>\n",
              "      <td>22</td>\n",
              "    </tr>\n",
              "    <tr>\n",
              "      <th>1</th>\n",
              "      <td>AC</td>\n",
              "      <td>ASSIS BRASIL</td>\n",
              "      <td>5831</td>\n",
              "      <td>4844</td>\n",
              "      <td>83.07</td>\n",
              "      <td>987</td>\n",
              "      <td>16.93</td>\n",
              "      <td>11</td>\n",
              "      <td>4</td>\n",
              "      <td>15</td>\n",
              "      <td>...</td>\n",
              "      <td>4513</td>\n",
              "      <td>1152</td>\n",
              "      <td>89</td>\n",
              "      <td>75</td>\n",
              "      <td>2</td>\n",
              "      <td>2260</td>\n",
              "      <td>561</td>\n",
              "      <td>41</td>\n",
              "      <td>15</td>\n",
              "      <td>2</td>\n",
              "    </tr>\n",
              "    <tr>\n",
              "      <th>2</th>\n",
              "      <td>AC</td>\n",
              "      <td>BRASILÉIA</td>\n",
              "      <td>16667</td>\n",
              "      <td>13375</td>\n",
              "      <td>80.25</td>\n",
              "      <td>3292</td>\n",
              "      <td>19.75</td>\n",
              "      <td>70</td>\n",
              "      <td>55</td>\n",
              "      <td>125</td>\n",
              "      <td>...</td>\n",
              "      <td>11527</td>\n",
              "      <td>4048</td>\n",
              "      <td>594</td>\n",
              "      <td>424</td>\n",
              "      <td>74</td>\n",
              "      <td>5767</td>\n",
              "      <td>1967</td>\n",
              "      <td>248</td>\n",
              "      <td>92</td>\n",
              "      <td>36</td>\n",
              "    </tr>\n",
              "    <tr>\n",
              "      <th>3</th>\n",
              "      <td>AC</td>\n",
              "      <td>BUJARI</td>\n",
              "      <td>9458</td>\n",
              "      <td>7273</td>\n",
              "      <td>76.90</td>\n",
              "      <td>2185</td>\n",
              "      <td>23.10</td>\n",
              "      <td>16</td>\n",
              "      <td>9</td>\n",
              "      <td>25</td>\n",
              "      <td>...</td>\n",
              "      <td>6675</td>\n",
              "      <td>2322</td>\n",
              "      <td>279</td>\n",
              "      <td>154</td>\n",
              "      <td>28</td>\n",
              "      <td>3509</td>\n",
              "      <td>1106</td>\n",
              "      <td>116</td>\n",
              "      <td>36</td>\n",
              "      <td>19</td>\n",
              "    </tr>\n",
              "    <tr>\n",
              "      <th>4</th>\n",
              "      <td>AC</td>\n",
              "      <td>CAPIXABA</td>\n",
              "      <td>7410</td>\n",
              "      <td>5994</td>\n",
              "      <td>80.89</td>\n",
              "      <td>1416</td>\n",
              "      <td>19.11</td>\n",
              "      <td>61</td>\n",
              "      <td>25</td>\n",
              "      <td>86</td>\n",
              "      <td>...</td>\n",
              "      <td>4774</td>\n",
              "      <td>2114</td>\n",
              "      <td>345</td>\n",
              "      <td>166</td>\n",
              "      <td>11</td>\n",
              "      <td>2539</td>\n",
              "      <td>1030</td>\n",
              "      <td>160</td>\n",
              "      <td>34</td>\n",
              "      <td>6</td>\n",
              "    </tr>\n",
              "  </tbody>\n",
              "</table>\n",
              "<p>5 rows × 211 columns</p>\n",
              "</div>\n",
              "    <div class=\"colab-df-buttons\">\n",
              "\n",
              "  <div class=\"colab-df-container\">\n",
              "    <button class=\"colab-df-convert\" onclick=\"convertToInteractive('df-560ae785-5615-4ba5-93f2-a6a235a641e0')\"\n",
              "            title=\"Convert this dataframe to an interactive table.\"\n",
              "            style=\"display:none;\">\n",
              "\n",
              "  <svg xmlns=\"http://www.w3.org/2000/svg\" height=\"24px\" viewBox=\"0 -960 960 960\">\n",
              "    <path d=\"M120-120v-720h720v720H120Zm60-500h600v-160H180v160Zm220 220h160v-160H400v160Zm0 220h160v-160H400v160ZM180-400h160v-160H180v160Zm440 0h160v-160H620v160ZM180-180h160v-160H180v160Zm440 0h160v-160H620v160Z\"/>\n",
              "  </svg>\n",
              "    </button>\n",
              "\n",
              "  <style>\n",
              "    .colab-df-container {\n",
              "      display:flex;\n",
              "      gap: 12px;\n",
              "    }\n",
              "\n",
              "    .colab-df-convert {\n",
              "      background-color: #E8F0FE;\n",
              "      border: none;\n",
              "      border-radius: 50%;\n",
              "      cursor: pointer;\n",
              "      display: none;\n",
              "      fill: #1967D2;\n",
              "      height: 32px;\n",
              "      padding: 0 0 0 0;\n",
              "      width: 32px;\n",
              "    }\n",
              "\n",
              "    .colab-df-convert:hover {\n",
              "      background-color: #E2EBFA;\n",
              "      box-shadow: 0px 1px 2px rgba(60, 64, 67, 0.3), 0px 1px 3px 1px rgba(60, 64, 67, 0.15);\n",
              "      fill: #174EA6;\n",
              "    }\n",
              "\n",
              "    .colab-df-buttons div {\n",
              "      margin-bottom: 4px;\n",
              "    }\n",
              "\n",
              "    [theme=dark] .colab-df-convert {\n",
              "      background-color: #3B4455;\n",
              "      fill: #D2E3FC;\n",
              "    }\n",
              "\n",
              "    [theme=dark] .colab-df-convert:hover {\n",
              "      background-color: #434B5C;\n",
              "      box-shadow: 0px 1px 3px 1px rgba(0, 0, 0, 0.15);\n",
              "      filter: drop-shadow(0px 1px 2px rgba(0, 0, 0, 0.3));\n",
              "      fill: #FFFFFF;\n",
              "    }\n",
              "  </style>\n",
              "\n",
              "    <script>\n",
              "      const buttonEl =\n",
              "        document.querySelector('#df-560ae785-5615-4ba5-93f2-a6a235a641e0 button.colab-df-convert');\n",
              "      buttonEl.style.display =\n",
              "        google.colab.kernel.accessAllowed ? 'block' : 'none';\n",
              "\n",
              "      async function convertToInteractive(key) {\n",
              "        const element = document.querySelector('#df-560ae785-5615-4ba5-93f2-a6a235a641e0');\n",
              "        const dataTable =\n",
              "          await google.colab.kernel.invokeFunction('convertToInteractive',\n",
              "                                                    [key], {});\n",
              "        if (!dataTable) return;\n",
              "\n",
              "        const docLinkHtml = 'Like what you see? Visit the ' +\n",
              "          '<a target=\"_blank\" href=https://colab.research.google.com/notebooks/data_table.ipynb>data table notebook</a>'\n",
              "          + ' to learn more about interactive tables.';\n",
              "        element.innerHTML = '';\n",
              "        dataTable['output_type'] = 'display_data';\n",
              "        await google.colab.output.renderOutput(dataTable, element);\n",
              "        const docLink = document.createElement('div');\n",
              "        docLink.innerHTML = docLinkHtml;\n",
              "        element.appendChild(docLink);\n",
              "      }\n",
              "    </script>\n",
              "  </div>\n",
              "\n",
              "\n",
              "<div id=\"df-16d5965d-e08a-4424-9462-812fad8d3221\">\n",
              "  <button class=\"colab-df-quickchart\" onclick=\"quickchart('df-16d5965d-e08a-4424-9462-812fad8d3221')\"\n",
              "            title=\"Suggest charts.\"\n",
              "            style=\"display:none;\">\n",
              "\n",
              "<svg xmlns=\"http://www.w3.org/2000/svg\" height=\"24px\"viewBox=\"0 0 24 24\"\n",
              "     width=\"24px\">\n",
              "    <g>\n",
              "        <path d=\"M19 3H5c-1.1 0-2 .9-2 2v14c0 1.1.9 2 2 2h14c1.1 0 2-.9 2-2V5c0-1.1-.9-2-2-2zM9 17H7v-7h2v7zm4 0h-2V7h2v10zm4 0h-2v-4h2v4z\"/>\n",
              "    </g>\n",
              "</svg>\n",
              "  </button>\n",
              "\n",
              "<style>\n",
              "  .colab-df-quickchart {\n",
              "    background-color: #E8F0FE;\n",
              "    border: none;\n",
              "    border-radius: 50%;\n",
              "    cursor: pointer;\n",
              "    display: none;\n",
              "    fill: #1967D2;\n",
              "    height: 32px;\n",
              "    padding: 0 0 0 0;\n",
              "    width: 32px;\n",
              "  }\n",
              "\n",
              "  .colab-df-quickchart:hover {\n",
              "    background-color: #E2EBFA;\n",
              "    box-shadow: 0px 1px 2px rgba(60, 64, 67, 0.3), 0px 1px 3px 1px rgba(60, 64, 67, 0.15);\n",
              "    fill: #174EA6;\n",
              "  }\n",
              "\n",
              "  [theme=dark] .colab-df-quickchart {\n",
              "    background-color: #3B4455;\n",
              "    fill: #D2E3FC;\n",
              "  }\n",
              "\n",
              "  [theme=dark] .colab-df-quickchart:hover {\n",
              "    background-color: #434B5C;\n",
              "    box-shadow: 0px 1px 3px 1px rgba(0, 0, 0, 0.15);\n",
              "    filter: drop-shadow(0px 1px 2px rgba(0, 0, 0, 0.3));\n",
              "    fill: #FFFFFF;\n",
              "  }\n",
              "</style>\n",
              "\n",
              "  <script>\n",
              "    async function quickchart(key) {\n",
              "      const charts = await google.colab.kernel.invokeFunction(\n",
              "          'suggestCharts', [key], {});\n",
              "    }\n",
              "    (() => {\n",
              "      let quickchartButtonEl =\n",
              "        document.querySelector('#df-16d5965d-e08a-4424-9462-812fad8d3221 button');\n",
              "      quickchartButtonEl.style.display =\n",
              "        google.colab.kernel.accessAllowed ? 'block' : 'none';\n",
              "    })();\n",
              "  </script>\n",
              "</div>\n",
              "    </div>\n",
              "  </div>\n"
            ]
          },
          "metadata": {},
          "execution_count": 127
        }
      ]
    },
    {
      "cell_type": "code",
      "source": [
        "estados_civil_percentual_masculino = {\n",
        "    'solteiro_masculino_percentual(%)': ['solteiro_masculino', 'solteiro'],\n",
        "    'casado_masculino_percentual(%)': ['casado_masculino', 'casado'],\n",
        "    'divorciado_masculino_percentual(%)': ['divorciado_masculino', 'divorciado'],\n",
        "    'viuvo_masculino_percentual(%)': ['viuvo_masculino', 'viuvo'],\n",
        "    'separado_judicialmente_masculino_percentual(%)': ['separado_judicialmente_masculino', 'separado_judicialmente']\n",
        "}\n",
        "\n",
        "for estado_percentual, ec in estados_civil_percentual_masculino.items():\n",
        "  df_municipios_1turno[estado_percentual] = (df_municipios_1turno[ec[0]] / df_municipios_1turno[ec[1]] * 100).round(2)"
      ],
      "metadata": {
        "id": "Hofy5lbjmfc0"
      },
      "execution_count": null,
      "outputs": []
    },
    {
      "cell_type": "markdown",
      "metadata": {
        "id": "-c1rXOw6Ne4B"
      },
      "source": [
        "### Estado civil do eleitorado feminino"
      ]
    },
    {
      "cell_type": "code",
      "execution_count": null,
      "metadata": {
        "id": "DbsDjC30Ne4B"
      },
      "outputs": [],
      "source": [
        "# Filtra os dados apenas para o gênero masculino\n",
        "df_turno_1_2020_feminino = df_turno_1_2020[df_turno_1_2020['DS_GENERO'] == 'FEMININO']\n",
        "\n",
        "# Realiza a agregação dos dados por município e grau de escolaridade\n",
        "agregado_feminino = df_turno_1_2020_feminino.groupby(['NM_MUNICIPIO', 'SG_UF', 'DS_ESTADO_CIVIL'])['QT_APTOS'].sum().reset_index()\n",
        "\n",
        "# Realiza o pivot para transformar as colunas de grau de escolaridade em colunas do dataframe\n",
        "pivot_feminino = agregado_feminino.pivot_table(index=['SG_UF', 'NM_MUNICIPIO'], columns='DS_ESTADO_CIVIL', values='QT_APTOS').reset_index()\n",
        "pivot_feminino = pivot_feminino.rename(columns={\n",
        "       'SOLTEIRO':'solteiro_feminino', 'CASADO':'casado_feminino', 'DIVORCIADO':'divorciado_feminino',\n",
        "       'VIÚVO':'viuvo_feminino', 'SEPARADO JUDICIALMENTE':'separado_judicialmente_feminino'})\n",
        "pivot_feminino = pivot_feminino[['NM_MUNICIPIO', 'SG_UF', 'solteiro_feminino', 'casado_feminino',\n",
        "      'divorciado_feminino', 'viuvo_feminino', 'separado_judicialmente_feminino']]\n",
        "# Junta os dados no dataframe df_municipios_1turno\n",
        "df_municipios_1turno = df_municipios_1turno.merge(pivot_feminino, on=['SG_UF', 'NM_MUNICIPIO'], how='left')"
      ]
    },
    {
      "cell_type": "code",
      "execution_count": null,
      "metadata": {
        "id": "Wj4naIyjNe4C"
      },
      "outputs": [],
      "source": [
        "estados_civil_percentual_feminino = {\n",
        "    'solteiro_feminino_percentual(%)': ['solteiro_feminino', 'solteiro'],\n",
        "    'casado_feminino_percentual(%)': ['casado_feminino', 'casado'],\n",
        "    'divorciado_feminino_percentual(%)': ['divorciado_feminino', 'divorciado'],\n",
        "    'viuvo_feminino_percentual(%)': ['viuvo_feminino', 'viuvo'],\n",
        "    'separado_judicialmente_feminino_percentual(%)': ['separado_judicialmente_feminino', 'separado_judicialmente']\n",
        "}\n",
        "\n",
        "for estado_percentual, ec in estados_civil_percentual_feminino.items():\n",
        "  df_municipios_1turno[estado_percentual] = (df_municipios_1turno[ec[0]] / df_municipios_1turno[ec[1]] * 100).round(2)"
      ]
    },
    {
      "cell_type": "markdown",
      "metadata": {
        "id": "ck25QUrONe4C"
      },
      "source": [
        "## Eleitorado masculino solteiro por faixa etária"
      ]
    },
    {
      "cell_type": "code",
      "source": [
        "# Filtra os dados apenas para o gênero masculino e solteiro\n",
        "df_turno_1_2020_masculino = df_turno_1_2020[(df_turno_1_2020['DS_GENERO'] == 'MASCULINO') & (df_turno_1_2020['DS_ESTADO_CIVIL'] == 'SOLTEIRO')].groupby(['SG_UF', 'NM_MUNICIPIO', 'DS_FAIXA_ETARIA',])['QT_APTOS'].sum().reset_index()\n",
        "\n",
        "# Realiza o pivot para transformar as colunas de grau de escolaridade em colunas do dataframe\n",
        "pivot_masculino = df_turno_1_2020_masculino.pivot_table(index=['SG_UF', 'NM_MUNICIPIO'], columns='DS_FAIXA_ETARIA', values='QT_APTOS').reset_index()\n",
        "pivot_masculino = pivot_masculino.fillna(0)\n",
        "pivot_masculino = pivot_masculino.rename(columns={\n",
        "       '16 anos':'16_anos_solteiro_masculino', '17 anos':'17_anos_solteiro_masculino', '18 anos':'18_anos_solteiro_masculino',\n",
        "       '19 anos':'19_anos_solteiro_masculino', '20 anos':'20_anos_solteiro_masculino', '21 a 24 anos':'21_24_anos_solteiro_masculino',\n",
        "       '25 a 29 anos':'25_29_anos_solteiro_masculino', '30 a 34 anos':'30_34_anos_solteiro_masculino', '35 a 39 anos':'35_39_anos_solteiro_masculino',\n",
        "       '40 a 44 anos':'40_44_anos_solteiro_masculino', '45 a 49 anos':'45_49_anos_solteiro_masculino',\n",
        "       '50 a 54 anos':'50_54_anos_solteiro_masculino', '55 a 59 anos':'55_59_anos_solteiro_masculino',\n",
        "       '60 a 64 anos':'60_64_anos_solteiro_masculino', '65 a 69 anos':'65_69_anos_solteiro_masculino',\n",
        "       '70 a 74 anos':'70_74_anos_solteiro_masculino', '75 a 79 anos':'75_79_anos_solteiro_masculino',\n",
        "       '80 a 84 anos':'80_84_anos_solteiro_masculino', '85 a 89 anos':'85_89_anos_solteiro_masculino',\n",
        "       '90 a 94 anos':'90_94_anos_solteiro_masculino', '95 a 99 anos':'95_99_anos_solteiro_masculino',\n",
        "       '100 anos ou mais':'100_anos_solteiro_masculino',})\n",
        "\n",
        "pivot_masculino = pivot_masculino[['SG_UF', 'NM_MUNICIPIO',\n",
        "       '16_anos_solteiro_masculino', '17_anos_solteiro_masculino',\n",
        "       '18_anos_solteiro_masculino', '19_anos_solteiro_masculino',\n",
        "       '20_anos_solteiro_masculino', '21_24_anos_solteiro_masculino',\n",
        "       '25_29_anos_solteiro_masculino', '30_34_anos_solteiro_masculino',\n",
        "       '35_39_anos_solteiro_masculino', '40_44_anos_solteiro_masculino',\n",
        "       '45_49_anos_solteiro_masculino', '50_54_anos_solteiro_masculino',\n",
        "       '55_59_anos_solteiro_masculino', '60_64_anos_solteiro_masculino',\n",
        "       '65_69_anos_solteiro_masculino', '70_74_anos_solteiro_masculino',\n",
        "       '75_79_anos_solteiro_masculino', '80_84_anos_solteiro_masculino',\n",
        "       '85_89_anos_solteiro_masculino', '90_94_anos_solteiro_masculino',\n",
        "       '95_99_anos_solteiro_masculino', '100_anos_solteiro_masculino',]]\n",
        "\n",
        "for i in pivot_masculino.columns:\n",
        "  if ((i != 'SG_UF') & (i != 'NM_MUNICIPIO')):\n",
        "    pivot_masculino[i] = pivot_masculino[i].astype(int)\n",
        "\n",
        "df_municipios_1turno = df_municipios_1turno.merge(pivot_masculino, on=['SG_UF', 'NM_MUNICIPIO'], how='left')"
      ],
      "metadata": {
        "id": "Tm7TG3E8tREa"
      },
      "execution_count": null,
      "outputs": []
    },
    {
      "cell_type": "code",
      "source": [
        "estados_civil_percentual_masculino = {\n",
        "    '16_anos_solteiro_masculino_percentual(%)':['16_anos_solteiro_masculino','16_anos'],\n",
        "    '17_anos_solteiro_masculino_percentual(%)':['17_anos_solteiro_masculino','17_anos'],\n",
        "    '18_anos_solteiro_masculino_percentual(%)':['18_anos_solteiro_masculino','18_anos'],\n",
        "    '19_anos_solteiro_masculino_percentual(%)':['19_anos_solteiro_masculino','19_anos'],\n",
        "    '20_anos_solteiro_masculino_percentual(%)':['20_anos_solteiro_masculino','20_anos'],\n",
        "    '21_24_anos_solteiro_masculino_percentual(%)':['21_24_anos_solteiro_masculino','21_24_anos'],\n",
        "    '25_29_anos_solteiro_masculino_percentual(%)':['25_29_anos_solteiro_masculino','25_29_anos'],\n",
        "    '30_34_anos_solteiro_masculino_percentual(%)':['30_34_anos_solteiro_masculino','30_34_anos'],\n",
        "    '35_39_anos_solteiro_masculino_percentual(%)':['35_39_anos_solteiro_masculino','35_39_anos'],\n",
        "    '40_44_anos_solteiro_masculino_percentual(%)':['40_44_anos_solteiro_masculino','40_44_anos'],\n",
        "    '45_49_anos_solteiro_masculino_percentual(%)':['45_49_anos_solteiro_masculino','45_49_anos'],\n",
        "    '50_54_anos_solteiro_masculino_percentual(%)':['50_54_anos_solteiro_masculino','50_54_anos'],\n",
        "    '55_59_anos_solteiro_masculino_percentual(%)':['55_59_anos_solteiro_masculino','55_59_anos'],\n",
        "    '60_64_anos_solteiro_masculino_percentual(%)':['60_64_anos_solteiro_masculino','60_64_anos'],\n",
        "    '65_69_anos_solteiro_masculino_percentual(%)':['65_69_anos_solteiro_masculino','65_69_anos'],\n",
        "    '70_74_anos_solteiro_masculino_percentual(%)':['70_74_anos_solteiro_masculino','70_74_anos'],\n",
        "    '75_79_anos_solteiro_masculino_percentual(%)':['75_79_anos_solteiro_masculino','75_79_anos'],\n",
        "    '80_84_anos_solteiro_masculino_percentual(%)':['80_84_anos_solteiro_masculino','80_84_anos'],\n",
        "    '85_89_anos_solteiro_masculino_percentual(%)':['85_89_anos_solteiro_masculino','85_89_anos'],\n",
        "    '90_94_anos_solteiro_masculino_percentual(%)':['90_94_anos_solteiro_masculino','90_94_anos'],\n",
        "    '95_99_anos_solteiro_masculino_percentual(%)':['95_99_anos_solteiro_masculino','95_99_anos'],\n",
        "    '100_anos_solteiro_masculino_percentual(%)':['100_anos_solteiro_masculino','100_anos'],\n",
        "}\n",
        "\n",
        "for estado_percentual, ec in estados_civil_percentual_masculino.items():\n",
        "  df_municipios_1turno[estado_percentual] = (df_municipios_1turno[ec[0]] / df_municipios_1turno[ec[1]] * 100).round(2)\n",
        "\n",
        "del estados_civil_percentual_masculino"
      ],
      "metadata": {
        "id": "LVRSiJ6vFm2G"
      },
      "execution_count": null,
      "outputs": []
    },
    {
      "cell_type": "markdown",
      "metadata": {
        "id": "EJ7JESX-Ne4D"
      },
      "source": [
        "## Eleitorado masculino casado por faixa etária"
      ]
    },
    {
      "cell_type": "code",
      "execution_count": null,
      "metadata": {
        "id": "bObs5PDENe4E"
      },
      "outputs": [],
      "source": [
        "# Filtra os dados apenas para o gênero masculino e casado\n",
        "df_turno_1_2020_masculino = df_turno_1_2020[(df_turno_1_2020['DS_GENERO'] == 'MASCULINO') & (df_turno_1_2020['DS_ESTADO_CIVIL'] == 'CASADO')].groupby(['SG_UF', 'NM_MUNICIPIO', 'DS_FAIXA_ETARIA',])['QT_APTOS'].sum().reset_index()\n",
        "\n",
        "# Realiza o pivot para transformar as colunas de grau de escolaridade em colunas do dataframe\n",
        "pivot_masculino = df_turno_1_2020_masculino.pivot_table(index=['SG_UF', 'NM_MUNICIPIO'], columns='DS_FAIXA_ETARIA', values='QT_APTOS').reset_index()\n",
        "pivot_masculino = pivot_masculino.fillna(0)\n",
        "pivot_masculino = pivot_masculino.rename(columns={\n",
        "       '16 anos':'16_anos_casado_masculino', '17 anos':'17_anos_casado_masculino', '18 anos':'18_anos_casado_masculino',\n",
        "       '19 anos':'19_anos_casado_masculino', '20 anos':'20_anos_casado_masculino', '21 a 24 anos':'21_24_anos_casado_masculino',\n",
        "       '25 a 29 anos':'25_29_anos_casado_masculino', '30 a 34 anos':'30_34_anos_casado_masculino', '35 a 39 anos':'35_39_anos_casado_masculino',\n",
        "       '40 a 44 anos':'40_44_anos_casado_masculino', '45 a 49 anos':'45_49_anos_casado_masculino',\n",
        "       '50 a 54 anos':'50_54_anos_casado_masculino', '55 a 59 anos':'55_59_anos_casado_masculino',\n",
        "       '60 a 64 anos':'60_64_anos_casado_masculino', '65 a 69 anos':'65_69_anos_casado_masculino',\n",
        "       '70 a 74 anos':'70_74_anos_casado_masculino', '75 a 79 anos':'75_79_anos_casado_masculino',\n",
        "       '80 a 84 anos':'80_84_anos_casado_masculino', '85 a 89 anos':'85_89_anos_casado_masculino',\n",
        "       '90 a 94 anos':'90_94_anos_casado_masculino', '95 a 99 anos':'95_99_anos_casado_masculino',\n",
        "       '100 anos ou mais':'100_anos_casado_masculino',})\n",
        "\n",
        "pivot_masculino = pivot_masculino[['SG_UF', 'NM_MUNICIPIO',\n",
        "       '16_anos_casado_masculino', '17_anos_casado_masculino',\n",
        "       '18_anos_casado_masculino', '19_anos_casado_masculino',\n",
        "       '20_anos_casado_masculino', '21_24_anos_casado_masculino',\n",
        "       '25_29_anos_casado_masculino', '30_34_anos_casado_masculino',\n",
        "       '35_39_anos_casado_masculino', '40_44_anos_casado_masculino',\n",
        "       '45_49_anos_casado_masculino', '50_54_anos_casado_masculino',\n",
        "       '55_59_anos_casado_masculino', '60_64_anos_casado_masculino',\n",
        "       '65_69_anos_casado_masculino', '70_74_anos_casado_masculino',\n",
        "       '75_79_anos_casado_masculino', '80_84_anos_casado_masculino',\n",
        "       '85_89_anos_casado_masculino', '90_94_anos_casado_masculino',\n",
        "       '95_99_anos_casado_masculino', '100_anos_casado_masculino',]]\n",
        "\n",
        "for i in pivot_masculino.columns:\n",
        "  if ((i != 'SG_UF') & (i != 'NM_MUNICIPIO')):\n",
        "    pivot_masculino[i] = pivot_masculino[i].astype(int)\n",
        "\n",
        "df_municipios_1turno = df_municipios_1turno.merge(pivot_masculino, on=['SG_UF', 'NM_MUNICIPIO'], how='left')"
      ]
    },
    {
      "cell_type": "code",
      "execution_count": null,
      "metadata": {
        "id": "OJUyoLrrNe4E",
        "colab": {
          "base_uri": "https://localhost:8080/"
        },
        "outputId": "aed14d39-8974-4f91-8350-6e7b4ae023f2"
      },
      "outputs": [
        {
          "output_type": "stream",
          "name": "stderr",
          "text": [
            "<ipython-input-134-47c788cdf938>:27: PerformanceWarning: DataFrame is highly fragmented.  This is usually the result of calling `frame.insert` many times, which has poor performance.  Consider joining all columns at once using pd.concat(axis=1) instead. To get a de-fragmented frame, use `newframe = frame.copy()`\n",
            "  df_municipios_1turno[estado_percentual] = (df_municipios_1turno[ec[0]] / df_municipios_1turno[ec[1]] * 100).round(2)\n",
            "<ipython-input-134-47c788cdf938>:27: PerformanceWarning: DataFrame is highly fragmented.  This is usually the result of calling `frame.insert` many times, which has poor performance.  Consider joining all columns at once using pd.concat(axis=1) instead. To get a de-fragmented frame, use `newframe = frame.copy()`\n",
            "  df_municipios_1turno[estado_percentual] = (df_municipios_1turno[ec[0]] / df_municipios_1turno[ec[1]] * 100).round(2)\n",
            "<ipython-input-134-47c788cdf938>:27: PerformanceWarning: DataFrame is highly fragmented.  This is usually the result of calling `frame.insert` many times, which has poor performance.  Consider joining all columns at once using pd.concat(axis=1) instead. To get a de-fragmented frame, use `newframe = frame.copy()`\n",
            "  df_municipios_1turno[estado_percentual] = (df_municipios_1turno[ec[0]] / df_municipios_1turno[ec[1]] * 100).round(2)\n",
            "<ipython-input-134-47c788cdf938>:27: PerformanceWarning: DataFrame is highly fragmented.  This is usually the result of calling `frame.insert` many times, which has poor performance.  Consider joining all columns at once using pd.concat(axis=1) instead. To get a de-fragmented frame, use `newframe = frame.copy()`\n",
            "  df_municipios_1turno[estado_percentual] = (df_municipios_1turno[ec[0]] / df_municipios_1turno[ec[1]] * 100).round(2)\n",
            "<ipython-input-134-47c788cdf938>:27: PerformanceWarning: DataFrame is highly fragmented.  This is usually the result of calling `frame.insert` many times, which has poor performance.  Consider joining all columns at once using pd.concat(axis=1) instead. To get a de-fragmented frame, use `newframe = frame.copy()`\n",
            "  df_municipios_1turno[estado_percentual] = (df_municipios_1turno[ec[0]] / df_municipios_1turno[ec[1]] * 100).round(2)\n",
            "<ipython-input-134-47c788cdf938>:27: PerformanceWarning: DataFrame is highly fragmented.  This is usually the result of calling `frame.insert` many times, which has poor performance.  Consider joining all columns at once using pd.concat(axis=1) instead. To get a de-fragmented frame, use `newframe = frame.copy()`\n",
            "  df_municipios_1turno[estado_percentual] = (df_municipios_1turno[ec[0]] / df_municipios_1turno[ec[1]] * 100).round(2)\n",
            "<ipython-input-134-47c788cdf938>:27: PerformanceWarning: DataFrame is highly fragmented.  This is usually the result of calling `frame.insert` many times, which has poor performance.  Consider joining all columns at once using pd.concat(axis=1) instead. To get a de-fragmented frame, use `newframe = frame.copy()`\n",
            "  df_municipios_1turno[estado_percentual] = (df_municipios_1turno[ec[0]] / df_municipios_1turno[ec[1]] * 100).round(2)\n",
            "<ipython-input-134-47c788cdf938>:27: PerformanceWarning: DataFrame is highly fragmented.  This is usually the result of calling `frame.insert` many times, which has poor performance.  Consider joining all columns at once using pd.concat(axis=1) instead. To get a de-fragmented frame, use `newframe = frame.copy()`\n",
            "  df_municipios_1turno[estado_percentual] = (df_municipios_1turno[ec[0]] / df_municipios_1turno[ec[1]] * 100).round(2)\n",
            "<ipython-input-134-47c788cdf938>:27: PerformanceWarning: DataFrame is highly fragmented.  This is usually the result of calling `frame.insert` many times, which has poor performance.  Consider joining all columns at once using pd.concat(axis=1) instead. To get a de-fragmented frame, use `newframe = frame.copy()`\n",
            "  df_municipios_1turno[estado_percentual] = (df_municipios_1turno[ec[0]] / df_municipios_1turno[ec[1]] * 100).round(2)\n"
          ]
        }
      ],
      "source": [
        "estados_civil_percentual_masculino = {\n",
        "    '16_anos_casado_masculino_percentual(%)':['16_anos_casado_masculino','16_anos'],\n",
        "    '17_anos_casado_masculino_percentual(%)':['17_anos_casado_masculino','17_anos'],\n",
        "    '18_anos_casado_masculino_percentual(%)':['18_anos_casado_masculino','18_anos'],\n",
        "    '19_anos_casado_masculino_percentual(%)':['19_anos_casado_masculino','19_anos'],\n",
        "    '20_anos_casado_masculino_percentual(%)':['20_anos_casado_masculino','20_anos'],\n",
        "    '21_24_anos_casado_masculino_percentual(%)':['21_24_anos_casado_masculino','21_24_anos'],\n",
        "    '25_29_anos_casado_masculino_percentual(%)':['25_29_anos_casado_masculino','25_29_anos'],\n",
        "    '30_34_anos_casado_masculino_percentual(%)':['30_34_anos_casado_masculino','30_34_anos'],\n",
        "    '35_39_anos_casado_masculino_percentual(%)':['35_39_anos_casado_masculino','35_39_anos'],\n",
        "    '40_44_anos_casado_masculino_percentual(%)':['40_44_anos_casado_masculino','40_44_anos'],\n",
        "    '45_49_anos_casado_masculino_percentual(%)':['45_49_anos_casado_masculino','45_49_anos'],\n",
        "    '50_54_anos_casado_masculino_percentual(%)':['50_54_anos_casado_masculino','50_54_anos'],\n",
        "    '55_59_anos_casado_masculino_percentual(%)':['55_59_anos_casado_masculino','55_59_anos'],\n",
        "    '60_64_anos_casado_masculino_percentual(%)':['60_64_anos_casado_masculino','60_64_anos'],\n",
        "    '65_69_anos_casado_masculino_percentual(%)':['65_69_anos_casado_masculino','65_69_anos'],\n",
        "    '70_74_anos_casado_masculino_percentual(%)':['70_74_anos_casado_masculino','70_74_anos'],\n",
        "    '75_79_anos_casado_masculino_percentual(%)':['75_79_anos_casado_masculino','75_79_anos'],\n",
        "    '80_84_anos_casado_masculino_percentual(%)':['80_84_anos_casado_masculino','80_84_anos'],\n",
        "    '85_89_anos_casado_masculino_percentual(%)':['85_89_anos_casado_masculino','85_89_anos'],\n",
        "    '90_94_anos_casado_masculino_percentual(%)':['90_94_anos_casado_masculino','90_94_anos'],\n",
        "    '95_99_anos_casado_masculino_percentual(%)':['95_99_anos_casado_masculino','95_99_anos'],\n",
        "    '100_anos_casado_masculino_percentual(%)':['100_anos_casado_masculino','100_anos'],\n",
        "}\n",
        "\n",
        "for estado_percentual, ec in estados_civil_percentual_masculino.items():\n",
        "  df_municipios_1turno[estado_percentual] = (df_municipios_1turno[ec[0]] / df_municipios_1turno[ec[1]] * 100).round(2)"
      ]
    },
    {
      "cell_type": "markdown",
      "metadata": {
        "id": "Ii3jYVKgNe4F"
      },
      "source": [
        "## Eleitorado masculino divorciado por faixa etária"
      ]
    },
    {
      "cell_type": "code",
      "source": [
        "# Filtra os dados apenas para o gênero masculino e casado\n",
        "df_turno_1_2020_masculino = df_turno_1_2020[(df_turno_1_2020['DS_GENERO'] == 'MASCULINO') & (df_turno_1_2020['DS_ESTADO_CIVIL'] == 'DIVORCIADO')].groupby(['SG_UF', 'NM_MUNICIPIO', 'DS_FAIXA_ETARIA',])['QT_APTOS'].sum().reset_index()\n",
        "\n",
        "# Realiza o pivot para transformar as colunas de grau de escolaridade em colunas do dataframe\n",
        "pivot_masculino = df_turno_1_2020_masculino.pivot_table(index=['SG_UF', 'NM_MUNICIPIO'], columns='DS_FAIXA_ETARIA', values='QT_APTOS').reset_index()\n",
        "pivot_masculino = pivot_masculino.fillna(0)\n",
        "pivot_masculino = pivot_masculino.rename(columns={\n",
        "       '16 anos':'16_anos_divorciado_masculino', '17 anos':'17_anos_divorciado_masculino', '18 anos':'18_anos_divorciado_masculino',\n",
        "       '19 anos':'19_anos_divorciado_masculino', '20 anos':'20_anos_divorciado_masculino', '21 a 24 anos':'21_24_anos_divorciado_masculino',\n",
        "       '25 a 29 anos':'25_29_anos_divorciado_masculino', '30 a 34 anos':'30_34_anos_divorciado_masculino', '35 a 39 anos':'35_39_anos_divorciado_masculino',\n",
        "       '40 a 44 anos':'40_44_anos_divorciado_masculino', '45 a 49 anos':'45_49_anos_divorciado_masculino',\n",
        "       '50 a 54 anos':'50_54_anos_divorciado_masculino', '55 a 59 anos':'55_59_anos_divorciado_masculino',\n",
        "       '60 a 64 anos':'60_64_anos_divorciado_masculino', '65 a 69 anos':'65_69_anos_divorciado_masculino',\n",
        "       '70 a 74 anos':'70_74_anos_divorciado_masculino', '75 a 79 anos':'75_79_anos_divorciado_masculino',\n",
        "       '80 a 84 anos':'80_84_anos_divorciado_masculino', '85 a 89 anos':'85_89_anos_divorciado_masculino',\n",
        "       '90 a 94 anos':'90_94_anos_divorciado_masculino', '95 a 99 anos':'95_99_anos_divorciado_masculino',\n",
        "       '100 anos ou mais':'100_anos_divorciado_masculino',})\n",
        "\n",
        "pivot_masculino = pivot_masculino[['SG_UF', 'NM_MUNICIPIO',\n",
        "       '16_anos_divorciado_masculino', '17_anos_divorciado_masculino',\n",
        "       '18_anos_divorciado_masculino', '19_anos_divorciado_masculino',\n",
        "       '20_anos_divorciado_masculino', '21_24_anos_divorciado_masculino',\n",
        "       '25_29_anos_divorciado_masculino', '30_34_anos_divorciado_masculino',\n",
        "       '35_39_anos_divorciado_masculino', '40_44_anos_divorciado_masculino',\n",
        "       '45_49_anos_divorciado_masculino', '50_54_anos_divorciado_masculino',\n",
        "       '55_59_anos_divorciado_masculino', '60_64_anos_divorciado_masculino',\n",
        "       '65_69_anos_divorciado_masculino', '70_74_anos_divorciado_masculino',\n",
        "       '75_79_anos_divorciado_masculino', '80_84_anos_divorciado_masculino',\n",
        "       '85_89_anos_divorciado_masculino', '90_94_anos_divorciado_masculino',\n",
        "       '95_99_anos_divorciado_masculino', '100_anos_divorciado_masculino',]]\n",
        "\n",
        "for i in pivot_masculino.columns:\n",
        "  if ((i != 'SG_UF') & (i != 'NM_MUNICIPIO')):\n",
        "    pivot_masculino[i] = pivot_masculino[i].astype(int)\n",
        "\n",
        "df_municipios_1turno = df_municipios_1turno.merge(pivot_masculino, on=['SG_UF', 'NM_MUNICIPIO'], how='left')"
      ],
      "metadata": {
        "id": "k_Vz48b2LSmQ"
      },
      "execution_count": null,
      "outputs": []
    },
    {
      "cell_type": "code",
      "execution_count": null,
      "metadata": {
        "id": "LDwl6TheNe4F",
        "colab": {
          "base_uri": "https://localhost:8080/"
        },
        "outputId": "3a64cfa4-de11-41cc-e463-246bdc40389c"
      },
      "outputs": [
        {
          "output_type": "stream",
          "name": "stderr",
          "text": [
            "<ipython-input-136-6ea82c9634d9>:27: PerformanceWarning: DataFrame is highly fragmented.  This is usually the result of calling `frame.insert` many times, which has poor performance.  Consider joining all columns at once using pd.concat(axis=1) instead. To get a de-fragmented frame, use `newframe = frame.copy()`\n",
            "  df_municipios_1turno[estado_percentual] = (df_municipios_1turno[ec[0]] / df_municipios_1turno[ec[1]] * 100).round(2)\n",
            "<ipython-input-136-6ea82c9634d9>:27: PerformanceWarning: DataFrame is highly fragmented.  This is usually the result of calling `frame.insert` many times, which has poor performance.  Consider joining all columns at once using pd.concat(axis=1) instead. To get a de-fragmented frame, use `newframe = frame.copy()`\n",
            "  df_municipios_1turno[estado_percentual] = (df_municipios_1turno[ec[0]] / df_municipios_1turno[ec[1]] * 100).round(2)\n",
            "<ipython-input-136-6ea82c9634d9>:27: PerformanceWarning: DataFrame is highly fragmented.  This is usually the result of calling `frame.insert` many times, which has poor performance.  Consider joining all columns at once using pd.concat(axis=1) instead. To get a de-fragmented frame, use `newframe = frame.copy()`\n",
            "  df_municipios_1turno[estado_percentual] = (df_municipios_1turno[ec[0]] / df_municipios_1turno[ec[1]] * 100).round(2)\n",
            "<ipython-input-136-6ea82c9634d9>:27: PerformanceWarning: DataFrame is highly fragmented.  This is usually the result of calling `frame.insert` many times, which has poor performance.  Consider joining all columns at once using pd.concat(axis=1) instead. To get a de-fragmented frame, use `newframe = frame.copy()`\n",
            "  df_municipios_1turno[estado_percentual] = (df_municipios_1turno[ec[0]] / df_municipios_1turno[ec[1]] * 100).round(2)\n",
            "<ipython-input-136-6ea82c9634d9>:27: PerformanceWarning: DataFrame is highly fragmented.  This is usually the result of calling `frame.insert` many times, which has poor performance.  Consider joining all columns at once using pd.concat(axis=1) instead. To get a de-fragmented frame, use `newframe = frame.copy()`\n",
            "  df_municipios_1turno[estado_percentual] = (df_municipios_1turno[ec[0]] / df_municipios_1turno[ec[1]] * 100).round(2)\n",
            "<ipython-input-136-6ea82c9634d9>:27: PerformanceWarning: DataFrame is highly fragmented.  This is usually the result of calling `frame.insert` many times, which has poor performance.  Consider joining all columns at once using pd.concat(axis=1) instead. To get a de-fragmented frame, use `newframe = frame.copy()`\n",
            "  df_municipios_1turno[estado_percentual] = (df_municipios_1turno[ec[0]] / df_municipios_1turno[ec[1]] * 100).round(2)\n",
            "<ipython-input-136-6ea82c9634d9>:27: PerformanceWarning: DataFrame is highly fragmented.  This is usually the result of calling `frame.insert` many times, which has poor performance.  Consider joining all columns at once using pd.concat(axis=1) instead. To get a de-fragmented frame, use `newframe = frame.copy()`\n",
            "  df_municipios_1turno[estado_percentual] = (df_municipios_1turno[ec[0]] / df_municipios_1turno[ec[1]] * 100).round(2)\n",
            "<ipython-input-136-6ea82c9634d9>:27: PerformanceWarning: DataFrame is highly fragmented.  This is usually the result of calling `frame.insert` many times, which has poor performance.  Consider joining all columns at once using pd.concat(axis=1) instead. To get a de-fragmented frame, use `newframe = frame.copy()`\n",
            "  df_municipios_1turno[estado_percentual] = (df_municipios_1turno[ec[0]] / df_municipios_1turno[ec[1]] * 100).round(2)\n",
            "<ipython-input-136-6ea82c9634d9>:27: PerformanceWarning: DataFrame is highly fragmented.  This is usually the result of calling `frame.insert` many times, which has poor performance.  Consider joining all columns at once using pd.concat(axis=1) instead. To get a de-fragmented frame, use `newframe = frame.copy()`\n",
            "  df_municipios_1turno[estado_percentual] = (df_municipios_1turno[ec[0]] / df_municipios_1turno[ec[1]] * 100).round(2)\n",
            "<ipython-input-136-6ea82c9634d9>:27: PerformanceWarning: DataFrame is highly fragmented.  This is usually the result of calling `frame.insert` many times, which has poor performance.  Consider joining all columns at once using pd.concat(axis=1) instead. To get a de-fragmented frame, use `newframe = frame.copy()`\n",
            "  df_municipios_1turno[estado_percentual] = (df_municipios_1turno[ec[0]] / df_municipios_1turno[ec[1]] * 100).round(2)\n",
            "<ipython-input-136-6ea82c9634d9>:27: PerformanceWarning: DataFrame is highly fragmented.  This is usually the result of calling `frame.insert` many times, which has poor performance.  Consider joining all columns at once using pd.concat(axis=1) instead. To get a de-fragmented frame, use `newframe = frame.copy()`\n",
            "  df_municipios_1turno[estado_percentual] = (df_municipios_1turno[ec[0]] / df_municipios_1turno[ec[1]] * 100).round(2)\n",
            "<ipython-input-136-6ea82c9634d9>:27: PerformanceWarning: DataFrame is highly fragmented.  This is usually the result of calling `frame.insert` many times, which has poor performance.  Consider joining all columns at once using pd.concat(axis=1) instead. To get a de-fragmented frame, use `newframe = frame.copy()`\n",
            "  df_municipios_1turno[estado_percentual] = (df_municipios_1turno[ec[0]] / df_municipios_1turno[ec[1]] * 100).round(2)\n",
            "<ipython-input-136-6ea82c9634d9>:27: PerformanceWarning: DataFrame is highly fragmented.  This is usually the result of calling `frame.insert` many times, which has poor performance.  Consider joining all columns at once using pd.concat(axis=1) instead. To get a de-fragmented frame, use `newframe = frame.copy()`\n",
            "  df_municipios_1turno[estado_percentual] = (df_municipios_1turno[ec[0]] / df_municipios_1turno[ec[1]] * 100).round(2)\n",
            "<ipython-input-136-6ea82c9634d9>:27: PerformanceWarning: DataFrame is highly fragmented.  This is usually the result of calling `frame.insert` many times, which has poor performance.  Consider joining all columns at once using pd.concat(axis=1) instead. To get a de-fragmented frame, use `newframe = frame.copy()`\n",
            "  df_municipios_1turno[estado_percentual] = (df_municipios_1turno[ec[0]] / df_municipios_1turno[ec[1]] * 100).round(2)\n",
            "<ipython-input-136-6ea82c9634d9>:27: PerformanceWarning: DataFrame is highly fragmented.  This is usually the result of calling `frame.insert` many times, which has poor performance.  Consider joining all columns at once using pd.concat(axis=1) instead. To get a de-fragmented frame, use `newframe = frame.copy()`\n",
            "  df_municipios_1turno[estado_percentual] = (df_municipios_1turno[ec[0]] / df_municipios_1turno[ec[1]] * 100).round(2)\n",
            "<ipython-input-136-6ea82c9634d9>:27: PerformanceWarning: DataFrame is highly fragmented.  This is usually the result of calling `frame.insert` many times, which has poor performance.  Consider joining all columns at once using pd.concat(axis=1) instead. To get a de-fragmented frame, use `newframe = frame.copy()`\n",
            "  df_municipios_1turno[estado_percentual] = (df_municipios_1turno[ec[0]] / df_municipios_1turno[ec[1]] * 100).round(2)\n",
            "<ipython-input-136-6ea82c9634d9>:27: PerformanceWarning: DataFrame is highly fragmented.  This is usually the result of calling `frame.insert` many times, which has poor performance.  Consider joining all columns at once using pd.concat(axis=1) instead. To get a de-fragmented frame, use `newframe = frame.copy()`\n",
            "  df_municipios_1turno[estado_percentual] = (df_municipios_1turno[ec[0]] / df_municipios_1turno[ec[1]] * 100).round(2)\n",
            "<ipython-input-136-6ea82c9634d9>:27: PerformanceWarning: DataFrame is highly fragmented.  This is usually the result of calling `frame.insert` many times, which has poor performance.  Consider joining all columns at once using pd.concat(axis=1) instead. To get a de-fragmented frame, use `newframe = frame.copy()`\n",
            "  df_municipios_1turno[estado_percentual] = (df_municipios_1turno[ec[0]] / df_municipios_1turno[ec[1]] * 100).round(2)\n",
            "<ipython-input-136-6ea82c9634d9>:27: PerformanceWarning: DataFrame is highly fragmented.  This is usually the result of calling `frame.insert` many times, which has poor performance.  Consider joining all columns at once using pd.concat(axis=1) instead. To get a de-fragmented frame, use `newframe = frame.copy()`\n",
            "  df_municipios_1turno[estado_percentual] = (df_municipios_1turno[ec[0]] / df_municipios_1turno[ec[1]] * 100).round(2)\n",
            "<ipython-input-136-6ea82c9634d9>:27: PerformanceWarning: DataFrame is highly fragmented.  This is usually the result of calling `frame.insert` many times, which has poor performance.  Consider joining all columns at once using pd.concat(axis=1) instead. To get a de-fragmented frame, use `newframe = frame.copy()`\n",
            "  df_municipios_1turno[estado_percentual] = (df_municipios_1turno[ec[0]] / df_municipios_1turno[ec[1]] * 100).round(2)\n",
            "<ipython-input-136-6ea82c9634d9>:27: PerformanceWarning: DataFrame is highly fragmented.  This is usually the result of calling `frame.insert` many times, which has poor performance.  Consider joining all columns at once using pd.concat(axis=1) instead. To get a de-fragmented frame, use `newframe = frame.copy()`\n",
            "  df_municipios_1turno[estado_percentual] = (df_municipios_1turno[ec[0]] / df_municipios_1turno[ec[1]] * 100).round(2)\n",
            "<ipython-input-136-6ea82c9634d9>:27: PerformanceWarning: DataFrame is highly fragmented.  This is usually the result of calling `frame.insert` many times, which has poor performance.  Consider joining all columns at once using pd.concat(axis=1) instead. To get a de-fragmented frame, use `newframe = frame.copy()`\n",
            "  df_municipios_1turno[estado_percentual] = (df_municipios_1turno[ec[0]] / df_municipios_1turno[ec[1]] * 100).round(2)\n"
          ]
        }
      ],
      "source": [
        "estados_civil_percentual_masculino = {\n",
        "    '16_anos_divorciado_masculino_percentual(%)':['16_anos_divorciado_masculino','16_anos'],\n",
        "    '17_anos_divorciado_masculino_percentual(%)':['17_anos_divorciado_masculino','17_anos'],\n",
        "    '18_anos_divorciado_masculino_percentual(%)':['18_anos_divorciado_masculino','18_anos'],\n",
        "    '19_anos_divorciado_masculino_percentual(%)':['19_anos_divorciado_masculino','19_anos'],\n",
        "    '20_anos_divorciado_masculino_percentual(%)':['20_anos_divorciado_masculino','20_anos'],\n",
        "    '21_24_anos_divorciado_masculino_percentual(%)':['21_24_anos_divorciado_masculino','21_24_anos'],\n",
        "    '25_29_anos_divorciado_masculino_percentual(%)':['25_29_anos_divorciado_masculino','25_29_anos'],\n",
        "    '30_34_anos_divorciado_masculino_percentual(%)':['30_34_anos_divorciado_masculino','30_34_anos'],\n",
        "    '35_39_anos_divorciado_masculino_percentual(%)':['35_39_anos_divorciado_masculino','35_39_anos'],\n",
        "    '40_44_anos_divorciado_masculino_percentual(%)':['40_44_anos_divorciado_masculino','40_44_anos'],\n",
        "    '45_49_anos_divorciado_masculino_percentual(%)':['45_49_anos_divorciado_masculino','45_49_anos'],\n",
        "    '50_54_anos_divorciado_masculino_percentual(%)':['50_54_anos_divorciado_masculino','50_54_anos'],\n",
        "    '55_59_anos_divorciado_masculino_percentual(%)':['55_59_anos_divorciado_masculino','55_59_anos'],\n",
        "    '60_64_anos_divorciado_masculino_percentual(%)':['60_64_anos_divorciado_masculino','60_64_anos'],\n",
        "    '65_69_anos_divorciado_masculino_percentual(%)':['65_69_anos_divorciado_masculino','65_69_anos'],\n",
        "    '70_74_anos_divorciado_masculino_percentual(%)':['70_74_anos_divorciado_masculino','70_74_anos'],\n",
        "    '75_79_anos_divorciado_masculino_percentual(%)':['75_79_anos_divorciado_masculino','75_79_anos'],\n",
        "    '80_84_anos_divorciado_masculino_percentual(%)':['80_84_anos_divorciado_masculino','80_84_anos'],\n",
        "    '85_89_anos_divorciado_masculino_percentual(%)':['85_89_anos_divorciado_masculino','85_89_anos'],\n",
        "    '90_94_anos_divorciado_masculino_percentual(%)':['90_94_anos_divorciado_masculino','90_94_anos'],\n",
        "    '95_99_anos_divorciado_masculino_percentual(%)':['95_99_anos_divorciado_masculino','95_99_anos'],\n",
        "    '100_anos_divorciado_masculino_percentual(%)':['100_anos_divorciado_masculino','100_anos'],\n",
        "}\n",
        "\n",
        "for estado_percentual, ec in estados_civil_percentual_masculino.items():\n",
        "  df_municipios_1turno[estado_percentual] = (df_municipios_1turno[ec[0]] / df_municipios_1turno[ec[1]] * 100).round(2)"
      ]
    },
    {
      "cell_type": "markdown",
      "metadata": {
        "id": "6ci5Iw59Ne4H"
      },
      "source": [
        "## Eleitorado masculino viúvo por faixa etária"
      ]
    },
    {
      "cell_type": "code",
      "execution_count": null,
      "metadata": {
        "id": "OwkSRR2CNe4H"
      },
      "outputs": [],
      "source": [
        "# Filtra os dados apenas para o gênero masculino e casado\n",
        "df_turno_1_2020_masculino = df_turno_1_2020[(df_turno_1_2020['DS_GENERO'] == 'MASCULINO') & (df_turno_1_2020['DS_ESTADO_CIVIL'] == 'VIÚVO')].groupby(['SG_UF', 'NM_MUNICIPIO', 'DS_FAIXA_ETARIA',])['QT_APTOS'].sum().reset_index()\n",
        "\n",
        "# Realiza o pivot para transformar as colunas de grau de escolaridade em colunas do dataframe\n",
        "pivot_masculino = df_turno_1_2020_masculino.pivot_table(index=['SG_UF', 'NM_MUNICIPIO'], columns='DS_FAIXA_ETARIA', values='QT_APTOS').reset_index()\n",
        "pivot_masculino = pivot_masculino.fillna(0)\n",
        "pivot_masculino = pivot_masculino.rename(columns={\n",
        "       '16 anos':'16_anos_viuvo_masculino', '17 anos':'17_anos_viuvo_masculino', '18 anos':'18_anos_viuvo_masculino',\n",
        "       '19 anos':'19_anos_viuvo_masculino', '20 anos':'20_anos_viuvo_masculino', '21 a 24 anos':'21_24_anos_viuvo_masculino',\n",
        "       '25 a 29 anos':'25_29_anos_viuvo_masculino', '30 a 34 anos':'30_34_anos_viuvo_masculino', '35 a 39 anos':'35_39_anos_viuvo_masculino',\n",
        "       '40 a 44 anos':'40_44_anos_viuvo_masculino', '45 a 49 anos':'45_49_anos_viuvo_masculino',\n",
        "       '50 a 54 anos':'50_54_anos_viuvo_masculino', '55 a 59 anos':'55_59_anos_viuvo_masculino',\n",
        "       '60 a 64 anos':'60_64_anos_viuvo_masculino', '65 a 69 anos':'65_69_anos_viuvo_masculino',\n",
        "       '70 a 74 anos':'70_74_anos_viuvo_masculino', '75 a 79 anos':'75_79_anos_viuvo_masculino',\n",
        "       '80 a 84 anos':'80_84_anos_viuvo_masculino', '85 a 89 anos':'85_89_anos_viuvo_masculino',\n",
        "       '90 a 94 anos':'90_94_anos_viuvo_masculino', '95 a 99 anos':'95_99_anos_viuvo_masculino',\n",
        "       '100 anos ou mais':'100_anos_viuvo_masculino',})\n",
        "\n",
        "pivot_masculino = pivot_masculino[['SG_UF', 'NM_MUNICIPIO',\n",
        "       '16_anos_viuvo_masculino', '17_anos_viuvo_masculino',\n",
        "       '18_anos_viuvo_masculino', '19_anos_viuvo_masculino',\n",
        "       '20_anos_viuvo_masculino', '21_24_anos_viuvo_masculino',\n",
        "       '25_29_anos_viuvo_masculino', '30_34_anos_viuvo_masculino',\n",
        "       '35_39_anos_viuvo_masculino', '40_44_anos_viuvo_masculino',\n",
        "       '45_49_anos_viuvo_masculino', '50_54_anos_viuvo_masculino',\n",
        "       '55_59_anos_viuvo_masculino', '60_64_anos_viuvo_masculino',\n",
        "       '65_69_anos_viuvo_masculino', '70_74_anos_viuvo_masculino',\n",
        "       '75_79_anos_viuvo_masculino', '80_84_anos_viuvo_masculino',\n",
        "       '85_89_anos_viuvo_masculino', '90_94_anos_viuvo_masculino',\n",
        "       '95_99_anos_viuvo_masculino', '100_anos_viuvo_masculino',]]\n",
        "\n",
        "for i in pivot_masculino.columns:\n",
        "  if ((i != 'SG_UF') & (i != 'NM_MUNICIPIO')):\n",
        "    pivot_masculino[i] = pivot_masculino[i].astype(int)\n",
        "\n",
        "df_municipios_1turno = df_municipios_1turno.merge(pivot_masculino, on=['SG_UF', 'NM_MUNICIPIO'], how='left')"
      ]
    },
    {
      "cell_type": "code",
      "execution_count": null,
      "metadata": {
        "id": "XjUB8cIGNe4H",
        "colab": {
          "base_uri": "https://localhost:8080/"
        },
        "outputId": "7ba226d5-6630-47e0-ec23-914d6c5fab26"
      },
      "outputs": [
        {
          "output_type": "stream",
          "name": "stderr",
          "text": [
            "<ipython-input-138-303afc1e6b06>:27: PerformanceWarning: DataFrame is highly fragmented.  This is usually the result of calling `frame.insert` many times, which has poor performance.  Consider joining all columns at once using pd.concat(axis=1) instead. To get a de-fragmented frame, use `newframe = frame.copy()`\n",
            "  df_municipios_1turno[estado_percentual] = (df_municipios_1turno[ec[0]] / df_municipios_1turno[ec[1]] * 100).round(2)\n",
            "<ipython-input-138-303afc1e6b06>:27: PerformanceWarning: DataFrame is highly fragmented.  This is usually the result of calling `frame.insert` many times, which has poor performance.  Consider joining all columns at once using pd.concat(axis=1) instead. To get a de-fragmented frame, use `newframe = frame.copy()`\n",
            "  df_municipios_1turno[estado_percentual] = (df_municipios_1turno[ec[0]] / df_municipios_1turno[ec[1]] * 100).round(2)\n",
            "<ipython-input-138-303afc1e6b06>:27: PerformanceWarning: DataFrame is highly fragmented.  This is usually the result of calling `frame.insert` many times, which has poor performance.  Consider joining all columns at once using pd.concat(axis=1) instead. To get a de-fragmented frame, use `newframe = frame.copy()`\n",
            "  df_municipios_1turno[estado_percentual] = (df_municipios_1turno[ec[0]] / df_municipios_1turno[ec[1]] * 100).round(2)\n",
            "<ipython-input-138-303afc1e6b06>:27: PerformanceWarning: DataFrame is highly fragmented.  This is usually the result of calling `frame.insert` many times, which has poor performance.  Consider joining all columns at once using pd.concat(axis=1) instead. To get a de-fragmented frame, use `newframe = frame.copy()`\n",
            "  df_municipios_1turno[estado_percentual] = (df_municipios_1turno[ec[0]] / df_municipios_1turno[ec[1]] * 100).round(2)\n",
            "<ipython-input-138-303afc1e6b06>:27: PerformanceWarning: DataFrame is highly fragmented.  This is usually the result of calling `frame.insert` many times, which has poor performance.  Consider joining all columns at once using pd.concat(axis=1) instead. To get a de-fragmented frame, use `newframe = frame.copy()`\n",
            "  df_municipios_1turno[estado_percentual] = (df_municipios_1turno[ec[0]] / df_municipios_1turno[ec[1]] * 100).round(2)\n",
            "<ipython-input-138-303afc1e6b06>:27: PerformanceWarning: DataFrame is highly fragmented.  This is usually the result of calling `frame.insert` many times, which has poor performance.  Consider joining all columns at once using pd.concat(axis=1) instead. To get a de-fragmented frame, use `newframe = frame.copy()`\n",
            "  df_municipios_1turno[estado_percentual] = (df_municipios_1turno[ec[0]] / df_municipios_1turno[ec[1]] * 100).round(2)\n",
            "<ipython-input-138-303afc1e6b06>:27: PerformanceWarning: DataFrame is highly fragmented.  This is usually the result of calling `frame.insert` many times, which has poor performance.  Consider joining all columns at once using pd.concat(axis=1) instead. To get a de-fragmented frame, use `newframe = frame.copy()`\n",
            "  df_municipios_1turno[estado_percentual] = (df_municipios_1turno[ec[0]] / df_municipios_1turno[ec[1]] * 100).round(2)\n",
            "<ipython-input-138-303afc1e6b06>:27: PerformanceWarning: DataFrame is highly fragmented.  This is usually the result of calling `frame.insert` many times, which has poor performance.  Consider joining all columns at once using pd.concat(axis=1) instead. To get a de-fragmented frame, use `newframe = frame.copy()`\n",
            "  df_municipios_1turno[estado_percentual] = (df_municipios_1turno[ec[0]] / df_municipios_1turno[ec[1]] * 100).round(2)\n",
            "<ipython-input-138-303afc1e6b06>:27: PerformanceWarning: DataFrame is highly fragmented.  This is usually the result of calling `frame.insert` many times, which has poor performance.  Consider joining all columns at once using pd.concat(axis=1) instead. To get a de-fragmented frame, use `newframe = frame.copy()`\n",
            "  df_municipios_1turno[estado_percentual] = (df_municipios_1turno[ec[0]] / df_municipios_1turno[ec[1]] * 100).round(2)\n",
            "<ipython-input-138-303afc1e6b06>:27: PerformanceWarning: DataFrame is highly fragmented.  This is usually the result of calling `frame.insert` many times, which has poor performance.  Consider joining all columns at once using pd.concat(axis=1) instead. To get a de-fragmented frame, use `newframe = frame.copy()`\n",
            "  df_municipios_1turno[estado_percentual] = (df_municipios_1turno[ec[0]] / df_municipios_1turno[ec[1]] * 100).round(2)\n",
            "<ipython-input-138-303afc1e6b06>:27: PerformanceWarning: DataFrame is highly fragmented.  This is usually the result of calling `frame.insert` many times, which has poor performance.  Consider joining all columns at once using pd.concat(axis=1) instead. To get a de-fragmented frame, use `newframe = frame.copy()`\n",
            "  df_municipios_1turno[estado_percentual] = (df_municipios_1turno[ec[0]] / df_municipios_1turno[ec[1]] * 100).round(2)\n",
            "<ipython-input-138-303afc1e6b06>:27: PerformanceWarning: DataFrame is highly fragmented.  This is usually the result of calling `frame.insert` many times, which has poor performance.  Consider joining all columns at once using pd.concat(axis=1) instead. To get a de-fragmented frame, use `newframe = frame.copy()`\n",
            "  df_municipios_1turno[estado_percentual] = (df_municipios_1turno[ec[0]] / df_municipios_1turno[ec[1]] * 100).round(2)\n",
            "<ipython-input-138-303afc1e6b06>:27: PerformanceWarning: DataFrame is highly fragmented.  This is usually the result of calling `frame.insert` many times, which has poor performance.  Consider joining all columns at once using pd.concat(axis=1) instead. To get a de-fragmented frame, use `newframe = frame.copy()`\n",
            "  df_municipios_1turno[estado_percentual] = (df_municipios_1turno[ec[0]] / df_municipios_1turno[ec[1]] * 100).round(2)\n",
            "<ipython-input-138-303afc1e6b06>:27: PerformanceWarning: DataFrame is highly fragmented.  This is usually the result of calling `frame.insert` many times, which has poor performance.  Consider joining all columns at once using pd.concat(axis=1) instead. To get a de-fragmented frame, use `newframe = frame.copy()`\n",
            "  df_municipios_1turno[estado_percentual] = (df_municipios_1turno[ec[0]] / df_municipios_1turno[ec[1]] * 100).round(2)\n",
            "<ipython-input-138-303afc1e6b06>:27: PerformanceWarning: DataFrame is highly fragmented.  This is usually the result of calling `frame.insert` many times, which has poor performance.  Consider joining all columns at once using pd.concat(axis=1) instead. To get a de-fragmented frame, use `newframe = frame.copy()`\n",
            "  df_municipios_1turno[estado_percentual] = (df_municipios_1turno[ec[0]] / df_municipios_1turno[ec[1]] * 100).round(2)\n",
            "<ipython-input-138-303afc1e6b06>:27: PerformanceWarning: DataFrame is highly fragmented.  This is usually the result of calling `frame.insert` many times, which has poor performance.  Consider joining all columns at once using pd.concat(axis=1) instead. To get a de-fragmented frame, use `newframe = frame.copy()`\n",
            "  df_municipios_1turno[estado_percentual] = (df_municipios_1turno[ec[0]] / df_municipios_1turno[ec[1]] * 100).round(2)\n",
            "<ipython-input-138-303afc1e6b06>:27: PerformanceWarning: DataFrame is highly fragmented.  This is usually the result of calling `frame.insert` many times, which has poor performance.  Consider joining all columns at once using pd.concat(axis=1) instead. To get a de-fragmented frame, use `newframe = frame.copy()`\n",
            "  df_municipios_1turno[estado_percentual] = (df_municipios_1turno[ec[0]] / df_municipios_1turno[ec[1]] * 100).round(2)\n",
            "<ipython-input-138-303afc1e6b06>:27: PerformanceWarning: DataFrame is highly fragmented.  This is usually the result of calling `frame.insert` many times, which has poor performance.  Consider joining all columns at once using pd.concat(axis=1) instead. To get a de-fragmented frame, use `newframe = frame.copy()`\n",
            "  df_municipios_1turno[estado_percentual] = (df_municipios_1turno[ec[0]] / df_municipios_1turno[ec[1]] * 100).round(2)\n",
            "<ipython-input-138-303afc1e6b06>:27: PerformanceWarning: DataFrame is highly fragmented.  This is usually the result of calling `frame.insert` many times, which has poor performance.  Consider joining all columns at once using pd.concat(axis=1) instead. To get a de-fragmented frame, use `newframe = frame.copy()`\n",
            "  df_municipios_1turno[estado_percentual] = (df_municipios_1turno[ec[0]] / df_municipios_1turno[ec[1]] * 100).round(2)\n",
            "<ipython-input-138-303afc1e6b06>:27: PerformanceWarning: DataFrame is highly fragmented.  This is usually the result of calling `frame.insert` many times, which has poor performance.  Consider joining all columns at once using pd.concat(axis=1) instead. To get a de-fragmented frame, use `newframe = frame.copy()`\n",
            "  df_municipios_1turno[estado_percentual] = (df_municipios_1turno[ec[0]] / df_municipios_1turno[ec[1]] * 100).round(2)\n",
            "<ipython-input-138-303afc1e6b06>:27: PerformanceWarning: DataFrame is highly fragmented.  This is usually the result of calling `frame.insert` many times, which has poor performance.  Consider joining all columns at once using pd.concat(axis=1) instead. To get a de-fragmented frame, use `newframe = frame.copy()`\n",
            "  df_municipios_1turno[estado_percentual] = (df_municipios_1turno[ec[0]] / df_municipios_1turno[ec[1]] * 100).round(2)\n",
            "<ipython-input-138-303afc1e6b06>:27: PerformanceWarning: DataFrame is highly fragmented.  This is usually the result of calling `frame.insert` many times, which has poor performance.  Consider joining all columns at once using pd.concat(axis=1) instead. To get a de-fragmented frame, use `newframe = frame.copy()`\n",
            "  df_municipios_1turno[estado_percentual] = (df_municipios_1turno[ec[0]] / df_municipios_1turno[ec[1]] * 100).round(2)\n"
          ]
        }
      ],
      "source": [
        "estados_civil_percentual_masculino = {\n",
        "    '16_anos_viuvo_masculino_percentual(%)':['16_anos_viuvo_masculino','16_anos'],\n",
        "    '17_anos_viuvo_masculino_percentual(%)':['17_anos_viuvo_masculino','17_anos'],\n",
        "    '18_anos_viuvo_masculino_percentual(%)':['18_anos_viuvo_masculino','18_anos'],\n",
        "    '19_anos_viuvo_masculino_percentual(%)':['19_anos_viuvo_masculino','19_anos'],\n",
        "    '20_anos_viuvo_masculino_percentual(%)':['20_anos_viuvo_masculino','20_anos'],\n",
        "    '21_24_anos_viuvo_masculino_percentual(%)':['21_24_anos_viuvo_masculino','21_24_anos'],\n",
        "    '25_29_anos_viuvo_masculino_percentual(%)':['25_29_anos_viuvo_masculino','25_29_anos'],\n",
        "    '30_34_anos_viuvo_masculino_percentual(%)':['30_34_anos_viuvo_masculino','30_34_anos'],\n",
        "    '35_39_anos_viuvo_masculino_percentual(%)':['35_39_anos_viuvo_masculino','35_39_anos'],\n",
        "    '40_44_anos_viuvo_masculino_percentual(%)':['40_44_anos_viuvo_masculino','40_44_anos'],\n",
        "    '45_49_anos_viuvo_masculino_percentual(%)':['45_49_anos_viuvo_masculino','45_49_anos'],\n",
        "    '50_54_anos_viuvo_masculino_percentual(%)':['50_54_anos_viuvo_masculino','50_54_anos'],\n",
        "    '55_59_anos_viuvo_masculino_percentual(%)':['55_59_anos_viuvo_masculino','55_59_anos'],\n",
        "    '60_64_anos_viuvo_masculino_percentual(%)':['60_64_anos_viuvo_masculino','60_64_anos'],\n",
        "    '65_69_anos_viuvo_masculino_percentual(%)':['65_69_anos_viuvo_masculino','65_69_anos'],\n",
        "    '70_74_anos_viuvo_masculino_percentual(%)':['70_74_anos_viuvo_masculino','70_74_anos'],\n",
        "    '75_79_anos_viuvo_masculino_percentual(%)':['75_79_anos_viuvo_masculino','75_79_anos'],\n",
        "    '80_84_anos_viuvo_masculino_percentual(%)':['80_84_anos_viuvo_masculino','80_84_anos'],\n",
        "    '85_89_anos_viuvo_masculino_percentual(%)':['85_89_anos_viuvo_masculino','85_89_anos'],\n",
        "    '90_94_anos_viuvo_masculino_percentual(%)':['90_94_anos_viuvo_masculino','90_94_anos'],\n",
        "    '95_99_anos_viuvo_masculino_percentual(%)':['95_99_anos_viuvo_masculino','95_99_anos'],\n",
        "    '100_anos_viuvo_masculino_percentual(%)':['100_anos_viuvo_masculino','100_anos'],\n",
        "}\n",
        "\n",
        "for estado_percentual, ec in estados_civil_percentual_masculino.items():\n",
        "  df_municipios_1turno[estado_percentual] = (df_municipios_1turno[ec[0]] / df_municipios_1turno[ec[1]] * 100).round(2)"
      ]
    },
    {
      "cell_type": "markdown",
      "metadata": {
        "id": "uh7CR4h_Ne4I"
      },
      "source": [
        "## Eleitorado masculino separado judicialmente por faixa etária"
      ]
    },
    {
      "cell_type": "code",
      "execution_count": null,
      "metadata": {
        "id": "aYyEUG3dNe4J"
      },
      "outputs": [],
      "source": [
        "# Filtra os dados apenas para o gênero masculino e casado\n",
        "df_turno_1_2020_masculino = df_turno_1_2020[(df_turno_1_2020['DS_GENERO'] == 'MASCULINO') & (df_turno_1_2020['DS_ESTADO_CIVIL'] == 'SEPARADO JUDICIALMENTE')].groupby(['SG_UF', 'NM_MUNICIPIO', 'DS_FAIXA_ETARIA',])['QT_APTOS'].sum().reset_index()\n",
        "\n",
        "# Realiza o pivot para transformar as colunas de grau de escolaridade em colunas do dataframe\n",
        "pivot_masculino = df_turno_1_2020_masculino.pivot_table(index=['SG_UF', 'NM_MUNICIPIO'], columns='DS_FAIXA_ETARIA', values='QT_APTOS').reset_index()\n",
        "pivot_masculino = pivot_masculino.fillna(0)\n",
        "pivot_masculino = pivot_masculino.rename(columns={\n",
        "       '16 anos':'16_anos_separado_judicialmente_masculino', '17 anos':'17_anos_separado_judicialmente_masculino', '18 anos':'18_anos_separado_judicialmente_masculino',\n",
        "       '19 anos':'19_anos_separado_judicialmente_masculino', '20 anos':'20_anos_separado_judicialmente_masculino', '21 a 24 anos':'21_24_anos_separado_judicialmente_masculino',\n",
        "       '25 a 29 anos':'25_29_anos_separado_judicialmente_masculino', '30 a 34 anos':'30_34_anos_separado_judicialmente_masculino', '35 a 39 anos':'35_39_anos_separado_judicialmente_masculino',\n",
        "       '40 a 44 anos':'40_44_anos_separado_judicialmente_masculino', '45 a 49 anos':'45_49_anos_separado_judicialmente_masculino',\n",
        "       '50 a 54 anos':'50_54_anos_separado_judicialmente_masculino', '55 a 59 anos':'55_59_anos_separado_judicialmente_masculino',\n",
        "       '60 a 64 anos':'60_64_anos_separado_judicialmente_masculino', '65 a 69 anos':'65_69_anos_separado_judicialmente_masculino',\n",
        "       '70 a 74 anos':'70_74_anos_separado_judicialmente_masculino', '75 a 79 anos':'75_79_anos_separado_judicialmente_masculino',\n",
        "       '80 a 84 anos':'80_84_anos_separado_judicialmente_masculino', '85 a 89 anos':'85_89_anos_separado_judicialmente_masculino',\n",
        "       '90 a 94 anos':'90_94_anos_separado_judicialmente_masculino', '95 a 99 anos':'95_99_anos_separado_judicialmente_masculino',\n",
        "       '100 anos ou mais':'100_anos_separado_judicialmente_masculino',})\n",
        "\n",
        "pivot_masculino = pivot_masculino[['SG_UF', 'NM_MUNICIPIO',\n",
        "       '16_anos_separado_judicialmente_masculino', '17_anos_separado_judicialmente_masculino',\n",
        "       '18_anos_separado_judicialmente_masculino', '19_anos_separado_judicialmente_masculino',\n",
        "       '20_anos_separado_judicialmente_masculino', '21_24_anos_separado_judicialmente_masculino',\n",
        "       '25_29_anos_separado_judicialmente_masculino', '30_34_anos_separado_judicialmente_masculino',\n",
        "       '35_39_anos_separado_judicialmente_masculino', '40_44_anos_separado_judicialmente_masculino',\n",
        "       '45_49_anos_separado_judicialmente_masculino', '50_54_anos_separado_judicialmente_masculino',\n",
        "       '55_59_anos_separado_judicialmente_masculino', '60_64_anos_separado_judicialmente_masculino',\n",
        "       '65_69_anos_separado_judicialmente_masculino', '70_74_anos_separado_judicialmente_masculino',\n",
        "       '75_79_anos_separado_judicialmente_masculino', '80_84_anos_separado_judicialmente_masculino',\n",
        "       '85_89_anos_separado_judicialmente_masculino', '90_94_anos_separado_judicialmente_masculino',\n",
        "       '95_99_anos_separado_judicialmente_masculino', '100_anos_separado_judicialmente_masculino',]]\n",
        "\n",
        "for i in pivot_masculino.columns:\n",
        "  if ((i != 'SG_UF') & (i != 'NM_MUNICIPIO')):\n",
        "    pivot_masculino[i] = pivot_masculino[i].astype(int)\n",
        "\n",
        "df_municipios_1turno = df_municipios_1turno.merge(pivot_masculino, on=['SG_UF', 'NM_MUNICIPIO'], how='left')"
      ]
    },
    {
      "cell_type": "code",
      "execution_count": null,
      "metadata": {
        "id": "WtTIAA8GNe4J",
        "colab": {
          "base_uri": "https://localhost:8080/"
        },
        "outputId": "e53f9fbe-3b16-484f-c7ad-1bd2c9082e6a"
      },
      "outputs": [
        {
          "output_type": "stream",
          "name": "stderr",
          "text": [
            "<ipython-input-140-6a5ad2168ecf>:27: PerformanceWarning: DataFrame is highly fragmented.  This is usually the result of calling `frame.insert` many times, which has poor performance.  Consider joining all columns at once using pd.concat(axis=1) instead. To get a de-fragmented frame, use `newframe = frame.copy()`\n",
            "  df_municipios_1turno[estado_percentual] = (df_municipios_1turno[ec[0]] / df_municipios_1turno[ec[1]] * 100).round(2)\n",
            "<ipython-input-140-6a5ad2168ecf>:27: PerformanceWarning: DataFrame is highly fragmented.  This is usually the result of calling `frame.insert` many times, which has poor performance.  Consider joining all columns at once using pd.concat(axis=1) instead. To get a de-fragmented frame, use `newframe = frame.copy()`\n",
            "  df_municipios_1turno[estado_percentual] = (df_municipios_1turno[ec[0]] / df_municipios_1turno[ec[1]] * 100).round(2)\n",
            "<ipython-input-140-6a5ad2168ecf>:27: PerformanceWarning: DataFrame is highly fragmented.  This is usually the result of calling `frame.insert` many times, which has poor performance.  Consider joining all columns at once using pd.concat(axis=1) instead. To get a de-fragmented frame, use `newframe = frame.copy()`\n",
            "  df_municipios_1turno[estado_percentual] = (df_municipios_1turno[ec[0]] / df_municipios_1turno[ec[1]] * 100).round(2)\n",
            "<ipython-input-140-6a5ad2168ecf>:27: PerformanceWarning: DataFrame is highly fragmented.  This is usually the result of calling `frame.insert` many times, which has poor performance.  Consider joining all columns at once using pd.concat(axis=1) instead. To get a de-fragmented frame, use `newframe = frame.copy()`\n",
            "  df_municipios_1turno[estado_percentual] = (df_municipios_1turno[ec[0]] / df_municipios_1turno[ec[1]] * 100).round(2)\n",
            "<ipython-input-140-6a5ad2168ecf>:27: PerformanceWarning: DataFrame is highly fragmented.  This is usually the result of calling `frame.insert` many times, which has poor performance.  Consider joining all columns at once using pd.concat(axis=1) instead. To get a de-fragmented frame, use `newframe = frame.copy()`\n",
            "  df_municipios_1turno[estado_percentual] = (df_municipios_1turno[ec[0]] / df_municipios_1turno[ec[1]] * 100).round(2)\n",
            "<ipython-input-140-6a5ad2168ecf>:27: PerformanceWarning: DataFrame is highly fragmented.  This is usually the result of calling `frame.insert` many times, which has poor performance.  Consider joining all columns at once using pd.concat(axis=1) instead. To get a de-fragmented frame, use `newframe = frame.copy()`\n",
            "  df_municipios_1turno[estado_percentual] = (df_municipios_1turno[ec[0]] / df_municipios_1turno[ec[1]] * 100).round(2)\n",
            "<ipython-input-140-6a5ad2168ecf>:27: PerformanceWarning: DataFrame is highly fragmented.  This is usually the result of calling `frame.insert` many times, which has poor performance.  Consider joining all columns at once using pd.concat(axis=1) instead. To get a de-fragmented frame, use `newframe = frame.copy()`\n",
            "  df_municipios_1turno[estado_percentual] = (df_municipios_1turno[ec[0]] / df_municipios_1turno[ec[1]] * 100).round(2)\n",
            "<ipython-input-140-6a5ad2168ecf>:27: PerformanceWarning: DataFrame is highly fragmented.  This is usually the result of calling `frame.insert` many times, which has poor performance.  Consider joining all columns at once using pd.concat(axis=1) instead. To get a de-fragmented frame, use `newframe = frame.copy()`\n",
            "  df_municipios_1turno[estado_percentual] = (df_municipios_1turno[ec[0]] / df_municipios_1turno[ec[1]] * 100).round(2)\n",
            "<ipython-input-140-6a5ad2168ecf>:27: PerformanceWarning: DataFrame is highly fragmented.  This is usually the result of calling `frame.insert` many times, which has poor performance.  Consider joining all columns at once using pd.concat(axis=1) instead. To get a de-fragmented frame, use `newframe = frame.copy()`\n",
            "  df_municipios_1turno[estado_percentual] = (df_municipios_1turno[ec[0]] / df_municipios_1turno[ec[1]] * 100).round(2)\n",
            "<ipython-input-140-6a5ad2168ecf>:27: PerformanceWarning: DataFrame is highly fragmented.  This is usually the result of calling `frame.insert` many times, which has poor performance.  Consider joining all columns at once using pd.concat(axis=1) instead. To get a de-fragmented frame, use `newframe = frame.copy()`\n",
            "  df_municipios_1turno[estado_percentual] = (df_municipios_1turno[ec[0]] / df_municipios_1turno[ec[1]] * 100).round(2)\n",
            "<ipython-input-140-6a5ad2168ecf>:27: PerformanceWarning: DataFrame is highly fragmented.  This is usually the result of calling `frame.insert` many times, which has poor performance.  Consider joining all columns at once using pd.concat(axis=1) instead. To get a de-fragmented frame, use `newframe = frame.copy()`\n",
            "  df_municipios_1turno[estado_percentual] = (df_municipios_1turno[ec[0]] / df_municipios_1turno[ec[1]] * 100).round(2)\n",
            "<ipython-input-140-6a5ad2168ecf>:27: PerformanceWarning: DataFrame is highly fragmented.  This is usually the result of calling `frame.insert` many times, which has poor performance.  Consider joining all columns at once using pd.concat(axis=1) instead. To get a de-fragmented frame, use `newframe = frame.copy()`\n",
            "  df_municipios_1turno[estado_percentual] = (df_municipios_1turno[ec[0]] / df_municipios_1turno[ec[1]] * 100).round(2)\n",
            "<ipython-input-140-6a5ad2168ecf>:27: PerformanceWarning: DataFrame is highly fragmented.  This is usually the result of calling `frame.insert` many times, which has poor performance.  Consider joining all columns at once using pd.concat(axis=1) instead. To get a de-fragmented frame, use `newframe = frame.copy()`\n",
            "  df_municipios_1turno[estado_percentual] = (df_municipios_1turno[ec[0]] / df_municipios_1turno[ec[1]] * 100).round(2)\n",
            "<ipython-input-140-6a5ad2168ecf>:27: PerformanceWarning: DataFrame is highly fragmented.  This is usually the result of calling `frame.insert` many times, which has poor performance.  Consider joining all columns at once using pd.concat(axis=1) instead. To get a de-fragmented frame, use `newframe = frame.copy()`\n",
            "  df_municipios_1turno[estado_percentual] = (df_municipios_1turno[ec[0]] / df_municipios_1turno[ec[1]] * 100).round(2)\n",
            "<ipython-input-140-6a5ad2168ecf>:27: PerformanceWarning: DataFrame is highly fragmented.  This is usually the result of calling `frame.insert` many times, which has poor performance.  Consider joining all columns at once using pd.concat(axis=1) instead. To get a de-fragmented frame, use `newframe = frame.copy()`\n",
            "  df_municipios_1turno[estado_percentual] = (df_municipios_1turno[ec[0]] / df_municipios_1turno[ec[1]] * 100).round(2)\n",
            "<ipython-input-140-6a5ad2168ecf>:27: PerformanceWarning: DataFrame is highly fragmented.  This is usually the result of calling `frame.insert` many times, which has poor performance.  Consider joining all columns at once using pd.concat(axis=1) instead. To get a de-fragmented frame, use `newframe = frame.copy()`\n",
            "  df_municipios_1turno[estado_percentual] = (df_municipios_1turno[ec[0]] / df_municipios_1turno[ec[1]] * 100).round(2)\n",
            "<ipython-input-140-6a5ad2168ecf>:27: PerformanceWarning: DataFrame is highly fragmented.  This is usually the result of calling `frame.insert` many times, which has poor performance.  Consider joining all columns at once using pd.concat(axis=1) instead. To get a de-fragmented frame, use `newframe = frame.copy()`\n",
            "  df_municipios_1turno[estado_percentual] = (df_municipios_1turno[ec[0]] / df_municipios_1turno[ec[1]] * 100).round(2)\n",
            "<ipython-input-140-6a5ad2168ecf>:27: PerformanceWarning: DataFrame is highly fragmented.  This is usually the result of calling `frame.insert` many times, which has poor performance.  Consider joining all columns at once using pd.concat(axis=1) instead. To get a de-fragmented frame, use `newframe = frame.copy()`\n",
            "  df_municipios_1turno[estado_percentual] = (df_municipios_1turno[ec[0]] / df_municipios_1turno[ec[1]] * 100).round(2)\n",
            "<ipython-input-140-6a5ad2168ecf>:27: PerformanceWarning: DataFrame is highly fragmented.  This is usually the result of calling `frame.insert` many times, which has poor performance.  Consider joining all columns at once using pd.concat(axis=1) instead. To get a de-fragmented frame, use `newframe = frame.copy()`\n",
            "  df_municipios_1turno[estado_percentual] = (df_municipios_1turno[ec[0]] / df_municipios_1turno[ec[1]] * 100).round(2)\n",
            "<ipython-input-140-6a5ad2168ecf>:27: PerformanceWarning: DataFrame is highly fragmented.  This is usually the result of calling `frame.insert` many times, which has poor performance.  Consider joining all columns at once using pd.concat(axis=1) instead. To get a de-fragmented frame, use `newframe = frame.copy()`\n",
            "  df_municipios_1turno[estado_percentual] = (df_municipios_1turno[ec[0]] / df_municipios_1turno[ec[1]] * 100).round(2)\n",
            "<ipython-input-140-6a5ad2168ecf>:27: PerformanceWarning: DataFrame is highly fragmented.  This is usually the result of calling `frame.insert` many times, which has poor performance.  Consider joining all columns at once using pd.concat(axis=1) instead. To get a de-fragmented frame, use `newframe = frame.copy()`\n",
            "  df_municipios_1turno[estado_percentual] = (df_municipios_1turno[ec[0]] / df_municipios_1turno[ec[1]] * 100).round(2)\n",
            "<ipython-input-140-6a5ad2168ecf>:27: PerformanceWarning: DataFrame is highly fragmented.  This is usually the result of calling `frame.insert` many times, which has poor performance.  Consider joining all columns at once using pd.concat(axis=1) instead. To get a de-fragmented frame, use `newframe = frame.copy()`\n",
            "  df_municipios_1turno[estado_percentual] = (df_municipios_1turno[ec[0]] / df_municipios_1turno[ec[1]] * 100).round(2)\n"
          ]
        }
      ],
      "source": [
        "estados_civil_percentual_masculino = {\n",
        "    '16_anos_separado_judicialmente_masculino_percentual(%)':['16_anos_separado_judicialmente_masculino','16_anos'],\n",
        "    '17_anos_separado_judicialmente_masculino_percentual(%)':['17_anos_separado_judicialmente_masculino','17_anos'],\n",
        "    '18_anos_separado_judicialmente_masculino_percentual(%)':['18_anos_separado_judicialmente_masculino','18_anos'],\n",
        "    '19_anos_separado_judicialmente_masculino_percentual(%)':['19_anos_separado_judicialmente_masculino','19_anos'],\n",
        "    '20_anos_separado_judicialmente_masculino_percentual(%)':['20_anos_separado_judicialmente_masculino','20_anos'],\n",
        "    '21_24_anos_separado_judicialmente_masculino_percentual(%)':['21_24_anos_separado_judicialmente_masculino','21_24_anos'],\n",
        "    '25_29_anos_separado_judicialmente_masculino_percentual(%)':['25_29_anos_separado_judicialmente_masculino','25_29_anos'],\n",
        "    '30_34_anos_separado_judicialmente_masculino_percentual(%)':['30_34_anos_separado_judicialmente_masculino','30_34_anos'],\n",
        "    '35_39_anos_separado_judicialmente_masculino_percentual(%)':['35_39_anos_separado_judicialmente_masculino','35_39_anos'],\n",
        "    '40_44_anos_separado_judicialmente_masculino_percentual(%)':['40_44_anos_separado_judicialmente_masculino','40_44_anos'],\n",
        "    '45_49_anos_separado_judicialmente_masculino_percentual(%)':['45_49_anos_separado_judicialmente_masculino','45_49_anos'],\n",
        "    '50_54_anos_separado_judicialmente_masculino_percentual(%)':['50_54_anos_separado_judicialmente_masculino','50_54_anos'],\n",
        "    '55_59_anos_separado_judicialmente_masculino_percentual(%)':['55_59_anos_separado_judicialmente_masculino','55_59_anos'],\n",
        "    '60_64_anos_separado_judicialmente_masculino_percentual(%)':['60_64_anos_separado_judicialmente_masculino','60_64_anos'],\n",
        "    '65_69_anos_separado_judicialmente_masculino_percentual(%)':['65_69_anos_separado_judicialmente_masculino','65_69_anos'],\n",
        "    '70_74_anos_separado_judicialmente_masculino_percentual(%)':['70_74_anos_separado_judicialmente_masculino','70_74_anos'],\n",
        "    '75_79_anos_separado_judicialmente_masculino_percentual(%)':['75_79_anos_separado_judicialmente_masculino','75_79_anos'],\n",
        "    '80_84_anos_separado_judicialmente_masculino_percentual(%)':['80_84_anos_separado_judicialmente_masculino','80_84_anos'],\n",
        "    '85_89_anos_separado_judicialmente_masculino_percentual(%)':['85_89_anos_separado_judicialmente_masculino','85_89_anos'],\n",
        "    '90_94_anos_separado_judicialmente_masculino_percentual(%)':['90_94_anos_separado_judicialmente_masculino','90_94_anos'],\n",
        "    '95_99_anos_separado_judicialmente_masculino_percentual(%)':['95_99_anos_separado_judicialmente_masculino','95_99_anos'],\n",
        "    '100_anos_separado_judicialmente_masculino_percentual(%)':['100_anos_separado_judicialmente_masculino','100_anos'],\n",
        "}\n",
        "\n",
        "for estado_percentual, ec in estados_civil_percentual_masculino.items():\n",
        "  df_municipios_1turno[estado_percentual] = (df_municipios_1turno[ec[0]] / df_municipios_1turno[ec[1]] * 100).round(2)"
      ]
    },
    {
      "cell_type": "markdown",
      "metadata": {
        "id": "tMplohjTNe4K"
      },
      "source": [
        "## Eleitorado feminino solteiro por faixa etária"
      ]
    },
    {
      "cell_type": "code",
      "execution_count": null,
      "metadata": {
        "id": "-glAx_cUNe4K"
      },
      "outputs": [],
      "source": [
        "# Filtra os dados apenas para o gênero masculino e solteiro\n",
        "df_turno_1_2020_feminino = df_turno_1_2020[(df_turno_1_2020['DS_GENERO'] == 'FEMININO') & (df_turno_1_2020['DS_ESTADO_CIVIL'] == 'SOLTEIRO')].groupby(['SG_UF', 'NM_MUNICIPIO', 'DS_FAIXA_ETARIA',])['QT_APTOS'].sum().reset_index()\n",
        "\n",
        "# Realiza o pivot para transformar as colunas de grau de escolaridade em colunas do dataframe\n",
        "pivot_feminino = df_turno_1_2020_feminino.pivot_table(index=['SG_UF', 'NM_MUNICIPIO'], columns='DS_FAIXA_ETARIA', values='QT_APTOS').reset_index()\n",
        "pivot_feminino = pivot_feminino.fillna(0)\n",
        "pivot_feminino = pivot_feminino.rename(columns={\n",
        "       '16 anos':'16_anos_solteiro_feminino', '17 anos':'17_anos_solteiro_feminino', '18 anos':'18_anos_solteiro_feminino',\n",
        "       '19 anos':'19_anos_solteiro_feminino', '20 anos':'20_anos_solteiro_feminino', '21 a 24 anos':'21_24_anos_solteiro_feminino',\n",
        "       '25 a 29 anos':'25_29_anos_solteiro_feminino', '30 a 34 anos':'30_34_anos_solteiro_feminino', '35 a 39 anos':'35_39_anos_solteiro_feminino',\n",
        "       '40 a 44 anos':'40_44_anos_solteiro_feminino', '45 a 49 anos':'45_49_anos_solteiro_feminino',\n",
        "       '50 a 54 anos':'50_54_anos_solteiro_feminino', '55 a 59 anos':'55_59_anos_solteiro_feminino',\n",
        "       '60 a 64 anos':'60_64_anos_solteiro_feminino', '65 a 69 anos':'65_69_anos_solteiro_feminino',\n",
        "       '70 a 74 anos':'70_74_anos_solteiro_feminino', '75 a 79 anos':'75_79_anos_solteiro_feminino',\n",
        "       '80 a 84 anos':'80_84_anos_solteiro_feminino', '85 a 89 anos':'85_89_anos_solteiro_feminino',\n",
        "       '90 a 94 anos':'90_94_anos_solteiro_feminino', '95 a 99 anos':'95_99_anos_solteiro_feminino',\n",
        "       '100 anos ou mais':'100_anos_solteiro_feminino',})\n",
        "\n",
        "pivot_feminino = pivot_feminino[['SG_UF', 'NM_MUNICIPIO',\n",
        "       '16_anos_solteiro_feminino', '17_anos_solteiro_feminino',\n",
        "       '18_anos_solteiro_feminino', '19_anos_solteiro_feminino',\n",
        "       '20_anos_solteiro_feminino', '21_24_anos_solteiro_feminino',\n",
        "       '25_29_anos_solteiro_feminino', '30_34_anos_solteiro_feminino',\n",
        "       '35_39_anos_solteiro_feminino', '40_44_anos_solteiro_feminino',\n",
        "       '45_49_anos_solteiro_feminino', '50_54_anos_solteiro_feminino',\n",
        "       '55_59_anos_solteiro_feminino', '60_64_anos_solteiro_feminino',\n",
        "       '65_69_anos_solteiro_feminino', '70_74_anos_solteiro_feminino',\n",
        "       '75_79_anos_solteiro_feminino', '80_84_anos_solteiro_feminino',\n",
        "       '85_89_anos_solteiro_feminino', '90_94_anos_solteiro_feminino',\n",
        "       '95_99_anos_solteiro_feminino', '100_anos_solteiro_feminino',]]\n",
        "\n",
        "for i in pivot_feminino.columns:\n",
        "  if ((i != 'SG_UF') & (i != 'NM_MUNICIPIO')):\n",
        "    pivot_feminino[i] = pivot_feminino[i].astype(int)\n",
        "\n",
        "df_municipios_1turno = df_municipios_1turno.merge(pivot_feminino, on=['SG_UF', 'NM_MUNICIPIO'], how='left')"
      ]
    },
    {
      "cell_type": "code",
      "execution_count": null,
      "metadata": {
        "id": "Hhg5O22eNe4K",
        "colab": {
          "base_uri": "https://localhost:8080/"
        },
        "outputId": "a7e07432-4eb8-4526-d5ff-0f096be5e7fc"
      },
      "outputs": [
        {
          "output_type": "stream",
          "name": "stderr",
          "text": [
            "<ipython-input-142-c4464c3a7d30>:27: PerformanceWarning: DataFrame is highly fragmented.  This is usually the result of calling `frame.insert` many times, which has poor performance.  Consider joining all columns at once using pd.concat(axis=1) instead. To get a de-fragmented frame, use `newframe = frame.copy()`\n",
            "  df_municipios_1turno[estado_percentual] = (df_municipios_1turno[ec[0]] / df_municipios_1turno[ec[1]] * 100).round(2)\n",
            "<ipython-input-142-c4464c3a7d30>:27: PerformanceWarning: DataFrame is highly fragmented.  This is usually the result of calling `frame.insert` many times, which has poor performance.  Consider joining all columns at once using pd.concat(axis=1) instead. To get a de-fragmented frame, use `newframe = frame.copy()`\n",
            "  df_municipios_1turno[estado_percentual] = (df_municipios_1turno[ec[0]] / df_municipios_1turno[ec[1]] * 100).round(2)\n",
            "<ipython-input-142-c4464c3a7d30>:27: PerformanceWarning: DataFrame is highly fragmented.  This is usually the result of calling `frame.insert` many times, which has poor performance.  Consider joining all columns at once using pd.concat(axis=1) instead. To get a de-fragmented frame, use `newframe = frame.copy()`\n",
            "  df_municipios_1turno[estado_percentual] = (df_municipios_1turno[ec[0]] / df_municipios_1turno[ec[1]] * 100).round(2)\n",
            "<ipython-input-142-c4464c3a7d30>:27: PerformanceWarning: DataFrame is highly fragmented.  This is usually the result of calling `frame.insert` many times, which has poor performance.  Consider joining all columns at once using pd.concat(axis=1) instead. To get a de-fragmented frame, use `newframe = frame.copy()`\n",
            "  df_municipios_1turno[estado_percentual] = (df_municipios_1turno[ec[0]] / df_municipios_1turno[ec[1]] * 100).round(2)\n",
            "<ipython-input-142-c4464c3a7d30>:27: PerformanceWarning: DataFrame is highly fragmented.  This is usually the result of calling `frame.insert` many times, which has poor performance.  Consider joining all columns at once using pd.concat(axis=1) instead. To get a de-fragmented frame, use `newframe = frame.copy()`\n",
            "  df_municipios_1turno[estado_percentual] = (df_municipios_1turno[ec[0]] / df_municipios_1turno[ec[1]] * 100).round(2)\n",
            "<ipython-input-142-c4464c3a7d30>:27: PerformanceWarning: DataFrame is highly fragmented.  This is usually the result of calling `frame.insert` many times, which has poor performance.  Consider joining all columns at once using pd.concat(axis=1) instead. To get a de-fragmented frame, use `newframe = frame.copy()`\n",
            "  df_municipios_1turno[estado_percentual] = (df_municipios_1turno[ec[0]] / df_municipios_1turno[ec[1]] * 100).round(2)\n",
            "<ipython-input-142-c4464c3a7d30>:27: PerformanceWarning: DataFrame is highly fragmented.  This is usually the result of calling `frame.insert` many times, which has poor performance.  Consider joining all columns at once using pd.concat(axis=1) instead. To get a de-fragmented frame, use `newframe = frame.copy()`\n",
            "  df_municipios_1turno[estado_percentual] = (df_municipios_1turno[ec[0]] / df_municipios_1turno[ec[1]] * 100).round(2)\n",
            "<ipython-input-142-c4464c3a7d30>:27: PerformanceWarning: DataFrame is highly fragmented.  This is usually the result of calling `frame.insert` many times, which has poor performance.  Consider joining all columns at once using pd.concat(axis=1) instead. To get a de-fragmented frame, use `newframe = frame.copy()`\n",
            "  df_municipios_1turno[estado_percentual] = (df_municipios_1turno[ec[0]] / df_municipios_1turno[ec[1]] * 100).round(2)\n",
            "<ipython-input-142-c4464c3a7d30>:27: PerformanceWarning: DataFrame is highly fragmented.  This is usually the result of calling `frame.insert` many times, which has poor performance.  Consider joining all columns at once using pd.concat(axis=1) instead. To get a de-fragmented frame, use `newframe = frame.copy()`\n",
            "  df_municipios_1turno[estado_percentual] = (df_municipios_1turno[ec[0]] / df_municipios_1turno[ec[1]] * 100).round(2)\n",
            "<ipython-input-142-c4464c3a7d30>:27: PerformanceWarning: DataFrame is highly fragmented.  This is usually the result of calling `frame.insert` many times, which has poor performance.  Consider joining all columns at once using pd.concat(axis=1) instead. To get a de-fragmented frame, use `newframe = frame.copy()`\n",
            "  df_municipios_1turno[estado_percentual] = (df_municipios_1turno[ec[0]] / df_municipios_1turno[ec[1]] * 100).round(2)\n",
            "<ipython-input-142-c4464c3a7d30>:27: PerformanceWarning: DataFrame is highly fragmented.  This is usually the result of calling `frame.insert` many times, which has poor performance.  Consider joining all columns at once using pd.concat(axis=1) instead. To get a de-fragmented frame, use `newframe = frame.copy()`\n",
            "  df_municipios_1turno[estado_percentual] = (df_municipios_1turno[ec[0]] / df_municipios_1turno[ec[1]] * 100).round(2)\n",
            "<ipython-input-142-c4464c3a7d30>:27: PerformanceWarning: DataFrame is highly fragmented.  This is usually the result of calling `frame.insert` many times, which has poor performance.  Consider joining all columns at once using pd.concat(axis=1) instead. To get a de-fragmented frame, use `newframe = frame.copy()`\n",
            "  df_municipios_1turno[estado_percentual] = (df_municipios_1turno[ec[0]] / df_municipios_1turno[ec[1]] * 100).round(2)\n",
            "<ipython-input-142-c4464c3a7d30>:27: PerformanceWarning: DataFrame is highly fragmented.  This is usually the result of calling `frame.insert` many times, which has poor performance.  Consider joining all columns at once using pd.concat(axis=1) instead. To get a de-fragmented frame, use `newframe = frame.copy()`\n",
            "  df_municipios_1turno[estado_percentual] = (df_municipios_1turno[ec[0]] / df_municipios_1turno[ec[1]] * 100).round(2)\n",
            "<ipython-input-142-c4464c3a7d30>:27: PerformanceWarning: DataFrame is highly fragmented.  This is usually the result of calling `frame.insert` many times, which has poor performance.  Consider joining all columns at once using pd.concat(axis=1) instead. To get a de-fragmented frame, use `newframe = frame.copy()`\n",
            "  df_municipios_1turno[estado_percentual] = (df_municipios_1turno[ec[0]] / df_municipios_1turno[ec[1]] * 100).round(2)\n",
            "<ipython-input-142-c4464c3a7d30>:27: PerformanceWarning: DataFrame is highly fragmented.  This is usually the result of calling `frame.insert` many times, which has poor performance.  Consider joining all columns at once using pd.concat(axis=1) instead. To get a de-fragmented frame, use `newframe = frame.copy()`\n",
            "  df_municipios_1turno[estado_percentual] = (df_municipios_1turno[ec[0]] / df_municipios_1turno[ec[1]] * 100).round(2)\n",
            "<ipython-input-142-c4464c3a7d30>:27: PerformanceWarning: DataFrame is highly fragmented.  This is usually the result of calling `frame.insert` many times, which has poor performance.  Consider joining all columns at once using pd.concat(axis=1) instead. To get a de-fragmented frame, use `newframe = frame.copy()`\n",
            "  df_municipios_1turno[estado_percentual] = (df_municipios_1turno[ec[0]] / df_municipios_1turno[ec[1]] * 100).round(2)\n",
            "<ipython-input-142-c4464c3a7d30>:27: PerformanceWarning: DataFrame is highly fragmented.  This is usually the result of calling `frame.insert` many times, which has poor performance.  Consider joining all columns at once using pd.concat(axis=1) instead. To get a de-fragmented frame, use `newframe = frame.copy()`\n",
            "  df_municipios_1turno[estado_percentual] = (df_municipios_1turno[ec[0]] / df_municipios_1turno[ec[1]] * 100).round(2)\n",
            "<ipython-input-142-c4464c3a7d30>:27: PerformanceWarning: DataFrame is highly fragmented.  This is usually the result of calling `frame.insert` many times, which has poor performance.  Consider joining all columns at once using pd.concat(axis=1) instead. To get a de-fragmented frame, use `newframe = frame.copy()`\n",
            "  df_municipios_1turno[estado_percentual] = (df_municipios_1turno[ec[0]] / df_municipios_1turno[ec[1]] * 100).round(2)\n",
            "<ipython-input-142-c4464c3a7d30>:27: PerformanceWarning: DataFrame is highly fragmented.  This is usually the result of calling `frame.insert` many times, which has poor performance.  Consider joining all columns at once using pd.concat(axis=1) instead. To get a de-fragmented frame, use `newframe = frame.copy()`\n",
            "  df_municipios_1turno[estado_percentual] = (df_municipios_1turno[ec[0]] / df_municipios_1turno[ec[1]] * 100).round(2)\n",
            "<ipython-input-142-c4464c3a7d30>:27: PerformanceWarning: DataFrame is highly fragmented.  This is usually the result of calling `frame.insert` many times, which has poor performance.  Consider joining all columns at once using pd.concat(axis=1) instead. To get a de-fragmented frame, use `newframe = frame.copy()`\n",
            "  df_municipios_1turno[estado_percentual] = (df_municipios_1turno[ec[0]] / df_municipios_1turno[ec[1]] * 100).round(2)\n",
            "<ipython-input-142-c4464c3a7d30>:27: PerformanceWarning: DataFrame is highly fragmented.  This is usually the result of calling `frame.insert` many times, which has poor performance.  Consider joining all columns at once using pd.concat(axis=1) instead. To get a de-fragmented frame, use `newframe = frame.copy()`\n",
            "  df_municipios_1turno[estado_percentual] = (df_municipios_1turno[ec[0]] / df_municipios_1turno[ec[1]] * 100).round(2)\n",
            "<ipython-input-142-c4464c3a7d30>:27: PerformanceWarning: DataFrame is highly fragmented.  This is usually the result of calling `frame.insert` many times, which has poor performance.  Consider joining all columns at once using pd.concat(axis=1) instead. To get a de-fragmented frame, use `newframe = frame.copy()`\n",
            "  df_municipios_1turno[estado_percentual] = (df_municipios_1turno[ec[0]] / df_municipios_1turno[ec[1]] * 100).round(2)\n"
          ]
        }
      ],
      "source": [
        "estados_civil_percentual_feminino = {\n",
        "    '16_anos_solteiro_feminino_percentual(%)':['16_anos_solteiro_feminino','16_anos'],\n",
        "    '17_anos_solteiro_feminino_percentual(%)':['17_anos_solteiro_feminino','17_anos'],\n",
        "    '18_anos_solteiro_feminino_percentual(%)':['18_anos_solteiro_feminino','18_anos'],\n",
        "    '19_anos_solteiro_feminino_percentual(%)':['19_anos_solteiro_feminino','19_anos'],\n",
        "    '20_anos_solteiro_feminino_percentual(%)':['20_anos_solteiro_feminino','20_anos'],\n",
        "    '21_24_anos_solteiro_feminino_percentual(%)':['21_24_anos_solteiro_feminino','21_24_anos'],\n",
        "    '25_29_anos_solteiro_feminino_percentual(%)':['25_29_anos_solteiro_feminino','25_29_anos'],\n",
        "    '30_34_anos_solteiro_feminino_percentual(%)':['30_34_anos_solteiro_feminino','30_34_anos'],\n",
        "    '35_39_anos_solteiro_feminino_percentual(%)':['35_39_anos_solteiro_feminino','35_39_anos'],\n",
        "    '40_44_anos_solteiro_feminino_percentual(%)':['40_44_anos_solteiro_feminino','40_44_anos'],\n",
        "    '45_49_anos_solteiro_feminino_percentual(%)':['45_49_anos_solteiro_feminino','45_49_anos'],\n",
        "    '50_54_anos_solteiro_feminino_percentual(%)':['50_54_anos_solteiro_feminino','50_54_anos'],\n",
        "    '55_59_anos_solteiro_feminino_percentual(%)':['55_59_anos_solteiro_feminino','55_59_anos'],\n",
        "    '60_64_anos_solteiro_feminino_percentual(%)':['60_64_anos_solteiro_feminino','60_64_anos'],\n",
        "    '65_69_anos_solteiro_feminino_percentual(%)':['65_69_anos_solteiro_feminino','65_69_anos'],\n",
        "    '70_74_anos_solteiro_feminino_percentual(%)':['70_74_anos_solteiro_feminino','70_74_anos'],\n",
        "    '75_79_anos_solteiro_feminino_percentual(%)':['75_79_anos_solteiro_feminino','75_79_anos'],\n",
        "    '80_84_anos_solteiro_feminino_percentual(%)':['80_84_anos_solteiro_feminino','80_84_anos'],\n",
        "    '85_89_anos_solteiro_feminino_percentual(%)':['85_89_anos_solteiro_feminino','85_89_anos'],\n",
        "    '90_94_anos_solteiro_feminino_percentual(%)':['90_94_anos_solteiro_feminino','90_94_anos'],\n",
        "    '95_99_anos_solteiro_feminino_percentual(%)':['95_99_anos_solteiro_feminino','95_99_anos'],\n",
        "    '100_anos_solteiro_feminino_percentual(%)':['100_anos_solteiro_feminino','100_anos'],\n",
        "}\n",
        "\n",
        "for estado_percentual, ec in estados_civil_percentual_feminino.items():\n",
        "  df_municipios_1turno[estado_percentual] = (df_municipios_1turno[ec[0]] / df_municipios_1turno[ec[1]] * 100).round(2)\n",
        "\n",
        "del estados_civil_percentual_feminino"
      ]
    },
    {
      "cell_type": "markdown",
      "metadata": {
        "id": "uEx7Z05lNe4M"
      },
      "source": [
        "## Eleitorado feminino casado por faixa etária"
      ]
    },
    {
      "cell_type": "code",
      "execution_count": null,
      "metadata": {
        "id": "1d9sn1IINe4M"
      },
      "outputs": [],
      "source": [
        "# Filtra os dados apenas para o gênero masculino e solteiro\n",
        "df_turno_1_2020_feminino = df_turno_1_2020[(df_turno_1_2020['DS_GENERO'] == 'FEMININO') & (df_turno_1_2020['DS_ESTADO_CIVIL'] == 'CASADO')].groupby(['SG_UF', 'NM_MUNICIPIO', 'DS_FAIXA_ETARIA',])['QT_APTOS'].sum().reset_index()\n",
        "\n",
        "# Realiza o pivot para transformar as colunas de grau de escolaridade em colunas do dataframe\n",
        "pivot_feminino = df_turno_1_2020_feminino.pivot_table(index=['SG_UF', 'NM_MUNICIPIO'], columns='DS_FAIXA_ETARIA', values='QT_APTOS').reset_index()\n",
        "pivot_feminino = pivot_feminino.fillna(0)\n",
        "pivot_feminino = pivot_feminino.rename(columns={\n",
        "       '16 anos':'16_anos_casado_feminino', '17 anos':'17_anos_casado_feminino', '18 anos':'18_anos_casado_feminino',\n",
        "       '19 anos':'19_anos_casado_feminino', '20 anos':'20_anos_casado_feminino', '21 a 24 anos':'21_24_anos_casado_feminino',\n",
        "       '25 a 29 anos':'25_29_anos_casado_feminino', '30 a 34 anos':'30_34_anos_casado_feminino', '35 a 39 anos':'35_39_anos_casado_feminino',\n",
        "       '40 a 44 anos':'40_44_anos_casado_feminino', '45 a 49 anos':'45_49_anos_casado_feminino',\n",
        "       '50 a 54 anos':'50_54_anos_casado_feminino', '55 a 59 anos':'55_59_anos_casado_feminino',\n",
        "       '60 a 64 anos':'60_64_anos_casado_feminino', '65 a 69 anos':'65_69_anos_casado_feminino',\n",
        "       '70 a 74 anos':'70_74_anos_casado_feminino', '75 a 79 anos':'75_79_anos_casado_feminino',\n",
        "       '80 a 84 anos':'80_84_anos_casado_feminino', '85 a 89 anos':'85_89_anos_casado_feminino',\n",
        "       '90 a 94 anos':'90_94_anos_casado_feminino', '95 a 99 anos':'95_99_anos_casado_feminino',\n",
        "       '100 anos ou mais':'100_anos_casado_feminino',})\n",
        "\n",
        "pivot_feminino = pivot_feminino[['SG_UF', 'NM_MUNICIPIO',\n",
        "       '16_anos_casado_feminino', '17_anos_casado_feminino',\n",
        "       '18_anos_casado_feminino', '19_anos_casado_feminino',\n",
        "       '20_anos_casado_feminino', '21_24_anos_casado_feminino',\n",
        "       '25_29_anos_casado_feminino', '30_34_anos_casado_feminino',\n",
        "       '35_39_anos_casado_feminino', '40_44_anos_casado_feminino',\n",
        "       '45_49_anos_casado_feminino', '50_54_anos_casado_feminino',\n",
        "       '55_59_anos_casado_feminino', '60_64_anos_casado_feminino',\n",
        "       '65_69_anos_casado_feminino', '70_74_anos_casado_feminino',\n",
        "       '75_79_anos_casado_feminino', '80_84_anos_casado_feminino',\n",
        "       '85_89_anos_casado_feminino', '90_94_anos_casado_feminino',\n",
        "       '95_99_anos_casado_feminino', '100_anos_casado_feminino',]]\n",
        "\n",
        "for i in pivot_feminino.columns:\n",
        "  if ((i != 'SG_UF') & (i != 'NM_MUNICIPIO')):\n",
        "    pivot_feminino[i] = pivot_feminino[i].astype(int)\n",
        "\n",
        "df_municipios_1turno = df_municipios_1turno.merge(pivot_feminino, on=['SG_UF', 'NM_MUNICIPIO'], how='left')"
      ]
    },
    {
      "cell_type": "code",
      "execution_count": null,
      "metadata": {
        "id": "tGjJsTUBNe4M",
        "colab": {
          "base_uri": "https://localhost:8080/"
        },
        "outputId": "9ae37905-f328-41de-eaee-e980f6da977c"
      },
      "outputs": [
        {
          "output_type": "stream",
          "name": "stderr",
          "text": [
            "<ipython-input-144-f8926f5acb7e>:27: PerformanceWarning: DataFrame is highly fragmented.  This is usually the result of calling `frame.insert` many times, which has poor performance.  Consider joining all columns at once using pd.concat(axis=1) instead. To get a de-fragmented frame, use `newframe = frame.copy()`\n",
            "  df_municipios_1turno[estado_percentual] = (df_municipios_1turno[ec[0]] / df_municipios_1turno[ec[1]] * 100).round(2)\n",
            "<ipython-input-144-f8926f5acb7e>:27: PerformanceWarning: DataFrame is highly fragmented.  This is usually the result of calling `frame.insert` many times, which has poor performance.  Consider joining all columns at once using pd.concat(axis=1) instead. To get a de-fragmented frame, use `newframe = frame.copy()`\n",
            "  df_municipios_1turno[estado_percentual] = (df_municipios_1turno[ec[0]] / df_municipios_1turno[ec[1]] * 100).round(2)\n",
            "<ipython-input-144-f8926f5acb7e>:27: PerformanceWarning: DataFrame is highly fragmented.  This is usually the result of calling `frame.insert` many times, which has poor performance.  Consider joining all columns at once using pd.concat(axis=1) instead. To get a de-fragmented frame, use `newframe = frame.copy()`\n",
            "  df_municipios_1turno[estado_percentual] = (df_municipios_1turno[ec[0]] / df_municipios_1turno[ec[1]] * 100).round(2)\n",
            "<ipython-input-144-f8926f5acb7e>:27: PerformanceWarning: DataFrame is highly fragmented.  This is usually the result of calling `frame.insert` many times, which has poor performance.  Consider joining all columns at once using pd.concat(axis=1) instead. To get a de-fragmented frame, use `newframe = frame.copy()`\n",
            "  df_municipios_1turno[estado_percentual] = (df_municipios_1turno[ec[0]] / df_municipios_1turno[ec[1]] * 100).round(2)\n",
            "<ipython-input-144-f8926f5acb7e>:27: PerformanceWarning: DataFrame is highly fragmented.  This is usually the result of calling `frame.insert` many times, which has poor performance.  Consider joining all columns at once using pd.concat(axis=1) instead. To get a de-fragmented frame, use `newframe = frame.copy()`\n",
            "  df_municipios_1turno[estado_percentual] = (df_municipios_1turno[ec[0]] / df_municipios_1turno[ec[1]] * 100).round(2)\n",
            "<ipython-input-144-f8926f5acb7e>:27: PerformanceWarning: DataFrame is highly fragmented.  This is usually the result of calling `frame.insert` many times, which has poor performance.  Consider joining all columns at once using pd.concat(axis=1) instead. To get a de-fragmented frame, use `newframe = frame.copy()`\n",
            "  df_municipios_1turno[estado_percentual] = (df_municipios_1turno[ec[0]] / df_municipios_1turno[ec[1]] * 100).round(2)\n",
            "<ipython-input-144-f8926f5acb7e>:27: PerformanceWarning: DataFrame is highly fragmented.  This is usually the result of calling `frame.insert` many times, which has poor performance.  Consider joining all columns at once using pd.concat(axis=1) instead. To get a de-fragmented frame, use `newframe = frame.copy()`\n",
            "  df_municipios_1turno[estado_percentual] = (df_municipios_1turno[ec[0]] / df_municipios_1turno[ec[1]] * 100).round(2)\n",
            "<ipython-input-144-f8926f5acb7e>:27: PerformanceWarning: DataFrame is highly fragmented.  This is usually the result of calling `frame.insert` many times, which has poor performance.  Consider joining all columns at once using pd.concat(axis=1) instead. To get a de-fragmented frame, use `newframe = frame.copy()`\n",
            "  df_municipios_1turno[estado_percentual] = (df_municipios_1turno[ec[0]] / df_municipios_1turno[ec[1]] * 100).round(2)\n",
            "<ipython-input-144-f8926f5acb7e>:27: PerformanceWarning: DataFrame is highly fragmented.  This is usually the result of calling `frame.insert` many times, which has poor performance.  Consider joining all columns at once using pd.concat(axis=1) instead. To get a de-fragmented frame, use `newframe = frame.copy()`\n",
            "  df_municipios_1turno[estado_percentual] = (df_municipios_1turno[ec[0]] / df_municipios_1turno[ec[1]] * 100).round(2)\n",
            "<ipython-input-144-f8926f5acb7e>:27: PerformanceWarning: DataFrame is highly fragmented.  This is usually the result of calling `frame.insert` many times, which has poor performance.  Consider joining all columns at once using pd.concat(axis=1) instead. To get a de-fragmented frame, use `newframe = frame.copy()`\n",
            "  df_municipios_1turno[estado_percentual] = (df_municipios_1turno[ec[0]] / df_municipios_1turno[ec[1]] * 100).round(2)\n",
            "<ipython-input-144-f8926f5acb7e>:27: PerformanceWarning: DataFrame is highly fragmented.  This is usually the result of calling `frame.insert` many times, which has poor performance.  Consider joining all columns at once using pd.concat(axis=1) instead. To get a de-fragmented frame, use `newframe = frame.copy()`\n",
            "  df_municipios_1turno[estado_percentual] = (df_municipios_1turno[ec[0]] / df_municipios_1turno[ec[1]] * 100).round(2)\n",
            "<ipython-input-144-f8926f5acb7e>:27: PerformanceWarning: DataFrame is highly fragmented.  This is usually the result of calling `frame.insert` many times, which has poor performance.  Consider joining all columns at once using pd.concat(axis=1) instead. To get a de-fragmented frame, use `newframe = frame.copy()`\n",
            "  df_municipios_1turno[estado_percentual] = (df_municipios_1turno[ec[0]] / df_municipios_1turno[ec[1]] * 100).round(2)\n",
            "<ipython-input-144-f8926f5acb7e>:27: PerformanceWarning: DataFrame is highly fragmented.  This is usually the result of calling `frame.insert` many times, which has poor performance.  Consider joining all columns at once using pd.concat(axis=1) instead. To get a de-fragmented frame, use `newframe = frame.copy()`\n",
            "  df_municipios_1turno[estado_percentual] = (df_municipios_1turno[ec[0]] / df_municipios_1turno[ec[1]] * 100).round(2)\n",
            "<ipython-input-144-f8926f5acb7e>:27: PerformanceWarning: DataFrame is highly fragmented.  This is usually the result of calling `frame.insert` many times, which has poor performance.  Consider joining all columns at once using pd.concat(axis=1) instead. To get a de-fragmented frame, use `newframe = frame.copy()`\n",
            "  df_municipios_1turno[estado_percentual] = (df_municipios_1turno[ec[0]] / df_municipios_1turno[ec[1]] * 100).round(2)\n",
            "<ipython-input-144-f8926f5acb7e>:27: PerformanceWarning: DataFrame is highly fragmented.  This is usually the result of calling `frame.insert` many times, which has poor performance.  Consider joining all columns at once using pd.concat(axis=1) instead. To get a de-fragmented frame, use `newframe = frame.copy()`\n",
            "  df_municipios_1turno[estado_percentual] = (df_municipios_1turno[ec[0]] / df_municipios_1turno[ec[1]] * 100).round(2)\n",
            "<ipython-input-144-f8926f5acb7e>:27: PerformanceWarning: DataFrame is highly fragmented.  This is usually the result of calling `frame.insert` many times, which has poor performance.  Consider joining all columns at once using pd.concat(axis=1) instead. To get a de-fragmented frame, use `newframe = frame.copy()`\n",
            "  df_municipios_1turno[estado_percentual] = (df_municipios_1turno[ec[0]] / df_municipios_1turno[ec[1]] * 100).round(2)\n",
            "<ipython-input-144-f8926f5acb7e>:27: PerformanceWarning: DataFrame is highly fragmented.  This is usually the result of calling `frame.insert` many times, which has poor performance.  Consider joining all columns at once using pd.concat(axis=1) instead. To get a de-fragmented frame, use `newframe = frame.copy()`\n",
            "  df_municipios_1turno[estado_percentual] = (df_municipios_1turno[ec[0]] / df_municipios_1turno[ec[1]] * 100).round(2)\n",
            "<ipython-input-144-f8926f5acb7e>:27: PerformanceWarning: DataFrame is highly fragmented.  This is usually the result of calling `frame.insert` many times, which has poor performance.  Consider joining all columns at once using pd.concat(axis=1) instead. To get a de-fragmented frame, use `newframe = frame.copy()`\n",
            "  df_municipios_1turno[estado_percentual] = (df_municipios_1turno[ec[0]] / df_municipios_1turno[ec[1]] * 100).round(2)\n",
            "<ipython-input-144-f8926f5acb7e>:27: PerformanceWarning: DataFrame is highly fragmented.  This is usually the result of calling `frame.insert` many times, which has poor performance.  Consider joining all columns at once using pd.concat(axis=1) instead. To get a de-fragmented frame, use `newframe = frame.copy()`\n",
            "  df_municipios_1turno[estado_percentual] = (df_municipios_1turno[ec[0]] / df_municipios_1turno[ec[1]] * 100).round(2)\n",
            "<ipython-input-144-f8926f5acb7e>:27: PerformanceWarning: DataFrame is highly fragmented.  This is usually the result of calling `frame.insert` many times, which has poor performance.  Consider joining all columns at once using pd.concat(axis=1) instead. To get a de-fragmented frame, use `newframe = frame.copy()`\n",
            "  df_municipios_1turno[estado_percentual] = (df_municipios_1turno[ec[0]] / df_municipios_1turno[ec[1]] * 100).round(2)\n",
            "<ipython-input-144-f8926f5acb7e>:27: PerformanceWarning: DataFrame is highly fragmented.  This is usually the result of calling `frame.insert` many times, which has poor performance.  Consider joining all columns at once using pd.concat(axis=1) instead. To get a de-fragmented frame, use `newframe = frame.copy()`\n",
            "  df_municipios_1turno[estado_percentual] = (df_municipios_1turno[ec[0]] / df_municipios_1turno[ec[1]] * 100).round(2)\n",
            "<ipython-input-144-f8926f5acb7e>:27: PerformanceWarning: DataFrame is highly fragmented.  This is usually the result of calling `frame.insert` many times, which has poor performance.  Consider joining all columns at once using pd.concat(axis=1) instead. To get a de-fragmented frame, use `newframe = frame.copy()`\n",
            "  df_municipios_1turno[estado_percentual] = (df_municipios_1turno[ec[0]] / df_municipios_1turno[ec[1]] * 100).round(2)\n"
          ]
        }
      ],
      "source": [
        "estados_civil_percentual_feminino = {\n",
        "    '16_anos_casado_feminino_percentual(%)':['16_anos_casado_feminino','16_anos'],\n",
        "    '17_anos_casado_feminino_percentual(%)':['17_anos_casado_feminino','17_anos'],\n",
        "    '18_anos_casado_feminino_percentual(%)':['18_anos_casado_feminino','18_anos'],\n",
        "    '19_anos_casado_feminino_percentual(%)':['19_anos_casado_feminino','19_anos'],\n",
        "    '20_anos_casado_feminino_percentual(%)':['20_anos_casado_feminino','20_anos'],\n",
        "    '21_24_anos_casado_feminino_percentual(%)':['21_24_anos_casado_feminino','21_24_anos'],\n",
        "    '25_29_anos_casado_feminino_percentual(%)':['25_29_anos_casado_feminino','25_29_anos'],\n",
        "    '30_34_anos_casado_feminino_percentual(%)':['30_34_anos_casado_feminino','30_34_anos'],\n",
        "    '35_39_anos_casado_feminino_percentual(%)':['35_39_anos_casado_feminino','35_39_anos'],\n",
        "    '40_44_anos_casado_feminino_percentual(%)':['40_44_anos_casado_feminino','40_44_anos'],\n",
        "    '45_49_anos_casado_feminino_percentual(%)':['45_49_anos_casado_feminino','45_49_anos'],\n",
        "    '50_54_anos_casado_feminino_percentual(%)':['50_54_anos_casado_feminino','50_54_anos'],\n",
        "    '55_59_anos_casado_feminino_percentual(%)':['55_59_anos_casado_feminino','55_59_anos'],\n",
        "    '60_64_anos_casado_feminino_percentual(%)':['60_64_anos_casado_feminino','60_64_anos'],\n",
        "    '65_69_anos_casado_feminino_percentual(%)':['65_69_anos_casado_feminino','65_69_anos'],\n",
        "    '70_74_anos_casado_feminino_percentual(%)':['70_74_anos_casado_feminino','70_74_anos'],\n",
        "    '75_79_anos_casado_feminino_percentual(%)':['75_79_anos_casado_feminino','75_79_anos'],\n",
        "    '80_84_anos_casado_feminino_percentual(%)':['80_84_anos_casado_feminino','80_84_anos'],\n",
        "    '85_89_anos_casado_feminino_percentual(%)':['85_89_anos_casado_feminino','85_89_anos'],\n",
        "    '90_94_anos_casado_feminino_percentual(%)':['90_94_anos_casado_feminino','90_94_anos'],\n",
        "    '95_99_anos_casado_feminino_percentual(%)':['95_99_anos_casado_feminino','95_99_anos'],\n",
        "    '100_anos_casado_feminino_percentual(%)':['100_anos_casado_feminino','100_anos'],\n",
        "}\n",
        "\n",
        "for estado_percentual, ec in estados_civil_percentual_feminino.items():\n",
        "  df_municipios_1turno[estado_percentual] = (df_municipios_1turno[ec[0]] / df_municipios_1turno[ec[1]] * 100).round(2)\n",
        "\n",
        "del estados_civil_percentual_feminino"
      ]
    },
    {
      "cell_type": "markdown",
      "metadata": {
        "id": "rTxJ4aenNe4N"
      },
      "source": [
        "## Eleitorado feminino divorciado por faixa etária"
      ]
    },
    {
      "cell_type": "code",
      "execution_count": null,
      "metadata": {
        "id": "6ySUpeXqNe4N"
      },
      "outputs": [],
      "source": [
        "# Filtra os dados apenas para o gênero masculino e solteiro\n",
        "df_turno_1_2020_feminino = df_turno_1_2020[(df_turno_1_2020['DS_GENERO'] == 'FEMININO') & (df_turno_1_2020['DS_ESTADO_CIVIL'] == 'DIVORCIADO')].groupby(['SG_UF', 'NM_MUNICIPIO', 'DS_FAIXA_ETARIA',])['QT_APTOS'].sum().reset_index()\n",
        "\n",
        "# Realiza o pivot para transformar as colunas de grau de escolaridade em colunas do dataframe\n",
        "pivot_feminino = df_turno_1_2020_feminino.pivot_table(index=['SG_UF', 'NM_MUNICIPIO'], columns='DS_FAIXA_ETARIA', values='QT_APTOS').reset_index()\n",
        "pivot_feminino = pivot_feminino.fillna(0)\n",
        "pivot_feminino = pivot_feminino.rename(columns={\n",
        "       '16 anos':'16_anos_divorciado_feminino', '17 anos':'17_anos_divorciado_feminino', '18 anos':'18_anos_divorciado_feminino',\n",
        "       '19 anos':'19_anos_divorciado_feminino', '20 anos':'20_anos_divorciado_feminino', '21 a 24 anos':'21_24_anos_divorciado_feminino',\n",
        "       '25 a 29 anos':'25_29_anos_divorciado_feminino', '30 a 34 anos':'30_34_anos_divorciado_feminino', '35 a 39 anos':'35_39_anos_divorciado_feminino',\n",
        "       '40 a 44 anos':'40_44_anos_divorciado_feminino', '45 a 49 anos':'45_49_anos_divorciado_feminino',\n",
        "       '50 a 54 anos':'50_54_anos_divorciado_feminino', '55 a 59 anos':'55_59_anos_divorciado_feminino',\n",
        "       '60 a 64 anos':'60_64_anos_divorciado_feminino', '65 a 69 anos':'65_69_anos_divorciado_feminino',\n",
        "       '70 a 74 anos':'70_74_anos_divorciado_feminino', '75 a 79 anos':'75_79_anos_divorciado_feminino',\n",
        "       '80 a 84 anos':'80_84_anos_divorciado_feminino', '85 a 89 anos':'85_89_anos_divorciado_feminino',\n",
        "       '90 a 94 anos':'90_94_anos_divorciado_feminino', '95 a 99 anos':'95_99_anos_divorciado_feminino',\n",
        "       '100 anos ou mais':'100_anos_divorciado_feminino',})\n",
        "\n",
        "pivot_feminino = pivot_feminino[['SG_UF', 'NM_MUNICIPIO',\n",
        "       '16_anos_divorciado_feminino', '17_anos_divorciado_feminino',\n",
        "       '18_anos_divorciado_feminino', '19_anos_divorciado_feminino',\n",
        "       '20_anos_divorciado_feminino', '21_24_anos_divorciado_feminino',\n",
        "       '25_29_anos_divorciado_feminino', '30_34_anos_divorciado_feminino',\n",
        "       '35_39_anos_divorciado_feminino', '40_44_anos_divorciado_feminino',\n",
        "       '45_49_anos_divorciado_feminino', '50_54_anos_divorciado_feminino',\n",
        "       '55_59_anos_divorciado_feminino', '60_64_anos_divorciado_feminino',\n",
        "       '65_69_anos_divorciado_feminino', '70_74_anos_divorciado_feminino',\n",
        "       '75_79_anos_divorciado_feminino', '80_84_anos_divorciado_feminino',\n",
        "       '85_89_anos_divorciado_feminino', '90_94_anos_divorciado_feminino',\n",
        "       '95_99_anos_divorciado_feminino', '100_anos_divorciado_feminino',]]\n",
        "\n",
        "for i in pivot_feminino.columns:\n",
        "  if ((i != 'SG_UF') & (i != 'NM_MUNICIPIO')):\n",
        "    pivot_feminino[i] = pivot_feminino[i].astype(int)\n",
        "\n",
        "df_municipios_1turno = df_municipios_1turno.merge(pivot_feminino, on=['SG_UF', 'NM_MUNICIPIO'], how='left')"
      ]
    },
    {
      "cell_type": "code",
      "execution_count": null,
      "metadata": {
        "id": "Wvf3BLTENe4O",
        "colab": {
          "base_uri": "https://localhost:8080/"
        },
        "outputId": "c0f6b573-e7fb-40da-dce3-c589d870146f"
      },
      "outputs": [
        {
          "output_type": "stream",
          "name": "stderr",
          "text": [
            "<ipython-input-146-511200c20cc0>:27: PerformanceWarning: DataFrame is highly fragmented.  This is usually the result of calling `frame.insert` many times, which has poor performance.  Consider joining all columns at once using pd.concat(axis=1) instead. To get a de-fragmented frame, use `newframe = frame.copy()`\n",
            "  df_municipios_1turno[estado_percentual] = (df_municipios_1turno[ec[0]] / df_municipios_1turno[ec[1]] * 100).round(2)\n",
            "<ipython-input-146-511200c20cc0>:27: PerformanceWarning: DataFrame is highly fragmented.  This is usually the result of calling `frame.insert` many times, which has poor performance.  Consider joining all columns at once using pd.concat(axis=1) instead. To get a de-fragmented frame, use `newframe = frame.copy()`\n",
            "  df_municipios_1turno[estado_percentual] = (df_municipios_1turno[ec[0]] / df_municipios_1turno[ec[1]] * 100).round(2)\n",
            "<ipython-input-146-511200c20cc0>:27: PerformanceWarning: DataFrame is highly fragmented.  This is usually the result of calling `frame.insert` many times, which has poor performance.  Consider joining all columns at once using pd.concat(axis=1) instead. To get a de-fragmented frame, use `newframe = frame.copy()`\n",
            "  df_municipios_1turno[estado_percentual] = (df_municipios_1turno[ec[0]] / df_municipios_1turno[ec[1]] * 100).round(2)\n",
            "<ipython-input-146-511200c20cc0>:27: PerformanceWarning: DataFrame is highly fragmented.  This is usually the result of calling `frame.insert` many times, which has poor performance.  Consider joining all columns at once using pd.concat(axis=1) instead. To get a de-fragmented frame, use `newframe = frame.copy()`\n",
            "  df_municipios_1turno[estado_percentual] = (df_municipios_1turno[ec[0]] / df_municipios_1turno[ec[1]] * 100).round(2)\n",
            "<ipython-input-146-511200c20cc0>:27: PerformanceWarning: DataFrame is highly fragmented.  This is usually the result of calling `frame.insert` many times, which has poor performance.  Consider joining all columns at once using pd.concat(axis=1) instead. To get a de-fragmented frame, use `newframe = frame.copy()`\n",
            "  df_municipios_1turno[estado_percentual] = (df_municipios_1turno[ec[0]] / df_municipios_1turno[ec[1]] * 100).round(2)\n",
            "<ipython-input-146-511200c20cc0>:27: PerformanceWarning: DataFrame is highly fragmented.  This is usually the result of calling `frame.insert` many times, which has poor performance.  Consider joining all columns at once using pd.concat(axis=1) instead. To get a de-fragmented frame, use `newframe = frame.copy()`\n",
            "  df_municipios_1turno[estado_percentual] = (df_municipios_1turno[ec[0]] / df_municipios_1turno[ec[1]] * 100).round(2)\n",
            "<ipython-input-146-511200c20cc0>:27: PerformanceWarning: DataFrame is highly fragmented.  This is usually the result of calling `frame.insert` many times, which has poor performance.  Consider joining all columns at once using pd.concat(axis=1) instead. To get a de-fragmented frame, use `newframe = frame.copy()`\n",
            "  df_municipios_1turno[estado_percentual] = (df_municipios_1turno[ec[0]] / df_municipios_1turno[ec[1]] * 100).round(2)\n",
            "<ipython-input-146-511200c20cc0>:27: PerformanceWarning: DataFrame is highly fragmented.  This is usually the result of calling `frame.insert` many times, which has poor performance.  Consider joining all columns at once using pd.concat(axis=1) instead. To get a de-fragmented frame, use `newframe = frame.copy()`\n",
            "  df_municipios_1turno[estado_percentual] = (df_municipios_1turno[ec[0]] / df_municipios_1turno[ec[1]] * 100).round(2)\n",
            "<ipython-input-146-511200c20cc0>:27: PerformanceWarning: DataFrame is highly fragmented.  This is usually the result of calling `frame.insert` many times, which has poor performance.  Consider joining all columns at once using pd.concat(axis=1) instead. To get a de-fragmented frame, use `newframe = frame.copy()`\n",
            "  df_municipios_1turno[estado_percentual] = (df_municipios_1turno[ec[0]] / df_municipios_1turno[ec[1]] * 100).round(2)\n",
            "<ipython-input-146-511200c20cc0>:27: PerformanceWarning: DataFrame is highly fragmented.  This is usually the result of calling `frame.insert` many times, which has poor performance.  Consider joining all columns at once using pd.concat(axis=1) instead. To get a de-fragmented frame, use `newframe = frame.copy()`\n",
            "  df_municipios_1turno[estado_percentual] = (df_municipios_1turno[ec[0]] / df_municipios_1turno[ec[1]] * 100).round(2)\n",
            "<ipython-input-146-511200c20cc0>:27: PerformanceWarning: DataFrame is highly fragmented.  This is usually the result of calling `frame.insert` many times, which has poor performance.  Consider joining all columns at once using pd.concat(axis=1) instead. To get a de-fragmented frame, use `newframe = frame.copy()`\n",
            "  df_municipios_1turno[estado_percentual] = (df_municipios_1turno[ec[0]] / df_municipios_1turno[ec[1]] * 100).round(2)\n",
            "<ipython-input-146-511200c20cc0>:27: PerformanceWarning: DataFrame is highly fragmented.  This is usually the result of calling `frame.insert` many times, which has poor performance.  Consider joining all columns at once using pd.concat(axis=1) instead. To get a de-fragmented frame, use `newframe = frame.copy()`\n",
            "  df_municipios_1turno[estado_percentual] = (df_municipios_1turno[ec[0]] / df_municipios_1turno[ec[1]] * 100).round(2)\n",
            "<ipython-input-146-511200c20cc0>:27: PerformanceWarning: DataFrame is highly fragmented.  This is usually the result of calling `frame.insert` many times, which has poor performance.  Consider joining all columns at once using pd.concat(axis=1) instead. To get a de-fragmented frame, use `newframe = frame.copy()`\n",
            "  df_municipios_1turno[estado_percentual] = (df_municipios_1turno[ec[0]] / df_municipios_1turno[ec[1]] * 100).round(2)\n",
            "<ipython-input-146-511200c20cc0>:27: PerformanceWarning: DataFrame is highly fragmented.  This is usually the result of calling `frame.insert` many times, which has poor performance.  Consider joining all columns at once using pd.concat(axis=1) instead. To get a de-fragmented frame, use `newframe = frame.copy()`\n",
            "  df_municipios_1turno[estado_percentual] = (df_municipios_1turno[ec[0]] / df_municipios_1turno[ec[1]] * 100).round(2)\n",
            "<ipython-input-146-511200c20cc0>:27: PerformanceWarning: DataFrame is highly fragmented.  This is usually the result of calling `frame.insert` many times, which has poor performance.  Consider joining all columns at once using pd.concat(axis=1) instead. To get a de-fragmented frame, use `newframe = frame.copy()`\n",
            "  df_municipios_1turno[estado_percentual] = (df_municipios_1turno[ec[0]] / df_municipios_1turno[ec[1]] * 100).round(2)\n",
            "<ipython-input-146-511200c20cc0>:27: PerformanceWarning: DataFrame is highly fragmented.  This is usually the result of calling `frame.insert` many times, which has poor performance.  Consider joining all columns at once using pd.concat(axis=1) instead. To get a de-fragmented frame, use `newframe = frame.copy()`\n",
            "  df_municipios_1turno[estado_percentual] = (df_municipios_1turno[ec[0]] / df_municipios_1turno[ec[1]] * 100).round(2)\n",
            "<ipython-input-146-511200c20cc0>:27: PerformanceWarning: DataFrame is highly fragmented.  This is usually the result of calling `frame.insert` many times, which has poor performance.  Consider joining all columns at once using pd.concat(axis=1) instead. To get a de-fragmented frame, use `newframe = frame.copy()`\n",
            "  df_municipios_1turno[estado_percentual] = (df_municipios_1turno[ec[0]] / df_municipios_1turno[ec[1]] * 100).round(2)\n",
            "<ipython-input-146-511200c20cc0>:27: PerformanceWarning: DataFrame is highly fragmented.  This is usually the result of calling `frame.insert` many times, which has poor performance.  Consider joining all columns at once using pd.concat(axis=1) instead. To get a de-fragmented frame, use `newframe = frame.copy()`\n",
            "  df_municipios_1turno[estado_percentual] = (df_municipios_1turno[ec[0]] / df_municipios_1turno[ec[1]] * 100).round(2)\n",
            "<ipython-input-146-511200c20cc0>:27: PerformanceWarning: DataFrame is highly fragmented.  This is usually the result of calling `frame.insert` many times, which has poor performance.  Consider joining all columns at once using pd.concat(axis=1) instead. To get a de-fragmented frame, use `newframe = frame.copy()`\n",
            "  df_municipios_1turno[estado_percentual] = (df_municipios_1turno[ec[0]] / df_municipios_1turno[ec[1]] * 100).round(2)\n",
            "<ipython-input-146-511200c20cc0>:27: PerformanceWarning: DataFrame is highly fragmented.  This is usually the result of calling `frame.insert` many times, which has poor performance.  Consider joining all columns at once using pd.concat(axis=1) instead. To get a de-fragmented frame, use `newframe = frame.copy()`\n",
            "  df_municipios_1turno[estado_percentual] = (df_municipios_1turno[ec[0]] / df_municipios_1turno[ec[1]] * 100).round(2)\n",
            "<ipython-input-146-511200c20cc0>:27: PerformanceWarning: DataFrame is highly fragmented.  This is usually the result of calling `frame.insert` many times, which has poor performance.  Consider joining all columns at once using pd.concat(axis=1) instead. To get a de-fragmented frame, use `newframe = frame.copy()`\n",
            "  df_municipios_1turno[estado_percentual] = (df_municipios_1turno[ec[0]] / df_municipios_1turno[ec[1]] * 100).round(2)\n",
            "<ipython-input-146-511200c20cc0>:27: PerformanceWarning: DataFrame is highly fragmented.  This is usually the result of calling `frame.insert` many times, which has poor performance.  Consider joining all columns at once using pd.concat(axis=1) instead. To get a de-fragmented frame, use `newframe = frame.copy()`\n",
            "  df_municipios_1turno[estado_percentual] = (df_municipios_1turno[ec[0]] / df_municipios_1turno[ec[1]] * 100).round(2)\n"
          ]
        }
      ],
      "source": [
        "estados_civil_percentual_feminino = {\n",
        "    '16_anos_divorciado_feminino_percentual(%)':['16_anos_divorciado_feminino','16_anos'],\n",
        "    '17_anos_divorciado_feminino_percentual(%)':['17_anos_divorciado_feminino','17_anos'],\n",
        "    '18_anos_divorciado_feminino_percentual(%)':['18_anos_divorciado_feminino','18_anos'],\n",
        "    '19_anos_divorciado_feminino_percentual(%)':['19_anos_divorciado_feminino','19_anos'],\n",
        "    '20_anos_divorciado_feminino_percentual(%)':['20_anos_divorciado_feminino','20_anos'],\n",
        "    '21_24_anos_divorciado_feminino_percentual(%)':['21_24_anos_divorciado_feminino','21_24_anos'],\n",
        "    '25_29_anos_divorciado_feminino_percentual(%)':['25_29_anos_divorciado_feminino','25_29_anos'],\n",
        "    '30_34_anos_divorciado_feminino_percentual(%)':['30_34_anos_divorciado_feminino','30_34_anos'],\n",
        "    '35_39_anos_divorciado_feminino_percentual(%)':['35_39_anos_divorciado_feminino','35_39_anos'],\n",
        "    '40_44_anos_divorciado_feminino_percentual(%)':['40_44_anos_divorciado_feminino','40_44_anos'],\n",
        "    '45_49_anos_divorciado_feminino_percentual(%)':['45_49_anos_divorciado_feminino','45_49_anos'],\n",
        "    '50_54_anos_divorciado_feminino_percentual(%)':['50_54_anos_divorciado_feminino','50_54_anos'],\n",
        "    '55_59_anos_divorciado_feminino_percentual(%)':['55_59_anos_divorciado_feminino','55_59_anos'],\n",
        "    '60_64_anos_divorciado_feminino_percentual(%)':['60_64_anos_divorciado_feminino','60_64_anos'],\n",
        "    '65_69_anos_divorciado_feminino_percentual(%)':['65_69_anos_divorciado_feminino','65_69_anos'],\n",
        "    '70_74_anos_divorciado_feminino_percentual(%)':['70_74_anos_divorciado_feminino','70_74_anos'],\n",
        "    '75_79_anos_divorciado_feminino_percentual(%)':['75_79_anos_divorciado_feminino','75_79_anos'],\n",
        "    '80_84_anos_divorciado_feminino_percentual(%)':['80_84_anos_divorciado_feminino','80_84_anos'],\n",
        "    '85_89_anos_divorciado_feminino_percentual(%)':['85_89_anos_divorciado_feminino','85_89_anos'],\n",
        "    '90_94_anos_divorciado_feminino_percentual(%)':['90_94_anos_divorciado_feminino','90_94_anos'],\n",
        "    '95_99_anos_divorciado_feminino_percentual(%)':['95_99_anos_divorciado_feminino','95_99_anos'],\n",
        "    '100_anos_divorciado_feminino_percentual(%)':['100_anos_divorciado_feminino','100_anos'],\n",
        "}\n",
        "\n",
        "for estado_percentual, ec in estados_civil_percentual_feminino.items():\n",
        "  df_municipios_1turno[estado_percentual] = (df_municipios_1turno[ec[0]] / df_municipios_1turno[ec[1]] * 100).round(2)\n",
        "\n",
        "del estados_civil_percentual_feminino"
      ]
    },
    {
      "cell_type": "markdown",
      "metadata": {
        "id": "sMEzuDICNe4P"
      },
      "source": [
        "## Eleitorado feminino viúvo por faixa etária"
      ]
    },
    {
      "cell_type": "code",
      "execution_count": null,
      "metadata": {
        "id": "ekB2eZwRNe4Q"
      },
      "outputs": [],
      "source": [
        "# Filtra os dados apenas para o gênero masculino e solteiro\n",
        "df_turno_1_2020_feminino = df_turno_1_2020[(df_turno_1_2020['DS_GENERO'] == 'FEMININO') & (df_turno_1_2020['DS_ESTADO_CIVIL'] == 'VIÚVO')].groupby(['SG_UF', 'NM_MUNICIPIO', 'DS_FAIXA_ETARIA',])['QT_APTOS'].sum().reset_index()\n",
        "\n",
        "# Realiza o pivot para transformar as colunas de grau de escolaridade em colunas do dataframe\n",
        "pivot_feminino = df_turno_1_2020_feminino.pivot_table(index=['SG_UF', 'NM_MUNICIPIO'], columns='DS_FAIXA_ETARIA', values='QT_APTOS').reset_index()\n",
        "pivot_feminino = pivot_feminino.fillna(0)\n",
        "pivot_feminino = pivot_feminino.rename(columns={\n",
        "       '16 anos':'16_anos_viuvo_feminino', '17 anos':'17_anos_viuvo_feminino', '18 anos':'18_anos_viuvo_feminino',\n",
        "       '19 anos':'19_anos_viuvo_feminino', '20 anos':'20_anos_viuvo_feminino', '21 a 24 anos':'21_24_anos_viuvo_feminino',\n",
        "       '25 a 29 anos':'25_29_anos_viuvo_feminino', '30 a 34 anos':'30_34_anos_viuvo_feminino', '35 a 39 anos':'35_39_anos_viuvo_feminino',\n",
        "       '40 a 44 anos':'40_44_anos_viuvo_feminino', '45 a 49 anos':'45_49_anos_viuvo_feminino',\n",
        "       '50 a 54 anos':'50_54_anos_viuvo_feminino', '55 a 59 anos':'55_59_anos_viuvo_feminino',\n",
        "       '60 a 64 anos':'60_64_anos_viuvo_feminino', '65 a 69 anos':'65_69_anos_viuvo_feminino',\n",
        "       '70 a 74 anos':'70_74_anos_viuvo_feminino', '75 a 79 anos':'75_79_anos_viuvo_feminino',\n",
        "       '80 a 84 anos':'80_84_anos_viuvo_feminino', '85 a 89 anos':'85_89_anos_viuvo_feminino',\n",
        "       '90 a 94 anos':'90_94_anos_viuvo_feminino', '95 a 99 anos':'95_99_anos_viuvo_feminino',\n",
        "       '100 anos ou mais':'100_anos_viuvo_feminino',})\n",
        "\n",
        "pivot_feminino = pivot_feminino[['SG_UF', 'NM_MUNICIPIO',\n",
        "       '16_anos_viuvo_feminino', '17_anos_viuvo_feminino',\n",
        "       '18_anos_viuvo_feminino', '19_anos_viuvo_feminino',\n",
        "       '20_anos_viuvo_feminino', '21_24_anos_viuvo_feminino',\n",
        "       '25_29_anos_viuvo_feminino', '30_34_anos_viuvo_feminino',\n",
        "       '35_39_anos_viuvo_feminino', '40_44_anos_viuvo_feminino',\n",
        "       '45_49_anos_viuvo_feminino', '50_54_anos_viuvo_feminino',\n",
        "       '55_59_anos_viuvo_feminino', '60_64_anos_viuvo_feminino',\n",
        "       '65_69_anos_viuvo_feminino', '70_74_anos_viuvo_feminino',\n",
        "       '75_79_anos_viuvo_feminino', '80_84_anos_viuvo_feminino',\n",
        "       '85_89_anos_viuvo_feminino', '90_94_anos_viuvo_feminino',\n",
        "       '95_99_anos_viuvo_feminino', '100_anos_viuvo_feminino',]]\n",
        "\n",
        "for i in pivot_feminino.columns:\n",
        "  if ((i != 'SG_UF') & (i != 'NM_MUNICIPIO')):\n",
        "    pivot_feminino[i] = pivot_feminino[i].astype(int)\n",
        "\n",
        "df_municipios_1turno = df_municipios_1turno.merge(pivot_feminino, on=['SG_UF', 'NM_MUNICIPIO'], how='left')"
      ]
    },
    {
      "cell_type": "code",
      "execution_count": null,
      "metadata": {
        "id": "NRGaLc7ONe4Q",
        "colab": {
          "base_uri": "https://localhost:8080/"
        },
        "outputId": "acc34a3e-07e8-42ca-a6f3-69444019d083"
      },
      "outputs": [
        {
          "output_type": "stream",
          "name": "stderr",
          "text": [
            "<ipython-input-148-b75c18cb9be9>:27: PerformanceWarning: DataFrame is highly fragmented.  This is usually the result of calling `frame.insert` many times, which has poor performance.  Consider joining all columns at once using pd.concat(axis=1) instead. To get a de-fragmented frame, use `newframe = frame.copy()`\n",
            "  df_municipios_1turno[estado_percentual] = (df_municipios_1turno[ec[0]] / df_municipios_1turno[ec[1]] * 100).round(2)\n",
            "<ipython-input-148-b75c18cb9be9>:27: PerformanceWarning: DataFrame is highly fragmented.  This is usually the result of calling `frame.insert` many times, which has poor performance.  Consider joining all columns at once using pd.concat(axis=1) instead. To get a de-fragmented frame, use `newframe = frame.copy()`\n",
            "  df_municipios_1turno[estado_percentual] = (df_municipios_1turno[ec[0]] / df_municipios_1turno[ec[1]] * 100).round(2)\n",
            "<ipython-input-148-b75c18cb9be9>:27: PerformanceWarning: DataFrame is highly fragmented.  This is usually the result of calling `frame.insert` many times, which has poor performance.  Consider joining all columns at once using pd.concat(axis=1) instead. To get a de-fragmented frame, use `newframe = frame.copy()`\n",
            "  df_municipios_1turno[estado_percentual] = (df_municipios_1turno[ec[0]] / df_municipios_1turno[ec[1]] * 100).round(2)\n",
            "<ipython-input-148-b75c18cb9be9>:27: PerformanceWarning: DataFrame is highly fragmented.  This is usually the result of calling `frame.insert` many times, which has poor performance.  Consider joining all columns at once using pd.concat(axis=1) instead. To get a de-fragmented frame, use `newframe = frame.copy()`\n",
            "  df_municipios_1turno[estado_percentual] = (df_municipios_1turno[ec[0]] / df_municipios_1turno[ec[1]] * 100).round(2)\n",
            "<ipython-input-148-b75c18cb9be9>:27: PerformanceWarning: DataFrame is highly fragmented.  This is usually the result of calling `frame.insert` many times, which has poor performance.  Consider joining all columns at once using pd.concat(axis=1) instead. To get a de-fragmented frame, use `newframe = frame.copy()`\n",
            "  df_municipios_1turno[estado_percentual] = (df_municipios_1turno[ec[0]] / df_municipios_1turno[ec[1]] * 100).round(2)\n",
            "<ipython-input-148-b75c18cb9be9>:27: PerformanceWarning: DataFrame is highly fragmented.  This is usually the result of calling `frame.insert` many times, which has poor performance.  Consider joining all columns at once using pd.concat(axis=1) instead. To get a de-fragmented frame, use `newframe = frame.copy()`\n",
            "  df_municipios_1turno[estado_percentual] = (df_municipios_1turno[ec[0]] / df_municipios_1turno[ec[1]] * 100).round(2)\n",
            "<ipython-input-148-b75c18cb9be9>:27: PerformanceWarning: DataFrame is highly fragmented.  This is usually the result of calling `frame.insert` many times, which has poor performance.  Consider joining all columns at once using pd.concat(axis=1) instead. To get a de-fragmented frame, use `newframe = frame.copy()`\n",
            "  df_municipios_1turno[estado_percentual] = (df_municipios_1turno[ec[0]] / df_municipios_1turno[ec[1]] * 100).round(2)\n",
            "<ipython-input-148-b75c18cb9be9>:27: PerformanceWarning: DataFrame is highly fragmented.  This is usually the result of calling `frame.insert` many times, which has poor performance.  Consider joining all columns at once using pd.concat(axis=1) instead. To get a de-fragmented frame, use `newframe = frame.copy()`\n",
            "  df_municipios_1turno[estado_percentual] = (df_municipios_1turno[ec[0]] / df_municipios_1turno[ec[1]] * 100).round(2)\n",
            "<ipython-input-148-b75c18cb9be9>:27: PerformanceWarning: DataFrame is highly fragmented.  This is usually the result of calling `frame.insert` many times, which has poor performance.  Consider joining all columns at once using pd.concat(axis=1) instead. To get a de-fragmented frame, use `newframe = frame.copy()`\n",
            "  df_municipios_1turno[estado_percentual] = (df_municipios_1turno[ec[0]] / df_municipios_1turno[ec[1]] * 100).round(2)\n",
            "<ipython-input-148-b75c18cb9be9>:27: PerformanceWarning: DataFrame is highly fragmented.  This is usually the result of calling `frame.insert` many times, which has poor performance.  Consider joining all columns at once using pd.concat(axis=1) instead. To get a de-fragmented frame, use `newframe = frame.copy()`\n",
            "  df_municipios_1turno[estado_percentual] = (df_municipios_1turno[ec[0]] / df_municipios_1turno[ec[1]] * 100).round(2)\n",
            "<ipython-input-148-b75c18cb9be9>:27: PerformanceWarning: DataFrame is highly fragmented.  This is usually the result of calling `frame.insert` many times, which has poor performance.  Consider joining all columns at once using pd.concat(axis=1) instead. To get a de-fragmented frame, use `newframe = frame.copy()`\n",
            "  df_municipios_1turno[estado_percentual] = (df_municipios_1turno[ec[0]] / df_municipios_1turno[ec[1]] * 100).round(2)\n",
            "<ipython-input-148-b75c18cb9be9>:27: PerformanceWarning: DataFrame is highly fragmented.  This is usually the result of calling `frame.insert` many times, which has poor performance.  Consider joining all columns at once using pd.concat(axis=1) instead. To get a de-fragmented frame, use `newframe = frame.copy()`\n",
            "  df_municipios_1turno[estado_percentual] = (df_municipios_1turno[ec[0]] / df_municipios_1turno[ec[1]] * 100).round(2)\n",
            "<ipython-input-148-b75c18cb9be9>:27: PerformanceWarning: DataFrame is highly fragmented.  This is usually the result of calling `frame.insert` many times, which has poor performance.  Consider joining all columns at once using pd.concat(axis=1) instead. To get a de-fragmented frame, use `newframe = frame.copy()`\n",
            "  df_municipios_1turno[estado_percentual] = (df_municipios_1turno[ec[0]] / df_municipios_1turno[ec[1]] * 100).round(2)\n",
            "<ipython-input-148-b75c18cb9be9>:27: PerformanceWarning: DataFrame is highly fragmented.  This is usually the result of calling `frame.insert` many times, which has poor performance.  Consider joining all columns at once using pd.concat(axis=1) instead. To get a de-fragmented frame, use `newframe = frame.copy()`\n",
            "  df_municipios_1turno[estado_percentual] = (df_municipios_1turno[ec[0]] / df_municipios_1turno[ec[1]] * 100).round(2)\n",
            "<ipython-input-148-b75c18cb9be9>:27: PerformanceWarning: DataFrame is highly fragmented.  This is usually the result of calling `frame.insert` many times, which has poor performance.  Consider joining all columns at once using pd.concat(axis=1) instead. To get a de-fragmented frame, use `newframe = frame.copy()`\n",
            "  df_municipios_1turno[estado_percentual] = (df_municipios_1turno[ec[0]] / df_municipios_1turno[ec[1]] * 100).round(2)\n",
            "<ipython-input-148-b75c18cb9be9>:27: PerformanceWarning: DataFrame is highly fragmented.  This is usually the result of calling `frame.insert` many times, which has poor performance.  Consider joining all columns at once using pd.concat(axis=1) instead. To get a de-fragmented frame, use `newframe = frame.copy()`\n",
            "  df_municipios_1turno[estado_percentual] = (df_municipios_1turno[ec[0]] / df_municipios_1turno[ec[1]] * 100).round(2)\n",
            "<ipython-input-148-b75c18cb9be9>:27: PerformanceWarning: DataFrame is highly fragmented.  This is usually the result of calling `frame.insert` many times, which has poor performance.  Consider joining all columns at once using pd.concat(axis=1) instead. To get a de-fragmented frame, use `newframe = frame.copy()`\n",
            "  df_municipios_1turno[estado_percentual] = (df_municipios_1turno[ec[0]] / df_municipios_1turno[ec[1]] * 100).round(2)\n",
            "<ipython-input-148-b75c18cb9be9>:27: PerformanceWarning: DataFrame is highly fragmented.  This is usually the result of calling `frame.insert` many times, which has poor performance.  Consider joining all columns at once using pd.concat(axis=1) instead. To get a de-fragmented frame, use `newframe = frame.copy()`\n",
            "  df_municipios_1turno[estado_percentual] = (df_municipios_1turno[ec[0]] / df_municipios_1turno[ec[1]] * 100).round(2)\n",
            "<ipython-input-148-b75c18cb9be9>:27: PerformanceWarning: DataFrame is highly fragmented.  This is usually the result of calling `frame.insert` many times, which has poor performance.  Consider joining all columns at once using pd.concat(axis=1) instead. To get a de-fragmented frame, use `newframe = frame.copy()`\n",
            "  df_municipios_1turno[estado_percentual] = (df_municipios_1turno[ec[0]] / df_municipios_1turno[ec[1]] * 100).round(2)\n",
            "<ipython-input-148-b75c18cb9be9>:27: PerformanceWarning: DataFrame is highly fragmented.  This is usually the result of calling `frame.insert` many times, which has poor performance.  Consider joining all columns at once using pd.concat(axis=1) instead. To get a de-fragmented frame, use `newframe = frame.copy()`\n",
            "  df_municipios_1turno[estado_percentual] = (df_municipios_1turno[ec[0]] / df_municipios_1turno[ec[1]] * 100).round(2)\n",
            "<ipython-input-148-b75c18cb9be9>:27: PerformanceWarning: DataFrame is highly fragmented.  This is usually the result of calling `frame.insert` many times, which has poor performance.  Consider joining all columns at once using pd.concat(axis=1) instead. To get a de-fragmented frame, use `newframe = frame.copy()`\n",
            "  df_municipios_1turno[estado_percentual] = (df_municipios_1turno[ec[0]] / df_municipios_1turno[ec[1]] * 100).round(2)\n",
            "<ipython-input-148-b75c18cb9be9>:27: PerformanceWarning: DataFrame is highly fragmented.  This is usually the result of calling `frame.insert` many times, which has poor performance.  Consider joining all columns at once using pd.concat(axis=1) instead. To get a de-fragmented frame, use `newframe = frame.copy()`\n",
            "  df_municipios_1turno[estado_percentual] = (df_municipios_1turno[ec[0]] / df_municipios_1turno[ec[1]] * 100).round(2)\n"
          ]
        }
      ],
      "source": [
        "estados_civil_percentual_feminino = {\n",
        "    '16_anos_viuvo_feminino_percentual(%)':['16_anos_viuvo_feminino','16_anos'],\n",
        "    '17_anos_viuvo_feminino_percentual(%)':['17_anos_viuvo_feminino','17_anos'],\n",
        "    '18_anos_viuvo_feminino_percentual(%)':['18_anos_viuvo_feminino','18_anos'],\n",
        "    '19_anos_viuvo_feminino_percentual(%)':['19_anos_viuvo_feminino','19_anos'],\n",
        "    '20_anos_viuvo_feminino_percentual(%)':['20_anos_viuvo_feminino','20_anos'],\n",
        "    '21_24_anos_viuvo_feminino_percentual(%)':['21_24_anos_viuvo_feminino','21_24_anos'],\n",
        "    '25_29_anos_viuvo_feminino_percentual(%)':['25_29_anos_viuvo_feminino','25_29_anos'],\n",
        "    '30_34_anos_viuvo_feminino_percentual(%)':['30_34_anos_viuvo_feminino','30_34_anos'],\n",
        "    '35_39_anos_viuvo_feminino_percentual(%)':['35_39_anos_viuvo_feminino','35_39_anos'],\n",
        "    '40_44_anos_viuvo_feminino_percentual(%)':['40_44_anos_viuvo_feminino','40_44_anos'],\n",
        "    '45_49_anos_viuvo_feminino_percentual(%)':['45_49_anos_viuvo_feminino','45_49_anos'],\n",
        "    '50_54_anos_viuvo_feminino_percentual(%)':['50_54_anos_viuvo_feminino','50_54_anos'],\n",
        "    '55_59_anos_viuvo_feminino_percentual(%)':['55_59_anos_viuvo_feminino','55_59_anos'],\n",
        "    '60_64_anos_viuvo_feminino_percentual(%)':['60_64_anos_viuvo_feminino','60_64_anos'],\n",
        "    '65_69_anos_viuvo_feminino_percentual(%)':['65_69_anos_viuvo_feminino','65_69_anos'],\n",
        "    '70_74_anos_viuvo_feminino_percentual(%)':['70_74_anos_viuvo_feminino','70_74_anos'],\n",
        "    '75_79_anos_viuvo_feminino_percentual(%)':['75_79_anos_viuvo_feminino','75_79_anos'],\n",
        "    '80_84_anos_viuvo_feminino_percentual(%)':['80_84_anos_viuvo_feminino','80_84_anos'],\n",
        "    '85_89_anos_viuvo_feminino_percentual(%)':['85_89_anos_viuvo_feminino','85_89_anos'],\n",
        "    '90_94_anos_viuvo_feminino_percentual(%)':['90_94_anos_viuvo_feminino','90_94_anos'],\n",
        "    '95_99_anos_viuvo_feminino_percentual(%)':['95_99_anos_viuvo_feminino','95_99_anos'],\n",
        "    '100_anos_viuvo_feminino_percentual(%)':['100_anos_viuvo_feminino','100_anos'],\n",
        "}\n",
        "\n",
        "for estado_percentual, ec in estados_civil_percentual_feminino.items():\n",
        "  df_municipios_1turno[estado_percentual] = (df_municipios_1turno[ec[0]] / df_municipios_1turno[ec[1]] * 100).round(2)\n",
        "\n",
        "del estados_civil_percentual_feminino"
      ]
    },
    {
      "cell_type": "markdown",
      "metadata": {
        "id": "wc6_UbNFNe4U"
      },
      "source": [
        "## Eleitorado feminino separado judicialmente por faixa etária\n"
      ]
    },
    {
      "cell_type": "code",
      "source": [
        "# Filtra os dados apenas para o gênero masculino e solteiro\n",
        "df_turno_1_2020_feminino = df_turno_1_2020[(df_turno_1_2020['DS_GENERO'] == 'FEMININO') & (df_turno_1_2020['DS_ESTADO_CIVIL'] == 'SEPARADO JUDICIALMENTE')].groupby(['SG_UF', 'NM_MUNICIPIO', 'DS_FAIXA_ETARIA',])['QT_APTOS'].sum().reset_index()\n",
        "\n",
        "# Realiza o pivot para transformar as colunas de grau de escolaridade em colunas do dataframe\n",
        "pivot_feminino = df_turno_1_2020_feminino.pivot_table(index=['SG_UF', 'NM_MUNICIPIO'], columns='DS_FAIXA_ETARIA', values='QT_APTOS').reset_index()\n",
        "pivot_feminino = pivot_feminino.fillna(0)\n",
        "pivot_feminino = pivot_feminino.rename(columns={\n",
        "       '16 anos':'16_anos_separado_judicialmente_feminino', '17 anos':'17_anos_separado_judicialmente_feminino', '18 anos':'18_anos_separado_judicialmente_feminino',\n",
        "       '19 anos':'19_anos_separado_judicialmente_feminino', '20 anos':'20_anos_separado_judicialmente_feminino', '21 a 24 anos':'21_24_anos_separado_judicialmente_feminino',\n",
        "       '25 a 29 anos':'25_29_anos_separado_judicialmente_feminino', '30 a 34 anos':'30_34_anos_separado_judicialmente_feminino', '35 a 39 anos':'35_39_anos_separado_judicialmente_feminino',\n",
        "       '40 a 44 anos':'40_44_anos_separado_judicialmente_feminino', '45 a 49 anos':'45_49_anos_separado_judicialmente_feminino',\n",
        "       '50 a 54 anos':'50_54_anos_separado_judicialmente_feminino', '55 a 59 anos':'55_59_anos_separado_judicialmente_feminino',\n",
        "       '60 a 64 anos':'60_64_anos_separado_judicialmente_feminino', '65 a 69 anos':'65_69_anos_separado_judicialmente_feminino',\n",
        "       '70 a 74 anos':'70_74_anos_separado_judicialmente_feminino', '75 a 79 anos':'75_79_anos_separado_judicialmente_feminino',\n",
        "       '80 a 84 anos':'80_84_anos_separado_judicialmente_feminino', '85 a 89 anos':'85_89_anos_separado_judicialmente_feminino',\n",
        "       '90 a 94 anos':'90_94_anos_separado_judicialmente_feminino', '95 a 99 anos':'95_99_anos_separado_judicialmente_feminino',\n",
        "       '100 anos ou mais':'100_anos_separado_judicialmente_feminino',})\n",
        "\n",
        "pivot_feminino = pivot_feminino[['SG_UF', 'NM_MUNICIPIO',\n",
        "       '16_anos_separado_judicialmente_feminino', '17_anos_separado_judicialmente_feminino',\n",
        "       '18_anos_separado_judicialmente_feminino', '19_anos_separado_judicialmente_feminino',\n",
        "       '20_anos_separado_judicialmente_feminino', '21_24_anos_separado_judicialmente_feminino',\n",
        "       '25_29_anos_separado_judicialmente_feminino', '30_34_anos_separado_judicialmente_feminino',\n",
        "       '35_39_anos_separado_judicialmente_feminino', '40_44_anos_separado_judicialmente_feminino',\n",
        "       '45_49_anos_separado_judicialmente_feminino', '50_54_anos_separado_judicialmente_feminino',\n",
        "       '55_59_anos_separado_judicialmente_feminino', '60_64_anos_separado_judicialmente_feminino',\n",
        "       '65_69_anos_separado_judicialmente_feminino', '70_74_anos_separado_judicialmente_feminino',\n",
        "       '75_79_anos_separado_judicialmente_feminino', '80_84_anos_separado_judicialmente_feminino',\n",
        "       '85_89_anos_separado_judicialmente_feminino', '90_94_anos_separado_judicialmente_feminino',\n",
        "       '95_99_anos_separado_judicialmente_feminino', '100_anos_separado_judicialmente_feminino',]]\n",
        "\n",
        "for i in pivot_feminino.columns:\n",
        "  if ((i != 'SG_UF') & (i != 'NM_MUNICIPIO')):\n",
        "    pivot_feminino[i] = pivot_feminino[i].astype(int)\n",
        "\n",
        "df_municipios_1turno = df_municipios_1turno.merge(pivot_feminino, on=['SG_UF', 'NM_MUNICIPIO'], how='left')"
      ],
      "metadata": {
        "id": "NAiMG4ZrQKMP"
      },
      "execution_count": null,
      "outputs": []
    },
    {
      "cell_type": "code",
      "source": [
        "estados_civil_percentual_feminino = {\n",
        "    '16_anos_separado_judicialmente_feminino_percentual(%)':['16_anos_separado_judicialmente_feminino','16_anos'],\n",
        "    '17_anos_separado_judicialmente_feminino_percentual(%)':['17_anos_separado_judicialmente_feminino','17_anos'],\n",
        "    '18_anos_separado_judicialmente_feminino_percentual(%)':['18_anos_separado_judicialmente_feminino','18_anos'],\n",
        "    '19_anos_separado_judicialmente_feminino_percentual(%)':['19_anos_separado_judicialmente_feminino','19_anos'],\n",
        "    '20_anos_separado_judicialmente_feminino_percentual(%)':['20_anos_separado_judicialmente_feminino','20_anos'],\n",
        "    '21_24_anos_separado_judicialmente_feminino_percentual(%)':['21_24_anos_separado_judicialmente_feminino','21_24_anos'],\n",
        "    '25_29_anos_separado_judicialmente_feminino_percentual(%)':['25_29_anos_separado_judicialmente_feminino','25_29_anos'],\n",
        "    '30_34_anos_separado_judicialmente_feminino_percentual(%)':['30_34_anos_separado_judicialmente_feminino','30_34_anos'],\n",
        "    '35_39_anos_separado_judicialmente_feminino_percentual(%)':['35_39_anos_separado_judicialmente_feminino','35_39_anos'],\n",
        "    '40_44_anos_separado_judicialmente_feminino_percentual(%)':['40_44_anos_separado_judicialmente_feminino','40_44_anos'],\n",
        "    '45_49_anos_separado_judicialmente_feminino_percentual(%)':['45_49_anos_separado_judicialmente_feminino','45_49_anos'],\n",
        "    '50_54_anos_separado_judicialmente_feminino_percentual(%)':['50_54_anos_separado_judicialmente_feminino','50_54_anos'],\n",
        "    '55_59_anos_separado_judicialmente_feminino_percentual(%)':['55_59_anos_separado_judicialmente_feminino','55_59_anos'],\n",
        "    '60_64_anos_separado_judicialmente_feminino_percentual(%)':['60_64_anos_separado_judicialmente_feminino','60_64_anos'],\n",
        "    '65_69_anos_separado_judicialmente_feminino_percentual(%)':['65_69_anos_separado_judicialmente_feminino','65_69_anos'],\n",
        "    '70_74_anos_separado_judicialmente_feminino_percentual(%)':['70_74_anos_separado_judicialmente_feminino','70_74_anos'],\n",
        "    '75_79_anos_separado_judicialmente_feminino_percentual(%)':['75_79_anos_separado_judicialmente_feminino','75_79_anos'],\n",
        "    '80_84_anos_separado_judicialmente_feminino_percentual(%)':['80_84_anos_separado_judicialmente_feminino','80_84_anos'],\n",
        "    '85_89_anos_separado_judicialmente_feminino_percentual(%)':['85_89_anos_separado_judicialmente_feminino','85_89_anos'],\n",
        "    '90_94_anos_separado_judicialmente_feminino_percentual(%)':['90_94_anos_separado_judicialmente_feminino','90_94_anos'],\n",
        "    '95_99_anos_separado_judicialmente_feminino_percentual(%)':['95_99_anos_separado_judicialmente_feminino','95_99_anos'],\n",
        "    '100_anos_separado_judicialmente_feminino_percentual(%)':['100_anos_separado_judicialmente_feminino','100_anos'],\n",
        "}\n",
        "\n",
        "for estado_percentual, ec in estados_civil_percentual_feminino.items():\n",
        "  df_municipios_1turno[estado_percentual] = (df_municipios_1turno[ec[0]] / df_municipios_1turno[ec[1]] * 100).round(2)\n",
        "\n",
        "del estados_civil_percentual_feminino"
      ],
      "metadata": {
        "colab": {
          "base_uri": "https://localhost:8080/"
        },
        "id": "4IXjoOojQSWs",
        "outputId": "df2078fc-cc17-48dd-87b3-ef27c0c42dc8"
      },
      "execution_count": null,
      "outputs": [
        {
          "output_type": "stream",
          "name": "stderr",
          "text": [
            "<ipython-input-150-f0198f73e4de>:27: PerformanceWarning: DataFrame is highly fragmented.  This is usually the result of calling `frame.insert` many times, which has poor performance.  Consider joining all columns at once using pd.concat(axis=1) instead. To get a de-fragmented frame, use `newframe = frame.copy()`\n",
            "  df_municipios_1turno[estado_percentual] = (df_municipios_1turno[ec[0]] / df_municipios_1turno[ec[1]] * 100).round(2)\n",
            "<ipython-input-150-f0198f73e4de>:27: PerformanceWarning: DataFrame is highly fragmented.  This is usually the result of calling `frame.insert` many times, which has poor performance.  Consider joining all columns at once using pd.concat(axis=1) instead. To get a de-fragmented frame, use `newframe = frame.copy()`\n",
            "  df_municipios_1turno[estado_percentual] = (df_municipios_1turno[ec[0]] / df_municipios_1turno[ec[1]] * 100).round(2)\n",
            "<ipython-input-150-f0198f73e4de>:27: PerformanceWarning: DataFrame is highly fragmented.  This is usually the result of calling `frame.insert` many times, which has poor performance.  Consider joining all columns at once using pd.concat(axis=1) instead. To get a de-fragmented frame, use `newframe = frame.copy()`\n",
            "  df_municipios_1turno[estado_percentual] = (df_municipios_1turno[ec[0]] / df_municipios_1turno[ec[1]] * 100).round(2)\n",
            "<ipython-input-150-f0198f73e4de>:27: PerformanceWarning: DataFrame is highly fragmented.  This is usually the result of calling `frame.insert` many times, which has poor performance.  Consider joining all columns at once using pd.concat(axis=1) instead. To get a de-fragmented frame, use `newframe = frame.copy()`\n",
            "  df_municipios_1turno[estado_percentual] = (df_municipios_1turno[ec[0]] / df_municipios_1turno[ec[1]] * 100).round(2)\n",
            "<ipython-input-150-f0198f73e4de>:27: PerformanceWarning: DataFrame is highly fragmented.  This is usually the result of calling `frame.insert` many times, which has poor performance.  Consider joining all columns at once using pd.concat(axis=1) instead. To get a de-fragmented frame, use `newframe = frame.copy()`\n",
            "  df_municipios_1turno[estado_percentual] = (df_municipios_1turno[ec[0]] / df_municipios_1turno[ec[1]] * 100).round(2)\n",
            "<ipython-input-150-f0198f73e4de>:27: PerformanceWarning: DataFrame is highly fragmented.  This is usually the result of calling `frame.insert` many times, which has poor performance.  Consider joining all columns at once using pd.concat(axis=1) instead. To get a de-fragmented frame, use `newframe = frame.copy()`\n",
            "  df_municipios_1turno[estado_percentual] = (df_municipios_1turno[ec[0]] / df_municipios_1turno[ec[1]] * 100).round(2)\n",
            "<ipython-input-150-f0198f73e4de>:27: PerformanceWarning: DataFrame is highly fragmented.  This is usually the result of calling `frame.insert` many times, which has poor performance.  Consider joining all columns at once using pd.concat(axis=1) instead. To get a de-fragmented frame, use `newframe = frame.copy()`\n",
            "  df_municipios_1turno[estado_percentual] = (df_municipios_1turno[ec[0]] / df_municipios_1turno[ec[1]] * 100).round(2)\n",
            "<ipython-input-150-f0198f73e4de>:27: PerformanceWarning: DataFrame is highly fragmented.  This is usually the result of calling `frame.insert` many times, which has poor performance.  Consider joining all columns at once using pd.concat(axis=1) instead. To get a de-fragmented frame, use `newframe = frame.copy()`\n",
            "  df_municipios_1turno[estado_percentual] = (df_municipios_1turno[ec[0]] / df_municipios_1turno[ec[1]] * 100).round(2)\n",
            "<ipython-input-150-f0198f73e4de>:27: PerformanceWarning: DataFrame is highly fragmented.  This is usually the result of calling `frame.insert` many times, which has poor performance.  Consider joining all columns at once using pd.concat(axis=1) instead. To get a de-fragmented frame, use `newframe = frame.copy()`\n",
            "  df_municipios_1turno[estado_percentual] = (df_municipios_1turno[ec[0]] / df_municipios_1turno[ec[1]] * 100).round(2)\n",
            "<ipython-input-150-f0198f73e4de>:27: PerformanceWarning: DataFrame is highly fragmented.  This is usually the result of calling `frame.insert` many times, which has poor performance.  Consider joining all columns at once using pd.concat(axis=1) instead. To get a de-fragmented frame, use `newframe = frame.copy()`\n",
            "  df_municipios_1turno[estado_percentual] = (df_municipios_1turno[ec[0]] / df_municipios_1turno[ec[1]] * 100).round(2)\n",
            "<ipython-input-150-f0198f73e4de>:27: PerformanceWarning: DataFrame is highly fragmented.  This is usually the result of calling `frame.insert` many times, which has poor performance.  Consider joining all columns at once using pd.concat(axis=1) instead. To get a de-fragmented frame, use `newframe = frame.copy()`\n",
            "  df_municipios_1turno[estado_percentual] = (df_municipios_1turno[ec[0]] / df_municipios_1turno[ec[1]] * 100).round(2)\n",
            "<ipython-input-150-f0198f73e4de>:27: PerformanceWarning: DataFrame is highly fragmented.  This is usually the result of calling `frame.insert` many times, which has poor performance.  Consider joining all columns at once using pd.concat(axis=1) instead. To get a de-fragmented frame, use `newframe = frame.copy()`\n",
            "  df_municipios_1turno[estado_percentual] = (df_municipios_1turno[ec[0]] / df_municipios_1turno[ec[1]] * 100).round(2)\n",
            "<ipython-input-150-f0198f73e4de>:27: PerformanceWarning: DataFrame is highly fragmented.  This is usually the result of calling `frame.insert` many times, which has poor performance.  Consider joining all columns at once using pd.concat(axis=1) instead. To get a de-fragmented frame, use `newframe = frame.copy()`\n",
            "  df_municipios_1turno[estado_percentual] = (df_municipios_1turno[ec[0]] / df_municipios_1turno[ec[1]] * 100).round(2)\n",
            "<ipython-input-150-f0198f73e4de>:27: PerformanceWarning: DataFrame is highly fragmented.  This is usually the result of calling `frame.insert` many times, which has poor performance.  Consider joining all columns at once using pd.concat(axis=1) instead. To get a de-fragmented frame, use `newframe = frame.copy()`\n",
            "  df_municipios_1turno[estado_percentual] = (df_municipios_1turno[ec[0]] / df_municipios_1turno[ec[1]] * 100).round(2)\n",
            "<ipython-input-150-f0198f73e4de>:27: PerformanceWarning: DataFrame is highly fragmented.  This is usually the result of calling `frame.insert` many times, which has poor performance.  Consider joining all columns at once using pd.concat(axis=1) instead. To get a de-fragmented frame, use `newframe = frame.copy()`\n",
            "  df_municipios_1turno[estado_percentual] = (df_municipios_1turno[ec[0]] / df_municipios_1turno[ec[1]] * 100).round(2)\n",
            "<ipython-input-150-f0198f73e4de>:27: PerformanceWarning: DataFrame is highly fragmented.  This is usually the result of calling `frame.insert` many times, which has poor performance.  Consider joining all columns at once using pd.concat(axis=1) instead. To get a de-fragmented frame, use `newframe = frame.copy()`\n",
            "  df_municipios_1turno[estado_percentual] = (df_municipios_1turno[ec[0]] / df_municipios_1turno[ec[1]] * 100).round(2)\n",
            "<ipython-input-150-f0198f73e4de>:27: PerformanceWarning: DataFrame is highly fragmented.  This is usually the result of calling `frame.insert` many times, which has poor performance.  Consider joining all columns at once using pd.concat(axis=1) instead. To get a de-fragmented frame, use `newframe = frame.copy()`\n",
            "  df_municipios_1turno[estado_percentual] = (df_municipios_1turno[ec[0]] / df_municipios_1turno[ec[1]] * 100).round(2)\n",
            "<ipython-input-150-f0198f73e4de>:27: PerformanceWarning: DataFrame is highly fragmented.  This is usually the result of calling `frame.insert` many times, which has poor performance.  Consider joining all columns at once using pd.concat(axis=1) instead. To get a de-fragmented frame, use `newframe = frame.copy()`\n",
            "  df_municipios_1turno[estado_percentual] = (df_municipios_1turno[ec[0]] / df_municipios_1turno[ec[1]] * 100).round(2)\n",
            "<ipython-input-150-f0198f73e4de>:27: PerformanceWarning: DataFrame is highly fragmented.  This is usually the result of calling `frame.insert` many times, which has poor performance.  Consider joining all columns at once using pd.concat(axis=1) instead. To get a de-fragmented frame, use `newframe = frame.copy()`\n",
            "  df_municipios_1turno[estado_percentual] = (df_municipios_1turno[ec[0]] / df_municipios_1turno[ec[1]] * 100).round(2)\n",
            "<ipython-input-150-f0198f73e4de>:27: PerformanceWarning: DataFrame is highly fragmented.  This is usually the result of calling `frame.insert` many times, which has poor performance.  Consider joining all columns at once using pd.concat(axis=1) instead. To get a de-fragmented frame, use `newframe = frame.copy()`\n",
            "  df_municipios_1turno[estado_percentual] = (df_municipios_1turno[ec[0]] / df_municipios_1turno[ec[1]] * 100).round(2)\n",
            "<ipython-input-150-f0198f73e4de>:27: PerformanceWarning: DataFrame is highly fragmented.  This is usually the result of calling `frame.insert` many times, which has poor performance.  Consider joining all columns at once using pd.concat(axis=1) instead. To get a de-fragmented frame, use `newframe = frame.copy()`\n",
            "  df_municipios_1turno[estado_percentual] = (df_municipios_1turno[ec[0]] / df_municipios_1turno[ec[1]] * 100).round(2)\n",
            "<ipython-input-150-f0198f73e4de>:27: PerformanceWarning: DataFrame is highly fragmented.  This is usually the result of calling `frame.insert` many times, which has poor performance.  Consider joining all columns at once using pd.concat(axis=1) instead. To get a de-fragmented frame, use `newframe = frame.copy()`\n",
            "  df_municipios_1turno[estado_percentual] = (df_municipios_1turno[ec[0]] / df_municipios_1turno[ec[1]] * 100).round(2)\n"
          ]
        }
      ]
    },
    {
      "cell_type": "markdown",
      "metadata": {
        "id": "92aA3zip_Hsd"
      },
      "source": [
        "## Salvamento do dataframe final"
      ]
    },
    {
      "cell_type": "code",
      "execution_count": null,
      "metadata": {
        "id": "ruySnt0DpQdd"
      },
      "outputs": [],
      "source": [
        "from google.colab import files\n",
        "df_municipios_1turno = df_municipios_1turno.rename(columns={'SG_UF':'estado', 'NM_MUNICIPIO':'municipio'})\n",
        "df_municipios_1turno = df_municipios_1turno.sort_values(by = ['estado', 'municipio'], ascending = True)\n",
        "df_municipios_1turno.to_csv('/content/gdrive/MyDrive/TCC - Wallynson/df_municipios_1turno_2020.csv')"
      ]
    },
    {
      "cell_type": "code",
      "source": [],
      "metadata": {
        "id": "FIXgHWSEQw0-"
      },
      "execution_count": null,
      "outputs": []
    }
  ],
  "metadata": {
    "colab": {
      "collapsed_sections": [
        "x5FKb-dpKw9D",
        "SS7BlGa5NwQ9",
        "q7h9DB8UN0sz",
        "Ysb6Pud8OXEN",
        "rujdNwKxOzY5",
        "vmuG3OuhSzje",
        "WN_9C6KuTwgj",
        "GB9pvQI1UNsC",
        "8wdH3i24Ur2m",
        "834OBSeRNe34",
        "m1vFCH4XNe35",
        "XppApg5KNe39",
        "k5l0atwsNe3_",
        "auPtneS8Ne4A",
        "-c1rXOw6Ne4B"
      ],
      "provenance": []
    },
    "interpreter": {
      "hash": "31f2aee4e71d21fbe5cf8b01ff0e069b9275f58929596ceb00d14d90e3e16cd6"
    },
    "kernelspec": {
      "display_name": "Python 3.8.10 64-bit",
      "language": "python",
      "name": "python3"
    },
    "language_info": {
      "codemirror_mode": {
        "name": "ipython",
        "version": 3
      },
      "file_extension": ".py",
      "mimetype": "text/x-python",
      "name": "python",
      "nbconvert_exporter": "python",
      "pygments_lexer": "ipython3",
      "version": "3.8.10"
    }
  },
  "nbformat": 4,
  "nbformat_minor": 0
}