{
  "cells": [
    {
      "cell_type": "markdown",
      "metadata": {
        "id": "LxVJkfpNMN_k"
      },
      "source": [
        "# Importação dos módulos e dataframe base"
      ]
    },
    {
      "cell_type": "code",
      "execution_count": null,
      "metadata": {
        "id": "NjvTZdlOMGwq"
      },
      "outputs": [],
      "source": [
        "import numpy as np\n",
        "import pandas as pd\n",
        "from google.colab import drive"
      ]
    },
    {
      "cell_type": "code",
      "execution_count": null,
      "metadata": {
        "id": "BvGVZruFMaIm"
      },
      "outputs": [],
      "source": [
        "drive.mount('/content/gdrive')"
      ]
    },
    {
      "cell_type": "code",
      "execution_count": null,
      "metadata": {
        "id": "qX06dGnBMae0"
      },
      "outputs": [],
      "source": [
        "df = pd.read_csv('/content/gdrive/MyDrive/TCC - Wallynson/perfil_comparecimento_abstencao_2020.csv', encoding = 'latin-1', sep = ';')"
      ]
    },
    {
      "cell_type": "code",
      "execution_count": null,
      "metadata": {
        "id": "I0qKp106_pUn"
      },
      "outputs": [],
      "source": [
        "# df_estados_1turno = pd.read_csv('df_estados_1turno_2020.csv')\n",
        "# df_estados_1turno = df_estados_1turno.rename(columns = {'SG_UF':'estado':'municipio', 'NR_ZONA':'zona'})\n",
        "# df_estados_1turno = df_estados_1turno.drop(columns = ['Unnamed: 0', 'CD_MUNICIPIO'], axis = 1)"
      ]
    },
    {
      "cell_type": "code",
      "execution_count": null,
      "metadata": {
        "id": "OL1XvODwIcUU"
      },
      "outputs": [],
      "source": [
        "# df_estados_1turno = pd.read_csv('/content/gdrive/MyDrive/TCC - Wallynson/df_estados_1turno_2020.csv')"
      ]
    },
    {
      "cell_type": "code",
      "execution_count": null,
      "metadata": {
        "id": "Z1C2IhPTn3NI"
      },
      "outputs": [],
      "source": [
        "pd.get_option('display.max_columns', None)\n",
        "pd.set_option('display.max_rows', None)"
      ]
    },
    {
      "cell_type": "code",
      "execution_count": null,
      "metadata": {
        "id": "U65wEmtHn6NY"
      },
      "outputs": [],
      "source": [
        "df.shape"
      ]
    },
    {
      "cell_type": "code",
      "execution_count": null,
      "metadata": {
        "id": "Pp4bOCEkn-i1"
      },
      "outputs": [],
      "source": [
        "df.isnull().sum() / df.shape[0]"
      ]
    },
    {
      "cell_type": "code",
      "execution_count": null,
      "metadata": {
        "id": "tYxh8iUyoDYG"
      },
      "outputs": [],
      "source": [
        "df.head()"
      ]
    },
    {
      "cell_type": "code",
      "execution_count": null,
      "metadata": {
        "id": "imb2FBM2XNmK"
      },
      "outputs": [],
      "source": [
        "df.dtypes"
      ]
    },
    {
      "cell_type": "code",
      "execution_count": null,
      "metadata": {
        "id": "U6pgb3YqoGkZ"
      },
      "outputs": [],
      "source": [
        "df.columns"
      ]
    },
    {
      "cell_type": "code",
      "execution_count": null,
      "metadata": {
        "id": "1A-8XiH5CLC-"
      },
      "outputs": [],
      "source": [
        "df = df.drop(columns = ['DT_GERACAO', 'HH_GERACAO', 'CD_MUNICIPIO', 'CD_GENERO',\n",
        "       'CD_ESTADO_CIVIL',\n",
        "       'CD_FAIXA_ETARIA', 'CD_GRAU_ESCOLARIDADE'], axis = 1)"
      ]
    },
    {
      "cell_type": "markdown",
      "metadata": {
        "id": "x5FKb-dpKw9D"
      },
      "source": [
        "# Criação do dataframe do 1º turno"
      ]
    },
    {
      "cell_type": "code",
      "execution_count": null,
      "metadata": {
        "id": "_L9P2ETCoS0Y"
      },
      "outputs": [],
      "source": [
        "df_turno_1_2020 = df[(df['NR_TURNO'] == 1)]"
      ]
    },
    {
      "cell_type": "code",
      "execution_count": null,
      "metadata": {
        "id": "FL8CgyCto-Vr"
      },
      "outputs": [],
      "source": [
        "df_turno_1_2020.shape"
      ]
    },
    {
      "cell_type": "markdown",
      "metadata": {
        "id": "V1h_JSQcMDSb"
      },
      "source": [
        "## Verificação da coluna DS_GENERO"
      ]
    },
    {
      "cell_type": "code",
      "execution_count": null,
      "metadata": {
        "id": "eB5hM3YhpBfs"
      },
      "outputs": [],
      "source": [
        "df_turno_1_2020.DS_GENERO.value_counts()"
      ]
    },
    {
      "cell_type": "code",
      "execution_count": null,
      "metadata": {
        "id": "Lx669yBMpFTa"
      },
      "outputs": [],
      "source": [
        "#verificação da quantidade percentual de valores 'NÃO INFORMADO' no conjunto\n",
        "print('Os valores \\'NÃO INFORMADO\\' representam {}% do conjunto'.format(round(df_turno_1_2020.DS_GENERO.value_counts()[2] / len(df_turno_1_2020), 4)).replace('.', ','))"
      ]
    },
    {
      "cell_type": "markdown",
      "metadata": {
        "id": "omyN_0u3pVnV"
      },
      "source": [
        "Como há 22068 (0,005% do conjunto) linhas em que o sexo foi registrado como NÃO INFORMADO, optei por excluí-las."
      ]
    },
    {
      "cell_type": "markdown",
      "metadata": {
        "id": "VIjxABu3MG6w"
      },
      "source": [
        "## Verificação da coluna DS_GRAU_ESCOLARIDADE"
      ]
    },
    {
      "cell_type": "code",
      "execution_count": null,
      "metadata": {
        "id": "U94Zw-N7XkCR"
      },
      "outputs": [],
      "source": [
        "df_turno_1_2020.DS_GRAU_ESCOLARIDADE.value_counts()"
      ]
    },
    {
      "cell_type": "code",
      "execution_count": null,
      "metadata": {
        "id": "c5UkglPiXxAq"
      },
      "outputs": [],
      "source": [
        "#verificação da quantidade percentual de valores 'NÃO INFORMADO' no conjunto\n",
        "print('Os valores \\'NÃO INFORMADO\\' representam {}% do conjunto'.format(round(df_turno_1_2020.DS_GRAU_ESCOLARIDADE.value_counts()[8] / len(df_turno_1_2020), 4)).replace('.', ','))"
      ]
    },
    {
      "cell_type": "markdown",
      "metadata": {
        "id": "UReU8WyMYKwH"
      },
      "source": [
        "Como há 16439 (0,0038% do conjunto) linhas em que o grau de escolaridade foi registrado como NÃO INFORMADO, optei por excluí-las."
      ]
    },
    {
      "cell_type": "markdown",
      "metadata": {
        "id": "qJUNeVVuMroW"
      },
      "source": [
        "## Verificação da coluna DS_FAIXA_ETARIA"
      ]
    },
    {
      "cell_type": "code",
      "execution_count": null,
      "metadata": {
        "id": "h1_dfKcuXtuq"
      },
      "outputs": [],
      "source": [
        "df_turno_1_2020.DS_FAIXA_ETARIA.value_counts()"
      ]
    },
    {
      "cell_type": "code",
      "execution_count": null,
      "metadata": {
        "id": "eyEPhvxKX7Mf"
      },
      "outputs": [],
      "source": [
        "#verificação da quantidade percentual de valores 'NÃO INFORMADO' no conjunto\n",
        "print('Os valores \\'Inválido\\' representam {}% do conjunto'.format(round(df_turno_1_2020.DS_FAIXA_ETARIA.value_counts()[20] / len(df_turno_1_2020), 4)).replace('.', ','))"
      ]
    },
    {
      "cell_type": "markdown",
      "metadata": {
        "id": "7Bh4Wvr1YmOG"
      },
      "source": [
        "Como há 52839 (0,0121% do conjunto) linhas em que a faixa etária foi registrada como INVÁLIDO, optei por excluí-las."
      ]
    },
    {
      "cell_type": "markdown",
      "metadata": {
        "id": "j9gE6cWraYHg"
      },
      "source": [
        "## Verificação da coluna DS_ESTADO_CIVIL"
      ]
    },
    {
      "cell_type": "code",
      "execution_count": null,
      "metadata": {
        "id": "HLWUmqKNaoHV"
      },
      "outputs": [],
      "source": [
        "df_turno_1_2020.DS_ESTADO_CIVIL.value_counts()"
      ]
    },
    {
      "cell_type": "code",
      "execution_count": null,
      "metadata": {
        "id": "9nXgjiRWaoHV"
      },
      "outputs": [],
      "source": [
        "#verificação da quantidade percentual de valores 'NÃO INFORMADO' no conjunto\n",
        "print('Os valores \\'NÃO INFORMADO\\' representam {}% do conjunto'.format(round(df_turno_1_2020.DS_ESTADO_CIVIL.value_counts()[5] / len(df_turno_1_2020), 4)).replace('.', ','))"
      ]
    },
    {
      "cell_type": "markdown",
      "metadata": {
        "id": "IypgQh7Ra20h"
      },
      "source": [
        "Como há 33780 (0,0077% do conjunto) linhas em que o estado civil foi registrada como NÃO INFORMADO, optei por excluí-las."
      ]
    },
    {
      "cell_type": "markdown",
      "metadata": {
        "id": "ZLjhm59jpv9B"
      },
      "source": [
        "## Exclusão dos valores 'NÃO INFORMADO', 'Inválido' e 'ZZ' (que são os dados do exterior)."
      ]
    },
    {
      "cell_type": "code",
      "execution_count": null,
      "metadata": {
        "id": "ejJsue_upYZE"
      },
      "outputs": [],
      "source": [
        "df_turno_1_2020 = df_turno_1_2020.drop(df_turno_1_2020.loc[df_turno_1_2020['DS_GENERO'] == 'NÃO INFORMADO'].index)"
      ]
    },
    {
      "cell_type": "code",
      "execution_count": null,
      "metadata": {
        "id": "G0_QiruWYcok"
      },
      "outputs": [],
      "source": [
        "df_turno_1_2020 = df_turno_1_2020.drop(df_turno_1_2020.loc[df_turno_1_2020['DS_GRAU_ESCOLARIDADE'] == 'NÃO INFORMADO'].index)"
      ]
    },
    {
      "cell_type": "code",
      "execution_count": null,
      "metadata": {
        "id": "bAf0849xY4_O"
      },
      "outputs": [],
      "source": [
        "df_turno_1_2020 = df_turno_1_2020.drop(df_turno_1_2020.loc[df_turno_1_2020['DS_FAIXA_ETARIA'] == 'Inválido'].index)"
      ]
    },
    {
      "cell_type": "code",
      "execution_count": null,
      "metadata": {
        "id": "9th7QyAbaoHV"
      },
      "outputs": [],
      "source": [
        "df_turno_1_2020 = df_turno_1_2020.drop(df_turno_1_2020.loc[df_turno_1_2020['DS_ESTADO_CIVIL'] == 'NÃO INFORMADO'].index)"
      ]
    },
    {
      "cell_type": "code",
      "execution_count": null,
      "metadata": {
        "id": "Fmwemc_Wpdtk"
      },
      "outputs": [],
      "source": [
        "df_turno_1_2020 = df_turno_1_2020.drop(df_turno_1_2020.loc[df_turno_1_2020['SG_UF'] == 'ZZ'].index)"
      ]
    },
    {
      "cell_type": "markdown",
      "metadata": {
        "id": "WfMMxSJknIwg"
      },
      "source": [
        "## Ordenação do dataframe por estado e município"
      ]
    },
    {
      "cell_type": "code",
      "execution_count": null,
      "metadata": {
        "id": "IGr1tLECyDn6"
      },
      "outputs": [],
      "source": [
        "df_turno_1_2020 = df_turno_1_2020.sort_values(by = ['SG_UF'], ascending = True)"
      ]
    },
    {
      "cell_type": "markdown",
      "metadata": {
        "id": "xOqGa9fxC3zh"
      },
      "source": [
        "# Criação do dataset por estado"
      ]
    },
    {
      "cell_type": "code",
      "execution_count": null,
      "metadata": {
        "id": "iNx1TnHmC8Gy"
      },
      "outputs": [],
      "source": [
        "data = {'SG_UF': df_turno_1_2020.SG_UF.unique()}\n",
        "df_estados_1turno = pd.DataFrame(data)"
      ]
    },
    {
      "cell_type": "markdown",
      "metadata": {
        "id": "NHOpXjqMp_KZ"
      },
      "source": [
        "## Eleitores aptos"
      ]
    },
    {
      "cell_type": "code",
      "source": [
        "df_estados_1turno = df_estados_1turno.merge(df_turno_1_2020.groupby(['SG_UF'])['QT_APTOS'].sum().reset_index(), on=['SG_UF'])\n",
        "df_estados_1turno = df_estados_1turno.rename(columns={'QT_APTOS': 'aptos'})"
      ],
      "metadata": {
        "id": "ObuNoTZx3DyV"
      },
      "execution_count": null,
      "outputs": []
    },
    {
      "cell_type": "markdown",
      "metadata": {
        "id": "q7h9DB8UN0sz"
      },
      "source": [
        "## Comparecimento do eleitorado"
      ]
    },
    {
      "cell_type": "code",
      "execution_count": null,
      "metadata": {
        "id": "NrlIZncXXu5f"
      },
      "outputs": [],
      "source": [
        "df_estados_1turno = df_estados_1turno.merge(df_turno_1_2020.groupby(['SG_UF'])['QT_COMPARECIMENTO'].sum().reset_index(), on=['SG_UF'])\n",
        "df_estados_1turno = df_estados_1turno.rename(columns={'QT_COMPARECIMENTO': 'comparecimento'})"
      ]
    },
    {
      "cell_type": "markdown",
      "source": [
        "### Comparecimento percentual do eleitorado"
      ],
      "metadata": {
        "id": "y10XzE61LVwq"
      }
    },
    {
      "cell_type": "code",
      "source": [
        "df_estados_1turno['comparecimento_percentual(%)'] = (df_estados_1turno['comparecimento'] / df_estados_1turno['aptos']) * 100\n",
        "df_estados_1turno['comparecimento_percentual(%)'] = df_estados_1turno['comparecimento_percentual(%)'].round(2)"
      ],
      "metadata": {
        "id": "XtDFqYYkK58m"
      },
      "execution_count": null,
      "outputs": []
    },
    {
      "cell_type": "markdown",
      "metadata": {
        "id": "LxUaJC5qAzBU"
      },
      "source": [
        "## Abstenção do eleitorado"
      ]
    },
    {
      "cell_type": "code",
      "source": [
        "df_estados_1turno = df_estados_1turno.merge(df_turno_1_2020.groupby(['SG_UF'])['QT_ABSTENCAO'].sum().reset_index(), on=['SG_UF'])\n",
        "df_estados_1turno = df_estados_1turno.rename(columns={'QT_ABSTENCAO': 'abstencao'})"
      ],
      "metadata": {
        "id": "1mao123bAzBV"
      },
      "execution_count": null,
      "outputs": []
    },
    {
      "cell_type": "markdown",
      "source": [
        "### Abstencao percentual do eleitorado"
      ],
      "metadata": {
        "id": "AA6tB92RAzBV"
      }
    },
    {
      "cell_type": "code",
      "source": [
        "df_estados_1turno['abstencao_percentual(%)'] = (df_estados_1turno['abstencao'] / df_estados_1turno['aptos']) * 100\n",
        "df_estados_1turno['abstencao_percentual(%)'] = df_estados_1turno['abstencao_percentual(%)'].round(2)"
      ],
      "metadata": {
        "id": "JWl1t1k6AzBV"
      },
      "execution_count": null,
      "outputs": []
    },
    {
      "cell_type": "markdown",
      "metadata": {
        "id": "rujdNwKxOzY5"
      },
      "source": [
        "## Eleitorado com deficiência"
      ]
    },
    {
      "cell_type": "code",
      "source": [
        "df_estados_1turno = df_estados_1turno.merge(df_turno_1_2020.groupby(['SG_UF'])['QT_COMPARECIMENTO_DEFICIENCIA'].sum().reset_index(), on=['SG_UF'])\n",
        "df_estados_1turno = df_estados_1turno.rename(columns={'QT_COMPARECIMENTO_DEFICIENCIA': 'comparecimento_deficiencia'})\n",
        "\n",
        "df_estados_1turno = df_estados_1turno.merge(df_turno_1_2020.groupby(['SG_UF'])['QT_ABSTENCAO_DEFICIENCIA'].sum().reset_index(), on=['SG_UF'])\n",
        "df_estados_1turno = df_estados_1turno.rename(columns={'QT_ABSTENCAO_DEFICIENCIA': 'abstencao_deficiencia'})\n",
        "\n",
        "df_estados_1turno['eleitores_deficiencia'] = df_estados_1turno['comparecimento_deficiencia'] + df_estados_1turno['abstencao_deficiencia']"
      ],
      "metadata": {
        "id": "315EemOSL7Fw"
      },
      "execution_count": null,
      "outputs": []
    },
    {
      "cell_type": "markdown",
      "source": [
        "### Eleitorado percentual com deficiência"
      ],
      "metadata": {
        "id": "tMV6IPDvMrVj"
      }
    },
    {
      "cell_type": "code",
      "source": [
        "df_estados_1turno['eleitores_deficiencia_percentual(%)'] = (df_estados_1turno['eleitores_deficiencia'] / df_estados_1turno['aptos']) * 100\n",
        "df_estados_1turno['eleitores_deficiencia_percentual(%)'] = df_estados_1turno['eleitores_deficiencia_percentual(%)'].round(2)"
      ],
      "metadata": {
        "id": "jLA11DW-MqwR"
      },
      "execution_count": null,
      "outputs": []
    },
    {
      "cell_type": "markdown",
      "metadata": {
        "id": "cxu8xsS0DqdE"
      },
      "source": [
        "## Eleitorado feminino"
      ]
    },
    {
      "cell_type": "code",
      "source": [
        "eleitorado_feminino = df_turno_1_2020[df_turno_1_2020['DS_GENERO'] == 'FEMININO'].groupby(['SG_UF'])['QT_APTOS'].sum().reset_index()\n",
        "\n",
        "df_estados_1turno = df_estados_1turno.merge(eleitorado_feminino, on=['SG_UF'], how='left')\n",
        "df_estados_1turno['eleitorado_feminino'] = df_estados_1turno['QT_APTOS'].fillna(0).astype(int)\n",
        "df_estados_1turno = df_estados_1turno.drop(columns=['QT_APTOS'])\n",
        "\n",
        "del eleitorado_feminino"
      ],
      "metadata": {
        "id": "l_tlSQO7DqdW"
      },
      "execution_count": null,
      "outputs": []
    },
    {
      "cell_type": "markdown",
      "source": [
        "### Eleitorado percentual feminino"
      ],
      "metadata": {
        "id": "jIWeR8z5DqdX"
      }
    },
    {
      "cell_type": "code",
      "execution_count": null,
      "metadata": {
        "id": "y21nEI91DqdX"
      },
      "outputs": [],
      "source": [
        "df_estados_1turno['eleitorado_feminino_percentual(%)'] = ((df_estados_1turno['eleitorado_feminino'] / df_estados_1turno['aptos']) * 100)\n",
        "df_estados_1turno['eleitorado_feminino_percentual(%)'] = df_estados_1turno['eleitorado_feminino_percentual(%)'].round(2)"
      ]
    },
    {
      "cell_type": "markdown",
      "metadata": {
        "id": "WN_9C6KuTwgj"
      },
      "source": [
        "## Eleitorado masculino"
      ]
    },
    {
      "cell_type": "code",
      "source": [
        "eleitorado_masculino = df_turno_1_2020[df_turno_1_2020['DS_GENERO'] == 'MASCULINO'].groupby(['SG_UF'])['QT_APTOS'].sum().reset_index()\n",
        "\n",
        "df_estados_1turno = df_estados_1turno.merge(eleitorado_masculino, on=['SG_UF'], how='left')\n",
        "df_estados_1turno['eleitorado_masculino'] = df_estados_1turno['QT_APTOS'].fillna(0).astype(int)\n",
        "df_estados_1turno = df_estados_1turno.drop(columns=['QT_APTOS'])\n",
        "\n",
        "del eleitorado_masculino"
      ],
      "metadata": {
        "id": "ltJvwhAJP5jr"
      },
      "execution_count": null,
      "outputs": []
    },
    {
      "cell_type": "markdown",
      "source": [
        "### Eleitorado percentual masculino"
      ],
      "metadata": {
        "id": "aekAAFniXvgW"
      }
    },
    {
      "cell_type": "code",
      "execution_count": null,
      "metadata": {
        "id": "OHAM0-DdP5jx"
      },
      "outputs": [],
      "source": [
        "df_estados_1turno['eleitorado_masculino_percentual(%)'] = ((df_estados_1turno['eleitorado_masculino'] / df_estados_1turno['aptos']) * 100)\n",
        "df_estados_1turno['eleitorado_masculino_percentual(%)'] = df_estados_1turno['eleitorado_masculino_percentual(%)'].round(2)"
      ]
    },
    {
      "cell_type": "markdown",
      "metadata": {
        "id": "GB9pvQI1UNsC"
      },
      "source": [
        "## Escolaridade do eleitorado\n"
      ]
    },
    {
      "cell_type": "code",
      "source": [
        "escolaridade_pivot = df_turno_1_2020.pivot_table(index=['SG_UF'], columns='DS_GRAU_ESCOLARIDADE', values='QT_APTOS', aggfunc='sum', fill_value=0)\n",
        "\n",
        "# Combina a tabela pivot com o DataFrame df_estados_1turno\n",
        "df_estados_1turno = pd.merge(df_estados_1turno, escolaridade_pivot, on=['SG_UF'])\n",
        "\n",
        "# Remove os prefixos dos nomes das colunas gerados pela tabela pivot\n",
        "df_estados_1turno.columns = df_estados_1turno.columns.str.replace('DS_GRAU_ESCOLARIDADE_', '')\n",
        "df_estados_1turno = df_estados_1turno.rename(columns={'ANALFABETO':'analfabeto', 'ENSINO FUNDAMENTAL COMPLETO':'fundamental_completo',\n",
        "  'ENSINO FUNDAMENTAL INCOMPLETO':'fundamental_incompleto', 'ENSINO MÉDIO COMPLETO':'medio_completo', 'ENSINO MÉDIO INCOMPLETO':'medio_incompleto',\n",
        "  'LÊ E ESCREVE':'le_escreve', 'SUPERIOR COMPLETO':'superior_completo', 'SUPERIOR INCOMPLETO':'superior_incompleto'})\n",
        "\n",
        "del escolaridade_pivot"
      ],
      "metadata": {
        "id": "9Vy65Ci_t_hQ"
      },
      "execution_count": null,
      "outputs": []
    },
    {
      "cell_type": "code",
      "source": [
        "df_estados_1turno = df_estados_1turno[['SG_UF', 'aptos', 'comparecimento',\n",
        "       'comparecimento_percentual(%)', 'abstencao', 'abstencao_percentual(%)',\n",
        "       'comparecimento_deficiencia', 'abstencao_deficiencia',\n",
        "       'eleitores_deficiencia', 'eleitores_deficiencia_percentual(%)',\n",
        "       'eleitorado_feminino', 'eleitorado_feminino_percentual(%)',\n",
        "       'eleitorado_masculino', 'eleitorado_masculino_percentual(%)',\n",
        "       'analfabeto', 'le_escreve', 'fundamental_incompleto', 'fundamental_completo',\n",
        "       'medio_incompleto', 'medio_completo', 'superior_incompleto','superior_completo',]]"
      ],
      "metadata": {
        "id": "hluz740uwSnl"
      },
      "execution_count": null,
      "outputs": []
    },
    {
      "cell_type": "markdown",
      "source": [
        "### Escolaridade percentual do eleitorado"
      ],
      "metadata": {
        "id": "jvQYEhNoX41f"
      }
    },
    {
      "cell_type": "code",
      "execution_count": null,
      "metadata": {
        "id": "Ea4xdAA3OkZU"
      },
      "outputs": [],
      "source": [
        "def define_escolaridade_percentual(row, coluna):\n",
        "    percentual = (row[coluna] / row['aptos']) * 100\n",
        "    return round(percentual, 2)"
      ]
    },
    {
      "cell_type": "code",
      "source": [
        "# Lista das colunas de escolaridade\n",
        "colunas_escolaridade = ['analfabeto', 'le_escreve', 'fundamental_incompleto', 'fundamental_completo',\n",
        "                        'medio_incompleto', 'medio_completo', 'superior_incompleto', 'superior_completo']\n",
        "\n",
        "# Aplica a função define_escolaridade_percentual() em todas as colunas relevantes\n",
        "for coluna in colunas_escolaridade:\n",
        "    df_estados_1turno[coluna + '_percentual(%)'] = df_estados_1turno.apply(\n",
        "        lambda row: define_escolaridade_percentual(row, coluna), axis=1)\n",
        "\n",
        "del colunas_escolaridade"
      ],
      "metadata": {
        "id": "6BnziXdCur9Y"
      },
      "execution_count": null,
      "outputs": []
    },
    {
      "cell_type": "markdown",
      "metadata": {
        "id": "8wdH3i24Ur2m"
      },
      "source": [
        "### Escolaridade do eleitorado masculino"
      ]
    },
    {
      "cell_type": "code",
      "source": [
        "# Filtra os dados apenas para o gênero masculino\n",
        "df_turno_1_2020_masculino = df_turno_1_2020[df_turno_1_2020['DS_GENERO'] == 'MASCULINO']\n",
        "\n",
        "# Realiza a agregação dos dados por município e grau de escolaridade\n",
        "agregado_masculino = df_turno_1_2020_masculino.groupby(['SG_UF', 'DS_GRAU_ESCOLARIDADE'])['QT_APTOS'].sum().reset_index()\n",
        "\n",
        "# Realiza o pivot para transformar as colunas de grau de escolaridade em colunas do dataframe\n",
        "pivot_masculino = agregado_masculino.pivot_table(index=['SG_UF'], columns='DS_GRAU_ESCOLARIDADE', values='QT_APTOS').reset_index()\n",
        "\n",
        "# Junta os dados no dataframe df_estados_1turno\n",
        "df_estados_1turno = df_estados_1turno.merge(pivot_masculino, on=['SG_UF'], how='left')\n",
        "df_estados_1turno = df_estados_1turno.rename(columns={'ANALFABETO':'analfabeto_masculino',\n",
        "  'ENSINO FUNDAMENTAL COMPLETO':'fundamental_completo_masculino', 'ENSINO FUNDAMENTAL INCOMPLETO':'fundamental_incompleto_masculino',\n",
        "  'ENSINO MÉDIO COMPLETO':'medio_completo_masculino', 'ENSINO MÉDIO INCOMPLETO':'medio_incompleto_masculino',\n",
        "  'LÊ E ESCREVE':'le_escreve_masculino', 'SUPERIOR COMPLETO':'superior_completo_masculino',\n",
        "  'SUPERIOR INCOMPLETO':'superior_incompleto_masculino'})\n",
        "\n",
        "del df_turno_1_2020_masculino, agregado_masculino, pivot_masculino"
      ],
      "metadata": {
        "id": "AvrS2SjsyVSs"
      },
      "execution_count": null,
      "outputs": []
    },
    {
      "cell_type": "code",
      "source": [
        "colunas_escolaridade_masculina = ['analfabeto_masculino', 'le_escreve_masculino', 'fundamental_incompleto_masculino',\n",
        "                                 'fundamental_completo_masculino', 'medio_incompleto_masculino',\n",
        "                                 'medio_completo_masculino', 'superior_incompleto_masculino',\n",
        "                                 'superior_completo_masculino']\n",
        "for coluna in colunas_escolaridade_masculina:\n",
        "  df_estados_1turno[coluna] = df_estados_1turno[coluna].fillna(0)\n",
        "  df_estados_1turno[coluna] = df_estados_1turno[coluna].astype(int)\n",
        "\n",
        "del colunas_escolaridade_masculina"
      ],
      "metadata": {
        "id": "zYgMot9y_BUM"
      },
      "execution_count": null,
      "outputs": []
    },
    {
      "cell_type": "code",
      "source": [
        "df_estados_1turno = df_estados_1turno[['SG_UF', 'aptos', 'comparecimento',\n",
        "       'comparecimento_percentual(%)', 'abstencao', 'abstencao_percentual(%)',\n",
        "       'comparecimento_deficiencia', 'abstencao_deficiencia',\n",
        "       'eleitores_deficiencia', 'eleitores_deficiencia_percentual(%)',\n",
        "       'eleitorado_feminino', 'eleitorado_feminino_percentual(%)',\n",
        "       'eleitorado_masculino', 'eleitorado_masculino_percentual(%)',\n",
        "       'analfabeto', 'le_escreve', 'fundamental_incompleto',\n",
        "       'fundamental_completo', 'medio_incompleto', 'medio_completo',\n",
        "       'superior_incompleto', 'superior_completo', 'analfabeto_percentual(%)',\n",
        "       'le_escreve_percentual(%)', 'fundamental_incompleto_percentual(%)',\n",
        "       'fundamental_completo_percentual(%)', 'medio_incompleto_percentual(%)',\n",
        "       'medio_completo_percentual(%)', 'superior_incompleto_percentual(%)',\n",
        "       'superior_completo_percentual(%)', 'analfabeto_masculino',\n",
        "       'le_escreve_masculino', 'fundamental_incompleto_masculino',\n",
        "       'fundamental_completo_masculino', 'medio_incompleto_masculino',\n",
        "       'medio_completo_masculino', 'superior_incompleto_masculino',\n",
        "       'superior_completo_masculino']]"
      ],
      "metadata": {
        "id": "nuIclhm1zyFF"
      },
      "execution_count": null,
      "outputs": []
    },
    {
      "cell_type": "markdown",
      "source": [
        "#### Escolaridade percentual do eleitorado masculino"
      ],
      "metadata": {
        "id": "1Bb6czIb3y9L"
      }
    },
    {
      "cell_type": "code",
      "source": [
        "def define_escolaridade_percentual_masculina(row, coluna):\n",
        "    if row[coluna.replace('_masculino', '')] != 0:\n",
        "        return round((row[coluna] / row[coluna.replace('_masculino', '')]) * 100, 2)\n",
        "    return 0.0"
      ],
      "metadata": {
        "id": "EObDPX2o18f7"
      },
      "execution_count": null,
      "outputs": []
    },
    {
      "cell_type": "code",
      "source": [
        "colunas_escolaridade_masculina = ['analfabeto_masculino', 'le_escreve_masculino', 'fundamental_incompleto_masculino',\n",
        "                                 'fundamental_completo_masculino', 'medio_incompleto_masculino',\n",
        "                                 'medio_completo_masculino', 'superior_incompleto_masculino',\n",
        "                                 'superior_completo_masculino']\n",
        "\n",
        "for coluna in colunas_escolaridade_masculina:\n",
        "    coluna_percentual = coluna + '_percentual(%)'\n",
        "    df_estados_1turno[coluna_percentual] = df_estados_1turno.apply(define_escolaridade_percentual_masculina,\n",
        "                                                                         args=(coluna,),\n",
        "                                                                         axis=1)\n",
        "\n",
        "del colunas_escolaridade_masculina"
      ],
      "metadata": {
        "id": "IGytQbc217PU"
      },
      "execution_count": null,
      "outputs": []
    },
    {
      "cell_type": "markdown",
      "metadata": {
        "id": "834OBSeRNe34"
      },
      "source": [
        "### Escolaridade do eleitorado feminino"
      ]
    },
    {
      "cell_type": "code",
      "source": [
        "# Filtra os dados apenas para o gênero feminino\n",
        "df_turno_1_2020_feminino = df_turno_1_2020[df_turno_1_2020['DS_GENERO'] == 'FEMININO']\n",
        "\n",
        "# Realiza a agregação dos dados por município e grau de escolaridade\n",
        "agregado_feminino = df_turno_1_2020_feminino.groupby(['SG_UF', 'DS_GRAU_ESCOLARIDADE'])['QT_APTOS'].sum().reset_index()\n",
        "\n",
        "# Realiza o pivot para transformar as colunas de grau de escolaridade em colunas do dataframe\n",
        "pivot_feminino = agregado_feminino.pivot_table(index=['SG_UF'], columns='DS_GRAU_ESCOLARIDADE', values='QT_APTOS').reset_index()\n",
        "\n",
        "# Junta os dados no dataframe df_estados_1turno\n",
        "df_estados_1turno = df_estados_1turno.merge(pivot_feminino, on=['SG_UF'], how='left')\n",
        "df_estados_1turno = df_estados_1turno.rename(columns={'ANALFABETO':'analfabeto_feminino',\n",
        "  'ENSINO FUNDAMENTAL COMPLETO':'fundamental_completo_feminino', 'ENSINO FUNDAMENTAL INCOMPLETO':'fundamental_incompleto_feminino',\n",
        "  'ENSINO MÉDIO COMPLETO':'medio_completo_feminino', 'ENSINO MÉDIO INCOMPLETO':'medio_incompleto_feminino',\n",
        "  'LÊ E ESCREVE':'le_escreve_feminino', 'SUPERIOR COMPLETO':'superior_completo_feminino',\n",
        "  'SUPERIOR INCOMPLETO':'superior_incompleto_feminino'})\n",
        "\n",
        "del df_turno_1_2020_feminino, agregado_feminino, pivot_feminino"
      ],
      "metadata": {
        "id": "pK2wz7u54Wkd"
      },
      "execution_count": null,
      "outputs": []
    },
    {
      "cell_type": "code",
      "source": [
        "colunas_escolaridade_feminina = ['analfabeto_feminino', 'le_escreve_feminino', 'fundamental_incompleto_feminino',\n",
        "                                 'fundamental_completo_feminino', 'medio_incompleto_feminino',\n",
        "                                 'medio_completo_feminino', 'superior_incompleto_feminino',\n",
        "                                 'superior_completo_feminino']\n",
        "for coluna in colunas_escolaridade_feminina:\n",
        "  df_estados_1turno[coluna] = df_estados_1turno[coluna].fillna(0)\n",
        "  df_estados_1turno[coluna] = df_estados_1turno[coluna].astype(int)"
      ],
      "metadata": {
        "id": "4DetJIXlAF9J"
      },
      "execution_count": null,
      "outputs": []
    },
    {
      "cell_type": "code",
      "source": [
        "df_estados_1turno = df_estados_1turno[['SG_UF', 'aptos', 'comparecimento',\n",
        "       'comparecimento_percentual(%)', 'abstencao', 'abstencao_percentual(%)',\n",
        "       'comparecimento_deficiencia', 'abstencao_deficiencia',\n",
        "       'eleitores_deficiencia', 'eleitores_deficiencia_percentual(%)',\n",
        "       'eleitorado_feminino', 'eleitorado_feminino_percentual(%)',\n",
        "       'eleitorado_masculino', 'eleitorado_masculino_percentual(%)',\n",
        "       'analfabeto', 'le_escreve', 'fundamental_incompleto',\n",
        "       'fundamental_completo', 'medio_incompleto', 'medio_completo',\n",
        "       'superior_incompleto', 'superior_completo', 'analfabeto_percentual(%)',\n",
        "       'le_escreve_percentual(%)', 'fundamental_incompleto_percentual(%)',\n",
        "       'fundamental_completo_percentual(%)', 'medio_incompleto_percentual(%)',\n",
        "       'medio_completo_percentual(%)', 'superior_incompleto_percentual(%)',\n",
        "       'superior_completo_percentual(%)', 'analfabeto_masculino',\n",
        "       'le_escreve_masculino', 'fundamental_incompleto_masculino',\n",
        "       'fundamental_completo_masculino', 'medio_incompleto_masculino',\n",
        "       'medio_completo_masculino', 'superior_incompleto_masculino',\n",
        "       'superior_completo_masculino', 'analfabeto_masculino_percentual(%)',\n",
        "       'le_escreve_masculino_percentual(%)',\n",
        "       'fundamental_incompleto_masculino_percentual(%)',\n",
        "       'fundamental_completo_masculino_percentual(%)',\n",
        "       'medio_incompleto_masculino_percentual(%)',\n",
        "       'medio_completo_masculino_percentual(%)',\n",
        "       'superior_incompleto_masculino_percentual(%)',\n",
        "       'superior_completo_masculino_percentual(%)', 'analfabeto_feminino',\n",
        "       'le_escreve_feminino', 'fundamental_incompleto_feminino',\n",
        "       'fundamental_completo_feminino', 'medio_incompleto_feminino',\n",
        "       'medio_completo_feminino', 'superior_incompleto_feminino',\n",
        "       'superior_completo_feminino']]"
      ],
      "metadata": {
        "id": "-RyYAuDV4Wkd"
      },
      "execution_count": null,
      "outputs": []
    },
    {
      "cell_type": "markdown",
      "source": [
        "#### Escolaridade percentual do eleitorado feminino"
      ],
      "metadata": {
        "id": "24bIC6rV7pUG"
      }
    },
    {
      "cell_type": "code",
      "source": [
        "def define_escolaridade_percentual_feminina(row, coluna):\n",
        "    if row[coluna.replace('_feminino', '')] != 0:\n",
        "        return round((row[coluna] / row[coluna.replace('_feminino', '')]) * 100, 2)\n",
        "    return 0.0"
      ],
      "metadata": {
        "id": "7kiwrXKa7tAV"
      },
      "execution_count": null,
      "outputs": []
    },
    {
      "cell_type": "code",
      "source": [
        "colunas_escolaridade_feminina = ['analfabeto_feminino', 'le_escreve_feminino', 'fundamental_incompleto_feminino',\n",
        "                                 'fundamental_completo_feminino', 'medio_incompleto_feminino',\n",
        "                                 'medio_completo_feminino', 'superior_incompleto_feminino',\n",
        "                                 'superior_completo_feminino']\n",
        "\n",
        "for coluna in colunas_escolaridade_feminina:\n",
        "    coluna_percentual = coluna + '_percentual(%)'\n",
        "    df_estados_1turno[coluna_percentual] = df_estados_1turno.apply(define_escolaridade_percentual_feminina,\n",
        "                                                                         args=(coluna,),\n",
        "                                                                         axis=1)"
      ],
      "metadata": {
        "id": "kjG2j3Tn7tAd"
      },
      "execution_count": null,
      "outputs": []
    },
    {
      "cell_type": "markdown",
      "metadata": {
        "id": "m1vFCH4XNe35"
      },
      "source": [
        "## Faixa etária do eleitorado"
      ]
    },
    {
      "cell_type": "code",
      "source": [
        "# Calcular as somas das faixas etárias por município\n",
        "faixa_etaria_sum = df_turno_1_2020.groupby(['SG_UF', 'DS_FAIXA_ETARIA'])['QT_APTOS'].sum().reset_index()\n",
        "\n",
        "# Pivotar a tabela para obter as colunas desejadas\n",
        "df_pivot = faixa_etaria_sum.pivot_table(index=['SG_UF'], columns='DS_FAIXA_ETARIA', values='QT_APTOS', fill_value=0).reset_index()\n",
        "\n",
        "# Juntar os resultados ao DataFrame df_estados_1turno\n",
        "df_estados_1turno = df_estados_1turno.merge(df_pivot, how='left', left_on=['SG_UF'], right_on=['SG_UF'])"
      ],
      "metadata": {
        "id": "Tm6Hf5jKBUoT"
      },
      "execution_count": null,
      "outputs": []
    },
    {
      "cell_type": "code",
      "source": [
        "df_estados_1turno = df_estados_1turno[['SG_UF', 'aptos', 'comparecimento', 'comparecimento_percentual(%)',\n",
        "       'abstencao', 'abstencao_percentual(%)', 'comparecimento_deficiencia',\n",
        "       'abstencao_deficiencia', 'eleitores_deficiencia',\n",
        "       'eleitores_deficiencia_percentual(%)', 'eleitorado_feminino',\n",
        "       'eleitorado_feminino_percentual(%)', 'eleitorado_masculino',\n",
        "       'eleitorado_masculino_percentual(%)', 'analfabeto', 'le_escreve',\n",
        "       'fundamental_incompleto', 'fundamental_completo', 'medio_incompleto',\n",
        "       'medio_completo', 'superior_incompleto', 'superior_completo',\n",
        "       'analfabeto_percentual(%)', 'le_escreve_percentual(%)',\n",
        "       'fundamental_incompleto_percentual(%)',\n",
        "       'fundamental_completo_percentual(%)', 'medio_incompleto_percentual(%)',\n",
        "       'medio_completo_percentual(%)', 'superior_incompleto_percentual(%)',\n",
        "       'superior_completo_percentual(%)', 'analfabeto_masculino',\n",
        "       'le_escreve_masculino', 'fundamental_incompleto_masculino',\n",
        "       'fundamental_completo_masculino', 'medio_incompleto_masculino',\n",
        "       'medio_completo_masculino', 'superior_incompleto_masculino',\n",
        "       'superior_completo_masculino', 'analfabeto_masculino_percentual(%)',\n",
        "       'le_escreve_masculino_percentual(%)',\n",
        "       'fundamental_incompleto_masculino_percentual(%)',\n",
        "       'fundamental_completo_masculino_percentual(%)',\n",
        "       'medio_incompleto_masculino_percentual(%)',\n",
        "       'medio_completo_masculino_percentual(%)',\n",
        "       'superior_incompleto_masculino_percentual(%)',\n",
        "       'superior_completo_masculino_percentual(%)', 'analfabeto_feminino',\n",
        "       'le_escreve_feminino', 'fundamental_incompleto_feminino',\n",
        "       'fundamental_completo_feminino', 'medio_incompleto_feminino',\n",
        "       'medio_completo_feminino', 'superior_incompleto_feminino',\n",
        "       'superior_completo_feminino', 'analfabeto_feminino_percentual(%)',\n",
        "       'le_escreve_feminino_percentual(%)',\n",
        "       'fundamental_incompleto_feminino_percentual(%)',\n",
        "       'fundamental_completo_feminino_percentual(%)',\n",
        "       'medio_incompleto_feminino_percentual(%)',\n",
        "       'medio_completo_feminino_percentual(%)',\n",
        "       'superior_incompleto_feminino_percentual(%)',\n",
        "       'superior_completo_feminino_percentual(%)',\n",
        "       '16 anos', '17 anos', '18 anos', '19 anos', '20 anos', '21 a 24 anos',\n",
        "       '25 a 29 anos', '30 a 34 anos', '35 a 39 anos', '40 a 44 anos',\n",
        "       '45 a 49 anos', '50 a 54 anos', '55 a 59 anos', '60 a 64 anos',\n",
        "       '65 a 69 anos', '70 a 74 anos', '75 a 79 anos', '80 a 84 anos',\n",
        "       '85 a 89 anos', '90 a 94 anos', '95 a 99 anos', '100 anos ou mais']]"
      ],
      "metadata": {
        "id": "ADS7pNNuI-78"
      },
      "execution_count": null,
      "outputs": []
    },
    {
      "cell_type": "code",
      "source": [
        "df_estados_1turno = df_estados_1turno.rename(columns={'100 anos ou mais':'100_anos',\n",
        "       '16 anos':'16_anos', '17 anos':'17_anos', '18 anos':'18_anos',\n",
        "       '19 anos':'19_anos', '20 anos':'20_anos', '21 a 24 anos':'21_24_anos',\n",
        "       '25 a 29 anos':'25_29_anos', '30 a 34 anos':'30_34_anos', '35 a 39 anos':'35_39_anos',\n",
        "       '40 a 44 anos':'40_44_anos', '45 a 49 anos':'45_49_anos',\n",
        "       '50 a 54 anos':'50_54_anos', '55 a 59 anos':'55_59_anos',\n",
        "       '60 a 64 anos':'60_64_anos', '65 a 69 anos':'65_69_anos',\n",
        "       '70 a 74 anos':'70_74_anos', '75 a 79 anos':'75_79_anos',\n",
        "       '80 a 84 anos':'80_84_anos', '85 a 89 anos':'85_89_anos',\n",
        "       '90 a 94 anos':'90_94_anos', '95 a 99 anos':'95_99_anos'})"
      ],
      "metadata": {
        "id": "qmu8uwPEEHk4"
      },
      "execution_count": null,
      "outputs": []
    },
    {
      "cell_type": "markdown",
      "source": [
        "### Faixa etária percentual do eleitorado"
      ],
      "metadata": {
        "id": "ZtG13LkdIRUw"
      }
    },
    {
      "cell_type": "code",
      "source": [
        "faixa_etaria_colunas = {\n",
        "    '16_anos': '16_anos_percentual(%)',\n",
        "    '17_anos': '17_anos_percentual(%)',\n",
        "    '18_anos': '18_anos_percentual(%)',\n",
        "    '19_anos': '19_anos_percentual(%)',\n",
        "    '20_anos': '20_anos_percentual(%)',\n",
        "    '21_24_anos': '21_24_anos_percentual(%)',\n",
        "    '25_29_anos': '25_29_anos_percentual(%)',\n",
        "    '30_34_anos': '30_34_anos_percentual(%)',\n",
        "    '35_39_anos': '35_39_anos_percentual(%)',\n",
        "    '40_44_anos': '40_44_anos_percentual(%)',\n",
        "    '45_49_anos': '45_49_anos_percentual(%)',\n",
        "    '50_54_anos': '50_54_anos_percentual(%)',\n",
        "    '55_59_anos': '55_59_anos_percentual(%)',\n",
        "    '60_64_anos': '60_64_anos_percentual(%)',\n",
        "    '65_69_anos': '65_69_anos_percentual(%)',\n",
        "    '70_74_anos': '70_74_anos_percentual(%)',\n",
        "    '75_79_anos': '75_79_anos_percentual(%)',\n",
        "    '80_84_anos': '80_84_anos_percentual(%)',\n",
        "    '85_89_anos': '85_89_anos_percentual(%)',\n",
        "    '90_94_anos': '90_94_anos_percentual(%)',\n",
        "    '95_99_anos': '95_99_anos_percentual(%)',\n",
        "    '100_anos': '100_anos_percentual(%)'\n",
        "}\n",
        "\n",
        "for faixa_etaria, coluna_percentual in faixa_etaria_colunas.items():\n",
        "  df_estados_1turno[coluna_percentual] = (df_estados_1turno[faixa_etaria] / df_estados_1turno['aptos'] * 100).round(2)\n"
      ],
      "metadata": {
        "id": "l1vTFngEH66t"
      },
      "execution_count": null,
      "outputs": []
    },
    {
      "cell_type": "markdown",
      "metadata": {
        "id": "Q0EnCSeTNe36"
      },
      "source": [
        "### Faixa etária do eleitorado masculino"
      ]
    },
    {
      "cell_type": "code",
      "source": [
        "faixa_etaria_masculino = df_turno_1_2020[df_turno_1_2020['DS_GENERO'] == 'MASCULINO'].groupby(['SG_UF', 'DS_FAIXA_ETARIA'])['QT_APTOS'].sum().reset_index()\n",
        "# Pivotar a tabela para obter as colunas desejadas\n",
        "df_pivot = faixa_etaria_masculino.pivot_table(index=['SG_UF'], columns='DS_FAIXA_ETARIA', values='QT_APTOS', fill_value=0).reset_index()\n",
        "\n",
        "# Juntar os resultados ao DataFrame df_estados_1turno\n",
        "df_estados_1turno = df_estados_1turno.merge(df_pivot, how='left', left_on=['SG_UF'], right_on=['SG_UF'])\n",
        "# df_estados_1turno = df_estados_1turno.sort_values(by=['SG_UF'])\n"
      ],
      "metadata": {
        "id": "geZXmtkUQ0zo"
      },
      "execution_count": null,
      "outputs": []
    },
    {
      "cell_type": "code",
      "source": [
        "df_estados_1turno = df_estados_1turno.rename(columns={\n",
        "       '16 anos':'16_anos_masculino', '17 anos':'17_anos_masculino', '18 anos':'18_anos_masculino',\n",
        "       '19 anos':'19_anos_masculino', '20 anos':'20_anos_masculino', '21 a 24 anos':'21_24_anos_masculino',\n",
        "       '25 a 29 anos':'25_29_anos_masculino', '30 a 34 anos':'30_34_anos_masculino', '35 a 39 anos':'35_39_anos_masculino',\n",
        "       '40 a 44 anos':'40_44_anos_masculino', '45 a 49 anos':'45_49_anos_masculino',\n",
        "       '50 a 54 anos':'50_54_anos_masculino', '55 a 59 anos':'55_59_anos_masculino',\n",
        "       '60 a 64 anos':'60_64_anos_masculino', '65 a 69 anos':'65_69_anos_masculino',\n",
        "       '70 a 74 anos':'70_74_anos_masculino', '75 a 79 anos':'75_79_anos_masculino',\n",
        "       '80 a 84 anos':'80_84_anos_masculino', '85 a 89 anos':'85_89_anos_masculino',\n",
        "       '90 a 94 anos':'90_94_anos_masculino', '95 a 99 anos':'95_99_anos_masculino',\n",
        "       '100 anos ou mais':'100_anos_masculino',})"
      ],
      "metadata": {
        "id": "YzcLgncQbyuy"
      },
      "execution_count": null,
      "outputs": []
    },
    {
      "cell_type": "code",
      "source": [
        "faixa_etaria_masculina_colunas = {\n",
        "    '16_anos_masculino_percentual(%)': ['16_anos_masculino', '16_anos'],\n",
        "    '17_anos_masculino_percentual(%)': ['17_anos_masculino', '17_anos'],\n",
        "    '18_anos_masculino_percentual(%)': ['18_anos_masculino', '18_anos'],\n",
        "    '19_anos_masculino_percentual(%)': ['19_anos_masculino', '19_anos'],\n",
        "    '20_anos_masculino_percentual(%)': ['20_anos_masculino', '20_anos'],\n",
        "    '21_24_anos_masculino_percentual(%)': ['21_24_anos_masculino', '21_24_anos'],\n",
        "    '25_29_anos_masculino_percentual(%)': ['25_29_anos_masculino', '25_29_anos'],\n",
        "    '30_34_anos_masculino_percentual(%)': ['30_34_anos_masculino', '30_34_anos'],\n",
        "    '35_39_anos_masculino_percentual(%)': ['35_39_anos_masculino', '35_39_anos'],\n",
        "    '40_44_anos_masculino_percentual(%)': ['40_44_anos_masculino', '40_44_anos'],\n",
        "    '45_49_anos_masculino_percentual(%)': ['45_49_anos_masculino', '45_49_anos'],\n",
        "    '50_54_anos_masculino_percentual(%)': ['50_54_anos_masculino', '50_54_anos'],\n",
        "    '55_59_anos_masculino_percentual(%)': ['55_59_anos_masculino', '55_59_anos'],\n",
        "    '60_64_anos_masculino_percentual(%)': ['60_64_anos_masculino', '60_64_anos'],\n",
        "    '65_69_anos_masculino_percentual(%)': ['65_69_anos_masculino', '65_69_anos'],\n",
        "    '70_74_anos_masculino_percentual(%)': ['70_74_anos_masculino', '70_74_anos'],\n",
        "    '75_79_anos_masculino_percentual(%)': ['75_79_anos_masculino', '75_79_anos'],\n",
        "    '80_84_anos_masculino_percentual(%)': ['80_84_anos_masculino', '80_84_anos'],\n",
        "    '85_89_anos_masculino_percentual(%)': ['85_89_anos_masculino', '85_89_anos'],\n",
        "    '90_94_anos_masculino_percentual(%)': ['90_94_anos_masculino', '90_94_anos'],\n",
        "    '95_99_anos_masculino_percentual(%)': ['95_99_anos_masculino', '95_99_anos'],\n",
        "    '100_anos_masculino_percentual(%)'  : ['100_anos_masculino', '100_anos']\n",
        "}\n",
        "\n",
        "for coluna_percentual, faixa_etaria in faixa_etaria_masculina_colunas.items():\n",
        "  df_estados_1turno[coluna_percentual] = (df_estados_1turno[faixa_etaria[0]] / df_estados_1turno[faixa_etaria[1]] * 100).round(2)"
      ],
      "metadata": {
        "id": "KdUftAxXZFyc"
      },
      "execution_count": null,
      "outputs": []
    },
    {
      "cell_type": "markdown",
      "metadata": {
        "id": "qgStRayINe37"
      },
      "source": [
        "### Faixa etária do eleitorado feminino"
      ]
    },
    {
      "cell_type": "code",
      "execution_count": null,
      "metadata": {
        "id": "szrFj3zlNe38"
      },
      "outputs": [],
      "source": [
        "faixa_etaria_feminino = df_turno_1_2020[df_turno_1_2020['DS_GENERO'] == 'FEMININO'].groupby(['SG_UF', 'DS_FAIXA_ETARIA'])['QT_APTOS'].sum().reset_index()\n",
        "# Pivotar a tabela para obter as colunas desejadas\n",
        "df_pivot = faixa_etaria_masculino.pivot_table(index=['SG_UF'], columns='DS_FAIXA_ETARIA', values='QT_APTOS', fill_value=0).reset_index()\n",
        "\n",
        "# Juntar os resultados ao DataFrame df_estados_1turno\n",
        "df_estados_1turno = df_estados_1turno.merge(df_pivot, how='left', left_on=['SG_UF'], right_on=['SG_UF'])\n",
        "# df_estados_1turno = df_estados_1turno.sort_values(by=['SG_UF'])"
      ]
    },
    {
      "cell_type": "code",
      "execution_count": null,
      "metadata": {
        "id": "J2BFD7TMNe38"
      },
      "outputs": [],
      "source": [
        "df_estados_1turno = df_estados_1turno.rename(columns={\n",
        "       '16 anos':'16_anos_feminino', '17 anos':'17_anos_feminino', '18 anos':'18_anos_feminino',\n",
        "       '19 anos':'19_anos_feminino', '20 anos':'20_anos_feminino', '21 a 24 anos':'21_24_anos_feminino',\n",
        "       '25 a 29 anos':'25_29_anos_feminino', '30 a 34 anos':'30_34_anos_feminino', '35 a 39 anos':'35_39_anos_feminino',\n",
        "       '40 a 44 anos':'40_44_anos_feminino', '45 a 49 anos':'45_49_anos_feminino',\n",
        "       '50 a 54 anos':'50_54_anos_feminino', '55 a 59 anos':'55_59_anos_feminino',\n",
        "       '60 a 64 anos':'60_64_anos_feminino', '65 a 69 anos':'65_69_anos_feminino',\n",
        "       '70 a 74 anos':'70_74_anos_feminino', '75 a 79 anos':'75_79_anos_feminino',\n",
        "       '80 a 84 anos':'80_84_anos_feminino', '85 a 89 anos':'85_89_anos_feminino',\n",
        "       '90 a 94 anos':'90_94_anos_feminino', '95 a 99 anos':'95_99_anos_feminino',\n",
        "       '100 anos ou mais':'100_anos_feminino',})"
      ]
    },
    {
      "cell_type": "code",
      "execution_count": null,
      "metadata": {
        "id": "PT2bxc-LNe38"
      },
      "outputs": [],
      "source": [
        "faixa_etaria_feminina_colunas = {\n",
        "    '16_anos_feminino_percentual(%)': ['16_anos_feminino', '16_anos'],\n",
        "    '17_anos_feminino_percentual(%)': ['17_anos_feminino', '17_anos'],\n",
        "    '18_anos_feminino_percentual(%)': ['18_anos_feminino', '18_anos'],\n",
        "    '19_anos_feminino_percentual(%)': ['19_anos_feminino', '19_anos'],\n",
        "    '20_anos_feminino_percentual(%)': ['20_anos_feminino', '20_anos'],\n",
        "    '21_24_anos_feminino_percentual(%)': ['21_24_anos_feminino', '21_24_anos'],\n",
        "    '25_29_anos_feminino_percentual(%)': ['25_29_anos_feminino', '25_29_anos'],\n",
        "    '30_34_anos_feminino_percentual(%)': ['30_34_anos_feminino', '30_34_anos'],\n",
        "    '35_39_anos_feminino_percentual(%)': ['35_39_anos_feminino', '35_39_anos'],\n",
        "    '40_44_anos_feminino_percentual(%)': ['40_44_anos_feminino', '40_44_anos'],\n",
        "    '45_49_anos_feminino_percentual(%)': ['45_49_anos_feminino', '45_49_anos'],\n",
        "    '50_54_anos_feminino_percentual(%)': ['50_54_anos_feminino', '50_54_anos'],\n",
        "    '55_59_anos_feminino_percentual(%)': ['55_59_anos_feminino', '55_59_anos'],\n",
        "    '60_64_anos_feminino_percentual(%)': ['60_64_anos_feminino', '60_64_anos'],\n",
        "    '65_69_anos_feminino_percentual(%)': ['65_69_anos_feminino', '65_69_anos'],\n",
        "    '70_74_anos_feminino_percentual(%)': ['70_74_anos_feminino', '70_74_anos'],\n",
        "    '75_79_anos_feminino_percentual(%)': ['75_79_anos_feminino', '75_79_anos'],\n",
        "    '80_84_anos_feminino_percentual(%)': ['80_84_anos_feminino', '80_84_anos'],\n",
        "    '85_89_anos_feminino_percentual(%)': ['85_89_anos_feminino', '85_89_anos'],\n",
        "    '90_94_anos_feminino_percentual(%)': ['90_94_anos_feminino', '90_94_anos'],\n",
        "    '95_99_anos_feminino_percentual(%)': ['95_99_anos_feminino', '95_99_anos'],\n",
        "    '100_anos_feminino_percentual(%)'  : ['100_anos_feminino', '100_anos']\n",
        "}\n",
        "\n",
        "for coluna_percentual, faixa_etaria in faixa_etaria_feminina_colunas.items():\n",
        "  df_estados_1turno[coluna_percentual] = (df_estados_1turno[faixa_etaria[0]] / df_estados_1turno[faixa_etaria[1]] * 100).round(2)"
      ]
    },
    {
      "cell_type": "markdown",
      "metadata": {
        "id": "XppApg5KNe39"
      },
      "source": [
        "## Eleitorado facultativo"
      ]
    },
    {
      "cell_type": "code",
      "execution_count": null,
      "metadata": {
        "id": "5O3EG7DzZyi9"
      },
      "outputs": [],
      "source": [
        "def eleitorado_facultativo_estados_1turno():\n",
        "  return int(df_estados_1turno['16_anos'].values[i]\n",
        "  + df_estados_1turno['17_anos'].values[i]\n",
        "  + df_estados_1turno['65_69_anos'].values[i]\n",
        "  + df_estados_1turno['70_74_anos'].values[i]\n",
        "  + df_estados_1turno['75_79_anos'].values[i]\n",
        "  + df_estados_1turno['80_84_anos'].values[i]\n",
        "  + df_estados_1turno['85_89_anos'].values[i]\n",
        "  + df_estados_1turno['90_94_anos'].values[i]\n",
        "  + df_estados_1turno['95_99_anos'].values[i]\n",
        "  + df_estados_1turno['100_anos'].values[i])"
      ]
    },
    {
      "cell_type": "code",
      "execution_count": null,
      "metadata": {
        "id": "KD3AllTFZyi-"
      },
      "outputs": [],
      "source": [
        "df_estados_1turno['eleitorado_facultativo'] = 0\n",
        "\n",
        "for i in range(len(df_estados_1turno['SG_UF'])):\n",
        "  df_estados_1turno['eleitorado_facultativo'][i] = eleitorado_facultativo_estados_1turno()"
      ]
    },
    {
      "cell_type": "code",
      "execution_count": null,
      "metadata": {
        "id": "9HFmmeA4Zyi_"
      },
      "outputs": [],
      "source": [
        "def eleitorado_facultativo_estados_1turno_percentual():\n",
        "  return round(((df_estados_1turno['eleitorado_facultativo'][i] / df_estados_1turno['aptos'][i]) * 100), 2)"
      ]
    },
    {
      "cell_type": "code",
      "execution_count": null,
      "metadata": {
        "id": "RuZCM-E1ZyjB"
      },
      "outputs": [],
      "source": [
        "df_estados_1turno['eleitorado_facultativo_percentual(%)'] = 0.0\n",
        "\n",
        "for i in range(len(df_estados_1turno['SG_UF'])):\n",
        "  df_estados_1turno['eleitorado_facultativo_percentual(%)'][i] = eleitorado_facultativo_estados_1turno_percentual()"
      ]
    },
    {
      "cell_type": "markdown",
      "metadata": {
        "id": "Wmtgwlh8Ne3-"
      },
      "source": [
        "### Eleitorado facultativo masculino"
      ]
    },
    {
      "cell_type": "code",
      "execution_count": null,
      "metadata": {
        "id": "buC71DsSNe3-"
      },
      "outputs": [],
      "source": [
        "def eleitorado_facultativo_masculino_estados_1turno():\n",
        "  return int(df_estados_1turno['16_anos_masculino'].values[i]\n",
        "  + df_estados_1turno['17_anos_masculino'].values[i]\n",
        "  + df_estados_1turno['65_69_anos_masculino'].values[i]\n",
        "  + df_estados_1turno['70_74_anos_masculino'].values[i]\n",
        "  + df_estados_1turno['75_79_anos_masculino'].values[i]\n",
        "  + df_estados_1turno['80_84_anos_masculino'].values[i]\n",
        "  + df_estados_1turno['85_89_anos_masculino'].values[i]\n",
        "  + df_estados_1turno['90_94_anos_masculino'].values[i]\n",
        "  + df_estados_1turno['95_99_anos_masculino'].values[i]\n",
        "  + df_estados_1turno['100_anos_masculino'].values[i])"
      ]
    },
    {
      "cell_type": "code",
      "execution_count": null,
      "metadata": {
        "id": "8v14HWubNe3-"
      },
      "outputs": [],
      "source": [
        "df_estados_1turno['eleitorado_facultativo_masculino'] = 0\n",
        "\n",
        "for i in range(len(df_estados_1turno['SG_UF'])):\n",
        "  df_estados_1turno['eleitorado_facultativo_masculino'][i] = eleitorado_facultativo_masculino_estados_1turno()"
      ]
    },
    {
      "cell_type": "code",
      "execution_count": null,
      "metadata": {
        "id": "Qu7sqd0qNe3-"
      },
      "outputs": [],
      "source": [
        "def eleitorado_facultativo_masculino_estados_1turno_percentual():\n",
        "  return round(((df_estados_1turno['eleitorado_facultativo_masculino'][i] / df_estados_1turno['aptos'][i]) * 100), 2)"
      ]
    },
    {
      "cell_type": "code",
      "execution_count": null,
      "metadata": {
        "id": "k2sTMMd2Ne3-"
      },
      "outputs": [],
      "source": [
        "df_estados_1turno['eleitorado_facultativo_masculino_percentual(%)'] = 0.0\n",
        "\n",
        "for i in range(len(df_estados_1turno['SG_UF'])):\n",
        "  df_estados_1turno['eleitorado_facultativo_masculino_percentual(%)'][i] = eleitorado_facultativo_masculino_estados_1turno_percentual()"
      ]
    },
    {
      "cell_type": "markdown",
      "metadata": {
        "id": "HO0x6ZXdNe3_"
      },
      "source": [
        "### Eleitorado facultativo feminino"
      ]
    },
    {
      "cell_type": "code",
      "execution_count": null,
      "metadata": {
        "id": "E_pr5k9ONe3_"
      },
      "outputs": [],
      "source": [
        "def eleitorado_facultativo_feminino_estados_1turno():\n",
        "  return df_estados_1turno['eleitorado_facultativo'][i] - df_estados_1turno['eleitorado_facultativo_masculino'][i]"
      ]
    },
    {
      "cell_type": "code",
      "execution_count": null,
      "metadata": {
        "id": "X3uclfi4Ne3_"
      },
      "outputs": [],
      "source": [
        "df_estados_1turno['eleitorado_facultativo_feminino'] = 0\n",
        "\n",
        "for i in range(len(df_estados_1turno['SG_UF'])):\n",
        "  df_estados_1turno['eleitorado_facultativo_feminino'][i] = eleitorado_facultativo_feminino_estados_1turno()"
      ]
    },
    {
      "cell_type": "code",
      "execution_count": null,
      "metadata": {
        "id": "H1rdr5MRNe3_"
      },
      "outputs": [],
      "source": [
        "def eleitorado_facultativo_feminino_estados_1turno_percentual():\n",
        "  return round(((df_estados_1turno['eleitorado_facultativo_feminino'][i] / df_estados_1turno['aptos'][i]) * 100), 2)"
      ]
    },
    {
      "cell_type": "code",
      "execution_count": null,
      "metadata": {
        "id": "iyyilvf3Ne3_"
      },
      "outputs": [],
      "source": [
        "df_estados_1turno['eleitorado_facultativo_feminino_percentual(%)'] = 0.0\n",
        "\n",
        "for i in range(len(df_estados_1turno['SG_UF'])):\n",
        "  df_estados_1turno['eleitorado_facultativo_feminino_percentual(%)'][i] = eleitorado_facultativo_feminino_estados_1turno_percentual()"
      ]
    },
    {
      "cell_type": "markdown",
      "metadata": {
        "id": "k5l0atwsNe3_"
      },
      "source": [
        "## Estado civil do eleitorado"
      ]
    },
    {
      "cell_type": "code",
      "source": [
        "estado_civil = df_turno_1_2020.groupby(['SG_UF', 'DS_ESTADO_CIVIL'])['QT_APTOS'].sum().reset_index()\n",
        "df_pivot = estado_civil.pivot_table(index=['SG_UF'], columns='DS_ESTADO_CIVIL', values='QT_APTOS', fill_value=0).reset_index()\n",
        "df_pivot = df_pivot.rename(columns={\n",
        "       'SOLTEIRO':'solteiro', 'CASADO':'casado', 'DIVORCIADO':'divorciado',\n",
        "       'VIÚVO':'viuvo', 'SEPARADO JUDICIALMENTE':'separado_judicialmente'})\n",
        "df_pivot = df_pivot[['SG_UF', 'solteiro', 'casado',\n",
        "      'divorciado', 'viuvo', 'separado_judicialmente']]\n",
        "df_estados_1turno = df_estados_1turno.merge(df_pivot, how='left', left_on=['SG_UF'], right_on=['SG_UF'])\n",
        "del estado_civil, df_pivot"
      ],
      "metadata": {
        "id": "N6LO_HYrZuuh"
      },
      "execution_count": null,
      "outputs": []
    },
    {
      "cell_type": "markdown",
      "source": [
        "### Estado civil percentual do eleitorado"
      ],
      "metadata": {
        "id": "Ddh8FPi_fB96"
      }
    },
    {
      "cell_type": "code",
      "source": [
        "estados_civil = {\n",
        "    'solteiro_percentual(%)': 'solteiro',\n",
        "    'casado_percentual(%)': 'casado',\n",
        "    'divorciado_percentual(%)': 'divorciado',\n",
        "    'viuvo_percentual(%)': 'viuvo',\n",
        "    'separado_judicialmente_percentual(%)': 'separado_judicialmente'\n",
        "}\n",
        "\n",
        "for estado_percentual, ec in estados_civil.items():\n",
        "  df_estados_1turno[coluna_percentual] = (df_estados_1turno[ec] / df_estados_1turno['aptos'] * 100).round(2)"
      ],
      "metadata": {
        "id": "IGI2mScLdcjP"
      },
      "execution_count": null,
      "outputs": []
    },
    {
      "cell_type": "markdown",
      "metadata": {
        "id": "auPtneS8Ne4A"
      },
      "source": [
        "### Estado civil do eleitorado masculino"
      ]
    },
    {
      "cell_type": "code",
      "execution_count": null,
      "metadata": {
        "id": "DeBjQKFkNe4A"
      },
      "outputs": [],
      "source": [
        "# Filtra os dados apenas para o gênero masculino\n",
        "df_turno_1_2020_masculino = df_turno_1_2020[df_turno_1_2020['DS_GENERO'] == 'MASCULINO']\n",
        "\n",
        "# Realiza a agregação dos dados por município e grau de escolaridade\n",
        "agregado_masculino = df_turno_1_2020_masculino.groupby(['SG_UF', 'DS_ESTADO_CIVIL'])['QT_APTOS'].sum().reset_index()\n",
        "\n",
        "# Realiza o pivot para transformar as colunas de grau de escolaridade em colunas do dataframe\n",
        "pivot_masculino = agregado_masculino.pivot_table(index=['SG_UF'], columns='DS_ESTADO_CIVIL', values='QT_APTOS').reset_index()\n",
        "pivot_masculino = pivot_masculino.rename(columns={\n",
        "       'SOLTEIRO':'solteiro_masculino', 'CASADO':'casado_masculino', 'DIVORCIADO':'divorciado_masculino',\n",
        "       'VIÚVO':'viuvo_masculino', 'SEPARADO JUDICIALMENTE':'separado_judicialmente_masculino'})\n",
        "pivot_masculino = pivot_masculino[['SG_UF', 'solteiro_masculino', 'casado_masculino',\n",
        "      'divorciado_masculino', 'viuvo_masculino', 'separado_judicialmente_masculino']]\n",
        "\n",
        "pivot_masculino = pivot_masculino.fillna(0)\n",
        "\n",
        "for coluna in pivot_masculino:\n",
        "  if (coluna != 'SG_UF'):\n",
        "    pivot_masculino[coluna] = pivot_masculino[coluna].astype(int)\n",
        "# Junta os dados no dataframe df_estados_1turno\n",
        "df_estados_1turno = df_estados_1turno.merge(pivot_masculino, on=['SG_UF'], how='left')"
      ]
    },
    {
      "cell_type": "code",
      "source": [
        "estados_civil_percentual_masculino = {\n",
        "    'solteiro_masculino_percentual(%)': ['solteiro_masculino', 'solteiro'],\n",
        "    'casado_masculino_percentual(%)': ['casado_masculino', 'casado'],\n",
        "    'divorciado_masculino_percentual(%)': ['divorciado_masculino', 'divorciado'],\n",
        "    'viuvo_masculino_percentual(%)': ['viuvo_masculino', 'viuvo'],\n",
        "    'separado_judicialmente_masculino_percentual(%)': ['separado_judicialmente_masculino', 'separado_judicialmente']\n",
        "}\n",
        "\n",
        "for estado_percentual, ec in estados_civil_percentual_masculino.items():\n",
        "  df_estados_1turno[estado_percentual] = (df_estados_1turno[ec[0]] / df_estados_1turno[ec[1]] * 100).round(2)"
      ],
      "metadata": {
        "id": "Hofy5lbjmfc0"
      },
      "execution_count": null,
      "outputs": []
    },
    {
      "cell_type": "markdown",
      "metadata": {
        "id": "-c1rXOw6Ne4B"
      },
      "source": [
        "### Estado civil do eleitorado feminino"
      ]
    },
    {
      "cell_type": "code",
      "execution_count": null,
      "metadata": {
        "id": "DbsDjC30Ne4B"
      },
      "outputs": [],
      "source": [
        "# Filtra os dados apenas para o gênero masculino\n",
        "df_turno_1_2020_feminino = df_turno_1_2020[df_turno_1_2020['DS_GENERO'] == 'FEMININO']\n",
        "\n",
        "# Realiza a agregação dos dados por município e grau de escolaridade\n",
        "agregado_feminino = df_turno_1_2020_feminino.groupby(['SG_UF', 'DS_ESTADO_CIVIL'])['QT_APTOS'].sum().reset_index()\n",
        "\n",
        "# Realiza o pivot para transformar as colunas de grau de escolaridade em colunas do dataframe\n",
        "pivot_feminino = agregado_feminino.pivot_table(index=['SG_UF'], columns='DS_ESTADO_CIVIL', values='QT_APTOS').reset_index()\n",
        "pivot_feminino = pivot_feminino.rename(columns={\n",
        "       'SOLTEIRO':'solteiro_feminino', 'CASADO':'casado_feminino', 'DIVORCIADO':'divorciado_feminino',\n",
        "       'VIÚVO':'viuvo_feminino', 'SEPARADO JUDICIALMENTE':'separado_judicialmente_feminino'})\n",
        "pivot_feminino = pivot_feminino[['SG_UF', 'solteiro_feminino', 'casado_feminino',\n",
        "      'divorciado_feminino', 'viuvo_feminino', 'separado_judicialmente_feminino']]\n",
        "# Junta os dados no dataframe df_estados_1turno\n",
        "df_estados_1turno = df_estados_1turno.merge(pivot_feminino, on=['SG_UF'], how='left')"
      ]
    },
    {
      "cell_type": "code",
      "execution_count": null,
      "metadata": {
        "id": "Wj4naIyjNe4C"
      },
      "outputs": [],
      "source": [
        "estados_civil_percentual_feminino = {\n",
        "    'solteiro_feminino_percentual(%)': ['solteiro_feminino', 'solteiro'],\n",
        "    'casado_feminino_percentual(%)': ['casado_feminino', 'casado'],\n",
        "    'divorciado_feminino_percentual(%)': ['divorciado_feminino', 'divorciado'],\n",
        "    'viuvo_feminino_percentual(%)': ['viuvo_feminino', 'viuvo'],\n",
        "    'separado_judicialmente_feminino_percentual(%)': ['separado_judicialmente_feminino', 'separado_judicialmente']\n",
        "}\n",
        "\n",
        "for estado_percentual, ec in estados_civil_percentual_feminino.items():\n",
        "  df_estados_1turno[estado_percentual] = (df_estados_1turno[ec[0]] / df_estados_1turno[ec[1]] * 100).round(2)"
      ]
    },
    {
      "cell_type": "markdown",
      "metadata": {
        "id": "ck25QUrONe4C"
      },
      "source": [
        "## Eleitorado masculino solteiro por faixa etária"
      ]
    },
    {
      "cell_type": "code",
      "source": [
        "# Filtra os dados apenas para o gênero masculino e solteiro\n",
        "df_turno_1_2020_masculino = df_turno_1_2020[(df_turno_1_2020['DS_GENERO'] == 'MASCULINO') & (df_turno_1_2020['DS_ESTADO_CIVIL'] == 'SOLTEIRO')].groupby(['SG_UF', 'DS_FAIXA_ETARIA',])['QT_APTOS'].sum().reset_index()\n",
        "\n",
        "# Realiza o pivot para transformar as colunas de grau de escolaridade em colunas do dataframe\n",
        "pivot_masculino = df_turno_1_2020_masculino.pivot_table(index=['SG_UF'], columns='DS_FAIXA_ETARIA', values='QT_APTOS').reset_index()\n",
        "pivot_masculino = pivot_masculino.fillna(0)\n",
        "pivot_masculino = pivot_masculino.rename(columns={\n",
        "       '16 anos':'16_anos_solteiro_masculino', '17 anos':'17_anos_solteiro_masculino', '18 anos':'18_anos_solteiro_masculino',\n",
        "       '19 anos':'19_anos_solteiro_masculino', '20 anos':'20_anos_solteiro_masculino', '21 a 24 anos':'21_24_anos_solteiro_masculino',\n",
        "       '25 a 29 anos':'25_29_anos_solteiro_masculino', '30 a 34 anos':'30_34_anos_solteiro_masculino', '35 a 39 anos':'35_39_anos_solteiro_masculino',\n",
        "       '40 a 44 anos':'40_44_anos_solteiro_masculino', '45 a 49 anos':'45_49_anos_solteiro_masculino',\n",
        "       '50 a 54 anos':'50_54_anos_solteiro_masculino', '55 a 59 anos':'55_59_anos_solteiro_masculino',\n",
        "       '60 a 64 anos':'60_64_anos_solteiro_masculino', '65 a 69 anos':'65_69_anos_solteiro_masculino',\n",
        "       '70 a 74 anos':'70_74_anos_solteiro_masculino', '75 a 79 anos':'75_79_anos_solteiro_masculino',\n",
        "       '80 a 84 anos':'80_84_anos_solteiro_masculino', '85 a 89 anos':'85_89_anos_solteiro_masculino',\n",
        "       '90 a 94 anos':'90_94_anos_solteiro_masculino', '95 a 99 anos':'95_99_anos_solteiro_masculino',\n",
        "       '100 anos ou mais':'100_anos_solteiro_masculino',})\n",
        "\n",
        "pivot_masculino = pivot_masculino[['SG_UF',\n",
        "       '16_anos_solteiro_masculino', '17_anos_solteiro_masculino',\n",
        "       '18_anos_solteiro_masculino', '19_anos_solteiro_masculino',\n",
        "       '20_anos_solteiro_masculino', '21_24_anos_solteiro_masculino',\n",
        "       '25_29_anos_solteiro_masculino', '30_34_anos_solteiro_masculino',\n",
        "       '35_39_anos_solteiro_masculino', '40_44_anos_solteiro_masculino',\n",
        "       '45_49_anos_solteiro_masculino', '50_54_anos_solteiro_masculino',\n",
        "       '55_59_anos_solteiro_masculino', '60_64_anos_solteiro_masculino',\n",
        "       '65_69_anos_solteiro_masculino', '70_74_anos_solteiro_masculino',\n",
        "       '75_79_anos_solteiro_masculino', '80_84_anos_solteiro_masculino',\n",
        "       '85_89_anos_solteiro_masculino', '90_94_anos_solteiro_masculino',\n",
        "       '95_99_anos_solteiro_masculino', '100_anos_solteiro_masculino',]]\n",
        "\n",
        "for i in pivot_masculino.columns:\n",
        "  if ((i != 'SG_UF')):\n",
        "    pivot_masculino[i] = pivot_masculino[i].astype(int)\n",
        "\n",
        "df_estados_1turno = df_estados_1turno.merge(pivot_masculino, on=['SG_UF'], how='left')"
      ],
      "metadata": {
        "id": "Tm7TG3E8tREa"
      },
      "execution_count": null,
      "outputs": []
    },
    {
      "cell_type": "code",
      "source": [
        "estados_civil_percentual_masculino = {\n",
        "    '16_anos_solteiro_masculino_percentual(%)':['16_anos_solteiro_masculino','16_anos'],\n",
        "    '17_anos_solteiro_masculino_percentual(%)':['17_anos_solteiro_masculino','17_anos'],\n",
        "    '18_anos_solteiro_masculino_percentual(%)':['18_anos_solteiro_masculino','18_anos'],\n",
        "    '19_anos_solteiro_masculino_percentual(%)':['19_anos_solteiro_masculino','19_anos'],\n",
        "    '20_anos_solteiro_masculino_percentual(%)':['20_anos_solteiro_masculino','20_anos'],\n",
        "    '21_24_anos_solteiro_masculino_percentual(%)':['21_24_anos_solteiro_masculino','21_24_anos'],\n",
        "    '25_29_anos_solteiro_masculino_percentual(%)':['25_29_anos_solteiro_masculino','25_29_anos'],\n",
        "    '30_34_anos_solteiro_masculino_percentual(%)':['30_34_anos_solteiro_masculino','30_34_anos'],\n",
        "    '35_39_anos_solteiro_masculino_percentual(%)':['35_39_anos_solteiro_masculino','35_39_anos'],\n",
        "    '40_44_anos_solteiro_masculino_percentual(%)':['40_44_anos_solteiro_masculino','40_44_anos'],\n",
        "    '45_49_anos_solteiro_masculino_percentual(%)':['45_49_anos_solteiro_masculino','45_49_anos'],\n",
        "    '50_54_anos_solteiro_masculino_percentual(%)':['50_54_anos_solteiro_masculino','50_54_anos'],\n",
        "    '55_59_anos_solteiro_masculino_percentual(%)':['55_59_anos_solteiro_masculino','55_59_anos'],\n",
        "    '60_64_anos_solteiro_masculino_percentual(%)':['60_64_anos_solteiro_masculino','60_64_anos'],\n",
        "    '65_69_anos_solteiro_masculino_percentual(%)':['65_69_anos_solteiro_masculino','65_69_anos'],\n",
        "    '70_74_anos_solteiro_masculino_percentual(%)':['70_74_anos_solteiro_masculino','70_74_anos'],\n",
        "    '75_79_anos_solteiro_masculino_percentual(%)':['75_79_anos_solteiro_masculino','75_79_anos'],\n",
        "    '80_84_anos_solteiro_masculino_percentual(%)':['80_84_anos_solteiro_masculino','80_84_anos'],\n",
        "    '85_89_anos_solteiro_masculino_percentual(%)':['85_89_anos_solteiro_masculino','85_89_anos'],\n",
        "    '90_94_anos_solteiro_masculino_percentual(%)':['90_94_anos_solteiro_masculino','90_94_anos'],\n",
        "    '95_99_anos_solteiro_masculino_percentual(%)':['95_99_anos_solteiro_masculino','95_99_anos'],\n",
        "    '100_anos_solteiro_masculino_percentual(%)':['100_anos_solteiro_masculino','100_anos'],\n",
        "}\n",
        "\n",
        "for estado_percentual, ec in estados_civil_percentual_masculino.items():\n",
        "  df_estados_1turno[estado_percentual] = (df_estados_1turno[ec[0]] / df_estados_1turno[ec[1]] * 100).round(2)\n",
        "\n",
        "del estados_civil_percentual_masculino"
      ],
      "metadata": {
        "id": "LVRSiJ6vFm2G"
      },
      "execution_count": null,
      "outputs": []
    },
    {
      "cell_type": "markdown",
      "metadata": {
        "id": "EJ7JESX-Ne4D"
      },
      "source": [
        "## Eleitorado masculino casado por faixa etária"
      ]
    },
    {
      "cell_type": "code",
      "execution_count": null,
      "metadata": {
        "id": "bObs5PDENe4E"
      },
      "outputs": [],
      "source": [
        "# Filtra os dados apenas para o gênero masculino e casado\n",
        "df_turno_1_2020_masculino = df_turno_1_2020[(df_turno_1_2020['DS_GENERO'] == 'MASCULINO') & (df_turno_1_2020['DS_ESTADO_CIVIL'] == 'CASADO')].groupby(['SG_UF', 'DS_FAIXA_ETARIA',])['QT_APTOS'].sum().reset_index()\n",
        "\n",
        "# Realiza o pivot para transformar as colunas de grau de escolaridade em colunas do dataframe\n",
        "pivot_masculino = df_turno_1_2020_masculino.pivot_table(index=['SG_UF'], columns='DS_FAIXA_ETARIA', values='QT_APTOS').reset_index()\n",
        "pivot_masculino = pivot_masculino.fillna(0)\n",
        "pivot_masculino = pivot_masculino.rename(columns={\n",
        "       '16 anos':'16_anos_casado_masculino', '17 anos':'17_anos_casado_masculino', '18 anos':'18_anos_casado_masculino',\n",
        "       '19 anos':'19_anos_casado_masculino', '20 anos':'20_anos_casado_masculino', '21 a 24 anos':'21_24_anos_casado_masculino',\n",
        "       '25 a 29 anos':'25_29_anos_casado_masculino', '30 a 34 anos':'30_34_anos_casado_masculino', '35 a 39 anos':'35_39_anos_casado_masculino',\n",
        "       '40 a 44 anos':'40_44_anos_casado_masculino', '45 a 49 anos':'45_49_anos_casado_masculino',\n",
        "       '50 a 54 anos':'50_54_anos_casado_masculino', '55 a 59 anos':'55_59_anos_casado_masculino',\n",
        "       '60 a 64 anos':'60_64_anos_casado_masculino', '65 a 69 anos':'65_69_anos_casado_masculino',\n",
        "       '70 a 74 anos':'70_74_anos_casado_masculino', '75 a 79 anos':'75_79_anos_casado_masculino',\n",
        "       '80 a 84 anos':'80_84_anos_casado_masculino', '85 a 89 anos':'85_89_anos_casado_masculino',\n",
        "       '90 a 94 anos':'90_94_anos_casado_masculino', '95 a 99 anos':'95_99_anos_casado_masculino',\n",
        "       '100 anos ou mais':'100_anos_casado_masculino',})\n",
        "\n",
        "pivot_masculino = pivot_masculino[['SG_UF',\n",
        "       '16_anos_casado_masculino', '17_anos_casado_masculino',\n",
        "       '18_anos_casado_masculino', '19_anos_casado_masculino',\n",
        "       '20_anos_casado_masculino', '21_24_anos_casado_masculino',\n",
        "       '25_29_anos_casado_masculino', '30_34_anos_casado_masculino',\n",
        "       '35_39_anos_casado_masculino', '40_44_anos_casado_masculino',\n",
        "       '45_49_anos_casado_masculino', '50_54_anos_casado_masculino',\n",
        "       '55_59_anos_casado_masculino', '60_64_anos_casado_masculino',\n",
        "       '65_69_anos_casado_masculino', '70_74_anos_casado_masculino',\n",
        "       '75_79_anos_casado_masculino', '80_84_anos_casado_masculino',\n",
        "       '85_89_anos_casado_masculino', '90_94_anos_casado_masculino',\n",
        "       '95_99_anos_casado_masculino', '100_anos_casado_masculino',]]\n",
        "\n",
        "for i in pivot_masculino.columns:\n",
        "  if ((i != 'SG_UF')):\n",
        "    pivot_masculino[i] = pivot_masculino[i].astype(int)\n",
        "\n",
        "df_estados_1turno = df_estados_1turno.merge(pivot_masculino, on=['SG_UF'], how='left')"
      ]
    },
    {
      "cell_type": "code",
      "execution_count": null,
      "metadata": {
        "id": "OJUyoLrrNe4E"
      },
      "outputs": [],
      "source": [
        "estados_civil_percentual_masculino = {\n",
        "    '16_anos_casado_masculino_percentual(%)':['16_anos_casado_masculino','16_anos'],\n",
        "    '17_anos_casado_masculino_percentual(%)':['17_anos_casado_masculino','17_anos'],\n",
        "    '18_anos_casado_masculino_percentual(%)':['18_anos_casado_masculino','18_anos'],\n",
        "    '19_anos_casado_masculino_percentual(%)':['19_anos_casado_masculino','19_anos'],\n",
        "    '20_anos_casado_masculino_percentual(%)':['20_anos_casado_masculino','20_anos'],\n",
        "    '21_24_anos_casado_masculino_percentual(%)':['21_24_anos_casado_masculino','21_24_anos'],\n",
        "    '25_29_anos_casado_masculino_percentual(%)':['25_29_anos_casado_masculino','25_29_anos'],\n",
        "    '30_34_anos_casado_masculino_percentual(%)':['30_34_anos_casado_masculino','30_34_anos'],\n",
        "    '35_39_anos_casado_masculino_percentual(%)':['35_39_anos_casado_masculino','35_39_anos'],\n",
        "    '40_44_anos_casado_masculino_percentual(%)':['40_44_anos_casado_masculino','40_44_anos'],\n",
        "    '45_49_anos_casado_masculino_percentual(%)':['45_49_anos_casado_masculino','45_49_anos'],\n",
        "    '50_54_anos_casado_masculino_percentual(%)':['50_54_anos_casado_masculino','50_54_anos'],\n",
        "    '55_59_anos_casado_masculino_percentual(%)':['55_59_anos_casado_masculino','55_59_anos'],\n",
        "    '60_64_anos_casado_masculino_percentual(%)':['60_64_anos_casado_masculino','60_64_anos'],\n",
        "    '65_69_anos_casado_masculino_percentual(%)':['65_69_anos_casado_masculino','65_69_anos'],\n",
        "    '70_74_anos_casado_masculino_percentual(%)':['70_74_anos_casado_masculino','70_74_anos'],\n",
        "    '75_79_anos_casado_masculino_percentual(%)':['75_79_anos_casado_masculino','75_79_anos'],\n",
        "    '80_84_anos_casado_masculino_percentual(%)':['80_84_anos_casado_masculino','80_84_anos'],\n",
        "    '85_89_anos_casado_masculino_percentual(%)':['85_89_anos_casado_masculino','85_89_anos'],\n",
        "    '90_94_anos_casado_masculino_percentual(%)':['90_94_anos_casado_masculino','90_94_anos'],\n",
        "    '95_99_anos_casado_masculino_percentual(%)':['95_99_anos_casado_masculino','95_99_anos'],\n",
        "    '100_anos_casado_masculino_percentual(%)':['100_anos_casado_masculino','100_anos'],\n",
        "}\n",
        "\n",
        "for estado_percentual, ec in estados_civil_percentual_masculino.items():\n",
        "  df_estados_1turno[estado_percentual] = (df_estados_1turno[ec[0]] / df_estados_1turno[ec[1]] * 100).round(2)"
      ]
    },
    {
      "cell_type": "markdown",
      "metadata": {
        "id": "Ii3jYVKgNe4F"
      },
      "source": [
        "## Eleitorado masculino divorciado por faixa etária"
      ]
    },
    {
      "cell_type": "code",
      "source": [
        "# Filtra os dados apenas para o gênero masculino e casado\n",
        "df_turno_1_2020_masculino = df_turno_1_2020[(df_turno_1_2020['DS_GENERO'] == 'MASCULINO') & (df_turno_1_2020['DS_ESTADO_CIVIL'] == 'DIVORCIADO')].groupby(['SG_UF', 'DS_FAIXA_ETARIA',])['QT_APTOS'].sum().reset_index()\n",
        "\n",
        "# Realiza o pivot para transformar as colunas de grau de escolaridade em colunas do dataframe\n",
        "pivot_masculino = df_turno_1_2020_masculino.pivot_table(index=['SG_UF'], columns='DS_FAIXA_ETARIA', values='QT_APTOS').reset_index()\n",
        "pivot_masculino = pivot_masculino.fillna(0)\n",
        "pivot_masculino = pivot_masculino.rename(columns={\n",
        "       '16 anos':'16_anos_divorciado_masculino', '17 anos':'17_anos_divorciado_masculino', '18 anos':'18_anos_divorciado_masculino',\n",
        "       '19 anos':'19_anos_divorciado_masculino', '20 anos':'20_anos_divorciado_masculino', '21 a 24 anos':'21_24_anos_divorciado_masculino',\n",
        "       '25 a 29 anos':'25_29_anos_divorciado_masculino', '30 a 34 anos':'30_34_anos_divorciado_masculino', '35 a 39 anos':'35_39_anos_divorciado_masculino',\n",
        "       '40 a 44 anos':'40_44_anos_divorciado_masculino', '45 a 49 anos':'45_49_anos_divorciado_masculino',\n",
        "       '50 a 54 anos':'50_54_anos_divorciado_masculino', '55 a 59 anos':'55_59_anos_divorciado_masculino',\n",
        "       '60 a 64 anos':'60_64_anos_divorciado_masculino', '65 a 69 anos':'65_69_anos_divorciado_masculino',\n",
        "       '70 a 74 anos':'70_74_anos_divorciado_masculino', '75 a 79 anos':'75_79_anos_divorciado_masculino',\n",
        "       '80 a 84 anos':'80_84_anos_divorciado_masculino', '85 a 89 anos':'85_89_anos_divorciado_masculino',\n",
        "       '90 a 94 anos':'90_94_anos_divorciado_masculino', '95 a 99 anos':'95_99_anos_divorciado_masculino',\n",
        "       '100 anos ou mais':'100_anos_divorciado_masculino',})\n",
        "\n",
        "pivot_masculino = pivot_masculino[['SG_UF',\n",
        "       '16_anos_divorciado_masculino', '17_anos_divorciado_masculino',\n",
        "       '18_anos_divorciado_masculino', '19_anos_divorciado_masculino',\n",
        "       '20_anos_divorciado_masculino', '21_24_anos_divorciado_masculino',\n",
        "       '25_29_anos_divorciado_masculino', '30_34_anos_divorciado_masculino',\n",
        "       '35_39_anos_divorciado_masculino', '40_44_anos_divorciado_masculino',\n",
        "       '45_49_anos_divorciado_masculino', '50_54_anos_divorciado_masculino',\n",
        "       '55_59_anos_divorciado_masculino', '60_64_anos_divorciado_masculino',\n",
        "       '65_69_anos_divorciado_masculino', '70_74_anos_divorciado_masculino',\n",
        "       '75_79_anos_divorciado_masculino', '80_84_anos_divorciado_masculino',\n",
        "       '85_89_anos_divorciado_masculino', '90_94_anos_divorciado_masculino',\n",
        "       '95_99_anos_divorciado_masculino', '100_anos_divorciado_masculino',]]\n",
        "\n",
        "for i in pivot_masculino.columns:\n",
        "  if ((i != 'SG_UF')):\n",
        "    pivot_masculino[i] = pivot_masculino[i].astype(int)\n",
        "\n",
        "df_estados_1turno = df_estados_1turno.merge(pivot_masculino, on=['SG_UF'], how='left')"
      ],
      "metadata": {
        "id": "k_Vz48b2LSmQ"
      },
      "execution_count": null,
      "outputs": []
    },
    {
      "cell_type": "code",
      "execution_count": null,
      "metadata": {
        "id": "LDwl6TheNe4F"
      },
      "outputs": [],
      "source": [
        "estados_civil_percentual_masculino = {\n",
        "    '16_anos_divorciado_masculino_percentual(%)':['16_anos_divorciado_masculino','16_anos'],\n",
        "    '17_anos_divorciado_masculino_percentual(%)':['17_anos_divorciado_masculino','17_anos'],\n",
        "    '18_anos_divorciado_masculino_percentual(%)':['18_anos_divorciado_masculino','18_anos'],\n",
        "    '19_anos_divorciado_masculino_percentual(%)':['19_anos_divorciado_masculino','19_anos'],\n",
        "    '20_anos_divorciado_masculino_percentual(%)':['20_anos_divorciado_masculino','20_anos'],\n",
        "    '21_24_anos_divorciado_masculino_percentual(%)':['21_24_anos_divorciado_masculino','21_24_anos'],\n",
        "    '25_29_anos_divorciado_masculino_percentual(%)':['25_29_anos_divorciado_masculino','25_29_anos'],\n",
        "    '30_34_anos_divorciado_masculino_percentual(%)':['30_34_anos_divorciado_masculino','30_34_anos'],\n",
        "    '35_39_anos_divorciado_masculino_percentual(%)':['35_39_anos_divorciado_masculino','35_39_anos'],\n",
        "    '40_44_anos_divorciado_masculino_percentual(%)':['40_44_anos_divorciado_masculino','40_44_anos'],\n",
        "    '45_49_anos_divorciado_masculino_percentual(%)':['45_49_anos_divorciado_masculino','45_49_anos'],\n",
        "    '50_54_anos_divorciado_masculino_percentual(%)':['50_54_anos_divorciado_masculino','50_54_anos'],\n",
        "    '55_59_anos_divorciado_masculino_percentual(%)':['55_59_anos_divorciado_masculino','55_59_anos'],\n",
        "    '60_64_anos_divorciado_masculino_percentual(%)':['60_64_anos_divorciado_masculino','60_64_anos'],\n",
        "    '65_69_anos_divorciado_masculino_percentual(%)':['65_69_anos_divorciado_masculino','65_69_anos'],\n",
        "    '70_74_anos_divorciado_masculino_percentual(%)':['70_74_anos_divorciado_masculino','70_74_anos'],\n",
        "    '75_79_anos_divorciado_masculino_percentual(%)':['75_79_anos_divorciado_masculino','75_79_anos'],\n",
        "    '80_84_anos_divorciado_masculino_percentual(%)':['80_84_anos_divorciado_masculino','80_84_anos'],\n",
        "    '85_89_anos_divorciado_masculino_percentual(%)':['85_89_anos_divorciado_masculino','85_89_anos'],\n",
        "    '90_94_anos_divorciado_masculino_percentual(%)':['90_94_anos_divorciado_masculino','90_94_anos'],\n",
        "    '95_99_anos_divorciado_masculino_percentual(%)':['95_99_anos_divorciado_masculino','95_99_anos'],\n",
        "    '100_anos_divorciado_masculino_percentual(%)':['100_anos_divorciado_masculino','100_anos'],\n",
        "}\n",
        "\n",
        "for estado_percentual, ec in estados_civil_percentual_masculino.items():\n",
        "  df_estados_1turno[estado_percentual] = (df_estados_1turno[ec[0]] / df_estados_1turno[ec[1]] * 100).round(2)"
      ]
    },
    {
      "cell_type": "markdown",
      "metadata": {
        "id": "6ci5Iw59Ne4H"
      },
      "source": [
        "## Eleitorado masculino viúvo por faixa etária"
      ]
    },
    {
      "cell_type": "code",
      "execution_count": null,
      "metadata": {
        "id": "OwkSRR2CNe4H"
      },
      "outputs": [],
      "source": [
        "# Filtra os dados apenas para o gênero masculino e casado\n",
        "df_turno_1_2020_masculino = df_turno_1_2020[(df_turno_1_2020['DS_GENERO'] == 'MASCULINO') & (df_turno_1_2020['DS_ESTADO_CIVIL'] == 'VIÚVO')].groupby(['SG_UF', 'DS_FAIXA_ETARIA',])['QT_APTOS'].sum().reset_index()\n",
        "\n",
        "# Realiza o pivot para transformar as colunas de grau de escolaridade em colunas do dataframe\n",
        "pivot_masculino = df_turno_1_2020_masculino.pivot_table(index=['SG_UF'], columns='DS_FAIXA_ETARIA', values='QT_APTOS').reset_index()\n",
        "pivot_masculino = pivot_masculino.fillna(0)\n",
        "pivot_masculino = pivot_masculino.rename(columns={\n",
        "       '16 anos':'16_anos_viuvo_masculino', '17 anos':'17_anos_viuvo_masculino', '18 anos':'18_anos_viuvo_masculino',\n",
        "       '19 anos':'19_anos_viuvo_masculino', '20 anos':'20_anos_viuvo_masculino', '21 a 24 anos':'21_24_anos_viuvo_masculino',\n",
        "       '25 a 29 anos':'25_29_anos_viuvo_masculino', '30 a 34 anos':'30_34_anos_viuvo_masculino', '35 a 39 anos':'35_39_anos_viuvo_masculino',\n",
        "       '40 a 44 anos':'40_44_anos_viuvo_masculino', '45 a 49 anos':'45_49_anos_viuvo_masculino',\n",
        "       '50 a 54 anos':'50_54_anos_viuvo_masculino', '55 a 59 anos':'55_59_anos_viuvo_masculino',\n",
        "       '60 a 64 anos':'60_64_anos_viuvo_masculino', '65 a 69 anos':'65_69_anos_viuvo_masculino',\n",
        "       '70 a 74 anos':'70_74_anos_viuvo_masculino', '75 a 79 anos':'75_79_anos_viuvo_masculino',\n",
        "       '80 a 84 anos':'80_84_anos_viuvo_masculino', '85 a 89 anos':'85_89_anos_viuvo_masculino',\n",
        "       '90 a 94 anos':'90_94_anos_viuvo_masculino', '95 a 99 anos':'95_99_anos_viuvo_masculino',\n",
        "       '100 anos ou mais':'100_anos_viuvo_masculino',})\n",
        "\n",
        "pivot_masculino = pivot_masculino[['SG_UF',\n",
        "       '16_anos_viuvo_masculino', '17_anos_viuvo_masculino',\n",
        "       '18_anos_viuvo_masculino', '19_anos_viuvo_masculino',\n",
        "       '20_anos_viuvo_masculino', '21_24_anos_viuvo_masculino',\n",
        "       '25_29_anos_viuvo_masculino', '30_34_anos_viuvo_masculino',\n",
        "       '35_39_anos_viuvo_masculino', '40_44_anos_viuvo_masculino',\n",
        "       '45_49_anos_viuvo_masculino', '50_54_anos_viuvo_masculino',\n",
        "       '55_59_anos_viuvo_masculino', '60_64_anos_viuvo_masculino',\n",
        "       '65_69_anos_viuvo_masculino', '70_74_anos_viuvo_masculino',\n",
        "       '75_79_anos_viuvo_masculino', '80_84_anos_viuvo_masculino',\n",
        "       '85_89_anos_viuvo_masculino', '90_94_anos_viuvo_masculino',\n",
        "       '95_99_anos_viuvo_masculino', '100_anos_viuvo_masculino',]]\n",
        "\n",
        "for i in pivot_masculino.columns:\n",
        "  if ((i != 'SG_UF')):\n",
        "    pivot_masculino[i] = pivot_masculino[i].astype(int)\n",
        "\n",
        "df_estados_1turno = df_estados_1turno.merge(pivot_masculino, on=['SG_UF'], how='left')"
      ]
    },
    {
      "cell_type": "code",
      "execution_count": null,
      "metadata": {
        "id": "XjUB8cIGNe4H"
      },
      "outputs": [],
      "source": [
        "estados_civil_percentual_masculino = {\n",
        "    '16_anos_viuvo_masculino_percentual(%)':['16_anos_viuvo_masculino','16_anos'],\n",
        "    '17_anos_viuvo_masculino_percentual(%)':['17_anos_viuvo_masculino','17_anos'],\n",
        "    '18_anos_viuvo_masculino_percentual(%)':['18_anos_viuvo_masculino','18_anos'],\n",
        "    '19_anos_viuvo_masculino_percentual(%)':['19_anos_viuvo_masculino','19_anos'],\n",
        "    '20_anos_viuvo_masculino_percentual(%)':['20_anos_viuvo_masculino','20_anos'],\n",
        "    '21_24_anos_viuvo_masculino_percentual(%)':['21_24_anos_viuvo_masculino','21_24_anos'],\n",
        "    '25_29_anos_viuvo_masculino_percentual(%)':['25_29_anos_viuvo_masculino','25_29_anos'],\n",
        "    '30_34_anos_viuvo_masculino_percentual(%)':['30_34_anos_viuvo_masculino','30_34_anos'],\n",
        "    '35_39_anos_viuvo_masculino_percentual(%)':['35_39_anos_viuvo_masculino','35_39_anos'],\n",
        "    '40_44_anos_viuvo_masculino_percentual(%)':['40_44_anos_viuvo_masculino','40_44_anos'],\n",
        "    '45_49_anos_viuvo_masculino_percentual(%)':['45_49_anos_viuvo_masculino','45_49_anos'],\n",
        "    '50_54_anos_viuvo_masculino_percentual(%)':['50_54_anos_viuvo_masculino','50_54_anos'],\n",
        "    '55_59_anos_viuvo_masculino_percentual(%)':['55_59_anos_viuvo_masculino','55_59_anos'],\n",
        "    '60_64_anos_viuvo_masculino_percentual(%)':['60_64_anos_viuvo_masculino','60_64_anos'],\n",
        "    '65_69_anos_viuvo_masculino_percentual(%)':['65_69_anos_viuvo_masculino','65_69_anos'],\n",
        "    '70_74_anos_viuvo_masculino_percentual(%)':['70_74_anos_viuvo_masculino','70_74_anos'],\n",
        "    '75_79_anos_viuvo_masculino_percentual(%)':['75_79_anos_viuvo_masculino','75_79_anos'],\n",
        "    '80_84_anos_viuvo_masculino_percentual(%)':['80_84_anos_viuvo_masculino','80_84_anos'],\n",
        "    '85_89_anos_viuvo_masculino_percentual(%)':['85_89_anos_viuvo_masculino','85_89_anos'],\n",
        "    '90_94_anos_viuvo_masculino_percentual(%)':['90_94_anos_viuvo_masculino','90_94_anos'],\n",
        "    '95_99_anos_viuvo_masculino_percentual(%)':['95_99_anos_viuvo_masculino','95_99_anos'],\n",
        "    '100_anos_viuvo_masculino_percentual(%)':['100_anos_viuvo_masculino','100_anos'],\n",
        "}\n",
        "\n",
        "for estado_percentual, ec in estados_civil_percentual_masculino.items():\n",
        "  df_estados_1turno[estado_percentual] = (df_estados_1turno[ec[0]] / df_estados_1turno[ec[1]] * 100).round(2)"
      ]
    },
    {
      "cell_type": "markdown",
      "metadata": {
        "id": "uh7CR4h_Ne4I"
      },
      "source": [
        "## Eleitorado masculino separado judicialmente por faixa etária"
      ]
    },
    {
      "cell_type": "code",
      "execution_count": null,
      "metadata": {
        "id": "aYyEUG3dNe4J"
      },
      "outputs": [],
      "source": [
        "# Filtra os dados apenas para o gênero masculino e casado\n",
        "df_turno_1_2020_masculino = df_turno_1_2020[(df_turno_1_2020['DS_GENERO'] == 'MASCULINO') & (df_turno_1_2020['DS_ESTADO_CIVIL'] == 'SEPARADO JUDICIALMENTE')].groupby(['SG_UF', 'DS_FAIXA_ETARIA',])['QT_APTOS'].sum().reset_index()\n",
        "\n",
        "# Realiza o pivot para transformar as colunas de grau de escolaridade em colunas do dataframe\n",
        "pivot_masculino = df_turno_1_2020_masculino.pivot_table(index=['SG_UF'], columns='DS_FAIXA_ETARIA', values='QT_APTOS').reset_index()\n",
        "pivot_masculino = pivot_masculino.fillna(0)\n",
        "pivot_masculino = pivot_masculino.rename(columns={\n",
        "       '16 anos':'16_anos_separado_judicialmente_masculino', '17 anos':'17_anos_separado_judicialmente_masculino', '18 anos':'18_anos_separado_judicialmente_masculino',\n",
        "       '19 anos':'19_anos_separado_judicialmente_masculino', '20 anos':'20_anos_separado_judicialmente_masculino', '21 a 24 anos':'21_24_anos_separado_judicialmente_masculino',\n",
        "       '25 a 29 anos':'25_29_anos_separado_judicialmente_masculino', '30 a 34 anos':'30_34_anos_separado_judicialmente_masculino', '35 a 39 anos':'35_39_anos_separado_judicialmente_masculino',\n",
        "       '40 a 44 anos':'40_44_anos_separado_judicialmente_masculino', '45 a 49 anos':'45_49_anos_separado_judicialmente_masculino',\n",
        "       '50 a 54 anos':'50_54_anos_separado_judicialmente_masculino', '55 a 59 anos':'55_59_anos_separado_judicialmente_masculino',\n",
        "       '60 a 64 anos':'60_64_anos_separado_judicialmente_masculino', '65 a 69 anos':'65_69_anos_separado_judicialmente_masculino',\n",
        "       '70 a 74 anos':'70_74_anos_separado_judicialmente_masculino', '75 a 79 anos':'75_79_anos_separado_judicialmente_masculino',\n",
        "       '80 a 84 anos':'80_84_anos_separado_judicialmente_masculino', '85 a 89 anos':'85_89_anos_separado_judicialmente_masculino',\n",
        "       '90 a 94 anos':'90_94_anos_separado_judicialmente_masculino', '95 a 99 anos':'95_99_anos_separado_judicialmente_masculino',\n",
        "       '100 anos ou mais':'100_anos_separado_judicialmente_masculino',})\n",
        "\n",
        "pivot_masculino = pivot_masculino[['SG_UF',\n",
        "       '16_anos_separado_judicialmente_masculino', '17_anos_separado_judicialmente_masculino',\n",
        "       '18_anos_separado_judicialmente_masculino', '19_anos_separado_judicialmente_masculino',\n",
        "       '20_anos_separado_judicialmente_masculino', '21_24_anos_separado_judicialmente_masculino',\n",
        "       '25_29_anos_separado_judicialmente_masculino', '30_34_anos_separado_judicialmente_masculino',\n",
        "       '35_39_anos_separado_judicialmente_masculino', '40_44_anos_separado_judicialmente_masculino',\n",
        "       '45_49_anos_separado_judicialmente_masculino', '50_54_anos_separado_judicialmente_masculino',\n",
        "       '55_59_anos_separado_judicialmente_masculino', '60_64_anos_separado_judicialmente_masculino',\n",
        "       '65_69_anos_separado_judicialmente_masculino', '70_74_anos_separado_judicialmente_masculino',\n",
        "       '75_79_anos_separado_judicialmente_masculino', '80_84_anos_separado_judicialmente_masculino',\n",
        "       '85_89_anos_separado_judicialmente_masculino', '90_94_anos_separado_judicialmente_masculino',\n",
        "       '95_99_anos_separado_judicialmente_masculino', '100_anos_separado_judicialmente_masculino',]]\n",
        "\n",
        "for i in pivot_masculino.columns:\n",
        "  if ((i != 'SG_UF')):\n",
        "    pivot_masculino[i] = pivot_masculino[i].astype(int)\n",
        "\n",
        "df_estados_1turno = df_estados_1turno.merge(pivot_masculino, on=['SG_UF'], how='left')"
      ]
    },
    {
      "cell_type": "code",
      "execution_count": null,
      "metadata": {
        "id": "WtTIAA8GNe4J"
      },
      "outputs": [],
      "source": [
        "estados_civil_percentual_masculino = {\n",
        "    '16_anos_separado_judicialmente_masculino_percentual(%)':['16_anos_separado_judicialmente_masculino','16_anos'],\n",
        "    '17_anos_separado_judicialmente_masculino_percentual(%)':['17_anos_separado_judicialmente_masculino','17_anos'],\n",
        "    '18_anos_separado_judicialmente_masculino_percentual(%)':['18_anos_separado_judicialmente_masculino','18_anos'],\n",
        "    '19_anos_separado_judicialmente_masculino_percentual(%)':['19_anos_separado_judicialmente_masculino','19_anos'],\n",
        "    '20_anos_separado_judicialmente_masculino_percentual(%)':['20_anos_separado_judicialmente_masculino','20_anos'],\n",
        "    '21_24_anos_separado_judicialmente_masculino_percentual(%)':['21_24_anos_separado_judicialmente_masculino','21_24_anos'],\n",
        "    '25_29_anos_separado_judicialmente_masculino_percentual(%)':['25_29_anos_separado_judicialmente_masculino','25_29_anos'],\n",
        "    '30_34_anos_separado_judicialmente_masculino_percentual(%)':['30_34_anos_separado_judicialmente_masculino','30_34_anos'],\n",
        "    '35_39_anos_separado_judicialmente_masculino_percentual(%)':['35_39_anos_separado_judicialmente_masculino','35_39_anos'],\n",
        "    '40_44_anos_separado_judicialmente_masculino_percentual(%)':['40_44_anos_separado_judicialmente_masculino','40_44_anos'],\n",
        "    '45_49_anos_separado_judicialmente_masculino_percentual(%)':['45_49_anos_separado_judicialmente_masculino','45_49_anos'],\n",
        "    '50_54_anos_separado_judicialmente_masculino_percentual(%)':['50_54_anos_separado_judicialmente_masculino','50_54_anos'],\n",
        "    '55_59_anos_separado_judicialmente_masculino_percentual(%)':['55_59_anos_separado_judicialmente_masculino','55_59_anos'],\n",
        "    '60_64_anos_separado_judicialmente_masculino_percentual(%)':['60_64_anos_separado_judicialmente_masculino','60_64_anos'],\n",
        "    '65_69_anos_separado_judicialmente_masculino_percentual(%)':['65_69_anos_separado_judicialmente_masculino','65_69_anos'],\n",
        "    '70_74_anos_separado_judicialmente_masculino_percentual(%)':['70_74_anos_separado_judicialmente_masculino','70_74_anos'],\n",
        "    '75_79_anos_separado_judicialmente_masculino_percentual(%)':['75_79_anos_separado_judicialmente_masculino','75_79_anos'],\n",
        "    '80_84_anos_separado_judicialmente_masculino_percentual(%)':['80_84_anos_separado_judicialmente_masculino','80_84_anos'],\n",
        "    '85_89_anos_separado_judicialmente_masculino_percentual(%)':['85_89_anos_separado_judicialmente_masculino','85_89_anos'],\n",
        "    '90_94_anos_separado_judicialmente_masculino_percentual(%)':['90_94_anos_separado_judicialmente_masculino','90_94_anos'],\n",
        "    '95_99_anos_separado_judicialmente_masculino_percentual(%)':['95_99_anos_separado_judicialmente_masculino','95_99_anos'],\n",
        "    '100_anos_separado_judicialmente_masculino_percentual(%)':['100_anos_separado_judicialmente_masculino','100_anos'],\n",
        "}\n",
        "\n",
        "for estado_percentual, ec in estados_civil_percentual_masculino.items():\n",
        "  df_estados_1turno[estado_percentual] = (df_estados_1turno[ec[0]] / df_estados_1turno[ec[1]] * 100).round(2)"
      ]
    },
    {
      "cell_type": "markdown",
      "metadata": {
        "id": "tMplohjTNe4K"
      },
      "source": [
        "## Eleitorado feminino solteiro por faixa etária"
      ]
    },
    {
      "cell_type": "code",
      "execution_count": null,
      "metadata": {
        "id": "-glAx_cUNe4K"
      },
      "outputs": [],
      "source": [
        "# Filtra os dados apenas para o gênero masculino e solteiro\n",
        "df_turno_1_2020_feminino = df_turno_1_2020[(df_turno_1_2020['DS_GENERO'] == 'FEMININO') & (df_turno_1_2020['DS_ESTADO_CIVIL'] == 'SOLTEIRO')].groupby(['SG_UF', 'DS_FAIXA_ETARIA',])['QT_APTOS'].sum().reset_index()\n",
        "\n",
        "# Realiza o pivot para transformar as colunas de grau de escolaridade em colunas do dataframe\n",
        "pivot_feminino = df_turno_1_2020_feminino.pivot_table(index=['SG_UF'], columns='DS_FAIXA_ETARIA', values='QT_APTOS').reset_index()\n",
        "pivot_feminino = pivot_feminino.fillna(0)\n",
        "pivot_feminino = pivot_feminino.rename(columns={\n",
        "       '16 anos':'16_anos_solteiro_feminino', '17 anos':'17_anos_solteiro_feminino', '18 anos':'18_anos_solteiro_feminino',\n",
        "       '19 anos':'19_anos_solteiro_feminino', '20 anos':'20_anos_solteiro_feminino', '21 a 24 anos':'21_24_anos_solteiro_feminino',\n",
        "       '25 a 29 anos':'25_29_anos_solteiro_feminino', '30 a 34 anos':'30_34_anos_solteiro_feminino', '35 a 39 anos':'35_39_anos_solteiro_feminino',\n",
        "       '40 a 44 anos':'40_44_anos_solteiro_feminino', '45 a 49 anos':'45_49_anos_solteiro_feminino',\n",
        "       '50 a 54 anos':'50_54_anos_solteiro_feminino', '55 a 59 anos':'55_59_anos_solteiro_feminino',\n",
        "       '60 a 64 anos':'60_64_anos_solteiro_feminino', '65 a 69 anos':'65_69_anos_solteiro_feminino',\n",
        "       '70 a 74 anos':'70_74_anos_solteiro_feminino', '75 a 79 anos':'75_79_anos_solteiro_feminino',\n",
        "       '80 a 84 anos':'80_84_anos_solteiro_feminino', '85 a 89 anos':'85_89_anos_solteiro_feminino',\n",
        "       '90 a 94 anos':'90_94_anos_solteiro_feminino', '95 a 99 anos':'95_99_anos_solteiro_feminino',\n",
        "       '100 anos ou mais':'100_anos_solteiro_feminino',})\n",
        "\n",
        "pivot_feminino = pivot_feminino[['SG_UF',\n",
        "       '16_anos_solteiro_feminino', '17_anos_solteiro_feminino',\n",
        "       '18_anos_solteiro_feminino', '19_anos_solteiro_feminino',\n",
        "       '20_anos_solteiro_feminino', '21_24_anos_solteiro_feminino',\n",
        "       '25_29_anos_solteiro_feminino', '30_34_anos_solteiro_feminino',\n",
        "       '35_39_anos_solteiro_feminino', '40_44_anos_solteiro_feminino',\n",
        "       '45_49_anos_solteiro_feminino', '50_54_anos_solteiro_feminino',\n",
        "       '55_59_anos_solteiro_feminino', '60_64_anos_solteiro_feminino',\n",
        "       '65_69_anos_solteiro_feminino', '70_74_anos_solteiro_feminino',\n",
        "       '75_79_anos_solteiro_feminino', '80_84_anos_solteiro_feminino',\n",
        "       '85_89_anos_solteiro_feminino', '90_94_anos_solteiro_feminino',\n",
        "       '95_99_anos_solteiro_feminino', '100_anos_solteiro_feminino',]]\n",
        "\n",
        "for i in pivot_feminino.columns:\n",
        "  if ((i != 'SG_UF')):\n",
        "    pivot_feminino[i] = pivot_feminino[i].astype(int)\n",
        "\n",
        "df_estados_1turno = df_estados_1turno.merge(pivot_feminino, on=['SG_UF'], how='left')"
      ]
    },
    {
      "cell_type": "code",
      "execution_count": null,
      "metadata": {
        "id": "Hhg5O22eNe4K"
      },
      "outputs": [],
      "source": [
        "estados_civil_percentual_feminino = {\n",
        "    '16_anos_solteiro_feminino_percentual(%)':['16_anos_solteiro_feminino','16_anos'],\n",
        "    '17_anos_solteiro_feminino_percentual(%)':['17_anos_solteiro_feminino','17_anos'],\n",
        "    '18_anos_solteiro_feminino_percentual(%)':['18_anos_solteiro_feminino','18_anos'],\n",
        "    '19_anos_solteiro_feminino_percentual(%)':['19_anos_solteiro_feminino','19_anos'],\n",
        "    '20_anos_solteiro_feminino_percentual(%)':['20_anos_solteiro_feminino','20_anos'],\n",
        "    '21_24_anos_solteiro_feminino_percentual(%)':['21_24_anos_solteiro_feminino','21_24_anos'],\n",
        "    '25_29_anos_solteiro_feminino_percentual(%)':['25_29_anos_solteiro_feminino','25_29_anos'],\n",
        "    '30_34_anos_solteiro_feminino_percentual(%)':['30_34_anos_solteiro_feminino','30_34_anos'],\n",
        "    '35_39_anos_solteiro_feminino_percentual(%)':['35_39_anos_solteiro_feminino','35_39_anos'],\n",
        "    '40_44_anos_solteiro_feminino_percentual(%)':['40_44_anos_solteiro_feminino','40_44_anos'],\n",
        "    '45_49_anos_solteiro_feminino_percentual(%)':['45_49_anos_solteiro_feminino','45_49_anos'],\n",
        "    '50_54_anos_solteiro_feminino_percentual(%)':['50_54_anos_solteiro_feminino','50_54_anos'],\n",
        "    '55_59_anos_solteiro_feminino_percentual(%)':['55_59_anos_solteiro_feminino','55_59_anos'],\n",
        "    '60_64_anos_solteiro_feminino_percentual(%)':['60_64_anos_solteiro_feminino','60_64_anos'],\n",
        "    '65_69_anos_solteiro_feminino_percentual(%)':['65_69_anos_solteiro_feminino','65_69_anos'],\n",
        "    '70_74_anos_solteiro_feminino_percentual(%)':['70_74_anos_solteiro_feminino','70_74_anos'],\n",
        "    '75_79_anos_solteiro_feminino_percentual(%)':['75_79_anos_solteiro_feminino','75_79_anos'],\n",
        "    '80_84_anos_solteiro_feminino_percentual(%)':['80_84_anos_solteiro_feminino','80_84_anos'],\n",
        "    '85_89_anos_solteiro_feminino_percentual(%)':['85_89_anos_solteiro_feminino','85_89_anos'],\n",
        "    '90_94_anos_solteiro_feminino_percentual(%)':['90_94_anos_solteiro_feminino','90_94_anos'],\n",
        "    '95_99_anos_solteiro_feminino_percentual(%)':['95_99_anos_solteiro_feminino','95_99_anos'],\n",
        "    '100_anos_solteiro_feminino_percentual(%)':['100_anos_solteiro_feminino','100_anos'],\n",
        "}\n",
        "\n",
        "for estado_percentual, ec in estados_civil_percentual_feminino.items():\n",
        "  df_estados_1turno[estado_percentual] = (df_estados_1turno[ec[0]] / df_estados_1turno[ec[1]] * 100).round(2)\n",
        "\n",
        "del estados_civil_percentual_feminino"
      ]
    },
    {
      "cell_type": "markdown",
      "metadata": {
        "id": "uEx7Z05lNe4M"
      },
      "source": [
        "## Eleitorado feminino casado por faixa etária"
      ]
    },
    {
      "cell_type": "code",
      "execution_count": null,
      "metadata": {
        "id": "1d9sn1IINe4M"
      },
      "outputs": [],
      "source": [
        "# Filtra os dados apenas para o gênero masculino e solteiro\n",
        "df_turno_1_2020_feminino = df_turno_1_2020[(df_turno_1_2020['DS_GENERO'] == 'FEMININO') & (df_turno_1_2020['DS_ESTADO_CIVIL'] == 'CASADO')].groupby(['SG_UF', 'DS_FAIXA_ETARIA',])['QT_APTOS'].sum().reset_index()\n",
        "\n",
        "# Realiza o pivot para transformar as colunas de grau de escolaridade em colunas do dataframe\n",
        "pivot_feminino = df_turno_1_2020_feminino.pivot_table(index=['SG_UF'], columns='DS_FAIXA_ETARIA', values='QT_APTOS').reset_index()\n",
        "pivot_feminino = pivot_feminino.fillna(0)\n",
        "pivot_feminino = pivot_feminino.rename(columns={\n",
        "       '16 anos':'16_anos_casado_feminino', '17 anos':'17_anos_casado_feminino', '18 anos':'18_anos_casado_feminino',\n",
        "       '19 anos':'19_anos_casado_feminino', '20 anos':'20_anos_casado_feminino', '21 a 24 anos':'21_24_anos_casado_feminino',\n",
        "       '25 a 29 anos':'25_29_anos_casado_feminino', '30 a 34 anos':'30_34_anos_casado_feminino', '35 a 39 anos':'35_39_anos_casado_feminino',\n",
        "       '40 a 44 anos':'40_44_anos_casado_feminino', '45 a 49 anos':'45_49_anos_casado_feminino',\n",
        "       '50 a 54 anos':'50_54_anos_casado_feminino', '55 a 59 anos':'55_59_anos_casado_feminino',\n",
        "       '60 a 64 anos':'60_64_anos_casado_feminino', '65 a 69 anos':'65_69_anos_casado_feminino',\n",
        "       '70 a 74 anos':'70_74_anos_casado_feminino', '75 a 79 anos':'75_79_anos_casado_feminino',\n",
        "       '80 a 84 anos':'80_84_anos_casado_feminino', '85 a 89 anos':'85_89_anos_casado_feminino',\n",
        "       '90 a 94 anos':'90_94_anos_casado_feminino', '95 a 99 anos':'95_99_anos_casado_feminino',\n",
        "       '100 anos ou mais':'100_anos_casado_feminino',})\n",
        "\n",
        "pivot_feminino = pivot_feminino[['SG_UF',\n",
        "       '16_anos_casado_feminino', '17_anos_casado_feminino',\n",
        "       '18_anos_casado_feminino', '19_anos_casado_feminino',\n",
        "       '20_anos_casado_feminino', '21_24_anos_casado_feminino',\n",
        "       '25_29_anos_casado_feminino', '30_34_anos_casado_feminino',\n",
        "       '35_39_anos_casado_feminino', '40_44_anos_casado_feminino',\n",
        "       '45_49_anos_casado_feminino', '50_54_anos_casado_feminino',\n",
        "       '55_59_anos_casado_feminino', '60_64_anos_casado_feminino',\n",
        "       '65_69_anos_casado_feminino', '70_74_anos_casado_feminino',\n",
        "       '75_79_anos_casado_feminino', '80_84_anos_casado_feminino',\n",
        "       '85_89_anos_casado_feminino', '90_94_anos_casado_feminino',\n",
        "       '95_99_anos_casado_feminino', '100_anos_casado_feminino',]]\n",
        "\n",
        "for i in pivot_feminino.columns:\n",
        "  if ((i != 'SG_UF')):\n",
        "    pivot_feminino[i] = pivot_feminino[i].astype(int)\n",
        "\n",
        "df_estados_1turno = df_estados_1turno.merge(pivot_feminino, on=['SG_UF'], how='left')"
      ]
    },
    {
      "cell_type": "code",
      "execution_count": null,
      "metadata": {
        "id": "tGjJsTUBNe4M"
      },
      "outputs": [],
      "source": [
        "estados_civil_percentual_feminino = {\n",
        "    '16_anos_casado_feminino_percentual(%)':['16_anos_casado_feminino','16_anos'],\n",
        "    '17_anos_casado_feminino_percentual(%)':['17_anos_casado_feminino','17_anos'],\n",
        "    '18_anos_casado_feminino_percentual(%)':['18_anos_casado_feminino','18_anos'],\n",
        "    '19_anos_casado_feminino_percentual(%)':['19_anos_casado_feminino','19_anos'],\n",
        "    '20_anos_casado_feminino_percentual(%)':['20_anos_casado_feminino','20_anos'],\n",
        "    '21_24_anos_casado_feminino_percentual(%)':['21_24_anos_casado_feminino','21_24_anos'],\n",
        "    '25_29_anos_casado_feminino_percentual(%)':['25_29_anos_casado_feminino','25_29_anos'],\n",
        "    '30_34_anos_casado_feminino_percentual(%)':['30_34_anos_casado_feminino','30_34_anos'],\n",
        "    '35_39_anos_casado_feminino_percentual(%)':['35_39_anos_casado_feminino','35_39_anos'],\n",
        "    '40_44_anos_casado_feminino_percentual(%)':['40_44_anos_casado_feminino','40_44_anos'],\n",
        "    '45_49_anos_casado_feminino_percentual(%)':['45_49_anos_casado_feminino','45_49_anos'],\n",
        "    '50_54_anos_casado_feminino_percentual(%)':['50_54_anos_casado_feminino','50_54_anos'],\n",
        "    '55_59_anos_casado_feminino_percentual(%)':['55_59_anos_casado_feminino','55_59_anos'],\n",
        "    '60_64_anos_casado_feminino_percentual(%)':['60_64_anos_casado_feminino','60_64_anos'],\n",
        "    '65_69_anos_casado_feminino_percentual(%)':['65_69_anos_casado_feminino','65_69_anos'],\n",
        "    '70_74_anos_casado_feminino_percentual(%)':['70_74_anos_casado_feminino','70_74_anos'],\n",
        "    '75_79_anos_casado_feminino_percentual(%)':['75_79_anos_casado_feminino','75_79_anos'],\n",
        "    '80_84_anos_casado_feminino_percentual(%)':['80_84_anos_casado_feminino','80_84_anos'],\n",
        "    '85_89_anos_casado_feminino_percentual(%)':['85_89_anos_casado_feminino','85_89_anos'],\n",
        "    '90_94_anos_casado_feminino_percentual(%)':['90_94_anos_casado_feminino','90_94_anos'],\n",
        "    '95_99_anos_casado_feminino_percentual(%)':['95_99_anos_casado_feminino','95_99_anos'],\n",
        "    '100_anos_casado_feminino_percentual(%)':['100_anos_casado_feminino','100_anos'],\n",
        "}\n",
        "\n",
        "for estado_percentual, ec in estados_civil_percentual_feminino.items():\n",
        "  df_estados_1turno[estado_percentual] = (df_estados_1turno[ec[0]] / df_estados_1turno[ec[1]] * 100).round(2)\n",
        "\n",
        "del estados_civil_percentual_feminino"
      ]
    },
    {
      "cell_type": "markdown",
      "metadata": {
        "id": "rTxJ4aenNe4N"
      },
      "source": [
        "## Eleitorado feminino divorciado por faixa etária"
      ]
    },
    {
      "cell_type": "code",
      "execution_count": null,
      "metadata": {
        "id": "6ySUpeXqNe4N"
      },
      "outputs": [],
      "source": [
        "# Filtra os dados apenas para o gênero masculino e solteiro\n",
        "df_turno_1_2020_feminino = df_turno_1_2020[(df_turno_1_2020['DS_GENERO'] == 'FEMININO') & (df_turno_1_2020['DS_ESTADO_CIVIL'] == 'DIVORCIADO')].groupby(['SG_UF', 'DS_FAIXA_ETARIA',])['QT_APTOS'].sum().reset_index()\n",
        "\n",
        "# Realiza o pivot para transformar as colunas de grau de escolaridade em colunas do dataframe\n",
        "pivot_feminino = df_turno_1_2020_feminino.pivot_table(index=['SG_UF'], columns='DS_FAIXA_ETARIA', values='QT_APTOS').reset_index()\n",
        "pivot_feminino = pivot_feminino.fillna(0)\n",
        "pivot_feminino = pivot_feminino.rename(columns={\n",
        "       '16 anos':'16_anos_divorciado_feminino', '17 anos':'17_anos_divorciado_feminino', '18 anos':'18_anos_divorciado_feminino',\n",
        "       '19 anos':'19_anos_divorciado_feminino', '20 anos':'20_anos_divorciado_feminino', '21 a 24 anos':'21_24_anos_divorciado_feminino',\n",
        "       '25 a 29 anos':'25_29_anos_divorciado_feminino', '30 a 34 anos':'30_34_anos_divorciado_feminino', '35 a 39 anos':'35_39_anos_divorciado_feminino',\n",
        "       '40 a 44 anos':'40_44_anos_divorciado_feminino', '45 a 49 anos':'45_49_anos_divorciado_feminino',\n",
        "       '50 a 54 anos':'50_54_anos_divorciado_feminino', '55 a 59 anos':'55_59_anos_divorciado_feminino',\n",
        "       '60 a 64 anos':'60_64_anos_divorciado_feminino', '65 a 69 anos':'65_69_anos_divorciado_feminino',\n",
        "       '70 a 74 anos':'70_74_anos_divorciado_feminino', '75 a 79 anos':'75_79_anos_divorciado_feminino',\n",
        "       '80 a 84 anos':'80_84_anos_divorciado_feminino', '85 a 89 anos':'85_89_anos_divorciado_feminino',\n",
        "       '90 a 94 anos':'90_94_anos_divorciado_feminino', '95 a 99 anos':'95_99_anos_divorciado_feminino',\n",
        "       '100 anos ou mais':'100_anos_divorciado_feminino',})\n",
        "\n",
        "pivot_feminino = pivot_feminino[['SG_UF',\n",
        "       '16_anos_divorciado_feminino', '17_anos_divorciado_feminino',\n",
        "       '18_anos_divorciado_feminino', '19_anos_divorciado_feminino',\n",
        "       '20_anos_divorciado_feminino', '21_24_anos_divorciado_feminino',\n",
        "       '25_29_anos_divorciado_feminino', '30_34_anos_divorciado_feminino',\n",
        "       '35_39_anos_divorciado_feminino', '40_44_anos_divorciado_feminino',\n",
        "       '45_49_anos_divorciado_feminino', '50_54_anos_divorciado_feminino',\n",
        "       '55_59_anos_divorciado_feminino', '60_64_anos_divorciado_feminino',\n",
        "       '65_69_anos_divorciado_feminino', '70_74_anos_divorciado_feminino',\n",
        "       '75_79_anos_divorciado_feminino', '80_84_anos_divorciado_feminino',\n",
        "       '85_89_anos_divorciado_feminino', '90_94_anos_divorciado_feminino',\n",
        "       '95_99_anos_divorciado_feminino', '100_anos_divorciado_feminino',]]\n",
        "\n",
        "for i in pivot_feminino.columns:\n",
        "  if ((i != 'SG_UF')):\n",
        "    pivot_feminino[i] = pivot_feminino[i].astype(int)\n",
        "\n",
        "df_estados_1turno = df_estados_1turno.merge(pivot_feminino, on=['SG_UF'], how='left')"
      ]
    },
    {
      "cell_type": "code",
      "execution_count": null,
      "metadata": {
        "id": "Wvf3BLTENe4O"
      },
      "outputs": [],
      "source": [
        "estados_civil_percentual_feminino = {\n",
        "    '16_anos_divorciado_feminino_percentual(%)':['16_anos_divorciado_feminino','16_anos'],\n",
        "    '17_anos_divorciado_feminino_percentual(%)':['17_anos_divorciado_feminino','17_anos'],\n",
        "    '18_anos_divorciado_feminino_percentual(%)':['18_anos_divorciado_feminino','18_anos'],\n",
        "    '19_anos_divorciado_feminino_percentual(%)':['19_anos_divorciado_feminino','19_anos'],\n",
        "    '20_anos_divorciado_feminino_percentual(%)':['20_anos_divorciado_feminino','20_anos'],\n",
        "    '21_24_anos_divorciado_feminino_percentual(%)':['21_24_anos_divorciado_feminino','21_24_anos'],\n",
        "    '25_29_anos_divorciado_feminino_percentual(%)':['25_29_anos_divorciado_feminino','25_29_anos'],\n",
        "    '30_34_anos_divorciado_feminino_percentual(%)':['30_34_anos_divorciado_feminino','30_34_anos'],\n",
        "    '35_39_anos_divorciado_feminino_percentual(%)':['35_39_anos_divorciado_feminino','35_39_anos'],\n",
        "    '40_44_anos_divorciado_feminino_percentual(%)':['40_44_anos_divorciado_feminino','40_44_anos'],\n",
        "    '45_49_anos_divorciado_feminino_percentual(%)':['45_49_anos_divorciado_feminino','45_49_anos'],\n",
        "    '50_54_anos_divorciado_feminino_percentual(%)':['50_54_anos_divorciado_feminino','50_54_anos'],\n",
        "    '55_59_anos_divorciado_feminino_percentual(%)':['55_59_anos_divorciado_feminino','55_59_anos'],\n",
        "    '60_64_anos_divorciado_feminino_percentual(%)':['60_64_anos_divorciado_feminino','60_64_anos'],\n",
        "    '65_69_anos_divorciado_feminino_percentual(%)':['65_69_anos_divorciado_feminino','65_69_anos'],\n",
        "    '70_74_anos_divorciado_feminino_percentual(%)':['70_74_anos_divorciado_feminino','70_74_anos'],\n",
        "    '75_79_anos_divorciado_feminino_percentual(%)':['75_79_anos_divorciado_feminino','75_79_anos'],\n",
        "    '80_84_anos_divorciado_feminino_percentual(%)':['80_84_anos_divorciado_feminino','80_84_anos'],\n",
        "    '85_89_anos_divorciado_feminino_percentual(%)':['85_89_anos_divorciado_feminino','85_89_anos'],\n",
        "    '90_94_anos_divorciado_feminino_percentual(%)':['90_94_anos_divorciado_feminino','90_94_anos'],\n",
        "    '95_99_anos_divorciado_feminino_percentual(%)':['95_99_anos_divorciado_feminino','95_99_anos'],\n",
        "    '100_anos_divorciado_feminino_percentual(%)':['100_anos_divorciado_feminino','100_anos'],\n",
        "}\n",
        "\n",
        "for estado_percentual, ec in estados_civil_percentual_feminino.items():\n",
        "  df_estados_1turno[estado_percentual] = (df_estados_1turno[ec[0]] / df_estados_1turno[ec[1]] * 100).round(2)\n",
        "\n",
        "del estados_civil_percentual_feminino"
      ]
    },
    {
      "cell_type": "markdown",
      "metadata": {
        "id": "sMEzuDICNe4P"
      },
      "source": [
        "## Eleitorado feminino viúvo por faixa etária"
      ]
    },
    {
      "cell_type": "code",
      "execution_count": null,
      "metadata": {
        "id": "ekB2eZwRNe4Q"
      },
      "outputs": [],
      "source": [
        "# Filtra os dados apenas para o gênero masculino e solteiro\n",
        "df_turno_1_2020_feminino = df_turno_1_2020[(df_turno_1_2020['DS_GENERO'] == 'FEMININO') & (df_turno_1_2020['DS_ESTADO_CIVIL'] == 'VIÚVO')].groupby(['SG_UF', 'DS_FAIXA_ETARIA',])['QT_APTOS'].sum().reset_index()\n",
        "\n",
        "# Realiza o pivot para transformar as colunas de grau de escolaridade em colunas do dataframe\n",
        "pivot_feminino = df_turno_1_2020_feminino.pivot_table(index=['SG_UF'], columns='DS_FAIXA_ETARIA', values='QT_APTOS').reset_index()\n",
        "pivot_feminino = pivot_feminino.fillna(0)\n",
        "pivot_feminino = pivot_feminino.rename(columns={\n",
        "       '16 anos':'16_anos_viuvo_feminino', '17 anos':'17_anos_viuvo_feminino', '18 anos':'18_anos_viuvo_feminino',\n",
        "       '19 anos':'19_anos_viuvo_feminino', '20 anos':'20_anos_viuvo_feminino', '21 a 24 anos':'21_24_anos_viuvo_feminino',\n",
        "       '25 a 29 anos':'25_29_anos_viuvo_feminino', '30 a 34 anos':'30_34_anos_viuvo_feminino', '35 a 39 anos':'35_39_anos_viuvo_feminino',\n",
        "       '40 a 44 anos':'40_44_anos_viuvo_feminino', '45 a 49 anos':'45_49_anos_viuvo_feminino',\n",
        "       '50 a 54 anos':'50_54_anos_viuvo_feminino', '55 a 59 anos':'55_59_anos_viuvo_feminino',\n",
        "       '60 a 64 anos':'60_64_anos_viuvo_feminino', '65 a 69 anos':'65_69_anos_viuvo_feminino',\n",
        "       '70 a 74 anos':'70_74_anos_viuvo_feminino', '75 a 79 anos':'75_79_anos_viuvo_feminino',\n",
        "       '80 a 84 anos':'80_84_anos_viuvo_feminino', '85 a 89 anos':'85_89_anos_viuvo_feminino',\n",
        "       '90 a 94 anos':'90_94_anos_viuvo_feminino', '95 a 99 anos':'95_99_anos_viuvo_feminino',\n",
        "       '100 anos ou mais':'100_anos_viuvo_feminino',})\n",
        "\n",
        "pivot_feminino = pivot_feminino[['SG_UF',\n",
        "       '16_anos_viuvo_feminino', '17_anos_viuvo_feminino',\n",
        "       '18_anos_viuvo_feminino', '19_anos_viuvo_feminino',\n",
        "       '20_anos_viuvo_feminino', '21_24_anos_viuvo_feminino',\n",
        "       '25_29_anos_viuvo_feminino', '30_34_anos_viuvo_feminino',\n",
        "       '35_39_anos_viuvo_feminino', '40_44_anos_viuvo_feminino',\n",
        "       '45_49_anos_viuvo_feminino', '50_54_anos_viuvo_feminino',\n",
        "       '55_59_anos_viuvo_feminino', '60_64_anos_viuvo_feminino',\n",
        "       '65_69_anos_viuvo_feminino', '70_74_anos_viuvo_feminino',\n",
        "       '75_79_anos_viuvo_feminino', '80_84_anos_viuvo_feminino',\n",
        "       '85_89_anos_viuvo_feminino', '90_94_anos_viuvo_feminino',\n",
        "       '95_99_anos_viuvo_feminino', '100_anos_viuvo_feminino',]]\n",
        "\n",
        "for i in pivot_feminino.columns:\n",
        "  if ((i != 'SG_UF')):\n",
        "    pivot_feminino[i] = pivot_feminino[i].astype(int)\n",
        "\n",
        "df_estados_1turno = df_estados_1turno.merge(pivot_feminino, on=['SG_UF'], how='left')"
      ]
    },
    {
      "cell_type": "code",
      "execution_count": null,
      "metadata": {
        "id": "NRGaLc7ONe4Q"
      },
      "outputs": [],
      "source": [
        "estados_civil_percentual_feminino = {\n",
        "    '16_anos_viuvo_feminino_percentual(%)':['16_anos_viuvo_feminino','16_anos'],\n",
        "    '17_anos_viuvo_feminino_percentual(%)':['17_anos_viuvo_feminino','17_anos'],\n",
        "    '18_anos_viuvo_feminino_percentual(%)':['18_anos_viuvo_feminino','18_anos'],\n",
        "    '19_anos_viuvo_feminino_percentual(%)':['19_anos_viuvo_feminino','19_anos'],\n",
        "    '20_anos_viuvo_feminino_percentual(%)':['20_anos_viuvo_feminino','20_anos'],\n",
        "    '21_24_anos_viuvo_feminino_percentual(%)':['21_24_anos_viuvo_feminino','21_24_anos'],\n",
        "    '25_29_anos_viuvo_feminino_percentual(%)':['25_29_anos_viuvo_feminino','25_29_anos'],\n",
        "    '30_34_anos_viuvo_feminino_percentual(%)':['30_34_anos_viuvo_feminino','30_34_anos'],\n",
        "    '35_39_anos_viuvo_feminino_percentual(%)':['35_39_anos_viuvo_feminino','35_39_anos'],\n",
        "    '40_44_anos_viuvo_feminino_percentual(%)':['40_44_anos_viuvo_feminino','40_44_anos'],\n",
        "    '45_49_anos_viuvo_feminino_percentual(%)':['45_49_anos_viuvo_feminino','45_49_anos'],\n",
        "    '50_54_anos_viuvo_feminino_percentual(%)':['50_54_anos_viuvo_feminino','50_54_anos'],\n",
        "    '55_59_anos_viuvo_feminino_percentual(%)':['55_59_anos_viuvo_feminino','55_59_anos'],\n",
        "    '60_64_anos_viuvo_feminino_percentual(%)':['60_64_anos_viuvo_feminino','60_64_anos'],\n",
        "    '65_69_anos_viuvo_feminino_percentual(%)':['65_69_anos_viuvo_feminino','65_69_anos'],\n",
        "    '70_74_anos_viuvo_feminino_percentual(%)':['70_74_anos_viuvo_feminino','70_74_anos'],\n",
        "    '75_79_anos_viuvo_feminino_percentual(%)':['75_79_anos_viuvo_feminino','75_79_anos'],\n",
        "    '80_84_anos_viuvo_feminino_percentual(%)':['80_84_anos_viuvo_feminino','80_84_anos'],\n",
        "    '85_89_anos_viuvo_feminino_percentual(%)':['85_89_anos_viuvo_feminino','85_89_anos'],\n",
        "    '90_94_anos_viuvo_feminino_percentual(%)':['90_94_anos_viuvo_feminino','90_94_anos'],\n",
        "    '95_99_anos_viuvo_feminino_percentual(%)':['95_99_anos_viuvo_feminino','95_99_anos'],\n",
        "    '100_anos_viuvo_feminino_percentual(%)':['100_anos_viuvo_feminino','100_anos'],\n",
        "}\n",
        "\n",
        "for estado_percentual, ec in estados_civil_percentual_feminino.items():\n",
        "  df_estados_1turno[estado_percentual] = (df_estados_1turno[ec[0]] / df_estados_1turno[ec[1]] * 100).round(2)\n",
        "\n",
        "del estados_civil_percentual_feminino"
      ]
    },
    {
      "cell_type": "markdown",
      "metadata": {
        "id": "wc6_UbNFNe4U"
      },
      "source": [
        "## Eleitorado feminino separado judicialmente por faixa etária\n"
      ]
    },
    {
      "cell_type": "code",
      "source": [
        "# Filtra os dados apenas para o gênero masculino e solteiro\n",
        "df_turno_1_2020_feminino = df_turno_1_2020[(df_turno_1_2020['DS_GENERO'] == 'FEMININO') & (df_turno_1_2020['DS_ESTADO_CIVIL'] == 'SEPARADO JUDICIALMENTE')].groupby(['SG_UF', 'DS_FAIXA_ETARIA',])['QT_APTOS'].sum().reset_index()\n",
        "\n",
        "# Realiza o pivot para transformar as colunas de grau de escolaridade em colunas do dataframe\n",
        "pivot_feminino = df_turno_1_2020_feminino.pivot_table(index=['SG_UF'], columns='DS_FAIXA_ETARIA', values='QT_APTOS').reset_index()\n",
        "pivot_feminino = pivot_feminino.fillna(0)\n",
        "pivot_feminino = pivot_feminino.rename(columns={\n",
        "       '16 anos':'16_anos_separado_judicialmente_feminino', '17 anos':'17_anos_separado_judicialmente_feminino', '18 anos':'18_anos_separado_judicialmente_feminino',\n",
        "       '19 anos':'19_anos_separado_judicialmente_feminino', '20 anos':'20_anos_separado_judicialmente_feminino', '21 a 24 anos':'21_24_anos_separado_judicialmente_feminino',\n",
        "       '25 a 29 anos':'25_29_anos_separado_judicialmente_feminino', '30 a 34 anos':'30_34_anos_separado_judicialmente_feminino', '35 a 39 anos':'35_39_anos_separado_judicialmente_feminino',\n",
        "       '40 a 44 anos':'40_44_anos_separado_judicialmente_feminino', '45 a 49 anos':'45_49_anos_separado_judicialmente_feminino',\n",
        "       '50 a 54 anos':'50_54_anos_separado_judicialmente_feminino', '55 a 59 anos':'55_59_anos_separado_judicialmente_feminino',\n",
        "       '60 a 64 anos':'60_64_anos_separado_judicialmente_feminino', '65 a 69 anos':'65_69_anos_separado_judicialmente_feminino',\n",
        "       '70 a 74 anos':'70_74_anos_separado_judicialmente_feminino', '75 a 79 anos':'75_79_anos_separado_judicialmente_feminino',\n",
        "       '80 a 84 anos':'80_84_anos_separado_judicialmente_feminino', '85 a 89 anos':'85_89_anos_separado_judicialmente_feminino',\n",
        "       '90 a 94 anos':'90_94_anos_separado_judicialmente_feminino', '95 a 99 anos':'95_99_anos_separado_judicialmente_feminino',\n",
        "       '100 anos ou mais':'100_anos_separado_judicialmente_feminino',})\n",
        "\n",
        "pivot_feminino = pivot_feminino[['SG_UF',\n",
        "       '16_anos_separado_judicialmente_feminino', '17_anos_separado_judicialmente_feminino',\n",
        "       '18_anos_separado_judicialmente_feminino', '19_anos_separado_judicialmente_feminino',\n",
        "       '20_anos_separado_judicialmente_feminino', '21_24_anos_separado_judicialmente_feminino',\n",
        "       '25_29_anos_separado_judicialmente_feminino', '30_34_anos_separado_judicialmente_feminino',\n",
        "       '35_39_anos_separado_judicialmente_feminino', '40_44_anos_separado_judicialmente_feminino',\n",
        "       '45_49_anos_separado_judicialmente_feminino', '50_54_anos_separado_judicialmente_feminino',\n",
        "       '55_59_anos_separado_judicialmente_feminino', '60_64_anos_separado_judicialmente_feminino',\n",
        "       '65_69_anos_separado_judicialmente_feminino', '70_74_anos_separado_judicialmente_feminino',\n",
        "       '75_79_anos_separado_judicialmente_feminino', '80_84_anos_separado_judicialmente_feminino',\n",
        "       '85_89_anos_separado_judicialmente_feminino', '90_94_anos_separado_judicialmente_feminino',\n",
        "       '95_99_anos_separado_judicialmente_feminino', '100_anos_separado_judicialmente_feminino',]]\n",
        "\n",
        "for i in pivot_feminino.columns:\n",
        "  if ((i != 'SG_UF')):\n",
        "    pivot_feminino[i] = pivot_feminino[i].astype(int)\n",
        "\n",
        "df_estados_1turno = df_estados_1turno.merge(pivot_feminino, on=['SG_UF'], how='left')"
      ],
      "metadata": {
        "id": "NAiMG4ZrQKMP"
      },
      "execution_count": null,
      "outputs": []
    },
    {
      "cell_type": "code",
      "source": [
        "estados_civil_percentual_feminino = {\n",
        "    '16_anos_separado_judicialmente_feminino_percentual(%)':['16_anos_separado_judicialmente_feminino','16_anos'],\n",
        "    '17_anos_separado_judicialmente_feminino_percentual(%)':['17_anos_separado_judicialmente_feminino','17_anos'],\n",
        "    '18_anos_separado_judicialmente_feminino_percentual(%)':['18_anos_separado_judicialmente_feminino','18_anos'],\n",
        "    '19_anos_separado_judicialmente_feminino_percentual(%)':['19_anos_separado_judicialmente_feminino','19_anos'],\n",
        "    '20_anos_separado_judicialmente_feminino_percentual(%)':['20_anos_separado_judicialmente_feminino','20_anos'],\n",
        "    '21_24_anos_separado_judicialmente_feminino_percentual(%)':['21_24_anos_separado_judicialmente_feminino','21_24_anos'],\n",
        "    '25_29_anos_separado_judicialmente_feminino_percentual(%)':['25_29_anos_separado_judicialmente_feminino','25_29_anos'],\n",
        "    '30_34_anos_separado_judicialmente_feminino_percentual(%)':['30_34_anos_separado_judicialmente_feminino','30_34_anos'],\n",
        "    '35_39_anos_separado_judicialmente_feminino_percentual(%)':['35_39_anos_separado_judicialmente_feminino','35_39_anos'],\n",
        "    '40_44_anos_separado_judicialmente_feminino_percentual(%)':['40_44_anos_separado_judicialmente_feminino','40_44_anos'],\n",
        "    '45_49_anos_separado_judicialmente_feminino_percentual(%)':['45_49_anos_separado_judicialmente_feminino','45_49_anos'],\n",
        "    '50_54_anos_separado_judicialmente_feminino_percentual(%)':['50_54_anos_separado_judicialmente_feminino','50_54_anos'],\n",
        "    '55_59_anos_separado_judicialmente_feminino_percentual(%)':['55_59_anos_separado_judicialmente_feminino','55_59_anos'],\n",
        "    '60_64_anos_separado_judicialmente_feminino_percentual(%)':['60_64_anos_separado_judicialmente_feminino','60_64_anos'],\n",
        "    '65_69_anos_separado_judicialmente_feminino_percentual(%)':['65_69_anos_separado_judicialmente_feminino','65_69_anos'],\n",
        "    '70_74_anos_separado_judicialmente_feminino_percentual(%)':['70_74_anos_separado_judicialmente_feminino','70_74_anos'],\n",
        "    '75_79_anos_separado_judicialmente_feminino_percentual(%)':['75_79_anos_separado_judicialmente_feminino','75_79_anos'],\n",
        "    '80_84_anos_separado_judicialmente_feminino_percentual(%)':['80_84_anos_separado_judicialmente_feminino','80_84_anos'],\n",
        "    '85_89_anos_separado_judicialmente_feminino_percentual(%)':['85_89_anos_separado_judicialmente_feminino','85_89_anos'],\n",
        "    '90_94_anos_separado_judicialmente_feminino_percentual(%)':['90_94_anos_separado_judicialmente_feminino','90_94_anos'],\n",
        "    '95_99_anos_separado_judicialmente_feminino_percentual(%)':['95_99_anos_separado_judicialmente_feminino','95_99_anos'],\n",
        "    '100_anos_separado_judicialmente_feminino_percentual(%)':['100_anos_separado_judicialmente_feminino','100_anos'],\n",
        "}\n",
        "\n",
        "for estado_percentual, ec in estados_civil_percentual_feminino.items():\n",
        "  df_estados_1turno[estado_percentual] = (df_estados_1turno[ec[0]] / df_estados_1turno[ec[1]] * 100).round(2)\n",
        "\n",
        "del estados_civil_percentual_feminino"
      ],
      "metadata": {
        "id": "4IXjoOojQSWs"
      },
      "execution_count": null,
      "outputs": []
    },
    {
      "cell_type": "markdown",
      "metadata": {
        "id": "92aA3zip_Hsd"
      },
      "source": [
        "## Salvamento do dataframe final"
      ]
    },
    {
      "cell_type": "code",
      "execution_count": null,
      "metadata": {
        "id": "ruySnt0DpQdd"
      },
      "outputs": [],
      "source": [
        "from google.colab import files\n",
        "df_estados_1turno = df_estados_1turno.rename(columns={'SG_UF':'estado'})\n",
        "df_estados_1turno = df_estados_1turno.sort_values(by = ['estado'], ascending = True)\n",
        "df_estados_1turno.to_csv('/content/gdrive/MyDrive/TCC - Wallynson/df_estados_1turno_2020.csv')"
      ]
    },
    {
      "cell_type": "code",
      "source": [
        "df_estados_1turno.to_csv('df.csv')"
      ],
      "metadata": {
        "id": "FIXgHWSEQw0-"
      },
      "execution_count": null,
      "outputs": []
    },
    {
      "cell_type": "code",
      "source": [],
      "metadata": {
        "id": "TJOEBwUDUam2"
      },
      "execution_count": null,
      "outputs": []
    }
  ],
  "metadata": {
    "colab": {
      "provenance": []
    },
    "kernelspec": {
      "display_name": "Python 3",
      "name": "python3"
    },
    "language_info": {
      "name": "python"
    }
  },
  "nbformat": 4,
  "nbformat_minor": 0
}